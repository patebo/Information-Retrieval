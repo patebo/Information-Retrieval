{
 "cells": [
  {
   "cell_type": "markdown",
   "metadata": {},
   "source": [
    "# Assignment 2: Building a Simple Index"
   ]
  },
  {
   "cell_type": "markdown",
   "metadata": {},
   "source": [
    "In this assignment, we will build a simple search index, which we will use later for Boolean retrieval. The assignment tasks are again at the bottom of this document."
   ]
  },
  {
   "cell_type": "markdown",
   "metadata": {},
   "source": [
    "## Loading the Data"
   ]
  },
  {
   "cell_type": "code",
   "execution_count": 1,
   "metadata": {},
   "outputs": [],
   "source": [
    "Summaries_file = 'data/influenza_Summaries.pkl.bz2'\n",
    "Abstracts_file = 'data/influenza_Abstracts.pkl.bz2'"
   ]
  },
  {
   "cell_type": "code",
   "execution_count": 2,
   "metadata": {},
   "outputs": [],
   "source": [
    "import pickle, bz2\n",
    "from collections import namedtuple\n",
    "\n",
    "Summaries = pickle.load( bz2.BZ2File( Summaries_file, 'rb' ) )\n",
    "\n",
    "paper = namedtuple( 'paper', ['title', 'authors', 'year', 'doi'] )\n",
    "\n",
    "for (id, paper_info) in Summaries.items():\n",
    "    Summaries[id] = paper( *paper_info )\n",
    "    \n",
    "Abstracts = pickle.load( bz2.BZ2File( Abstracts_file, 'rb' ) )"
   ]
  },
  {
   "cell_type": "markdown",
   "metadata": {},
   "source": [
    "Let's have a look at what the data looks like for our example paper:"
   ]
  },
  {
   "cell_type": "code",
   "execution_count": 3,
   "metadata": {},
   "outputs": [
    {
     "data": {
      "text/plain": [
       "paper(title='Massively parallel de novo protein design for targeted therapeutics.', authors=['Chevalier A', 'Silva DA', 'Rocklin GJ', 'Hicks DR', 'Vergara R', 'Murapa P', 'Bernard SM', 'Zhang L', 'Lam KH', 'Yao G', 'Bahl CD', 'Miyashita SI', 'Goreshnik I', 'Fuller JT', 'Koday MT', 'Jenkins CM', 'Colvin T', 'Carter L', 'Bohn A', 'Bryan CM', 'Fernández-Velasco DA', 'Stewart L', 'Dong M', 'Huang X', 'Jin R', 'Wilson IA', 'Fuller DH', 'Baker D'], year=2017, doi='10.1038/nature23912')"
      ]
     },
     "execution_count": 3,
     "metadata": {},
     "output_type": "execute_result"
    }
   ],
   "source": [
    "Summaries[28953867]"
   ]
  },
  {
   "cell_type": "code",
   "execution_count": 4,
   "metadata": {
    "scrolled": true
   },
   "outputs": [
    {
     "data": {
      "text/plain": [
       "'De novo protein design holds promise for creating small stable proteins with shapes customized to bind therapeutic targets. We describe a massively parallel approach for designing, manufacturing and screening mini-protein binders, integrating large-scale computational design, oligonucleotide synthesis, yeast display screening and next-generation sequencing. We designed and tested 22,660 mini-proteins of 37-43 residues that target influenza haemagglutinin and botulinum neurotoxin B, along with 6,286 control sequences to probe contributions to folding and binding, and identified 2,618 high-affinity binders. Comparison of the binding and non-binding design sets, which are two orders of magnitude larger than any previously investigated, enabled the evaluation and improvement of the computational model. Biophysical characterization of a subset of the binder designs showed that they are extremely stable and, unlike antibodies, do not lose activity after exposure to high temperatures. The designs elicit little or no immune response and provide potent prophylactic and therapeutic protection against influenza, even after extensive repeated dosing.'"
      ]
     },
     "execution_count": 4,
     "metadata": {},
     "output_type": "execute_result"
    }
   ],
   "source": [
    "Abstracts[28953867]"
   ]
  },
  {
   "cell_type": "code",
   "execution_count": 11,
   "metadata": {},
   "outputs": [
    {
     "name": "stdout",
     "output_type": "stream",
     "text": [
      "The immunogenic and antigenic determinants of a synthetic peptide and the corresponding antigenic determinants in the parent protein have been elucidated. Four determinants have been defined by reactivity of a large panel of antipeptide monoclonal antibodies with short, overlapping peptides (7-28 amino acids), the immunizing peptide (36 amino acids), and the intact parent protein (the influenza virus hemagglutinin, HA). The majority of the antipeptide antibodies that also react strongly with the intact protein recognize one specific nine amino acid sequence. This immunodominant peptide determinant is located in the subunit interface in the HA trimeric structure. The relative inaccessibility of this site implies that antibody binding to the protein is to a more unfolded HA conformation. This antigenic determinant differs from those previously described for the hemagglutinin and clearly demonstrates the ability of synthetic peptides to generate antibodies that interact with regions of the protein not immunogenic or generally accessible when the protein is the immunogen.\n"
     ]
    },
    {
     "data": {
      "text/plain": [
       "'Anti-idiotype antisera were raised in syngeneic (BALB/c mice) and homologous (A/J mice) systems to study the cross-reactive idiotypes among monoclonal antibodies to PR8 and B/Lee virus HA and the expression of these idiotypes during primary and secondary antiviral responses of BALB/c mice. Extensive idiotypic cross-reactivity was demonstrated among monoclonal antibodies specific for distinct antigenic determinants on PR8 hemagglutinin (HA). The study of idiotypy of monoclonal antibodies against the same or overlapping antigenic determinants on B/Lee HA showed that these monoclonal antibodies may bear (a) a true individual idiotype not shared by other monoclonal antibodies, (b) idiotypes shared by few monoclonal antibodies, and (c) true cross-reactive idiotypes shared by all of these monoclonal antibodies. In contrast, no cross-reactive idiotypes were detectable among monoclonal antibodies to B/Lee HA and monoclonal antibodies to PR8 HA. Furthermore, we have shown that the anti-idiotype antibodies we used recognize determinants on monoclonal antibodies closely associated with antigenic binding sites. Finally, studies of the idiotypes expressed during primary and secondary antiviral HA responses of mice immunized with B/Lee virus revealed persistence of some idiotypes during both primary and secondary responses, whereas others were only expressed in the primary or secondary response.'"
      ]
     },
     "execution_count": 11,
     "metadata": {},
     "output_type": "execute_result"
    }
   ],
   "source": [
    "print(Abstracts[6204768])\n",
    "Abstracts[7299346]"
   ]
  },
  {
   "cell_type": "markdown",
   "metadata": {},
   "source": [
    "## Some Utility Functions"
   ]
  },
  {
   "cell_type": "markdown",
   "metadata": {},
   "source": [
    "We'll define some utility functions that allow us to tokenize a string into terms, perform linguistic preprocessing on a list of terms, as well as a function to display information about a paper in a nice way. Note that these tokenization and preprocessing functions are rather naive. We will improve them in a later assignment."
   ]
  },
  {
   "cell_type": "code",
   "execution_count": 5,
   "metadata": {},
   "outputs": [
    {
     "name": "stdout",
     "output_type": "stream",
     "text": [
      "['lorem', 'ipsum', 'dolor', 'sit', 'amet']\n"
     ]
    }
   ],
   "source": [
    "def tokenize(text):\n",
    "    \"\"\"\n",
    "    Function that tokenizes a string in a rather naive way. Can be extended later.\n",
    "    \"\"\"\n",
    "    return text.split(' ')\n",
    "\n",
    "def preprocess(tokens):\n",
    "    \"\"\"\n",
    "    Perform linguistic preprocessing on a list of tokens. Can be extended later.\n",
    "    \"\"\"\n",
    "    result = []\n",
    "    for token in tokens:\n",
    "        result.append(token.lower())\n",
    "    return result\n",
    "\n",
    "print(preprocess(tokenize(\"Lorem ipsum dolor sit AMET\")))"
   ]
  },
  {
   "cell_type": "code",
   "execution_count": 6,
   "metadata": {},
   "outputs": [
    {
     "data": {
      "text/html": [
       "<strong><a href=http://dx.doi.org/10.1038/nature23912>Massively parallel de novo protein design for targeted therapeutics.</a></strong><br>2017. Chevalier A, Silva DA, Rocklin GJ, Hicks DR, Vergara R, Murapa P, Bernard SM, Zhang L, Lam KH, Yao G, Bahl CD, Miyashita SI, Goreshnik I, Fuller JT, Koday MT, Jenkins CM, Colvin T, Carter L, Bohn A, Bryan CM, ...<br>[ID: 28953867]"
      ],
      "text/plain": [
       "<IPython.core.display.HTML object>"
      ]
     },
     "metadata": {},
     "output_type": "display_data"
    },
    {
     "data": {
      "text/html": [
       "<strong><a href=http://dx.doi.org/10.1038/nature23912>Massively parallel de novo protein design for targeted therapeutics.</a></strong><br>2017. Chevalier A, Silva DA, Rocklin GJ, Hicks DR, Vergara R, Murapa P, Bernard SM, Zhang L, Lam KH, Yao G, Bahl CD, Miyashita SI, Goreshnik I, Fuller JT, Koday MT, Jenkins CM, Colvin T, Carter L, Bohn A, Bryan CM, ...<br><small><strong>Abstract:</strong> <em>De novo protein design holds promise for creating small stable proteins with shapes customized to bind therapeutic targets. We describe a massively parallel approach for designing, manufacturing and screening mini-protein binders, integrating large-scale computational design, oligonucleotide synthesis, yeast display screening and next-generation sequencing. We designed and tested 22,660 mini-proteins of 37-43 residues that target influenza haemagglutinin and botulinum neurotoxin B, along with 6,286 control sequences to probe contributions to folding and binding, and identified 2,618 high-affinity binders. Comparison of the binding and non-binding design sets, which are two orders of magnitude larger than any previously investigated, enabled the evaluation and improvement of the computational model. Biophysical characterization of a subset of the binder designs showed that they are extremely stable and, unlike antibodies, do not lose activity after exposure to high temperatures. The designs elicit little or no immune response and provide potent prophylactic and therapeutic protection against influenza, even after extensive repeated dosing.</em></small><br>[ID: 28953867]"
      ],
      "text/plain": [
       "<IPython.core.display.HTML object>"
      ]
     },
     "metadata": {},
     "output_type": "display_data"
    }
   ],
   "source": [
    "from IPython.display import display, HTML\n",
    "import re\n",
    "\n",
    "def display_summary( id, show_abstract=False, show_id=True, extra_text='' ):\n",
    "    \"\"\"\n",
    "    Function for printing a paper's summary through IPython's Rich Display System.\n",
    "    Trims long author lists, and adds a link to the paper's DOI (when available).\n",
    "    \"\"\"\n",
    "    s = Summaries[id]\n",
    "    lines = []\n",
    "    title = s.title\n",
    "    if s.doi != '':\n",
    "        title = '<a href=http://dx.doi.org/{:s}>{:s}</a>'.format(s.doi, title)\n",
    "    title = '<strong>' + title + '</strong>'\n",
    "    lines.append(title)\n",
    "    authors = ', '.join( s.authors[:20] ) + ('' if len(s.authors) <= 20 else ', ...')\n",
    "    lines.append(str(s.year) + '. ' + authors)\n",
    "    if (show_abstract):\n",
    "        lines.append('<small><strong>Abstract:</strong> <em>{:s}</em></small>'.format(Abstracts[id]))\n",
    "    if (show_id):\n",
    "        lines.append('[ID: {:d}]'.format(id))\n",
    "    if (extra_text != ''):\n",
    "         lines.append(extra_text)\n",
    "    display( HTML('<br>'.join(lines)) )\n",
    "\n",
    "display_summary(28953867)\n",
    "display_summary(28953867, show_abstract=True)"
   ]
  },
  {
   "cell_type": "markdown",
   "metadata": {},
   "source": [
    "## Creating our first index"
   ]
  },
  {
   "cell_type": "markdown",
   "metadata": {},
   "source": [
    "We will now create an _inverted index_ based on the words in the abstracts of the papers in our dataset.\n",
    "\n",
    "We will implement our inverted index as a **Python dictionary with terms as keys and posting lists as values**. For the posting lists, instead of using Python lists and then implementing the different operations on them ourselves, we will use **Python sets** and use the predefined set operations to process these posting \"lists\". This will also ensure that each document is added at most once per term. The use of Python sets is not the most efficient solution but will work for our purposes. (As an optional additional exercise, you can try to implement the posting lists as Python lists for this and the following assignments.)\n",
    "\n",
    "Not every paper in our dataset has an abstract; we will only index papers for which an abstract is available."
   ]
  },
  {
   "cell_type": "code",
   "execution_count": 7,
   "metadata": {},
   "outputs": [],
   "source": [
    "from collections import defaultdict\n",
    "\n",
    "inverted_index = defaultdict(set)\n",
    "\n",
    "# This may take a while:\n",
    "for (id, abstract) in Abstracts.items():\n",
    "    for term in preprocess(tokenize(abstract)):\n",
    "        inverted_index[term].add(id)"
   ]
  },
  {
   "cell_type": "markdown",
   "metadata": {},
   "source": [
    "Let's see what's in the index for the example term 'madagascar':"
   ]
  },
  {
   "cell_type": "code",
   "execution_count": 8,
   "metadata": {},
   "outputs": [
    {
     "name": "stdout",
     "output_type": "stream",
     "text": [
      "{12458917, 23169961, 22814442, 12631982, 25842000, 20092624, 23169972, 21444983, 15678809, 15678810, 24893021}\n"
     ]
    }
   ],
   "source": [
    "print(inverted_index['madagascar'])"
   ]
  },
  {
   "cell_type": "markdown",
   "metadata": {},
   "source": [
    "We can now use this inverted index to answer simple one-word queries, for example to show all papers that contain the word 'rotterdam':"
   ]
  },
  {
   "cell_type": "code",
   "execution_count": 9,
   "metadata": {},
   "outputs": [
    {
     "data": {
      "text/html": [
       "<strong>Influenza B virus outbreak on a cruise ship--Northern Europe, 2000.</strong><br>2001. Centers for Disease Control and Prevention (CDC).<br>[ID: 11393483]"
      ],
      "text/plain": [
       "<IPython.core.display.HTML object>"
      ]
     },
     "metadata": {},
     "output_type": "display_data"
    },
    {
     "data": {
      "text/html": [
       "<strong><a href=http://dx.doi.org/10.1016/j.vaccine.2005.03.008>Prevalence and predictors of influenza vaccination among frail, community-living elderly patients: an international observational study.</a></strong><br>2005. Landi F, Onder G, Carpenter I, Garms-Homolova V, Bernabei R<br>[ID: 15917110]"
      ],
      "text/plain": [
       "<IPython.core.display.HTML object>"
      ]
     },
     "metadata": {},
     "output_type": "display_data"
    },
    {
     "data": {
      "text/html": [
       "<strong>Antibody response to immunization with influenza A/USSR/77 (H1N1) virus in young individuals primed or unprimed for A/New Jersey/76 (H1N1) virus.</strong><br>1981. Masurel N, Ophof P, de Jong P<br>[ID: 7288175]"
      ],
      "text/plain": [
       "<IPython.core.display.HTML object>"
      ]
     },
     "metadata": {},
     "output_type": "display_data"
    }
   ],
   "source": [
    "query_word = 'rotterdam'\n",
    "for i in inverted_index[query_word]:\n",
    "    display_summary(i)"
   ]
  },
  {
   "cell_type": "markdown",
   "metadata": {},
   "source": [
    "----------"
   ]
  },
  {
   "cell_type": "markdown",
   "metadata": {},
   "source": [
    "# Tasks"
   ]
  },
  {
   "cell_type": "markdown",
   "metadata": {},
   "source": [
    "**Your name:** Mai Nguyen"
   ]
  },
  {
   "cell_type": "markdown",
   "metadata": {},
   "source": [
    "### Task 1\n",
    "\n",
    "Construct a function called `and_query` that takes as input a single string, consisting of one or more words, such that the function returns a list of matching documents. `and_query`, as its name suggests, should require that all query terms are present in the documents of the result list. Demonstrate the working of your function with an example (choose one that leads to fewer than 100 hits to not overblow this notebook file).\n",
    "\n",
    "(You can use the `tokenize` and `preprocess` functions we defined above to tokenize and preprocess your query. You can also exploit the fact that the posting lists are [sets](https://docs.python.org/3/library/stdtypes.html#set), which means you can easily perform set operations such as union, difference and intersect on them.)"
   ]
  },
  {
   "cell_type": "code",
   "execution_count": 10,
   "metadata": {
    "scrolled": true
   },
   "outputs": [
    {
     "data": {
      "text/html": [
       "<strong>Short-term associations between outdoor air pollution and mortality in London 1992-4.</strong><br>1999. Bremner SA, Anderson HR, Atkinson RW, McMichael AJ, Strachan DP, Bland JM, Bower JS<br>[ID: 10450240]"
      ],
      "text/plain": [
       "<IPython.core.display.HTML object>"
      ]
     },
     "metadata": {},
     "output_type": "display_data"
    },
    {
     "data": {
      "text/html": [
       "<strong>Short-term associations between outdoor air pollution and visits to accident and emergency departments in London for respiratory complaints.</strong><br>1999. Atkinson RW, Anderson HR, Strachan DP, Bland JM, Bremner SA, Ponce de Leon A<br>[ID: 10065665]"
      ],
      "text/plain": [
       "<IPython.core.display.HTML object>"
      ]
     },
     "metadata": {},
     "output_type": "display_data"
    },
    {
     "data": {
      "text/html": [
       "<strong>Air pollution and daily mortality in London: 1987-92.</strong><br>1996. Anderson HR, Ponce de Leon A, Bland JM, Bower JS, Strachan DP<br>[ID: 8597732]"
      ],
      "text/plain": [
       "<IPython.core.display.HTML object>"
      ]
     },
     "metadata": {},
     "output_type": "display_data"
    },
    {
     "data": {
      "text/html": [
       "<strong><a href=http://dx.doi.org/10.1289/ehp.6539>A retrospective assessment of mortality from the London smog episode of 1952: the role of influenza and pollution.</a></strong><br>2004. Bell ML, Davis DL, Fletcher T<br>[ID: 14698923]"
      ],
      "text/plain": [
       "<IPython.core.display.HTML object>"
      ]
     },
     "metadata": {},
     "output_type": "display_data"
    },
    {
     "data": {
      "text/html": [
       "<strong><a href=http://dx.doi.org/10.1289/ehp.0211067>A tale of two cities: effects of air pollution on hospital admissions in Hong Kong and London compared.</a></strong><br>2002. Wong CM, Atkinson RW, Anderson HR, Hedley AJ, Ma S, Chau PY, Lam TH<br>[ID: 11781167]"
      ],
      "text/plain": [
       "<IPython.core.display.HTML object>"
      ]
     },
     "metadata": {},
     "output_type": "display_data"
    },
    {
     "data": {
      "text/html": [
       "<strong>Daily mortality and environment in English conurbations. Air pollution, low temperature, and influenza in Greater London.</strong><br>1977. Macfarlane A<br>[ID: 851696]"
      ],
      "text/plain": [
       "<IPython.core.display.HTML object>"
      ]
     },
     "metadata": {},
     "output_type": "display_data"
    },
    {
     "data": {
      "text/html": [
       "<strong>Effects of air pollution on daily hospital admissions for respiratory disease in London between 1987-88 and 1991-92.</strong><br>1996. Ponce de Leon A, Anderson HR, Bland JM, Strachan DP, Bower J<br>[ID: 8758227]"
      ],
      "text/plain": [
       "<IPython.core.display.HTML object>"
      ]
     },
     "metadata": {},
     "output_type": "display_data"
    },
    {
     "data": {
      "text/html": [
       "<strong>Association of air pollution with daily GP consultations for asthma and other lower respiratory conditions in London.</strong><br>1999. Hajat S, Haines A, Goubet SA, Atkinson RW, Anderson HR<br>[ID: 10377204]"
      ],
      "text/plain": [
       "<IPython.core.display.HTML object>"
      ]
     },
     "metadata": {},
     "output_type": "display_data"
    },
    {
     "data": {
      "text/html": [
       "<strong>Air pollution, pollens, and daily admissions for asthma in London 1987-92.</strong><br>1998. Anderson HR, Ponce de Leon A, Bland JM, Bower JS, Emberlin J, Strachan DP<br>[ID: 10193370]"
      ],
      "text/plain": [
       "<IPython.core.display.HTML object>"
      ]
     },
     "metadata": {},
     "output_type": "display_data"
    },
    {
     "data": {
      "text/html": [
       "<strong><a href=http://dx.doi.org/10.1289/ehp.01109s3389>Reassessment of the lethal London fog of 1952: novel indicators of acute and chronic consequences of acute exposure to air pollution.</a></strong><br>2001. Bell ML, Davis DL<br>[ID: 11427388]"
      ],
      "text/plain": [
       "<IPython.core.display.HTML object>"
      ]
     },
     "metadata": {},
     "output_type": "display_data"
    },
    {
     "data": {
      "text/html": [
       "<strong>The relationship between urban airborne pollution and short-term mortality: quantitative and qualitative aspects.</strong><br>2000. Izzotti A, Parodi S, Quaglia A, Farè C, Vercelli M<br>[ID: 11421471]"
      ],
      "text/plain": [
       "<IPython.core.display.HTML object>"
      ]
     },
     "metadata": {},
     "output_type": "display_data"
    }
   ],
   "source": [
    "def and_query(query):\n",
    "    processed_query = preprocess(tokenize(query))\n",
    "    final = set()\n",
    "    for i in processed_query:\n",
    "        posting_list = set()\n",
    "        for j in inverted_index[i]:\n",
    "            posting_list.add(j)\n",
    "        if len(final) == 0:\n",
    "            final = posting_list\n",
    "        else: final = final & posting_list\n",
    "    return final\n",
    "    \n",
    "for x in and_query(\"London pollution\"):\n",
    "    display_summary(x)\n"
   ]
  },
  {
   "cell_type": "markdown",
   "metadata": {},
   "source": [
    "### Task 2\n",
    "\n",
    "Construct a second function called `or_query` that works in the same way as `and_query` you just implemented, but returns as function value the documents that contain _at least one_ of the words in the query. Demonstrate the working of this second function also with an example (again, choose one that leads to fewer than 100 hits)."
   ]
  },
  {
   "cell_type": "code",
   "execution_count": 11,
   "metadata": {},
   "outputs": [
    {
     "data": {
      "text/html": [
       "<strong>[The effects of closure to live poultry markets on Avian influenza A (H7N9) epidemics in China].</strong><br>2017. Liu T, Zhu GH, Zhang B, Song T, Kang M, Lu J, Zhao YQ, Huang Z, Huang YL, Wang XJ, Yang XY, Ma WJ<br>[ID: 29294594]"
      ],
      "text/plain": [
       "<IPython.core.display.HTML object>"
      ]
     },
     "metadata": {},
     "output_type": "display_data"
    },
    {
     "data": {
      "text/html": [
       "<strong><a href=http://dx.doi.org/10.1371/journal.pone.0162375>Novel Reassortant H5N6 Influenza A Virus from the Lao People's Democratic Republic Is Highly Pathogenic in Chickens.</a></strong><br>2016. Butler J, Stewart CR, Layton DS, Phommachanh P, Harper J, Payne J, Evans RM, Valdeter S, Walker S, Harvey G, Shan S, Bruce MP, Rootes CL, Gough TJ, Rohringer A, Peck GR, Fardy SJ, Karpala AJ, Johnson D, Wang J, ...<br>[ID: 27631618]"
      ],
      "text/plain": [
       "<IPython.core.display.HTML object>"
      ]
     },
     "metadata": {},
     "output_type": "display_data"
    },
    {
     "data": {
      "text/html": [
       "<strong><a href=http://dx.doi.org/10.1038/s41598-017-17335-9>Evaluation of animal-to-human and human-to-human transmission of influenza A (H7N9) virus in China, 2013-15.</a></strong><br>2018. Virlogeux V, Feng L, Tsang TK, Jiang H, Fang VJ, Qin Y, Wu P, Wang X, Zheng J, Lau EHY, Peng Z, Yang J, Cowling BJ, Yu H<br>[ID: 29323268]"
      ],
      "text/plain": [
       "<IPython.core.display.HTML object>"
      ]
     },
     "metadata": {},
     "output_type": "display_data"
    },
    {
     "data": {
      "text/html": [
       "<strong><a href=http://dx.doi.org/10.1016/j.scitotenv.2018.06.390>Identification of meteorological factors associated with human infection with avian influenza A H7N9 virus in Zhejiang Province, China.</a></strong><br>2018. Lau SY, Wang X, Wang M, Liu S, Zee BC, Han X, Yu Z, Sun R, Chong KC, Chen E<br>[ID: 29990917]"
      ],
      "text/plain": [
       "<IPython.core.display.HTML object>"
      ]
     },
     "metadata": {},
     "output_type": "display_data"
    },
    {
     "data": {
      "text/html": [
       "<strong>Library of influenza virus strains for vaccine and diagnostic use against highly pathogenic avian influenza and human pandemics.</strong><br>2006. Kida H, Sakoda Y<br>[ID: 16447496]"
      ],
      "text/plain": [
       "<IPython.core.display.HTML object>"
      ]
     },
     "metadata": {},
     "output_type": "display_data"
    },
    {
     "data": {
      "text/html": [
       "<strong><a href=http://dx.doi.org/10.1007/s00705-015-2528-6>Molecular characterization of a reassortant H11N9 subtype avian influenza virus isolated from a domestic duck in Eastern China.</a></strong><br>2015. Wu H, Peng X, Peng X, Wu N<br>[ID: 26212362]"
      ],
      "text/plain": [
       "<IPython.core.display.HTML object>"
      ]
     },
     "metadata": {},
     "output_type": "display_data"
    },
    {
     "data": {
      "text/html": [
       "<strong><a href=http://dx.doi.org/10.1371/journal.pone.0050770>A serological survey of antibodies to H5, H7 and H9 avian influenza viruses amongst the duck-related workers in Beijing, China.</a></strong><br>2012. Yang P, Ma C, Shi W, Cui S, Lu G, Peng X, Zhang D, Liu Y, Liang H, Zhang Y, Zhang L, Seale H, Wang Q<br>[ID: 23226380]"
      ],
      "text/plain": [
       "<IPython.core.display.HTML object>"
      ]
     },
     "metadata": {},
     "output_type": "display_data"
    },
    {
     "data": {
      "text/html": [
       "<strong>[Virological characteristics of influenza A (H3N2) virus in mainland China during 2013-2014].</strong><br>2015. Li X, Cheng Y, Tan M, Huang W, Guo J, Wei H, Xiao N, Lan Y, Zhao X, Yang L, Wang Z, Wang D, Shu Y<br>[ID: 25997327]"
      ],
      "text/plain": [
       "<IPython.core.display.HTML object>"
      ]
     },
     "metadata": {},
     "output_type": "display_data"
    },
    {
     "data": {
      "text/html": [
       "<strong><a href=http://dx.doi.org/10.1086/504723>Distribution of amantadine-resistant H5N1 avian influenza variants in Asia.</a></strong><br>2006. Cheung CL, Rayner JM, Smith GJ, Wang P, Naipospos TS, Zhang J, Yuen KY, Webster RG, Peiris JS, Guan Y, Chen H<br>[ID: 16703504]"
      ],
      "text/plain": [
       "<IPython.core.display.HTML object>"
      ]
     },
     "metadata": {},
     "output_type": "display_data"
    },
    {
     "data": {
      "text/html": [
       "<strong>SURVEILLANCE IN 2013 OF AVIAN INFLUENZA VIRUS FROM LIVE-BIRD MARKETS IN BANGKOK, THAILAND.</strong><br>2017. Tantawiwattananon N, Chiangson T, Rattanavibul K, Sakdajiwajaroen V, Iamsirithaworn S, Suanngam L, Sonthisirikrit S, Nuansrichay B, Sangkharak B, Rojanadilok P, Padungtod P<br>[ID: 29644818]"
      ],
      "text/plain": [
       "<IPython.core.display.HTML object>"
      ]
     },
     "metadata": {},
     "output_type": "display_data"
    },
    {
     "data": {
      "text/html": [
       "<strong><a href=http://dx.doi.org/10.1007/s15010-013-0533-9>Surveillance of the first case of human avian influenza A (H7N9) virus in Beijing, China.</a></strong><br>2014. Song R, Pang X, Yang P, Shu Y, Zhang Y, Wang Q, Chen Z, Liu J, Cheng J, Jiao Y, Jiang R, Lu L, Chen L, Ma J, Li C, Zeng H, Peng X, Huang L, Zheng Y, Deng Y, ...<br>[ID: 24129555]"
      ],
      "text/plain": [
       "<IPython.core.display.HTML object>"
      ]
     },
     "metadata": {},
     "output_type": "display_data"
    },
    {
     "data": {
      "text/html": [
       "<strong><a href=http://dx.doi.org/10.1159/000443087>The Novel H7N9 Influenza A Virus NS1 Induces p53-Mediated Apoptosis of A549 Cells.</a></strong><br>2016. Yan Y, Du Y, Wang G, Deng Y, Li R, Li K<br>[ID: 27035671]"
      ],
      "text/plain": [
       "<IPython.core.display.HTML object>"
      ]
     },
     "metadata": {},
     "output_type": "display_data"
    },
    {
     "data": {
      "text/html": [
       "<strong><a href=http://dx.doi.org/10.1128/JVI.02959-13>Novel H7N9 influenza virus shows low infectious dose, high growth rate, and efficient contact transmission in the guinea pig model.</a></strong><br>2014. Gabbard JD, Dlugolenski D, Van Riel D, Marshall N, Galloway SE, Howerth EW, Campbell PJ, Jones C, Johnson S, Byrd-Leotis L, Steinhauer DA, Kuiken T, Tompkins SM, Tripp R, Lowen AC, Steel J<br>[ID: 24227867]"
      ],
      "text/plain": [
       "<IPython.core.display.HTML object>"
      ]
     },
     "metadata": {},
     "output_type": "display_data"
    },
    {
     "data": {
      "text/html": [
       "<strong><a href=http://dx.doi.org/10.1007/s11250-017-1335-3>Limited awareness of animal influenza prevention and control among Dai Lue smallholder farmers in Southwest China.</a></strong><br>2017. Zhao X, Davey G<br>[ID: 28624926]"
      ],
      "text/plain": [
       "<IPython.core.display.HTML object>"
      ]
     },
     "metadata": {},
     "output_type": "display_data"
    },
    {
     "data": {
      "text/html": [
       "<strong><a href=http://dx.doi.org/10.1006/viro.2000.0585>H9N2 subtype influenza A viruses in poultry in pakistan are closely related to the H9N2 viruses responsible for human infection in Hong Kong.</a></strong><br>2000. Cameron KR, Gregory V, Banks J, Brown IH, Alexander DJ, Hay AJ, Lin YP<br>[ID: 11112478]"
      ],
      "text/plain": [
       "<IPython.core.display.HTML object>"
      ]
     },
     "metadata": {},
     "output_type": "display_data"
    },
    {
     "data": {
      "text/html": [
       "<strong>[Genome sequencing and genetic analysis of a natural reassortant H5N1 subtype avian influenza virus possessing H9N2 internal genes].</strong><br>2010. Gu M, Liu WB, Cao JP, Cao YZ, Zhang XR, Peng DX, Liu XF<br>[ID: 20836384]"
      ],
      "text/plain": [
       "<IPython.core.display.HTML object>"
      ]
     },
     "metadata": {},
     "output_type": "display_data"
    },
    {
     "data": {
      "text/html": [
       "<strong><a href=http://dx.doi.org/10.1155/2014/792687>Narcolepsy as an immune-mediated disease.</a></strong><br>2014. De la Herrán-Arita AK, García-García F<br>[ID: 24551456]"
      ],
      "text/plain": [
       "<IPython.core.display.HTML object>"
      ]
     },
     "metadata": {},
     "output_type": "display_data"
    },
    {
     "data": {
      "text/html": [
       "<strong><a href=http://dx.doi.org/10.1016/j.prevetmed.2017.02.002>Chinese farmers' willingness to accept compensation to practice safe disposal of HPAI infected chicken.</a></strong><br>2017. Huang Z, Wang J, Zuo A<br>[ID: 28364834]"
      ],
      "text/plain": [
       "<IPython.core.display.HTML object>"
      ]
     },
     "metadata": {},
     "output_type": "display_data"
    },
    {
     "data": {
      "text/html": [
       "<strong><a href=http://dx.doi.org/10.1128/genomeA.00600-14>Characterization of an Avian Influenza Virus H9N2 Strain Isolated from a Wild Bird in Southern China.</a></strong><br>2014. Xu Q, Xie Z, Xie L, Xie Z, Deng X, Liu J, Luo S<br>[ID: 24948768]"
      ],
      "text/plain": [
       "<IPython.core.display.HTML object>"
      ]
     },
     "metadata": {},
     "output_type": "display_data"
    },
    {
     "data": {
      "text/html": [
       "<strong>Continued circulation in China of highly pathogenic avian influenza viruses encoding the hemagglutinin gene associated with the 1997 H5N1 outbreak in poultry and humans.</strong><br>2000. Cauthen AN, Swayne DE, Schultz-Cherry S, Perdue ML, Suarez DL<br>[ID: 10864673]"
      ],
      "text/plain": [
       "<IPython.core.display.HTML object>"
      ]
     },
     "metadata": {},
     "output_type": "display_data"
    },
    {
     "data": {
      "text/html": [
       "<strong><a href=http://dx.doi.org/10.1093/cid/ciu423>Risk factors for influenza A(H7N9) disease--China, 2013.</a></strong><br>2014. Liu B, Havers F, Chen E, Yuan Z, Yuan H, Ou J, Shang M, Kang K, Liao K, Liu F, Li D, Ding H, Zhou L, Zhu W, Ding F, Zhang P, Wang X, Yao J, Xiang N, Zhou S, ...<br>[ID: 24928293]"
      ],
      "text/plain": [
       "<IPython.core.display.HTML object>"
      ]
     },
     "metadata": {},
     "output_type": "display_data"
    },
    {
     "data": {
      "text/html": [
       "<strong>Efficacy of Lianhuaqingwen capsule compared with oseltamivir for influenza A virus infection: a meta-analysis of randomized, controlled trials.</strong><br>2014. Zhao P, Yang HZ, Lv HY, Wei ZM<br>[ID: 24657957]"
      ],
      "text/plain": [
       "<IPython.core.display.HTML object>"
      ]
     },
     "metadata": {},
     "output_type": "display_data"
    },
    {
     "data": {
      "text/html": [
       "<strong><a href=http://dx.doi.org/10.1006/viro.1994.1404>Evidence for interspecies transmission and reassortment of influenza A viruses in pigs in southern China.</a></strong><br>1994. Shu LL, Lin YP, Wright SM, Shortridge KF, Webster RG<br>[ID: 8030245]"
      ],
      "text/plain": [
       "<IPython.core.display.HTML object>"
      ]
     },
     "metadata": {},
     "output_type": "display_data"
    },
    {
     "data": {
      "text/html": [
       "<strong><a href=http://dx.doi.org/10.1128/genomeA.00221-12>Genome Sequence of a Novel Reassortant H3N2 Avian Influenza Virus from Domestic Mallard Ducks in Eastern China.</a></strong><br>2013. Li Q, Zhao Q, Gu M, Zhu J, Gu X, Zhao G, Liu Q, Wang X, Liu X, Liu X<br>[ID: 23580713]"
      ],
      "text/plain": [
       "<IPython.core.display.HTML object>"
      ]
     },
     "metadata": {},
     "output_type": "display_data"
    },
    {
     "data": {
      "text/html": [
       "<strong><a href=http://dx.doi.org/10.1128/genomeA.00223-12>Genome Sequence of a Novel Reassortant H3N6 Avian Influenza Virus from Domestic Mallard Ducks in Eastern China.</a></strong><br>2013. Li Q, Zhong L, Zhao Q, He L, Duan Z, Chen C, Chen Y, Gu M, Wang X, Liu X, Liu X<br>[ID: 23580714]"
      ],
      "text/plain": [
       "<IPython.core.display.HTML object>"
      ]
     },
     "metadata": {},
     "output_type": "display_data"
    },
    {
     "data": {
      "text/html": [
       "<strong>Recombination as a mechanism in the evolution of influenza viruses: a two-year study of ducks in Hong Kong.</strong><br>1979. Gardner ID, Shortridge KF<br>[ID: 542763]"
      ],
      "text/plain": [
       "<IPython.core.display.HTML object>"
      ]
     },
     "metadata": {},
     "output_type": "display_data"
    },
    {
     "data": {
      "text/html": [
       "<strong><a href=http://dx.doi.org/10.1098/rspb.2017.0715>The persistence of multiple strains of avian influenza in live bird markets.</a></strong><br>2017. Pinsent A, Pepin KM, Zhu H, Guan Y, White MT, Riley S<br>[ID: 29212718]"
      ],
      "text/plain": [
       "<IPython.core.display.HTML object>"
      ]
     },
     "metadata": {},
     "output_type": "display_data"
    },
    {
     "data": {
      "text/html": [
       "<strong><a href=http://dx.doi.org/10.1016/j.vaccine.2018.04.060>Identifying ways to increase seasonal influenza vaccine uptake among pregnant women in China: A qualitative investigation of pregnant women and their obstetricians.</a></strong><br>2018. Li R, Xie R, Yang C, Rainey J, Song Y, Greene C<br>[ID: 29706294]"
      ],
      "text/plain": [
       "<IPython.core.display.HTML object>"
      ]
     },
     "metadata": {},
     "output_type": "display_data"
    },
    {
     "data": {
      "text/html": [
       "<strong><a href=http://dx.doi.org/10.1016/j.meegid.2018.07.023>Molecular epidemiological survey and complete genomic phylogenetic analysis of H6 subtype avian influenza viruses in poultry in China from 2011 to 2016.</a></strong><br>2018. Peng C, Sun H, Li J, Hou G, Wang S, Liu S, Zhuang Q, Cheng S, Chen J, Jiang W<br>[ID: 30031927]"
      ],
      "text/plain": [
       "<IPython.core.display.HTML object>"
      ]
     },
     "metadata": {},
     "output_type": "display_data"
    },
    {
     "data": {
      "text/html": [
       "<strong><a href=http://dx.doi.org/10.1016/j.vetmic.2014.07.002>Lowly pathogenic avian influenza (H9N2) infection in Plateau pika (Ochotona curzoniae), Qinghai Lake, China.</a></strong><br>2014. Yu Z, Cheng K, Sun W, Xin Y, Cai J, Ma R, Zhao Q, Li L, Huang J, Sang X, Li X, Zhang K, Wang T, Qin C, Qian J, Gao Y, Xia X<br>[ID: 25069623]"
      ],
      "text/plain": [
       "<IPython.core.display.HTML object>"
      ]
     },
     "metadata": {},
     "output_type": "display_data"
    },
    {
     "data": {
      "text/html": [
       "<strong><a href=http://dx.doi.org/10.1016/j.vetmic.2006.07.007>H9N2 influenza viruses isolated from poultry in Korean live bird markets continuously evolve and cause the severe clinical signs in layers.</a></strong><br>2006. Kim JA, Cho SH, Kim HS, Seo SH<br>[ID: 16930870]"
      ],
      "text/plain": [
       "<IPython.core.display.HTML object>"
      ]
     },
     "metadata": {},
     "output_type": "display_data"
    },
    {
     "data": {
      "text/html": [
       "<strong><a href=http://dx.doi.org/10.1073/pnas.0403212101>The evolution of H5N1 influenza viruses in ducks in southern China.</a></strong><br>2004. Chen H, Deng G, Li Z, Tian G, Li Y, Jiao P, Zhang L, Liu Z, Webster RG, Yu K<br>[ID: 15235128]"
      ],
      "text/plain": [
       "<IPython.core.display.HTML object>"
      ]
     },
     "metadata": {},
     "output_type": "display_data"
    },
    {
     "data": {
      "text/html": [
       "<strong><a href=http://dx.doi.org/10.1038/emi.2016.142>Insight into live bird markets of Bangladesh: an overview of the dynamics of transmission of H5N1 and H9N2 avian influenza viruses.</a></strong><br>2017. Turner JC, Feeroz MM, Hasan MK, Akhtar S, Walker D, Seiler P, Barman S, Franks J, Jones-Engel L, McKenzie P, Krauss S, Webby RJ, Kayali G, Webster RG<br>[ID: 28270655]"
      ],
      "text/plain": [
       "<IPython.core.display.HTML object>"
      ]
     },
     "metadata": {},
     "output_type": "display_data"
    },
    {
     "data": {
      "text/html": [
       "<strong><a href=http://dx.doi.org/10.1186/s12896-015-0195-z>An avian influenza A (H7N9) virus vaccine candidate based on the fusion protein of hemagglutinin globular head and Salmonella typhimurium flagellin.</a></strong><br>2015. Song L, Xiong D, Kang X, Yang Y, Wang J, Guo Y, Xu H, Chen S, Peng D, Pan Z, Jiao X<br>[ID: 26286143]"
      ],
      "text/plain": [
       "<IPython.core.display.HTML object>"
      ]
     },
     "metadata": {},
     "output_type": "display_data"
    },
    {
     "data": {
      "text/html": [
       "<strong><a href=http://dx.doi.org/10.1371/journal.pone.0136953>Technology Resource, Distribution, and Development Characteristics of Global Influenza Virus Vaccine: A Patent Bibliometric Analysis.</a></strong><br>2015. Chen N, Liu Y, Cheng Y, Liu L, Yan Z, Tao L, Guo X, Luo Y, Yan A<br>[ID: 26372160]"
      ],
      "text/plain": [
       "<IPython.core.display.HTML object>"
      ]
     },
     "metadata": {},
     "output_type": "display_data"
    },
    {
     "data": {
      "text/html": [
       "<strong><a href=http://dx.doi.org/10.1080/03079457.2014.931928>Evaluation of histopathological changes, viral load and immune function of domestic geese infected with Newcastle disease virus.</a></strong><br>2014. Lu A, Diao Y, Chen H, Wang J, Ge P, Sun X, Hao D<br>[ID: 24911937]"
      ],
      "text/plain": [
       "<IPython.core.display.HTML object>"
      ]
     },
     "metadata": {},
     "output_type": "display_data"
    },
    {
     "data": {
      "text/html": [
       "<strong>Avian influenza and human health.</strong><br>2002. Capua I, Alexander DJ<br>[ID: 12062786]"
      ],
      "text/plain": [
       "<IPython.core.display.HTML object>"
      ]
     },
     "metadata": {},
     "output_type": "display_data"
    },
    {
     "data": {
      "text/html": [
       "<strong><a href=http://dx.doi.org/10.1186/s12879-015-1021-x>The health and economic impact of vaccination with 7-valent pneumococcal vaccine (PCV7) during an annual influenza epidemic and influenza pandemic in China.</a></strong><br>2015. Caldwell R, Roberts CS, An Z, Chen CI, Wang B<br>[ID: 26206275]"
      ],
      "text/plain": [
       "<IPython.core.display.HTML object>"
      ]
     },
     "metadata": {},
     "output_type": "display_data"
    },
    {
     "data": {
      "text/html": [
       "<strong><a href=http://dx.doi.org/10.1016/j.coviro.2014.03.001>H7N9: a low pathogenic avian influenza A virus infecting humans.</a></strong><br>2014. Liu J, Xiao H, Wu Y, Liu D, Qi X, Shi Y, Gao GF<br>[ID: 24705093]"
      ],
      "text/plain": [
       "<IPython.core.display.HTML object>"
      ]
     },
     "metadata": {},
     "output_type": "display_data"
    },
    {
     "data": {
      "text/html": [
       "<strong><a href=http://dx.doi.org/10.1016/j.meegid.2015.04.001>The repeated introduction of the H3N2 virus from human to swine during 1979-1993 in China.</a></strong><br>2015. Zhu W, Yang S, Dong L, Yang L, Tang J, Zou X, Chen T, Yang J, Shu Y<br>[ID: 25858119]"
      ],
      "text/plain": [
       "<IPython.core.display.HTML object>"
      ]
     },
     "metadata": {},
     "output_type": "display_data"
    },
    {
     "data": {
      "text/html": [
       "<strong><a href=http://dx.doi.org/10.7717/peerj.655>A global phylogenetic analysis in order to determine the host species and geography dependent features present in the evolution of avian H9N2 influenza hemagglutinin.</a></strong><br>2014. Dalby AR, Iqbal M<br>[ID: 25374791]"
      ],
      "text/plain": [
       "<IPython.core.display.HTML object>"
      ]
     },
     "metadata": {},
     "output_type": "display_data"
    },
    {
     "data": {
      "text/html": [
       "<strong><a href=http://dx.doi.org/10.1186/1756-0500-4-361>Response to the 2009-H1N1 influenza pandemic in the Mekong Basin: surveys of country health leaders.</a></strong><br>2011. Moore M, Dausey DJ<br>[ID: 21923914]"
      ],
      "text/plain": [
       "<IPython.core.display.HTML object>"
      ]
     },
     "metadata": {},
     "output_type": "display_data"
    },
    {
     "data": {
      "text/html": [
       "<strong><a href=http://dx.doi.org/10.1371/journal.pone.0162163>PB2-Q591K Mutation Determines the Pathogenicity of Avian H9N2 Influenza Viruses for Mammalian Species.</a></strong><br>2016. Wang C, Lee HH, Yang ZF, Mok CK, Zhang Z<br>[ID: 27684944]"
      ],
      "text/plain": [
       "<IPython.core.display.HTML object>"
      ]
     },
     "metadata": {},
     "output_type": "display_data"
    },
    {
     "data": {
      "text/html": [
       "<strong><a href=http://dx.doi.org/10.1016/j.prevetmed.2013.06.003>Molecular epidemiology of influenza A (H5N1) viruses, Bangladesh, 2007-2011.</a></strong><br>2013. Hoque MA, Tun HM, Hassan MM, Khan SA, Islam SA, Islam MN, Giasuddin M, Osmani TM, Islam A, Thornton RN, Burgess GW, Skerratt LF, Selleck P, Brun E, Debnath NC, Leung FC<br>[ID: 23820377]"
      ],
      "text/plain": [
       "<IPython.core.display.HTML object>"
      ]
     },
     "metadata": {},
     "output_type": "display_data"
    },
    {
     "data": {
      "text/html": [
       "<strong><a href=http://dx.doi.org/10.1111/1469-0691.12505>Host immunological response and factors associated with clinical outcome in patients with the novel influenza A H7N9 infection.</a></strong><br>2014. Shen Z, Chen Z, Li X, Xu L, Guan W, Cao Y, Hu Y, Zhang J<br>[ID: 24350809]"
      ],
      "text/plain": [
       "<IPython.core.display.HTML object>"
      ]
     },
     "metadata": {},
     "output_type": "display_data"
    },
    {
     "data": {
      "text/html": [
       "<strong>[Epidemiological characteristics of influenza outbreaks in China, 2005-2013].</strong><br>2015. Li M, Feng L, Cao Y, Peng Z, Yu H<br>[ID: 26564698]"
      ],
      "text/plain": [
       "<IPython.core.display.HTML object>"
      ]
     },
     "metadata": {},
     "output_type": "display_data"
    },
    {
     "data": {
      "text/html": [
       "<strong><a href=http://dx.doi.org/10.1099/vir.0.030247-0>The nucleoprotein and matrix protein segments of H5N1 influenza viruses are responsible for dominance in embryonated eggs.</a></strong><br>2011. Shimizu K, Li C, Muramoto Y, Yamada S, Arikawa J, Chen H, Kawaoka Y<br>[ID: 21471324]"
      ],
      "text/plain": [
       "<IPython.core.display.HTML object>"
      ]
     },
     "metadata": {},
     "output_type": "display_data"
    },
    {
     "data": {
      "text/html": [
       "<strong><a href=http://dx.doi.org/10.1016/j.virol.2004.11.016>Characterization of H5N1 influenza A viruses isolated during the 2003-2004 influenza outbreaks in Japan.</a></strong><br>2005. Mase M, Tsukamoto K, Imada T, Imai K, Tanimura N, Nakamura K, Yamamoto Y, Hitomi T, Kira T, Nakai T, Kiso M, Horimoto T, Kawaoka Y, Yamaguchi S<br>[ID: 15661149]"
      ],
      "text/plain": [
       "<IPython.core.display.HTML object>"
      ]
     },
     "metadata": {},
     "output_type": "display_data"
    },
    {
     "data": {
      "text/html": [
       "<strong><a href=http://dx.doi.org/10.3201/eid.1907.130612>Clinical findings for early human cases of influenza A(H7N9) virus infection, Shanghai, China.</a></strong><br>2013. Lu S, Zheng Y, Li T, Hu Y, Liu X, Xi X, Chen Q, Wang Q, Cao Y, Wang Y, Zhou L, Lowrie D, Bao J<br>[ID: 23769184]"
      ],
      "text/plain": [
       "<IPython.core.display.HTML object>"
      ]
     },
     "metadata": {},
     "output_type": "display_data"
    },
    {
     "data": {
      "text/html": [
       "<strong><a href=http://dx.doi.org/10.1007/s11262-012-0742-9>Phylogenetic analysis of hemagglutinin genes of 40 H9N2 subtype avian influenza viruses isolated from poultry in China from 2010 to 2011.</a></strong><br>2012. Chen F, Yan ZQ, Liu J, Ji J, Chang S, Liu D, Qin JP, Ma JY, Bi YZ, Xie QM<br>[ID: 22476906]"
      ],
      "text/plain": [
       "<IPython.core.display.HTML object>"
      ]
     },
     "metadata": {},
     "output_type": "display_data"
    },
    {
     "data": {
      "text/html": [
       "<strong><a href=http://dx.doi.org/10.1038/srep18094>Identification of climate factors related to human infection with avian influenza A H7N9 and H5N1 viruses in China.</a></strong><br>2015. Li J, Rao Y, Sun Q, Wu X, Jin J, Bi Y, Chen J, Lei F, Liu Q, Duan Z, Ma J, Gao GF, Liu D, Liu W<br>[ID: 26656876]"
      ],
      "text/plain": [
       "<IPython.core.display.HTML object>"
      ]
     },
     "metadata": {},
     "output_type": "display_data"
    },
    {
     "data": {
      "text/html": [
       "<strong><a href=http://dx.doi.org/10.1055/s-2005-866767>[Is avian influenza a risk for humans?].</a></strong><br>2005. Allwinn R, Doerr HW<br>[ID: 15812719]"
      ],
      "text/plain": [
       "<IPython.core.display.HTML object>"
      ]
     },
     "metadata": {},
     "output_type": "display_data"
    },
    {
     "data": {
      "text/html": [
       "<strong><a href=http://dx.doi.org/10.1016/j.bbrc.2007.02.096>Isolation and genetic analysis of human origin H1N1 and H3N2 influenza viruses from pigs in China.</a></strong><br>2007. Yu H, Zhang GH, Hua RH, Zhang Q, Liu TQ, Liao M, Tong GZ<br>[ID: 17346674]"
      ],
      "text/plain": [
       "<IPython.core.display.HTML object>"
      ]
     },
     "metadata": {},
     "output_type": "display_data"
    },
    {
     "data": {
      "text/html": [
       "<strong>[Antimicrobial susceptibility of community-acquired respiratory tract pathogens isolated from class B hospitals in China during 2013 and 2014].</strong><br>2016. Sun H, Chen L, Chen X, Jia X, Li N, Liu W, Tong H, Xiang R, Zhang F, Zhao H, Zhang J, Xu Y<br>[ID: 26792053]"
      ],
      "text/plain": [
       "<IPython.core.display.HTML object>"
      ]
     },
     "metadata": {},
     "output_type": "display_data"
    },
    {
     "data": {
      "text/html": [
       "<strong><a href=http://dx.doi.org/10.1089/vim.2015.0052>H7N9 Influenza Virus Is More Virulent in Ferrets than 2009 Pandemic H1N1 Influenza Virus.</a></strong><br>2015. Yum J, Ku KB, Kim HS, Seo SH<br>[ID: 26421365]"
      ],
      "text/plain": [
       "<IPython.core.display.HTML object>"
      ]
     },
     "metadata": {},
     "output_type": "display_data"
    },
    {
     "data": {
      "text/html": [
       "<strong><a href=http://dx.doi.org/10.1111/tbed.12454>Biosecurity and Circulation of Influenza A (H5N1) Virus in Live-Bird Markets in Bangladesh, 2012.</a></strong><br>2017. Biswas PK, Giasuddin M, Nath BK, Islam MZ, Debnath NC, Yamage M<br>[ID: 26663031]"
      ],
      "text/plain": [
       "<IPython.core.display.HTML object>"
      ]
     },
     "metadata": {},
     "output_type": "display_data"
    },
    {
     "data": {
      "text/html": [
       "<strong><a href=http://dx.doi.org/10.3201/eid1201.051024>H5N1 outbreaks and enzootic influenza.</a></strong><br>2006. Webster RG, Peiris M, Chen H, Guan Y<br>[ID: 16494709]"
      ],
      "text/plain": [
       "<IPython.core.display.HTML object>"
      ]
     },
     "metadata": {},
     "output_type": "display_data"
    },
    {
     "data": {
      "text/html": [
       "<strong><a href=http://dx.doi.org/10.3201/eid2408.180063>Variation in Influenza B Virus Epidemiology by Lineage, China.</a></strong><br>2018. Yang J, Lau YC, Wu P, Feng L, Wang X, Chen T, Ali ST, Peng Z, Fang VJ, Zhang J, He Y, Lau EHY, Qin Y, Yang J, Zheng J, Jiang H, Yu H, Cowling BJ<br>[ID: 30015611]"
      ],
      "text/plain": [
       "<IPython.core.display.HTML object>"
      ]
     },
     "metadata": {},
     "output_type": "display_data"
    },
    {
     "data": {
      "text/html": [
       "<strong>Novel H1N1 influenza A viral infection complicated by alveolar hemorrhage.</strong><br>2010. Gilbert CR, Vipul K, Baram M<br>[ID: 20420734]"
      ],
      "text/plain": [
       "<IPython.core.display.HTML object>"
      ]
     },
     "metadata": {},
     "output_type": "display_data"
    },
    {
     "data": {
      "text/html": [
       "<strong><a href=http://dx.doi.org/10.1186/s12917-018-1469-1>Comparison of the virulence of three H3N2 canine influenza virus isolates from Korea and China in mouse and Guinea pig models.</a></strong><br>2018. Xie X, Na W, Kang A, Yeom M, Yuk H, Moon H, Kim SJ, Kim HW, Kim JK, Pang M, Wang Y, Liu Y, Song D<br>[ID: 29716608]"
      ],
      "text/plain": [
       "<IPython.core.display.HTML object>"
      ]
     },
     "metadata": {},
     "output_type": "display_data"
    },
    {
     "data": {
      "text/html": [
       "<strong><a href=http://dx.doi.org/10.1371/journal.pone.0123659>Immunization with a live attenuated H7N9 influenza vaccine protects mice against lethal challenge.</a></strong><br>2015. Yang X, Zhao J, Wang C, Duan Y, Zhao Z, Chen R, Zhang L, Xing L, Lai C, Zhang S, Wang X, Yang P<br>[ID: 25884801]"
      ],
      "text/plain": [
       "<IPython.core.display.HTML object>"
      ]
     },
     "metadata": {},
     "output_type": "display_data"
    },
    {
     "data": {
      "text/html": [
       "<strong><a href=http://dx.doi.org/10.1142/S0192415X99000082>Antiviral effect of gingyo-san, a traditional Chinese herbal medicine, on influenza A2 virus infection in mice.</a></strong><br>1999. Kobayashi M, Davis SM, Utsunomiya T, Pollard RB, Suzuki F<br>[ID: 10354817]"
      ],
      "text/plain": [
       "<IPython.core.display.HTML object>"
      ]
     },
     "metadata": {},
     "output_type": "display_data"
    },
    {
     "data": {
      "text/html": [
       "<strong><a href=http://dx.doi.org/10.7150/ijms.10826>Identification of novel compounds against an R294K substitution of influenza A (H7N9) virus using ensemble based drug virtual screening.</a></strong><br>2015. Tran N, Van T, Nguyen H, Le L<br>[ID: 25589893]"
      ],
      "text/plain": [
       "<IPython.core.display.HTML object>"
      ]
     },
     "metadata": {},
     "output_type": "display_data"
    },
    {
     "data": {
      "text/html": [
       "<strong><a href=http://dx.doi.org/10.1128/JVI.00840-15>Molecular Epidemiology and Evolution of Influenza Viruses Circulating within European Swine between 2009 and 2013.</a></strong><br>2015. Watson SJ, Langat P, Reid SM, Lam TT, Cotten M, Kelly M, Van Reeth K, Qiu Y, Simon G, Bonin E, Foni E, Chiapponi C, Larsen L, Hjulsager C, Markowska-Daniel I, Urbaniak K, Dürrwald R, Schlegel M, Huovilainen A, Davidson I, ...<br>[ID: 26202246]"
      ],
      "text/plain": [
       "<IPython.core.display.HTML object>"
      ]
     },
     "metadata": {},
     "output_type": "display_data"
    },
    {
     "data": {
      "text/html": [
       "<strong><a href=http://dx.doi.org/10.1016/j.ijid.2017.04.021>Combined interventions for mitigation of an influenza A (H1N1) 2009 outbreak in a physical training camp in Beijing, China.</a></strong><br>2017. Chu CY, de Silva UC, Guo JP, Wang Y, Wen L, Lee VJ, Li SL, Huang LY<br>[ID: 28483722]"
      ],
      "text/plain": [
       "<IPython.core.display.HTML object>"
      ]
     },
     "metadata": {},
     "output_type": "display_data"
    },
    {
     "data": {
      "text/html": [
       "<strong><a href=http://dx.doi.org/10.1111/1749-4877.12047>Novel human H7N9 influenza virus in China.</a></strong><br>2014. Wang C, Luo J, Wang J, Su W, Gao S, Zhang M, Xie L, Ding H, Liu S, Liu X, Chen Y, Jia Y, He H<br>[ID: 24952971]"
      ],
      "text/plain": [
       "<IPython.core.display.HTML object>"
      ]
     },
     "metadata": {},
     "output_type": "display_data"
    },
    {
     "data": {
      "text/html": [
       "<strong>[Epidemiologic characteristics of influenza in China, from 2001 to 2003].</strong><br>2004. Zhang J, Yang WZ, Guo YJ, Xu H, Zhang Y, Li Z, Guo JF, Wang M, Wang WJ, Li ZM, Sun XH, Xiao DL<br>[ID: 15231116]"
      ],
      "text/plain": [
       "<IPython.core.display.HTML object>"
      ]
     },
     "metadata": {},
     "output_type": "display_data"
    },
    {
     "data": {
      "text/html": [
       "<strong><a href=http://dx.doi.org/10.1637/8410-071708-Reg.1>Serologic evidence of prevalent avian H3 subtype influenza virus infection in chickens.</a></strong><br>2009. Pu J, Zhang GZ, Ma JH, Xia YJ, Liu QF, Jiang ZL, Wang Z, Brown EG, Tian FL, Liu JH<br>[ID: 19630224]"
      ],
      "text/plain": [
       "<IPython.core.display.HTML object>"
      ]
     },
     "metadata": {},
     "output_type": "display_data"
    },
    {
     "data": {
      "text/html": [
       "<strong><a href=http://dx.doi.org/10.1099/0022-1317-73-2-383>Human influenza A (H1N2) viruses isolated from China.</a></strong><br>1992. Guo YJ, Xu XY, Cox NJ<br>[ID: 1538194]"
      ],
      "text/plain": [
       "<IPython.core.display.HTML object>"
      ]
     },
     "metadata": {},
     "output_type": "display_data"
    },
    {
     "data": {
      "text/html": [
       "<strong><a href=http://dx.doi.org/10.1186/s12896-016-0321-6>Multi-antigen avian influenza a (H7N9) virus-like particles: particulate characterizations and immunogenicity evaluation in murine and avian models.</a></strong><br>2017. Hu CJ, Chien CY, Liu MT, Fang ZS, Chang SY, Juang RH, Chang SC, Chen HW<br>[ID: 28061848]"
      ],
      "text/plain": [
       "<IPython.core.display.HTML object>"
      ]
     },
     "metadata": {},
     "output_type": "display_data"
    },
    {
     "data": {
      "text/html": [
       "<strong><a href=http://dx.doi.org/10.1089/hs.2016.0131>Emerging Zoonotic Influenza A Virus Detection in Myanmar: Surveillance Practices and Findings.</a></strong><br>2017. Tun Win Y, Gardner E, Hadrill D, Su Mon CC, Kyin MM, Maw MT, Claes F, von Dobschuetz S, Kalpravidh W, Wongsathapornchai K, Mon HH, Myint WW, Thein WZ, Mon PP<br>[ID: 29016219]"
      ],
      "text/plain": [
       "<IPython.core.display.HTML object>"
      ]
     },
     "metadata": {},
     "output_type": "display_data"
    },
    {
     "data": {
      "text/html": [
       "<strong><a href=http://dx.doi.org/10.1371/journal.pone.0076047>Quantifying the fitness advantage of polymerase substitutions in Influenza A/H7N9 viruses during adaptation to humans.</a></strong><br>2013. Fonville JM, Burke DF, Lewis NS, Katzelnick LC, Russell CA<br>[ID: 24086684]"
      ],
      "text/plain": [
       "<IPython.core.display.HTML object>"
      ]
     },
     "metadata": {},
     "output_type": "display_data"
    },
    {
     "data": {
      "text/html": [
       "<strong><a href=http://dx.doi.org/10.1038/emi.2017.94>Genetic evolution of influenza H9N2 viruses isolated from various hosts in China from 1994 to 2013.</a></strong><br>2017. Li C, Wang S, Bing G, Carter RA, Wang Z, Wang J, Wang C, Wang L, Wu G, Webster RG, Wang Y, Sun H, Sun Y, Liu J, Pu J<br>[ID: 29184157]"
      ],
      "text/plain": [
       "<IPython.core.display.HTML object>"
      ]
     },
     "metadata": {},
     "output_type": "display_data"
    },
    {
     "data": {
      "text/html": [
       "<strong><a href=http://dx.doi.org/10.1186/s12985-015-0317-1>Characteristics of oseltamivir-resistant influenza A (H1N1) pdm09 virus during the 2013-2014 influenza season in Mainland China.</a></strong><br>2015. Huang W, Li X, Cheng Y, Tan M, Guo J, Wei H, Zhao X, Lan Y, Xiao N, Wang Z, Wang D, Shu Y<br>[ID: 26103966]"
      ],
      "text/plain": [
       "<IPython.core.display.HTML object>"
      ]
     },
     "metadata": {},
     "output_type": "display_data"
    },
    {
     "data": {
      "text/html": [
       "<strong><a href=http://dx.doi.org/10.1002/smll.201403746>Rapid and Quantitative Detection of Avian Influenza A(H7N9) Virions in Complex Matrices Based on Combined Magnetic Capture and Quantum Dot Labeling.</a></strong><br>2015. Wu M, Zhang ZL, Chen G, Wen CY, Wu LL, Hu J, Xiong CC, Chen JJ, Pang DW<br>[ID: 26280101]"
      ],
      "text/plain": [
       "<IPython.core.display.HTML object>"
      ]
     },
     "metadata": {},
     "output_type": "display_data"
    },
    {
     "data": {
      "text/html": [
       "<strong><a href=http://dx.doi.org/10.1128/JVI.00107-14>Identification of amino acid changes that may have been critical for the genesis of A(H7N9) influenza viruses.</a></strong><br>2014. Neumann G, Macken CA, Kawaoka Y<br>[ID: 24522919]"
      ],
      "text/plain": [
       "<IPython.core.display.HTML object>"
      ]
     },
     "metadata": {},
     "output_type": "display_data"
    },
    {
     "data": {
      "text/html": [
       "<strong><a href=http://dx.doi.org/10.1111/j.1863-2378.2012.01497.x>Lessons from emergence of A/goose/Guangdong/1996-like H5N1 highly pathogenic avian influenza viruses and recent influenza surveillance efforts in southern China.</a></strong><br>2012. Wan XF<br>[ID: 22958248]"
      ],
      "text/plain": [
       "<IPython.core.display.HTML object>"
      ]
     },
     "metadata": {},
     "output_type": "display_data"
    },
    {
     "data": {
      "text/html": [
       "<strong>Reassortment and insertion-deletion are strategies for the evolution of influenza B viruses in nature.</strong><br>1999. McCullers JA, Wang GC, He S, Webster RG<br>[ID: 10438823]"
      ],
      "text/plain": [
       "<IPython.core.display.HTML object>"
      ]
     },
     "metadata": {},
     "output_type": "display_data"
    },
    {
     "data": {
      "text/html": [
       "<strong><a href=http://dx.doi.org/10.1016/j.virol.2014.12.021>Characterization of an H9N2 avian influenza virus from a Fringilla montifringilla brambling in northern China.</a></strong><br>2015. Yuan J, Xu L, Bao L, Yao Y, Deng W, Li F, Lv Q, Gu S, Wei Q, Qin C<br>[ID: 25569456]"
      ],
      "text/plain": [
       "<IPython.core.display.HTML object>"
      ]
     },
     "metadata": {},
     "output_type": "display_data"
    },
    {
     "data": {
      "text/html": [
       "<strong><a href=http://dx.doi.org/10.1016/j.vetmic.2011.11.014>Molecular and antigenic characterization of H9N2 avian influenza virus isolates from chicken flocks between 1998 and 2007 in China.</a></strong><br>2012. Zhang Y, Yin Y, Bi Y, Wang S, Xu S, Wang J, Zhou S, Sun T, Yoon KJ<br>[ID: 22177969]"
      ],
      "text/plain": [
       "<IPython.core.display.HTML object>"
      ]
     },
     "metadata": {},
     "output_type": "display_data"
    },
    {
     "data": {
      "text/html": [
       "<strong>[Cloning and analysis of full-length genes of a H9N2 subtype avian influenza virus isolated from Guangdong].</strong><br>2010. Qi Y, Yuan RY, Zhang HN, Qi WB, Shan F, Hu Y, Li XK, Jiao PR, Liao M<br>[ID: 20572337]"
      ],
      "text/plain": [
       "<IPython.core.display.HTML object>"
      ]
     },
     "metadata": {},
     "output_type": "display_data"
    },
    {
     "data": {
      "text/html": [
       "<strong><a href=http://dx.doi.org/10.3382/ps/pey313>Enhanced Th1/Th2 mixed immune responses elicited by polyethyleneimine adjuvanted influenza A (H7N9) antigen HA1-2 in chickens.</a></strong><br>2018. Song L, Xiong D, Hu M, Jiao X, Pan Z<br>[ID: 30085299]"
      ],
      "text/plain": [
       "<IPython.core.display.HTML object>"
      ]
     },
     "metadata": {},
     "output_type": "display_data"
    },
    {
     "data": {
      "text/html": [
       "<strong><a href=http://dx.doi.org/10.1186/1743-422X-9-289>Phylogenetic diversity and genotypic complexity of H1N1 subtype swine influenza viruses isolated in mainland China.</a></strong><br>2012. Liu Y, Wang J, Ji J, Chang S, Xue C, Ma J, Bi Y, Xie Q<br>[ID: 23181491]"
      ],
      "text/plain": [
       "<IPython.core.display.HTML object>"
      ]
     },
     "metadata": {},
     "output_type": "display_data"
    },
    {
     "data": {
      "text/html": [
       "<strong><a href=http://dx.doi.org/10.1016/j.jinf.2010.07.010>Severe, critical and fatal cases of 2009 H1N1 influenza in China.</a></strong><br>2010. Yang P, Deng Y, Pang X, Shi W, Li X, Tian L, Zhang Y, Wang X, Huang F, Raina MC, Wang Q<br>[ID: 20670649]"
      ],
      "text/plain": [
       "<IPython.core.display.HTML object>"
      ]
     },
     "metadata": {},
     "output_type": "display_data"
    },
    {
     "data": {
      "text/html": [
       "<strong><a href=http://dx.doi.org/10.1128/JVI.01039-13>Differing epidemiological dynamics of influenza B virus lineages in Guangzhou, southern China, 2009-2010.</a></strong><br>2013. Tan Y, Guan W, Lam TT, Pan S, Wu S, Zhan Y, Viboud C, Holmes EC, Yang Z<br>[ID: 24027322]"
      ],
      "text/plain": [
       "<IPython.core.display.HTML object>"
      ]
     },
     "metadata": {},
     "output_type": "display_data"
    },
    {
     "data": {
      "text/html": [
       "<strong>[The effectiveness of China Infectious Disease Automated-alert and Response System (CIDARS) in the local regions].</strong><br>2011. Yu F, Zhang HL, Lai SJ, Ye CC, Zhao D, Li ZJ, Yang WZ<br>[ID: 21569723]"
      ],
      "text/plain": [
       "<IPython.core.display.HTML object>"
      ]
     },
     "metadata": {},
     "output_type": "display_data"
    },
    {
     "data": {
      "text/html": [
       "<strong><a href=http://dx.doi.org/10.1016/j.chom.2016.10.022>Genesis, Evolution and Prevalence of H5N6 Avian Influenza Viruses in China.</a></strong><br>2016. Bi Y, Chen Q, Wang Q, Chen J, Jin T, Wong G, Quan C, Liu J, Wu J, Yin R, Zhao L, Li M, Ding Z, Zou R, Xu W, Li H, Wang H, Tian K, Fu G, Huang Y, ...<br>[ID: 27916476]"
      ],
      "text/plain": [
       "<IPython.core.display.HTML object>"
      ]
     },
     "metadata": {},
     "output_type": "display_data"
    },
    {
     "data": {
      "text/html": [
       "<strong>[Comparison on the different thresholds on the 'moving percentile method' for outbreak detection].</strong><br>2011. Sun Q, Lai SJ, Li ZJ, Lan YJ, Zhang HL, Zhao D, Jin LM, Yang WZ<br>[ID: 21569724]"
      ],
      "text/plain": [
       "<IPython.core.display.HTML object>"
      ]
     },
     "metadata": {},
     "output_type": "display_data"
    },
    {
     "data": {
      "text/html": [
       "<strong><a href=http://dx.doi.org/10.1371/journal.pone.0035421>Immunization with SARS coronavirus vaccines leads to pulmonary immunopathology on challenge with the SARS virus.</a></strong><br>2012. Tseng CT, Sbrana E, Iwata-Yoshikawa N, Newman PC, Garron T, Atmar RL, Peters CJ, Couch RB<br>[ID: 22536382]"
      ],
      "text/plain": [
       "<IPython.core.display.HTML object>"
      ]
     },
     "metadata": {},
     "output_type": "display_data"
    },
    {
     "data": {
      "text/html": [
       "<strong><a href=http://dx.doi.org/10.1039/c4fo00294f>Anti-inflammatory effect of a novel food Cordyceps guangdongensis on experimental rats with chronic bronchitis induced by tobacco smoking.</a></strong><br>2014. Yan W, Li T, Zhong Z<br>[ID: 25135295]"
      ],
      "text/plain": [
       "<IPython.core.display.HTML object>"
      ]
     },
     "metadata": {},
     "output_type": "display_data"
    },
    {
     "data": {
      "text/html": [
       "<strong><a href=http://dx.doi.org/10.1038/nature02746>Genesis of a highly pathogenic and potentially pandemic H5N1 influenza virus in eastern Asia.</a></strong><br>2004. Li KS, Guan Y, Wang J, Smith GJ, Xu KM, Duan L, Rahardjo AP, Puthavathana P, Buranathai C, Nguyen TD, Estoepangestie AT, Chaisingh A, Auewarakul P, Long HT, Hanh NT, Webby RJ, Poon LL, Chen H, Shortridge KF, Yuen KY, ...<br>[ID: 15241415]"
      ],
      "text/plain": [
       "<IPython.core.display.HTML object>"
      ]
     },
     "metadata": {},
     "output_type": "display_data"
    },
    {
     "data": {
      "text/html": [
       "<strong><a href=http://dx.doi.org/10.1016/j.vaccine.2013.06.071>Low pathogenic avian influenza A(H7N9) virus causes high mortality in ferrets upon intratracheal challenge: a model to study intervention strategies.</a></strong><br>2013. Kreijtz JH, Kroeze EJ, Stittelaar KJ, de Waal L, van Amerongen G, van Trierum S, van Run P, Bestebroer T, T Kuiken, Fouchier RA, Rimmelzwaan GF, Osterhaus AD<br>[ID: 23816392]"
      ],
      "text/plain": [
       "<IPython.core.display.HTML object>"
      ]
     },
     "metadata": {},
     "output_type": "display_data"
    },
    {
     "data": {
      "text/html": [
       "<strong><a href=http://dx.doi.org/10.1016/j.vaccine.2014.09.049>H5 N-terminal β sheet promotes oligomerization of H7-HA1 that induces better antibody affinity maturation and enhanced protection against H7N7 and H7N9 viruses compared to inactivated influenza vaccine.</a></strong><br>2014. Khurana S, Coyle EM, Verma S, King LR, Manischewitz J, Crevar CJ, Carter DM, Ross TM, Golding H<br>[ID: 25284811]"
      ],
      "text/plain": [
       "<IPython.core.display.HTML object>"
      ]
     },
     "metadata": {},
     "output_type": "display_data"
    },
    {
     "data": {
      "text/html": [
       "<strong><a href=http://dx.doi.org/10.1038/srep10942>The Serum Profile of Hypercytokinemia Factors Identified in H7N9-Infected Patients can Predict Fatal Outcomes.</a></strong><br>2015. Guo J, Huang F, Liu J, Chen Y, Wang W, Cao B, Zou Z, Liu S, Pan J, Bao C, Zeng M, Xiao H, Gao H, Yang S, Zhao Y, Liu Q, Zhou H, Zhu J, Liu X, Liang W, ...<br>[ID: 26028236]"
      ],
      "text/plain": [
       "<IPython.core.display.HTML object>"
      ]
     },
     "metadata": {},
     "output_type": "display_data"
    },
    {
     "data": {
      "text/html": [
       "<strong><a href=http://dx.doi.org/10.1016/j.virol.2015.03.028>Dispersal of H9N2 influenza A viruses between East Asia and North America by wild birds.</a></strong><br>2015. Ramey AM, Reeves AB, Sonsthagen SA, TeSlaa JL, Nashold S, Donnelly T, Casler B, Hall JS<br>[ID: 25827532]"
      ],
      "text/plain": [
       "<IPython.core.display.HTML object>"
      ]
     },
     "metadata": {},
     "output_type": "display_data"
    },
    {
     "data": {
      "text/html": [
       "<strong><a href=http://dx.doi.org/10.1016/j.intimp.2014.08.019>Protection from infection with influenza A H7N9 virus in a mouse model by equine neutralizing F(ab')2.</a></strong><br>2014. Zhao Z, Fan C, Duan Y, Zhang L, Li M, Yang X, Li R, Yang P, Wang X<br>[ID: 25192652]"
      ],
      "text/plain": [
       "<IPython.core.display.HTML object>"
      ]
     },
     "metadata": {},
     "output_type": "display_data"
    },
    {
     "data": {
      "text/html": [
       "<strong><a href=http://dx.doi.org/10.2471/BLT.11.095653>Influenza-associated mortality in 2009 in four sentinel sites in Bangladesh.</a></strong><br>2012. Homaira N, Luby SP, Alamgir AS, Islam K, Paul R, Abedin J, Rahman M, Azim T, Podder G, Sohel BM, Brooks A, Fry AM, Widdowson MA, Bresee J, Rahman M, Azziz-Baumgartner E<br>[ID: 22511823]"
      ],
      "text/plain": [
       "<IPython.core.display.HTML object>"
      ]
     },
     "metadata": {},
     "output_type": "display_data"
    },
    {
     "data": {
      "text/html": [
       "<strong><a href=http://dx.doi.org/10.1371/journal.pone.0084558>ClassyFlu: classification of influenza A viruses with Discriminatively trained profile-HMMs.</a></strong><br>2014. Van der Auwera S, Bulla I, Ziller M, Pohlmann A, Harder T, Stanke M<br>[ID: 24404173]"
      ],
      "text/plain": [
       "<IPython.core.display.HTML object>"
      ]
     },
     "metadata": {},
     "output_type": "display_data"
    },
    {
     "data": {
      "text/html": [
       "<strong><a href=http://dx.doi.org/10.1186/s13567-017-0453-2>Current situation of H9N2 subtype avian influenza in China.</a></strong><br>2017. Gu M, Xu L, Wang X, Liu X<br>[ID: 28915920]"
      ],
      "text/plain": [
       "<IPython.core.display.HTML object>"
      ]
     },
     "metadata": {},
     "output_type": "display_data"
    },
    {
     "data": {
      "text/html": [
       "<strong><a href=http://dx.doi.org/10.1371/journal.pone.0180763>Spatial characteristics and the epidemiology of human infections with avian influenza A(H7N9) virus in five waves from 2013 to 2017 in Zhejiang Province, China.</a></strong><br>2017. Wu H, Wang X, Xue M, Xue M, Wu C, Lu Q, Ding Z, Xv X, Lin J<br>[ID: 28750032]"
      ],
      "text/plain": [
       "<IPython.core.display.HTML object>"
      ]
     },
     "metadata": {},
     "output_type": "display_data"
    },
    {
     "data": {
      "text/html": [
       "<strong><a href=http://dx.doi.org/10.3892/etm.2016.3636>Computational approach for predicting the conserved B-cell epitopes of hemagglutinin H7 subtype influenza virus.</a></strong><br>2016. Wang X, Sun Q, Ye Z, Hua Y, Shao N, Du Y, Zhang Q, Wan C<br>[ID: 27703505]"
      ],
      "text/plain": [
       "<IPython.core.display.HTML object>"
      ]
     },
     "metadata": {},
     "output_type": "display_data"
    },
    {
     "data": {
      "text/html": [
       "<strong><a href=http://dx.doi.org/10.3201/eid1908.130662>Monitoring avian influenza A(H7N9) virus through national influenza-like illness surveillance, China.</a></strong><br>2013. Xu C, Havers F, Wang L, Chen T, Shi J, Wang D, Yang J, Yang L, Widdowson MA, Shu Y<br>[ID: 23879887]"
      ],
      "text/plain": [
       "<IPython.core.display.HTML object>"
      ]
     },
     "metadata": {},
     "output_type": "display_data"
    },
    {
     "data": {
      "text/html": [
       "<strong><a href=http://dx.doi.org/10.1371/journal.pone.0110876>Bacterial etiologies of five core syndromes: laboratory-based syndromic surveillance conducted in Guangxi, China.</a></strong><br>2014. Dong B, Liang D, Lin M, Wang M, Zeng J, Liao H, Zhou L, Huang J, Wei X, Zou G, Jing H<br>[ID: 25360596]"
      ],
      "text/plain": [
       "<IPython.core.display.HTML object>"
      ]
     },
     "metadata": {},
     "output_type": "display_data"
    },
    {
     "data": {
      "text/html": [
       "<strong><a href=http://dx.doi.org/10.1016/j.virusres.2013.10.026>A novel pyrosequencing assay for the detection of neuraminidase inhibitor resistance-conferring mutations among clinical isolates of avian H7N9 influenza virus.</a></strong><br>2014. Qi Y, Fan H, Qi X, Zhu Z, Guo X, Chen Y, Ge Y, Zhao K, Wu T, Li Y, Shan Y, Zhou M, Shi Z, Wang H, Cui L<br>[ID: 24211668]"
      ],
      "text/plain": [
       "<IPython.core.display.HTML object>"
      ]
     },
     "metadata": {},
     "output_type": "display_data"
    },
    {
     "data": {
      "text/html": [
       "<strong><a href=http://dx.doi.org/10.3978/j.issn.2072-1439.2014.12.09>Epidemiological and viral genome characteristics of the first human H7N9 influenza infection in Guangdong Province, China.</a></strong><br>2014. Yang ZF, He JF, Li XB, Guan WD, Ke CW, Wu SG, Pan SH, Li RF, Kang M, Wu J, Lin JY, Ding GY, Huang JC, Pan WQ, Zhou R, Lin YP, Chen RC, Li YM, Chen L, Xiao WL, ...<br>[ID: 25589974]"
      ],
      "text/plain": [
       "<IPython.core.display.HTML object>"
      ]
     },
     "metadata": {},
     "output_type": "display_data"
    },
    {
     "data": {
      "text/html": [
       "<strong><a href=http://dx.doi.org/10.1038/emi.2013.54>Rapidly produced SAM(®) vaccine against H7N9 influenza is immunogenic in mice.</a></strong><br>2013. Hekele A, Bertholet S, Archer J, Gibson DG, Palladino G, Brito LA, Otten GR, Brazzoli M, Buccato S, Bonci A, Casini D, Maione D, Qi ZQ, Gill JE, Caiazza NC, Urano J, Hubby B, Gao GF, Shu Y, De Gregorio E, ...<br>[ID: 26038486]"
      ],
      "text/plain": [
       "<IPython.core.display.HTML object>"
      ]
     },
     "metadata": {},
     "output_type": "display_data"
    },
    {
     "data": {
      "text/html": [
       "<strong><a href=http://dx.doi.org/10.1038/emi.2013.48>Human H7N9 avian influenza virus infection: a review and pandemic risk assessment.</a></strong><br>2013. Yiu Lai K, Wing Yiu Ng G, Fai Wong K, Fan Ngai Hung I, Kam Fai Hong J, Fan Cheng F, Kwok Cheung Chan J<br>[ID: 26038484]"
      ],
      "text/plain": [
       "<IPython.core.display.HTML object>"
      ]
     },
     "metadata": {},
     "output_type": "display_data"
    },
    {
     "data": {
      "text/html": [
       "<strong>[Influenza surveillance and control program of WHO].</strong><br>2000. Oshitani H<br>[ID: 11225300]"
      ],
      "text/plain": [
       "<IPython.core.display.HTML object>"
      ]
     },
     "metadata": {},
     "output_type": "display_data"
    },
    {
     "data": {
      "text/html": [
       "<strong><a href=http://dx.doi.org/10.3201/eid2211.160181>Reassortant Eurasian Avian-Like Influenza A(H1N1) Virus from a Severely Ill Child, Hunan Province, China, 2015.</a></strong><br>2016. Zhu W, Zhang H, Xiang X, Zhong L, Yang L, Guo J, Xie Y, Li F, Deng Z, Feng H, Huang Y, Hu S, Xu X, Zou X, Li X, Bai T, Chen Y, Li Z, Li J, Shu Y<br>[ID: 27767007]"
      ],
      "text/plain": [
       "<IPython.core.display.HTML object>"
      ]
     },
     "metadata": {},
     "output_type": "display_data"
    },
    {
     "data": {
      "text/html": [
       "<strong><a href=http://dx.doi.org/10.1186/1743-422X-10-204>Airborne spread and infection of a novel swine-origin influenza A (H1N1) virus.</a></strong><br>2013. Zhang H, Li X, Ma R, Li X, Zhou Y, Dong H, Li X, Li Q, Zhang M, Liu Z, Wei B, Cui M, Wang H, Gao J, Yang H, Hou P, Miao Z, Chai T<br>[ID: 23800032]"
      ],
      "text/plain": [
       "<IPython.core.display.HTML object>"
      ]
     },
     "metadata": {},
     "output_type": "display_data"
    },
    {
     "data": {
      "text/html": [
       "<strong><a href=http://dx.doi.org/10.1093/infdis/jit430>Avian-origin influenza A(H7N9) infection in influenza A(H7N9)-affected areas of China: a serological study.</a></strong><br>2014. Yang S, Chen Y, Cui D, Yao H, Lou J, Huo Z, Xie G, Yu F, Zheng S, Yang Y, Zhu Y, Lu X, Liu X, Lau SY, Chan JF, To KK, Yuen KY, Chen H, Li L<br>[ID: 23935201]"
      ],
      "text/plain": [
       "<IPython.core.display.HTML object>"
      ]
     },
     "metadata": {},
     "output_type": "display_data"
    },
    {
     "data": {
      "text/html": [
       "<strong>[Comparison of epidemiological characteristics of human infection with avian influenza A (H5N1) virus in five countries of Asia and Africa].</strong><br>2018. Jiang H, Qin Y, Zheng JD, Peng ZB, Feng LZ, Wang W, Lai SJ, Yu HJ<br>[ID: 29886690]"
      ],
      "text/plain": [
       "<IPython.core.display.HTML object>"
      ]
     },
     "metadata": {},
     "output_type": "display_data"
    },
    {
     "data": {
      "text/html": [
       "<strong>Emergence of truncated PB1-F2 protein of H3N2 influenza virus during its epidemic period in Jiangsu Province, China.</strong><br>2014. Wei P, Luo P, Li W, Zi H, Qi X, Deng F, Qin Y, Wu B, Tang F<br>[ID: 24762594]"
      ],
      "text/plain": [
       "<IPython.core.display.HTML object>"
      ]
     },
     "metadata": {},
     "output_type": "display_data"
    },
    {
     "data": {
      "text/html": [
       "<strong><a href=http://dx.doi.org/10.5582/bst.2017.01040>Global concern regarding the fifth epidemic of human infection with avian influenza A (H7N9) virus in China.</a></strong><br>2017. Shen Y, Lu H<br>[ID: 28250340]"
      ],
      "text/plain": [
       "<IPython.core.display.HTML object>"
      ]
     },
     "metadata": {},
     "output_type": "display_data"
    },
    {
     "data": {
      "text/html": [
       "<strong><a href=http://dx.doi.org/10.1002/ppul.22608>A 4 year prospective study to determine risk factors for severe community acquired pneumonia in children in southern China.</a></strong><br>2013. Zhang Q, Guo Z, Bai Z, MacDonald NE<br>[ID: 22778084]"
      ],
      "text/plain": [
       "<IPython.core.display.HTML object>"
      ]
     },
     "metadata": {},
     "output_type": "display_data"
    },
    {
     "data": {
      "text/html": [
       "<strong><a href=http://dx.doi.org/10.1016/j.epidem.2015.06.001>One versus two doses: What is the best use of vaccine in an influenza pandemic?</a></strong><br>2015. Matrajt L, Britton T, Halloran ME, Longini IM Jr<br>[ID: 26616038]"
      ],
      "text/plain": [
       "<IPython.core.display.HTML object>"
      ]
     },
     "metadata": {},
     "output_type": "display_data"
    },
    {
     "data": {
      "text/html": [
       "<strong>[Comparing the performance of temporal model and temporal-spatial model for outbreak detection in China Infectious Diseases Automated-alert and Response System, 2011-2013, China].</strong><br>2014. Lai S, Liao Y, Zhang H, Li X, Ren X, Li F, Yu J, Wang L, Yu H, Lan Y, Li Z, Wang J, Yang W<br>[ID: 24969447]"
      ],
      "text/plain": [
       "<IPython.core.display.HTML object>"
      ]
     },
     "metadata": {},
     "output_type": "display_data"
    },
    {
     "data": {
      "text/html": [
       "<strong>[Analysis of effect on infectious diseases outbreak detection performance by classifying provinces for moving percentile method].</strong><br>2014. Zhang H, Sun Q, Lai S, Ren X, Zhou D, Ye X, Zeng L, Yu J, Wang L, Yu H, Li Z, Lyu W, Lan Y, Yang W<br>[ID: 24969448]"
      ],
      "text/plain": [
       "<IPython.core.display.HTML object>"
      ]
     },
     "metadata": {},
     "output_type": "display_data"
    },
    {
     "data": {
      "text/html": [
       "<strong>China makes an impressive breakthrough in avian influenza virus research - Discovering the \"heart\" of avian infl uenza virus.</strong><br>2009. Li YG, Wu JF, Li X<br>[ID: 22495459]"
      ],
      "text/plain": [
       "<IPython.core.display.HTML object>"
      ]
     },
     "metadata": {},
     "output_type": "display_data"
    },
    {
     "data": {
      "text/html": [
       "<strong><a href=http://dx.doi.org/10.1016/j.ijid.2006.07.009>What happened in China during the 1918 influenza pandemic?</a></strong><br>2007. Cheng KF, Leung PC<br>[ID: 17379558]"
      ],
      "text/plain": [
       "<IPython.core.display.HTML object>"
      ]
     },
     "metadata": {},
     "output_type": "display_data"
    },
    {
     "data": {
      "text/html": [
       "<strong><a href=http://dx.doi.org/10.1038/emi.2014.84>Genesis of avian influenza H9N2 in Bangladesh.</a></strong><br>2014. Shanmuganatham K, Feeroz MM, Jones-Engel L, Walker D, Alam S, Hasan M, McKenzie P, Krauss S, Webby RJ, Webster RG<br>[ID: 26038507]"
      ],
      "text/plain": [
       "<IPython.core.display.HTML object>"
      ]
     },
     "metadata": {},
     "output_type": "display_data"
    },
    {
     "data": {
      "text/html": [
       "<strong><a href=http://dx.doi.org/10.1038/emi.2014.11>Multiple introductions of highly pathogenic avian influenza H5N1 viruses into Bangladesh.</a></strong><br>2014. Marinova-Petkova A, Feeroz MM, Rabiul Alam SM, Kamrul Hasan M, Akhtar S, Jones-Engel L, Walker D, McClenaghan L, Rubrum A, Franks J, Seiler P, Jeevan T, McKenzie P, Krauss S, Webby RJ, Webster RG<br>[ID: 26038508]"
      ],
      "text/plain": [
       "<IPython.core.display.HTML object>"
      ]
     },
     "metadata": {},
     "output_type": "display_data"
    },
    {
     "data": {
      "text/html": [
       "<strong><a href=http://dx.doi.org/10.1016/j.mbs.2016.11.014>Nonlinear dynamics of avian influenza epidemic models.</a></strong><br>2017. Liu S, Ruan S, Zhang X<br>[ID: 27887851]"
      ],
      "text/plain": [
       "<IPython.core.display.HTML object>"
      ]
     },
     "metadata": {},
     "output_type": "display_data"
    },
    {
     "data": {
      "text/html": [
       "<strong><a href=http://dx.doi.org/10.1007/s11262-005-3251-2>Genetic analysis of the nonstructural (NS) genes of H9N2 chicken influenza viruses isolated in China during 1998-2002.</a></strong><br>2005. Wang S, Shi WM, Mweene A, Wei HL, Bai GR, Liu JH<br>[ID: 16175338]"
      ],
      "text/plain": [
       "<IPython.core.display.HTML object>"
      ]
     },
     "metadata": {},
     "output_type": "display_data"
    },
    {
     "data": {
      "text/html": [
       "<strong><a href=http://dx.doi.org/10.1080/21645515.2015.1069931>Assessment of immune responses to H5N1 inactivated influenza vaccine among individuals previously primed with H5N2 live attenuated influenza vaccine.</a></strong><br>2015. Rudenko L, Naykhin A, Donina S, Korenkov D, Petukhova G, Isakova-Sivak I, Losev I, Stukova M, Erofeeva M, Nikiforova A, Power M, Flores J<br>[ID: 26697973]"
      ],
      "text/plain": [
       "<IPython.core.display.HTML object>"
      ]
     },
     "metadata": {},
     "output_type": "display_data"
    },
    {
     "data": {
      "text/html": [
       "<strong><a href=http://dx.doi.org/10.1371/journal.pone.0101287>Genotype diversity of H9N2 viruses isolated from wild birds and chickens in Hunan Province, China.</a></strong><br>2014. Wang B, Liu Z, Chen Q, Gao Z, Fang F, Chang H, Chen J, Xu B, Chen Z<br>[ID: 24979703]"
      ],
      "text/plain": [
       "<IPython.core.display.HTML object>"
      ]
     },
     "metadata": {},
     "output_type": "display_data"
    },
    {
     "data": {
      "text/html": [
       "<strong><a href=http://dx.doi.org/10.1038/srep12986>Highly Pathogenic Avian Influenza A(H5N1) Virus Struck Migratory Birds in China in 2015.</a></strong><br>2015. Bi Y, Zhang Z, Liu W, Yin Y, Hong J, Li X, Wang H, Wong G, Chen J, Li Y, Ru W, Gao R, Liu D, Liu Y, Zhou B, Gao GF, Shi W, Lei F<br>[ID: 26259704]"
      ],
      "text/plain": [
       "<IPython.core.display.HTML object>"
      ]
     },
     "metadata": {},
     "output_type": "display_data"
    },
    {
     "data": {
      "text/html": [
       "<strong><a href=http://dx.doi.org/10.1016/j.vetmic.2010.05.010>Genotypic evolution and antigenic drift of H9N2 influenza viruses in China from 1994 to 2008.</a></strong><br>2010. Sun Y, Pu J, Jiang Z, Guan T, Xia Y, Xu Q, Liu L, Ma B, Tian F, Brown EG, Liu J<br>[ID: 20685047]"
      ],
      "text/plain": [
       "<IPython.core.display.HTML object>"
      ]
     },
     "metadata": {},
     "output_type": "display_data"
    },
    {
     "data": {
      "text/html": [
       "<strong><a href=http://dx.doi.org/10.3389/fpubh.2018.00210>Live Poultry Trading Drives China's H7N9 Viral Evolution and Geographical Network Propagation.</a></strong><br>2018. Li R, Zhang T, Bai Y, Li H, Wang Y, Bi Y, Chang J, Xu B<br>[ID: 30140667]"
      ],
      "text/plain": [
       "<IPython.core.display.HTML object>"
      ]
     },
     "metadata": {},
     "output_type": "display_data"
    },
    {
     "data": {
      "text/html": [
       "<strong><a href=http://dx.doi.org/10.1111/j.1524-4733.2008.00410.x>Potential for cost-savings in the care of hospitalized low-risk community-acquired pneumonia patients in China.</a></strong><br>2009. Zhou QT, He B, Zhu H<br>[ID: 18637052]"
      ],
      "text/plain": [
       "<IPython.core.display.HTML object>"
      ]
     },
     "metadata": {},
     "output_type": "display_data"
    },
    {
     "data": {
      "text/html": [
       "<strong><a href=http://dx.doi.org/10.1007/s10393-014-0907-1>Using risk assessment as part of a systems approach to the control and prevention of HPAIV H5N1.</a></strong><br>2014. Costard S, Fournié G, Pfeiffer DU<br>[ID: 24488190]"
      ],
      "text/plain": [
       "<IPython.core.display.HTML object>"
      ]
     },
     "metadata": {},
     "output_type": "display_data"
    },
    {
     "data": {
      "text/html": [
       "<strong><a href=http://dx.doi.org/10.1128/JVI.03095-13>Divergent H7 immunogens offer protection from H7N9 virus challenge.</a></strong><br>2014. Krammer F, Albrecht RA, Tan GS, Margine I, Hai R, Schmolke M, Runstadler J, Andrews SF, Wilson PC, Cox RJ, Treanor JJ, García-Sastre A, Palese P<br>[ID: 24453375]"
      ],
      "text/plain": [
       "<IPython.core.display.HTML object>"
      ]
     },
     "metadata": {},
     "output_type": "display_data"
    },
    {
     "data": {
      "text/html": [
       "<strong><a href=http://dx.doi.org/10.1371/journal.pone.0016364>Travel patterns in China.</a></strong><br>2011. Garske T, Yu H, Peng Z, Ye M, Zhou H, Cheng X, Wu J, Ferguson N<br>[ID: 21311745]"
      ],
      "text/plain": [
       "<IPython.core.display.HTML object>"
      ]
     },
     "metadata": {},
     "output_type": "display_data"
    },
    {
     "data": {
      "text/html": [
       "<strong><a href=http://dx.doi.org/10.1016/j.bbrc.2009.05.056>Isolation and genetic characterization of avian-like H1N1 and novel ressortant H1N2 influenza viruses from pigs in China.</a></strong><br>2009. Yu H, Zhang PC, Zhou YJ, Li GX, Pan J, Yan LP, Shi XX, Liu HL, Tong GZ<br>[ID: 19460353]"
      ],
      "text/plain": [
       "<IPython.core.display.HTML object>"
      ]
     },
     "metadata": {},
     "output_type": "display_data"
    },
    {
     "data": {
      "text/html": [
       "<strong><a href=http://dx.doi.org/10.1016/j.antiviral.2007.08.007>Amantadine-resistance among H5N1 avian influenza viruses isolated in Northern China.</a></strong><br>2008. He G, Qiao J, Dong C, He C, Zhao L, Tian Y<br>[ID: 17897729]"
      ],
      "text/plain": [
       "<IPython.core.display.HTML object>"
      ]
     },
     "metadata": {},
     "output_type": "display_data"
    },
    {
     "data": {
      "text/html": [
       "<strong><a href=http://dx.doi.org/10.1016/j.vetmic.2014.02.040>Interspecies transmission of canine influenza virus H5N2 to cats and chickens by close contact with experimentally infected dogs.</a></strong><br>2014. Hai-xia F, Yuan-yuan L, Qian-qian S, Zong-shuai L, Feng-xia Z, Yan-li Z, Shi-jin J, Zhi-jing X<br>[ID: 24656135]"
      ],
      "text/plain": [
       "<IPython.core.display.HTML object>"
      ]
     },
     "metadata": {},
     "output_type": "display_data"
    },
    {
     "data": {
      "text/html": [
       "<strong><a href=http://dx.doi.org/10.1128/JVI.01850-17>Structural Insight into a Human Neutralizing Antibody against Influenza Virus H7N9.</a></strong><br>2018. Chen C, Liu L, Xiao Y, Cui S, Wang J, Jin Q<br>[ID: 29212936]"
      ],
      "text/plain": [
       "<IPython.core.display.HTML object>"
      ]
     },
     "metadata": {},
     "output_type": "display_data"
    },
    {
     "data": {
      "text/html": [
       "<strong><a href=http://dx.doi.org/10.1099/0022-1317-76-3-613>Genetic analysis of porcine H3N2 viruses originating in southern China.</a></strong><br>1995. Nerome K, Kanegae Y, Shortridge KF, Sugita S, Ishida M<br>[ID: 7897351]"
      ],
      "text/plain": [
       "<IPython.core.display.HTML object>"
      ]
     },
     "metadata": {},
     "output_type": "display_data"
    },
    {
     "data": {
      "text/html": [
       "<strong><a href=http://dx.doi.org/10.1371/journal.pone.0017622>Wild bird migration across the Qinghai-Tibetan plateau: a transmission route for highly pathogenic H5N1.</a></strong><br>2011. Prosser DJ, Cui P, Takekawa JY, Tang M, Hou Y, Collins BM, Yan B, Hill NJ, Li T, Li Y, Lei F, Guo S, Xing Z, He Y, Zhou Y, Douglas DC, Perry WM, Newman SH<br>[ID: 21408010]"
      ],
      "text/plain": [
       "<IPython.core.display.HTML object>"
      ]
     },
     "metadata": {},
     "output_type": "display_data"
    },
    {
     "data": {
      "text/html": [
       "<strong><a href=http://dx.doi.org/10.1016/j.jpba.2013.10.006>New method of screening allergenic components from Shuanghuanglian injection: with RBL-2H3/CMC model online HPLC/MS system.</a></strong><br>2014. Han S, Zhang T, Huang J, Cui R, He L<br>[ID: 24211723]"
      ],
      "text/plain": [
       "<IPython.core.display.HTML object>"
      ]
     },
     "metadata": {},
     "output_type": "display_data"
    },
    {
     "data": {
      "text/html": [
       "<strong>[Isolation and molecular characterization of the influenza virus A/H5N1 strains isolated during outbreak of avian influenza among birds in the European part of Russia in 2005: strain with ozeltamivir-resistance mutation was found].</strong><br>2008. Iatsyshina SB, Shestopalov AM, Evseenko VA, Astakhova TS, Braslavskaia SI, Ternovoí VA, Kondrat'eva TIu, Alekseev AIu, Zolotykh SI, Rassadkin IuN, Zaíkovskaia AV, Durymanov AG, Netesov SV, Shipulin GA<br>[ID: 18368779]"
      ],
      "text/plain": [
       "<IPython.core.display.HTML object>"
      ]
     },
     "metadata": {},
     "output_type": "display_data"
    },
    {
     "data": {
      "text/html": [
       "<strong><a href=http://dx.doi.org/10.1128/JCM.02018-13>External quality assessment for Avian Influenza A (H7N9) Virus detection using armored RNA.</a></strong><br>2013. Sun Y, Jia T, Sun Y, Han Y, Wang L, Zhang R, Zhang K, Lin G, Xie J, Li J<br>[ID: 24088846]"
      ],
      "text/plain": [
       "<IPython.core.display.HTML object>"
      ]
     },
     "metadata": {},
     "output_type": "display_data"
    },
    {
     "data": {
      "text/html": [
       "<strong><a href=http://dx.doi.org/10.3389/fmicb.2016.00754>New Reassortant H5N6 Highly Pathogenic Avian Influenza Viruses in Southern China, 2014.</a></strong><br>2016. Jiao P, Cui J, Song Y, Song H, Zhao Z, Wu S, Qu N, Wang N, Ouyang G, Liao M<br>[ID: 27242767]"
      ],
      "text/plain": [
       "<IPython.core.display.HTML object>"
      ]
     },
     "metadata": {},
     "output_type": "display_data"
    },
    {
     "data": {
      "text/html": [
       "<strong><a href=http://dx.doi.org/10.1007/s11262-008-0300-7>Genetic analysis of H3 subtype influenza viruses isolated from domestic ducks in northern China during 2004-2005.</a></strong><br>2009. Pu J, Liu QF, Xia YJ, Fan YL, Brown EG, Tian FL, Liu JH<br>[ID: 19067150]"
      ],
      "text/plain": [
       "<IPython.core.display.HTML object>"
      ]
     },
     "metadata": {},
     "output_type": "display_data"
    },
    {
     "data": {
      "text/html": [
       "<strong><a href=http://dx.doi.org/10.1016/j.ajic.2005.12.006>A climatologic investigation of the SARS-CoV outbreak in Beijing, China.</a></strong><br>2006. Yuan J, Yun H, Lan W, Wang W, Sullivan SG, Jia S, Bittles AH<br>[ID: 16679182]"
      ],
      "text/plain": [
       "<IPython.core.display.HTML object>"
      ]
     },
     "metadata": {},
     "output_type": "display_data"
    },
    {
     "data": {
      "text/html": [
       "<strong><a href=http://dx.doi.org/10.1016/j.prrv.2007.04.003>Bird flu: lessons from SARS.</a></strong><br>2007. Wong GW, Leung TF<br>[ID: 17574162]"
      ],
      "text/plain": [
       "<IPython.core.display.HTML object>"
      ]
     },
     "metadata": {},
     "output_type": "display_data"
    },
    {
     "data": {
      "text/html": [
       "<strong><a href=http://dx.doi.org/10.3201/eid1805.110356>Transmission dynamics, border entry screening, and school holidays during the 2009 influenza A (H1N1) pandemic, China.</a></strong><br>2012. Yu H, Cauchemez S, Donnelly CA, Zhou L, Feng L, Xiang N, Zheng J, Ye M, Huai Y, Liao Q, Peng Z, Feng Y, Jiang H, Yang W, Wang Y, Ferguson NM, Feng Z<br>[ID: 22515989]"
      ],
      "text/plain": [
       "<IPython.core.display.HTML object>"
      ]
     },
     "metadata": {},
     "output_type": "display_data"
    },
    {
     "data": {
      "text/html": [
       "<strong><a href=http://dx.doi.org/10.1093/aje/kwv115>Estimating the Distribution of the Incubation Periods of Human Avian Influenza A(H7N9) Virus Infections.</a></strong><br>2015. Virlogeux V, Li M, Tsang TK, Feng L, Fang VJ, Jiang H, Wu P, Zheng J, Lau EH, Cao Y, Qin Y, Liao Q, Yu H, Cowling BJ<br>[ID: 26409239]"
      ],
      "text/plain": [
       "<IPython.core.display.HTML object>"
      ]
     },
     "metadata": {},
     "output_type": "display_data"
    },
    {
     "data": {
      "text/html": [
       "<strong><a href=http://dx.doi.org/10.1016/j.ijid.2014.04.003>Major emerging and re-emerging zoonoses in China: a matter of global health and socioeconomic development for 1.3 billion.</a></strong><br>2014. Liu Q, Cao L, Zhu XQ<br>[ID: 24858904]"
      ],
      "text/plain": [
       "<IPython.core.display.HTML object>"
      ]
     },
     "metadata": {},
     "output_type": "display_data"
    },
    {
     "data": {
      "text/html": [
       "<strong><a href=http://dx.doi.org/10.1016/j.vaccine.2010.09.067>Report of the international forum on pandemic influenza 2010 Qingdao, China, 24-25 July 2010.</a></strong><br>2010. Varella A<br>[ID: 20887833]"
      ],
      "text/plain": [
       "<IPython.core.display.HTML object>"
      ]
     },
     "metadata": {},
     "output_type": "display_data"
    },
    {
     "data": {
      "text/html": [
       "<strong><a href=http://dx.doi.org/10.1093/pubmed/fdw041>Influenza vaccination of adults with and without high-risk health conditions in China.</a></strong><br>2017. Wagner AL, Montgomery JP, Xu W, Boulton ML<br>[ID: 27160858]"
      ],
      "text/plain": [
       "<IPython.core.display.HTML object>"
      ]
     },
     "metadata": {},
     "output_type": "display_data"
    },
    {
     "data": {
      "text/html": [
       "<strong><a href=http://dx.doi.org/10.3201/eid2404.171995>Influenza A(H7N9) Virus Antibody Responses in Survivors 1 Year after Infection, China, 2017.</a></strong><br>2018. Ma MJ, Liu C, Wu MN, Zhao T, Wang GL, Yang Y, Gu HJ, Cui PW, Pang YY, Tan YY, Hang H, Lin B, Qin JC, Fang LQ, Cao WC, Cheng LL<br>[ID: 29432091]"
      ],
      "text/plain": [
       "<IPython.core.display.HTML object>"
      ]
     },
     "metadata": {},
     "output_type": "display_data"
    },
    {
     "data": {
      "text/html": [
       "<strong><a href=http://dx.doi.org/10.1016/j.jviromet.2017.05.014>A sandwich ELISA for the detection of neuraminidase of avian influenza A(H7N9) virus.</a></strong><br>2017. Yu Y, Zhang X, Zhao B, Sun Y, Zhang X, Bai T, Lu J, Li Z, Liu L, Wang D, Shu Y, Zhou J, Qin K<br>[ID: 28551451]"
      ],
      "text/plain": [
       "<IPython.core.display.HTML object>"
      ]
     },
     "metadata": {},
     "output_type": "display_data"
    },
    {
     "data": {
      "text/html": [
       "<strong><a href=http://dx.doi.org/10.1016/j.meegid.2015.08.017>Genetic and biological characterization of two novel reassortant H5N6 swine influenza viruses in mice and chickens.</a></strong><br>2015. Li X, Fu Y, Yang J, Guo J, He J, Guo J, Weng S, Jia Y, Liu B, Li X, Zhu Q, Chen H<br>[ID: 26296602]"
      ],
      "text/plain": [
       "<IPython.core.display.HTML object>"
      ]
     },
     "metadata": {},
     "output_type": "display_data"
    },
    {
     "data": {
      "text/html": [
       "<strong><a href=http://dx.doi.org/10.1186/s13256-015-0580-1>A returning migrant worker with avian influenza A (H7N9) virus infection in Guizhou, China: a case report.</a></strong><br>2015. Wang D, Tang G, Huang Y, Yu C, Li S, Zhuang L, Fu L, Wang S, Li N, Li X, Yang L, Lan Y, Bai T, Shu Y<br>[ID: 25962780]"
      ],
      "text/plain": [
       "<IPython.core.display.HTML object>"
      ]
     },
     "metadata": {},
     "output_type": "display_data"
    },
    {
     "data": {
      "text/html": [
       "<strong>[Rapid detection of novel avian influenza virus subtype H7N9 by multiplex real-time RT-PCR].</strong><br>2014. Luo BZ, Mo QH, Li RS, Bo QR, Xu HN, Sha CH, Liao XY<br>[ID: 24772890]"
      ],
      "text/plain": [
       "<IPython.core.display.HTML object>"
      ]
     },
     "metadata": {},
     "output_type": "display_data"
    },
    {
     "data": {
      "text/html": [
       "<strong><a href=http://dx.doi.org/10.1016/j.vetmic.2011.08.002>Isolation and characterization of influenza A virus (subtype H5N1) that caused the first highly pathogenic avian influenza outbreak in chicken in Bhutan.</a></strong><br>2012. Dubey SC, Dahal N, Nagarajan S, Tosh C, Murugkar HV, Rinzin K, Sharma B, Jain R, Katare M, Patil S, Khandia R, Syed Z, Tripathi S, Behera P, Kumar M, Kulkarni DD, Krishna L<br>[ID: 21885216]"
      ],
      "text/plain": [
       "<IPython.core.display.HTML object>"
      ]
     },
     "metadata": {},
     "output_type": "display_data"
    },
    {
     "data": {
      "text/html": [
       "<strong><a href=http://dx.doi.org/10.1007/s12529-015-9465-3>Population Behavior Patterns in Response to the Risk of Influenza A(H7N9) in Hong Kong, December 2013-February 2014.</a></strong><br>2015. Liao Q, Cowling BJ, Wu P, Leung GM, Fielding R, Lam WW<br>[ID: 25622816]"
      ],
      "text/plain": [
       "<IPython.core.display.HTML object>"
      ]
     },
     "metadata": {},
     "output_type": "display_data"
    },
    {
     "data": {
      "text/html": [
       "<strong>[Evolutionary analysis of neuraminidase gene of A/H7N9 influenza virus].</strong><br>2014. Sun YT, Jin NZ, Zhang HR, Shen YL, Ma Y, Peng TS<br>[ID: 24772897]"
      ],
      "text/plain": [
       "<IPython.core.display.HTML object>"
      ]
     },
     "metadata": {},
     "output_type": "display_data"
    },
    {
     "data": {
      "text/html": [
       "<strong><a href=http://dx.doi.org/10.1111/j.1865-1682.2011.01297.x>New introduction of clade 2.3.2.1 avian influenza virus (H5N1) into Bangladesh.</a></strong><br>2012. Islam MR, Haque ME, Giasuddin M, Chowdhury EH, Samad MA, Parvin R, Nooruzzaman M, Rahman MM, Monoura P<br>[ID: 22212904]"
      ],
      "text/plain": [
       "<IPython.core.display.HTML object>"
      ]
     },
     "metadata": {},
     "output_type": "display_data"
    },
    {
     "data": {
      "text/html": [
       "<strong><a href=http://dx.doi.org/10.1007/s11427-015-4886-4>Computational analysis of antigenic epitopes of avian influenza A (H7N9) viruses.</a></strong><br>2015. Liu M, Song T, Hua S, Wu A, Jiang T<br>[ID: 26100010]"
      ],
      "text/plain": [
       "<IPython.core.display.HTML object>"
      ]
     },
     "metadata": {},
     "output_type": "display_data"
    },
    {
     "data": {
      "text/html": [
       "<strong><a href=http://dx.doi.org/10.1093/infdis/jit474>Novel avian-origin human influenza A(H7N9) can be transmitted between ferrets via respiratory droplets.</a></strong><br>2014. Xu L, Bao L, Deng W, Dong L, Zhu H, Chen T, Lv Q, Li F, Yuan J, Xiang Z, Gao K, Xu Y, Huang L, Li Y, Liu J, Yao Y, Yu P, Li X, Huang W, Zhao X, ...<br>[ID: 23990570]"
      ],
      "text/plain": [
       "<IPython.core.display.HTML object>"
      ]
     },
     "metadata": {},
     "output_type": "display_data"
    },
    {
     "data": {
      "text/html": [
       "<strong><a href=http://dx.doi.org/10.1093/infdis/jit440>Cytokine and chemokine levels in patients infected with the novel avian influenza A (H7N9) virus in China.</a></strong><br>2013. Chi Y, Zhu Y, Wen T, Cui L, Ge Y, Jiao Y, Wu T, Ge A, Ji H, Xu K, Bao C, Zhu Z, Qi X, Wu B, Shi Z, Tang F, Xing Z, Zhou M<br>[ID: 23990573]"
      ],
      "text/plain": [
       "<IPython.core.display.HTML object>"
      ]
     },
     "metadata": {},
     "output_type": "display_data"
    },
    {
     "data": {
      "text/html": [
       "<strong><a href=http://dx.doi.org/10.1111/irv.12205>The substantial hospitalization burden of influenza in central China: surveillance for severe, acute respiratory infection, and influenza viruses, 2010-2012.</a></strong><br>2014. Yu H, Huang J, Huai Y, Guan X, Klena J, Liu S, Peng Y, Yang H, Luo J, Zheng J, Chen M, Peng Z, Xiang N, Huo X, Xiao L, Jiang H, Chen H, Zhang Y, Xing X, Xu Z, ...<br>[ID: 24209711]"
      ],
      "text/plain": [
       "<IPython.core.display.HTML object>"
      ]
     },
     "metadata": {},
     "output_type": "display_data"
    },
    {
     "data": {
      "text/html": [
       "<strong><a href=http://dx.doi.org/10.1186/1471-2334-13-309>Etiological analysis and predictive diagnostic model building of community-acquired pneumonia in adult outpatients in Beijing, China.</a></strong><br>2013. Liu YF, Gao Y, Chen MF, Cao B, Yang XH, Wei L<br>[ID: 23834931]"
      ],
      "text/plain": [
       "<IPython.core.display.HTML object>"
      ]
     },
     "metadata": {},
     "output_type": "display_data"
    },
    {
     "data": {
      "text/html": [
       "<strong><a href=http://dx.doi.org/10.1016/j.actatropica.2013.07.009>Interplay between environment, agriculture and infectious diseases of poverty: case studies in China.</a></strong><br>2015. Yang GJ, Utzinger J, Zhou XN<br>[ID: 23906612]"
      ],
      "text/plain": [
       "<IPython.core.display.HTML object>"
      ]
     },
     "metadata": {},
     "output_type": "display_data"
    },
    {
     "data": {
      "text/html": [
       "<strong>Bangladeshi backyard poultry raisers' perceptions and practices related to zoonotic transmission of avian influenza.</strong><br>2012. Sultana R, Rimi NA, Azad S, Islam MS, Khan MS, Gurley ES, Nahar N, Luby SP<br>[ID: 22337845]"
      ],
      "text/plain": [
       "<IPython.core.display.HTML object>"
      ]
     },
     "metadata": {},
     "output_type": "display_data"
    },
    {
     "data": {
      "text/html": [
       "<strong><a href=http://dx.doi.org/10.1007/s11262-004-7436-x>Genetic conservation of hemagglutinin gene of H9 influenza virus in chicken population in Mainland China.</a></strong><br>2004. Liu JH, Okazaki K, Mweene A, Shi WM, Wu QM, Su JL, Zhang GZ, Bai GR, Kida H<br>[ID: 15550773]"
      ],
      "text/plain": [
       "<IPython.core.display.HTML object>"
      ]
     },
     "metadata": {},
     "output_type": "display_data"
    },
    {
     "data": {
      "text/html": [
       "<strong><a href=http://dx.doi.org/10.1007/s11908-014-0456-3>Avian influenza: recent epidemiology, travel-related risk, and management.</a></strong><br>2015. Lazarus R, Lim PL<br>[ID: 25475382]"
      ],
      "text/plain": [
       "<IPython.core.display.HTML object>"
      ]
     },
     "metadata": {},
     "output_type": "display_data"
    },
    {
     "data": {
      "text/html": [
       "<strong>Emergency surveillance for novel influenza A(H7N9) virus in domestic poultry, feral pigeons and other wild birds in Bhutan.</strong><br>2015. Tenzin T, Tenzin S, Tshering D, Lhamo K, Rai PB, Dahal N, Dukpa K<br>[ID: 27044154]"
      ],
      "text/plain": [
       "<IPython.core.display.HTML object>"
      ]
     },
     "metadata": {},
     "output_type": "display_data"
    },
    {
     "data": {
      "text/html": [
       "<strong><a href=http://dx.doi.org/10.1016/j.vaccine.2016.03.037>Analysis of the immunogenicity and bioactivities of a split influenza A/H7N9 vaccine mixed with MF59 adjuvant in BALB/c mice.</a></strong><br>2016. Ou H, Yao H, Yao W, Wu N, Wu X, Han C, Cheng L, Chen K, Chen H, Li L<br>[ID: 27013436]"
      ],
      "text/plain": [
       "<IPython.core.display.HTML object>"
      ]
     },
     "metadata": {},
     "output_type": "display_data"
    },
    {
     "data": {
      "text/html": [
       "<strong><a href=http://dx.doi.org/10.1371/journal.pone.0182683>Addition of αGal HyperAcute™ technology to recombinant avian influenza vaccines induces strong low-dose antibody responses.</a></strong><br>2017. Chen WA, Zhang J, Hall KM, Martin CB, Kisselev S, Dasen EJ, Vahanian NN, Link CJ, Martin BK<br>[ID: 28787006]"
      ],
      "text/plain": [
       "<IPython.core.display.HTML object>"
      ]
     },
     "metadata": {},
     "output_type": "display_data"
    },
    {
     "data": {
      "text/html": [
       "<strong><a href=http://dx.doi.org/10.1371/journal.pone.0171564>Genetic and antigenic evolution of H9N2 subtype avian influenza virus in domestic chickens in southwestern China, 2013-2016.</a></strong><br>2017. Xia J, Cui JQ, He X, Liu YY, Yao KC, Cao SJ, Han XF, Huang Y<br>[ID: 28158271]"
      ],
      "text/plain": [
       "<IPython.core.display.HTML object>"
      ]
     },
     "metadata": {},
     "output_type": "display_data"
    },
    {
     "data": {
      "text/html": [
       "<strong><a href=http://dx.doi.org/10.1007/s11262-014-1118-0>Genetic characterization of highly pathogenic H5N1 avian influenza virus from live migratory birds in Bangladesh.</a></strong><br>2014. Parvin R, Kamal AH, Haque ME, Chowdhury EH, Giasuddin M, Islam MR, Vahlenkamp TW<br>[ID: 25256256]"
      ],
      "text/plain": [
       "<IPython.core.display.HTML object>"
      ]
     },
     "metadata": {},
     "output_type": "display_data"
    },
    {
     "data": {
      "text/html": [
       "<strong><a href=http://dx.doi.org/10.1016/j.epidem.2009.09.002>Live poultry exposure, Guangzhou, China, 2006.</a></strong><br>2009. Liao Q, Lam WT, Leung GM, Jiang C, Fielding R<br>[ID: 21352767]"
      ],
      "text/plain": [
       "<IPython.core.display.HTML object>"
      ]
     },
     "metadata": {},
     "output_type": "display_data"
    },
    {
     "data": {
      "text/html": [
       "<strong>Isolation of ortho- and paramyxoviruses from domestic poultry in Hong Kong between November 1977 and October 1978 and comparison with isolations made in the preceding two years.</strong><br>1980. Shortridge KF<br>[ID: 7414082]"
      ],
      "text/plain": [
       "<IPython.core.display.HTML object>"
      ]
     },
     "metadata": {},
     "output_type": "display_data"
    },
    {
     "data": {
      "text/html": [
       "<strong><a href=http://dx.doi.org/10.1126/science.1121586>Large-scale sequence analysis of avian influenza isolates.</a></strong><br>2006. Obenauer JC, Denson J, Mehta PK, Su X, Mukatira S, Finkelstein DB, Xu X, Wang J, Ma J, Fan Y, Rakestraw KM, Webster RG, Hoffmann E, Krauss S, Zheng J, Zhang Z, Naeve CW<br>[ID: 16439620]"
      ],
      "text/plain": [
       "<IPython.core.display.HTML object>"
      ]
     },
     "metadata": {},
     "output_type": "display_data"
    },
    {
     "data": {
      "text/html": [
       "<strong><a href=http://dx.doi.org/10.1007/s13280-016-0809-2>Economic growth, urbanization, globalization, and the risks of emerging infectious diseases in China: A review.</a></strong><br>2017. Wu T, Perrings C, Kinzig A, Collins JP, Minteer BA, Daszak P<br>[ID: 27492678]"
      ],
      "text/plain": [
       "<IPython.core.display.HTML object>"
      ]
     },
     "metadata": {},
     "output_type": "display_data"
    },
    {
     "data": {
      "text/html": [
       "<strong><a href=http://dx.doi.org/10.3201/eid2112.151152>Replication Capacity of Avian Influenza A(H9N2) Virus in Pet Birds and Mammals, Bangladesh.</a></strong><br>2015. Lenny BJ, Shanmuganatham K, Sonnberg S, Feeroz MM, Alam SM, Hasan MK, Jones-Engel L, McKenzie P, Krauss S, Webster RG, Jones JC<br>[ID: 26583371]"
      ],
      "text/plain": [
       "<IPython.core.display.HTML object>"
      ]
     },
     "metadata": {},
     "output_type": "display_data"
    },
    {
     "data": {
      "text/html": [
       "<strong><a href=http://dx.doi.org/10.1038/srep43566>Continual Antigenic Diversification in China Leads to Global Antigenic Complexity of Avian Influenza H5N1 Viruses.</a></strong><br>2017. Peng Y, Li X, Zhou H, Wu A, Dong L, Zhang Y, Gao R, Bo H, Yang L, Wang D, Lin X, Jin M, Shu Y, Jiang T<br>[ID: 28262734]"
      ],
      "text/plain": [
       "<IPython.core.display.HTML object>"
      ]
     },
     "metadata": {},
     "output_type": "display_data"
    },
    {
     "data": {
      "text/html": [
       "<strong><a href=http://dx.doi.org/10.1038/s41598-017-17806-z>Seasonal pattern of influenza activity in a subtropical city, China, 2010-2015.</a></strong><br>2017. Liu XX, Li Y, Zhu Y, Zhang J, Li X, Zhang J, Zhao K, Hu M, Qin G, Wang XL<br>[ID: 29235535]"
      ],
      "text/plain": [
       "<IPython.core.display.HTML object>"
      ]
     },
     "metadata": {},
     "output_type": "display_data"
    },
    {
     "data": {
      "text/html": [
       "<strong><a href=http://dx.doi.org/10.1007/s11262-011-0704-7>Isolation and phylogenetic analysis of avian-origin European H1N1 swine influenza viruses in Jiangsu, China.</a></strong><br>2012. Zhao G, Pan J, Gu X, Lu X, Li Q, Zhu J, Chen C, Duan Z, Xu Q, Wang X, Hu S, Liu W, Peng D, Liu X, Wang X, Liu X<br>[ID: 22198611]"
      ],
      "text/plain": [
       "<IPython.core.display.HTML object>"
      ]
     },
     "metadata": {},
     "output_type": "display_data"
    },
    {
     "data": {
      "text/html": [
       "<strong><a href=http://dx.doi.org/10.1080/0307-9450310001596728>H9N2 influenza viruses prevalent in poultry in China are phylogenetically distinct from A/quail/Hong Kong/G1/97 presumed to be the donor of the internal protein genes of the H5N1 Hong Kong/97 virus.</a></strong><br>2003. Liu J, Okazaki K, Ozaki H, Sakoda Y, Wu Q, Chen F, Kida H<br>[ID: 14522712]"
      ],
      "text/plain": [
       "<IPython.core.display.HTML object>"
      ]
     },
     "metadata": {},
     "output_type": "display_data"
    },
    {
     "data": {
      "text/html": [
       "<strong><a href=http://dx.doi.org/10.1038/nature14348>Dissemination, divergence and establishment of H7N9 influenza viruses in China.</a></strong><br>2015. Lam TT, Zhou B, Wang J, Chai Y, Shen Y, Chen X, Ma C, Hong W, Chen Y, Zhang Y, Duan L, Chen P, Jiang J, Zhang Y, Li L, Poon LL, Webby RJ, Smith DK, Leung GM, Peiris JS, ...<br>[ID: 25762140]"
      ],
      "text/plain": [
       "<IPython.core.display.HTML object>"
      ]
     },
     "metadata": {},
     "output_type": "display_data"
    },
    {
     "data": {
      "text/html": [
       "<strong><a href=http://dx.doi.org/10.1128/genomeA.00891-13>Complete Genome Sequence of an H12N8 Avian Influenza Virus Isolated from Wild Bird Feces in Hunan East Dongting Lake National Nature Reserve.</a></strong><br>2013. Zhang H, Li Z, Yang H, Liu Y, Li F, Wang L, Li X, Zhu Y, Cai Y, Bai Z, Yi F, Shu Y<br>[ID: 24158557]"
      ],
      "text/plain": [
       "<IPython.core.display.HTML object>"
      ]
     },
     "metadata": {},
     "output_type": "display_data"
    },
    {
     "data": {
      "text/html": [
       "<strong><a href=http://dx.doi.org/10.1016/j.vetmic.2010.11.008>Genetic diversity of H9N2 influenza viruses from pigs in China: a potential threat to human health?</a></strong><br>2011. Yu H, Zhou YJ, Li GX, Ma JH, Yan LP, Wang B, Yang FR, Huang M, Tong GZ<br>[ID: 21115230]"
      ],
      "text/plain": [
       "<IPython.core.display.HTML object>"
      ]
     },
     "metadata": {},
     "output_type": "display_data"
    },
    {
     "data": {
      "text/html": [
       "<strong>Efficacy of equine influenza vaccines for protection against A/Equine/Jilin/89 (H3N8)--a new equine influenza virus.</strong><br>1993. Webster RG, Thomas TL<br>[ID: 8212831]"
      ],
      "text/plain": [
       "<IPython.core.display.HTML object>"
      ]
     },
     "metadata": {},
     "output_type": "display_data"
    },
    {
     "data": {
      "text/html": [
       "<strong><a href=http://dx.doi.org/10.1038/cr.2017.129>H7N9 virulent mutants detected in chickens in China pose an increased threat to humans.</a></strong><br>2017. Shi J, Deng G, Kong H, Gu C, Ma S, Yin X, Zeng X, Cui P, Chen Y, Yang H, Wan X, Wang X, Liu L, Chen P, Jiang Y, Liu J, Guan Y, Suzuki Y, Li M, Qu Z, ...<br>[ID: 29151586]"
      ],
      "text/plain": [
       "<IPython.core.display.HTML object>"
      ]
     },
     "metadata": {},
     "output_type": "display_data"
    },
    {
     "data": {
      "text/html": [
       "<strong><a href=http://dx.doi.org/10.1016/j.gene.2014.08.062>Global gene expression changes in human peripheral blood after H7N9 infection.</a></strong><br>2014. Mei B, Ding X, Xu HZ, Wang MT<br>[ID: 25192803]"
      ],
      "text/plain": [
       "<IPython.core.display.HTML object>"
      ]
     },
     "metadata": {},
     "output_type": "display_data"
    },
    {
     "data": {
      "text/html": [
       "<strong>Measures to combat H7N9 virus infection in China: live poultry purchasing habits, poultry handling, and living conditions increase the risk of exposure to contaminated environments.</strong><br>2013. Song P, Xia J, Gao J, Xu L, Huang Y, Yao L, Tang W<br>[ID: 24056166]"
      ],
      "text/plain": [
       "<IPython.core.display.HTML object>"
      ]
     },
     "metadata": {},
     "output_type": "display_data"
    },
    {
     "data": {
      "text/html": [
       "<strong><a href=http://dx.doi.org/10.1016/j.meegid.2012.11.018>Avian-origin H3N2 canine influenza virus circulating in farmed dogs in Guangdong, China.</a></strong><br>2013. Su S, Li HT, Zhao FR, Chen JD, Xie JX, Chen ZM, Huang Z, Hu YM, Zhang MZ, Tan LK, Zhang GH, Li SJ<br>[ID: 23261544]"
      ],
      "text/plain": [
       "<IPython.core.display.HTML object>"
      ]
     },
     "metadata": {},
     "output_type": "display_data"
    },
    {
     "data": {
      "text/html": [
       "<strong><a href=http://dx.doi.org/10.1377/hlthaff.2010.0606>Gaps remain in China's ability to detect emerging infectious diseases despite advances since the onset of SARS and avian flu.</a></strong><br>2011. Feng Z, Li W, Varma JK<br>[ID: 21209448]"
      ],
      "text/plain": [
       "<IPython.core.display.HTML object>"
      ]
     },
     "metadata": {},
     "output_type": "display_data"
    },
    {
     "data": {
      "text/html": [
       "<strong><a href=http://dx.doi.org/10.1371/journal.pone.0017919>The seroprevalence of pandemic influenza H1N1 (2009) virus in China.</a></strong><br>2011. Xu C, Bai T, Iuliano AD, Wang M, Yang L, Wen L, Zeng Y, Li X, Chen T, Wang W, Hu Y, Yang L, Li Z, Zou S, Li D, Wang S, Feng Z, Zhang Y, Yu H, Yang W, ...<br>[ID: 21533034]"
      ],
      "text/plain": [
       "<IPython.core.display.HTML object>"
      ]
     },
     "metadata": {},
     "output_type": "display_data"
    },
    {
     "data": {
      "text/html": [
       "<strong><a href=http://dx.doi.org/10.1016/j.compbiolchem.2015.08.003>H7N9 influenza outbreak in China 2013: In silico analyses of conserved segments of the hemagglutinin as a basis for the selection of peptide vaccine targets.</a></strong><br>2015. Sarkar T, Das S, De A, Nandy P, Chattopadhyay S, Chawla-Sarkar M, Nandy A<br>[ID: 26364271]"
      ],
      "text/plain": [
       "<IPython.core.display.HTML object>"
      ]
     },
     "metadata": {},
     "output_type": "display_data"
    },
    {
     "data": {
      "text/html": [
       "<strong><a href=http://dx.doi.org/10.1186/s12916-014-0205-3>Antibodies against H10N8 avian influenza virus among animal workers in Guangdong Province before November 30, 2013, when the first human H10N8 case was recognized.</a></strong><br>2014. Qi W, Su S, Xiao C, Zhou P, Li H, Ke C, Gray GC, Zhang G, Liao M<br>[ID: 25348464]"
      ],
      "text/plain": [
       "<IPython.core.display.HTML object>"
      ]
     },
     "metadata": {},
     "output_type": "display_data"
    },
    {
     "data": {
      "text/html": [
       "<strong>[Severe acute respiratory syndrome and avian flu].</strong><br>2004. Eiros Bouza JM<br>[ID: 15563119]"
      ],
      "text/plain": [
       "<IPython.core.display.HTML object>"
      ]
     },
     "metadata": {},
     "output_type": "display_data"
    },
    {
     "data": {
      "text/html": [
       "<strong>Genetic and clinical assessment of 2009 pandemic influenza in southern China.</strong><br>2011. Farooqui A, Lei Y, Wang P, Huang J, Lin J, Li G, Leon AJ, Zhao Z, Kelvin DJ<br>[ID: 21997938]"
      ],
      "text/plain": [
       "<IPython.core.display.HTML object>"
      ]
     },
     "metadata": {},
     "output_type": "display_data"
    },
    {
     "data": {
      "text/html": [
       "<strong><a href=http://dx.doi.org/10.1038/s41598-017-02019-1>Both haemagglutinin-specific antibody and T cell responses induced by a chimpanzee adenoviral vaccine confer protection against influenza H7N9 viral challenge.</a></strong><br>2017. Wang X, Fu W, Yuan S, Yang X, Song Y, Liu L, Chi Y, Cheng T, Xing M, Zhang Y, Zhang C, Yang Y, Zhu C, Zhang X, Xiong S, Xu J, Zhou D<br>[ID: 28500340]"
      ],
      "text/plain": [
       "<IPython.core.display.HTML object>"
      ]
     },
     "metadata": {},
     "output_type": "display_data"
    },
    {
     "data": {
      "text/html": [
       "<strong><a href=http://dx.doi.org/10.1039/b910243d>Onsite infectious agents and toxins monitoring in 12 May Sichuan earthquake affected areas.</a></strong><br>2009. Yao M, Zhu T, Li K, Dong S, Wu Y, Qiu X, Jiang B, Chen L, Zhen S<br>[ID: 19890556]"
      ],
      "text/plain": [
       "<IPython.core.display.HTML object>"
      ]
     },
     "metadata": {},
     "output_type": "display_data"
    },
    {
     "data": {
      "text/html": [
       "<strong><a href=http://dx.doi.org/10.3934/mbe.2017058>Effects of isolation and slaughter strategies in different species on emerging zoonoses.</a></strong><br>2017. Cui JA, Chen F<br>[ID: 29161853]"
      ],
      "text/plain": [
       "<IPython.core.display.HTML object>"
      ]
     },
     "metadata": {},
     "output_type": "display_data"
    },
    {
     "data": {
      "text/html": [
       "<strong><a href=http://dx.doi.org/10.1016/j.meegid.2018.08.028>Codon usage characteristics of PB2 gene in influenza A H7N9 virus from different host species.</a></strong><br>2018. Gun L, Haixian P, Yumiao R, Han T, Jingqi L, Liguang Z<br>[ID: 30179716]"
      ],
      "text/plain": [
       "<IPython.core.display.HTML object>"
      ]
     },
     "metadata": {},
     "output_type": "display_data"
    },
    {
     "data": {
      "text/html": [
       "<strong><a href=http://dx.doi.org/10.1016/j.vetmic.2017.03.005>Decreased egg production in laying hens associated with infection with genotype 3 avian hepatitis E virus strain from China.</a></strong><br>2017. Zhao Q, Liu B, Sun Y, Du T, Chen Y, Wang X, Li H, Nan Y, Zhang G, Zhou EM<br>[ID: 28619140]"
      ],
      "text/plain": [
       "<IPython.core.display.HTML object>"
      ]
     },
     "metadata": {},
     "output_type": "display_data"
    },
    {
     "data": {
      "text/html": [
       "<strong><a href=http://dx.doi.org/10.1371/journal.ppat.1004508>Genetics, receptor binding property, and transmissibility in mammals of naturally isolated H9N2 Avian Influenza viruses.</a></strong><br>2014. Li X, Shi J, Guo J, Deng G, Zhang Q, Wang J, He X, Wang K, Chen J, Li Y, Fan J, Kong H, Gu C, Guan Y, Suzuki Y, Kawaoka Y, Liu L, Jiang Y, Tian G, Li Y, ...<br>[ID: 25411973]"
      ],
      "text/plain": [
       "<IPython.core.display.HTML object>"
      ]
     },
     "metadata": {},
     "output_type": "display_data"
    },
    {
     "data": {
      "text/html": [
       "<strong><a href=http://dx.doi.org/10.1007/s00705-008-0145-3>Complete genome analysis of a highly pathogenic H5N1 influenza A virus isolated from a tiger in China.</a></strong><br>2008. Mushtaq MH, Juan H, Jiang P, Li Y, Li T, Du Y, Mukhtar MM<br>[ID: 18592132]"
      ],
      "text/plain": [
       "<IPython.core.display.HTML object>"
      ]
     },
     "metadata": {},
     "output_type": "display_data"
    },
    {
     "data": {
      "text/html": [
       "<strong>The continued pandemic threat posed by avian influenza viruses in Hong Kong.</strong><br>2002. Hatta M, Kawaoka Y<br>[ID: 12110213]"
      ],
      "text/plain": [
       "<IPython.core.display.HTML object>"
      ]
     },
     "metadata": {},
     "output_type": "display_data"
    },
    {
     "data": {
      "text/html": [
       "<strong><a href=http://dx.doi.org/10.1007/s00705-012-1423-7>Antigenic and genetic characterization of a European avian-like H1N1 swine influenza virus from a boy in China in 2011.</a></strong><br>2013. Qi X, Cui L, Jiao Y, Pan Y, Li X, Zu R, Huo X, Wu B, Tang F, Song Y, Zhou M, Wang H, Cardona CJ, Xing Z<br>[ID: 22935945]"
      ],
      "text/plain": [
       "<IPython.core.display.HTML object>"
      ]
     },
     "metadata": {},
     "output_type": "display_data"
    },
    {
     "data": {
      "text/html": [
       "<strong><a href=http://dx.doi.org/10.1371/journal.pone.0189914>Event based surveillance of Middle East Respiratory Syndrome Coronavirus (MERS- CoV) in Bangladesh among pilgrims and travelers from the Middle East: An update for the period 2013-2016.</a></strong><br>2018. Muraduzzaman AKM, Khan MH, Parveen R, Sultana S, Alam AN, Akram A, Rahman M, Shirin T<br>[ID: 29337997]"
      ],
      "text/plain": [
       "<IPython.core.display.HTML object>"
      ]
     },
     "metadata": {},
     "output_type": "display_data"
    },
    {
     "data": {
      "text/html": [
       "<strong>H9N2 influenza viruses possessing H5N1-like internal genomes continue to circulate in poultry in southeastern China.</strong><br>2000. Guan Y, Shortridge KF, Krauss S, Chin PS, Dyrting KC, Ellis TM, Webster RG, Peiris M<br>[ID: 11000205]"
      ],
      "text/plain": [
       "<IPython.core.display.HTML object>"
      ]
     },
     "metadata": {},
     "output_type": "display_data"
    },
    {
     "data": {
      "text/html": [
       "<strong><a href=http://dx.doi.org/10.3390/ijerph120101020>Could a deletion in neuraminidase stalk strengthen human tropism of the novel avian influenza virus H7N9 in China, 2013?</a></strong><br>2015. Chen L, Zhu F, Xiong C, Zhang Z, Jiang L, Chen Y, Zhao G, Jiang Q<br>[ID: 25608590]"
      ],
      "text/plain": [
       "<IPython.core.display.HTML object>"
      ]
     },
     "metadata": {},
     "output_type": "display_data"
    },
    {
     "data": {
      "text/html": [
       "<strong><a href=http://dx.doi.org/10.1080/21645515.2017.1359364>Influenza vaccine effectiveness against medically attended influenza illness in Beijing, China, 2014/15 season.</a></strong><br>2017. Ma C, Pan Y, Zhang L, Zhang Y, Wu S, Sun Y, Duan W, Zhang M, Wang Q, Yang P<br>[ID: 28846480]"
      ],
      "text/plain": [
       "<IPython.core.display.HTML object>"
      ]
     },
     "metadata": {},
     "output_type": "display_data"
    },
    {
     "data": {
      "text/html": [
       "<strong><a href=http://dx.doi.org/10.3390/molecules21020150>Imidazole Alkaloids from the South China Sea Sponge Pericharax heteroraphis and Their Cytotoxic and Antiviral Activities.</a></strong><br>2016. Gong KK, Tang XL, Liu YS, Li PL, Li GQ<br>[ID: 26821008]"
      ],
      "text/plain": [
       "<IPython.core.display.HTML object>"
      ]
     },
     "metadata": {},
     "output_type": "display_data"
    },
    {
     "data": {
      "text/html": [
       "<strong><a href=http://dx.doi.org/10.1637/10709-110113-ResNote.1>A clinical survey of common avian infectious diseases in China.</a></strong><br>2014. Zhuang QY, Wang SC, Li JP, Liu D, Liu S, Jiang WM, Chen JM<br>[ID: 25055636]"
      ],
      "text/plain": [
       "<IPython.core.display.HTML object>"
      ]
     },
     "metadata": {},
     "output_type": "display_data"
    },
    {
     "data": {
      "text/html": [
       "<strong><a href=http://dx.doi.org/10.1038/ncomms7696>Global migration of influenza A viruses in swine.</a></strong><br>2015. Nelson MI, Viboud C, Vincent AL, Culhane MR, Detmer SE, Wentworth DE, Rambaut A, Suchard MA, Holmes EC, Lemey P<br>[ID: 25813399]"
      ],
      "text/plain": [
       "<IPython.core.display.HTML object>"
      ]
     },
     "metadata": {},
     "output_type": "display_data"
    },
    {
     "data": {
      "text/html": [
       "<strong>Experience in control of avian influenza in Asia.</strong><br>2007. Sims LD<br>[ID: 18411934]"
      ],
      "text/plain": [
       "<IPython.core.display.HTML object>"
      ]
     },
     "metadata": {},
     "output_type": "display_data"
    },
    {
     "data": {
      "text/html": [
       "<strong><a href=http://dx.doi.org/10.1016/j.jinf.2013.12.014>Emergence in China of human disease due to avian influenza A(H10N8)--cause for concern?</a></strong><br>2014. To KK, Tsang AK, Chan JF, Cheng VC, Chen H, Yuen KY<br>[ID: 24406432]"
      ],
      "text/plain": [
       "<IPython.core.display.HTML object>"
      ]
     },
     "metadata": {},
     "output_type": "display_data"
    },
    {
     "data": {
      "text/html": [
       "<strong><a href=http://dx.doi.org/10.1007/s11262-008-0227-z>Swine infection with H9N2 influenza viruses in China in 2004.</a></strong><br>2008. Cong YL, Wang CF, Yan CM, Peng JS, Jiang ZL, Liu JH<br>[ID: 18401696]"
      ],
      "text/plain": [
       "<IPython.core.display.HTML object>"
      ]
     },
     "metadata": {},
     "output_type": "display_data"
    },
    {
     "data": {
      "text/html": [
       "<strong><a href=http://dx.doi.org/10.1016/j.prevetmed.2008.06.018>Serosurvey of five viruses in chickens on smallholdings in Bangladesh.</a></strong><br>2009. Biswas PK, Barua H, Uddin GM, Biswas D, Ahad A, Debnath NC<br>[ID: 18723236]"
      ],
      "text/plain": [
       "<IPython.core.display.HTML object>"
      ]
     },
     "metadata": {},
     "output_type": "display_data"
    },
    {
     "data": {
      "text/html": [
       "<strong><a href=http://dx.doi.org/10.1186/s12879-015-0884-1>Characterizing the epidemiology, virology, and clinical features of influenza in China's first severe acute respiratory infection sentinel surveillance system, February 2011-October 2013.</a></strong><br>2015. Peng Z, Feng L, Carolyn GM, Wang K, Zhu G, Zhang Y, Hu J, Huang Y, Pan H, Guo N, Xing C, Chu Y, Cao Z, Yu D, Liu L, Chen Z, Zeng F, Xu W, Xiong X, Cheng X, ...<br>[ID: 25885096]"
      ],
      "text/plain": [
       "<IPython.core.display.HTML object>"
      ]
     },
     "metadata": {},
     "output_type": "display_data"
    },
    {
     "data": {
      "text/html": [
       "<strong><a href=http://dx.doi.org/10.1371/journal.pone.0082613>Avian influenza A(H7N9) virus screening in patients with fever and flu-like symptoms in a tertiary hospital in an area with confirmed cases.</a></strong><br>2013. Wu C, Huang R, Chen J, Gu Q, Zhu B, Wang J, Zhang K, Chen Q, Xiong C, Liu Y, Li J, Zhou YH, Ding Y<br>[ID: 24367529]"
      ],
      "text/plain": [
       "<IPython.core.display.HTML object>"
      ]
     },
     "metadata": {},
     "output_type": "display_data"
    },
    {
     "data": {
      "text/html": [
       "<strong><a href=http://dx.doi.org/10.1016/j.virusres.2011.11.004>Isolation and characterization of H6N1 and H9N2 avian influenza viruses from Ducks in Hanoi, Vietnam.</a></strong><br>2012. Hotta K, Takakuwa H, Le QM, Phuong SL, Murase T, Ono E, Ito T, Otsuki K, Yamashiro T<br>[ID: 22108585]"
      ],
      "text/plain": [
       "<IPython.core.display.HTML object>"
      ]
     },
     "metadata": {},
     "output_type": "display_data"
    },
    {
     "data": {
      "text/html": [
       "<strong><a href=http://dx.doi.org/10.1007/s11262-005-5849-9>Genome-sequence analysis of the pathogenic H5N1 avian influenza A virus isolated in China in 2004.</a></strong><br>2006. Zhou H, Jin M, Chen H, Huag Q, Yu Z<br>[ID: 16525739]"
      ],
      "text/plain": [
       "<IPython.core.display.HTML object>"
      ]
     },
     "metadata": {},
     "output_type": "display_data"
    },
    {
     "data": {
      "text/html": [
       "<strong>[Molecular Phylogenetic Analysis of a Highly Pathogenic H5N2 Avian Influenza Virus Isolated from Duck].</strong><br>2016. Yao Y, He B, Shao Z, Yang W, Liu W, Chen X, Ye S, Chen J<br>[ID: 30001581]"
      ],
      "text/plain": [
       "<IPython.core.display.HTML object>"
      ]
     },
     "metadata": {},
     "output_type": "display_data"
    },
    {
     "data": {
      "text/html": [
       "<strong>[Epidemiology of human infection with avian influenza A(H7N9) virus in China, 2013-2017].</strong><br>2018. Han DD, Han CX, Li LY, Wang M, Yang JH, Li M<br>[ID: 29374894]"
      ],
      "text/plain": [
       "<IPython.core.display.HTML object>"
      ]
     },
     "metadata": {},
     "output_type": "display_data"
    },
    {
     "data": {
      "text/html": [
       "<strong><a href=http://dx.doi.org/10.1371/journal.pone.0019311>Live bird markets of Bangladesh: H9N2 viruses and the near absence of highly pathogenic H5N1 influenza.</a></strong><br>2011. Negovetich NJ, Feeroz MM, Jones-Engel L, Walker D, Alam SM, Hasan K, Seiler P, Ferguson A, Friedman K, Barman S, Franks J, Turner J, Krauss S, Webby RJ, Webster RG<br>[ID: 21541296]"
      ],
      "text/plain": [
       "<IPython.core.display.HTML object>"
      ]
     },
     "metadata": {},
     "output_type": "display_data"
    },
    {
     "data": {
      "text/html": [
       "<strong><a href=http://dx.doi.org/10.1093/bioinformatics/btx203>Use of AAScatterPlot tool for monitoring the evolution of the hemagglutinin cleavage site in H9 avian influenza viruses.</a></strong><br>2017. Lee DW, Whittaker GR<br>[ID: 28383669]"
      ],
      "text/plain": [
       "<IPython.core.display.HTML object>"
      ]
     },
     "metadata": {},
     "output_type": "display_data"
    },
    {
     "data": {
      "text/html": [
       "<strong><a href=http://dx.doi.org/10.1128/JVI.79.24.15460-15466.2005>New genotype of avian influenza H5N1 viruses isolated from tree sparrows in China.</a></strong><br>2005. Kou Z, Lei FM, Yu J, Fan ZJ, Yin ZH, Jia CX, Xiong KJ, Sun YH, Zhang XW, Wu XM, Gao XB, Li TX<br>[ID: 16306617]"
      ],
      "text/plain": [
       "<IPython.core.display.HTML object>"
      ]
     },
     "metadata": {},
     "output_type": "display_data"
    },
    {
     "data": {
      "text/html": [
       "<strong><a href=http://dx.doi.org/10.1007/s11262-014-1060-1>Sequence and phylogenetic analysis of surface protein genes of emerging H9N2 influenza viruses isolated from poultry in two geographical regions of China.</a></strong><br>2014. Xue Y, Wang JL, Yan ZQ, Li GW, Chen SY, Zhang XB, Qin JP, Li HY, Chang S, Chen F, Bee YZ, Xie QM<br>[ID: 24682938]"
      ],
      "text/plain": [
       "<IPython.core.display.HTML object>"
      ]
     },
     "metadata": {},
     "output_type": "display_data"
    },
    {
     "data": {
      "text/html": [
       "<strong>Influenza A (H5N1) in Hong Kong: an overview.</strong><br>2002. Tam JS<br>[ID: 12110265]"
      ],
      "text/plain": [
       "<IPython.core.display.HTML object>"
      ]
     },
     "metadata": {},
     "output_type": "display_data"
    },
    {
     "data": {
      "text/html": [
       "<strong><a href=http://dx.doi.org/10.1016/j.virol.2005.05.010>Isolation of a genotypically unique H5N1 influenza virus from duck meat imported into Japan from China.</a></strong><br>2005. Mase M, Eto M, Tanimura N, Imai K, Tsukamoto K, Horimoto T, Kawaoka Y, Yamaguchi S<br>[ID: 15964604]"
      ],
      "text/plain": [
       "<IPython.core.display.HTML object>"
      ]
     },
     "metadata": {},
     "output_type": "display_data"
    },
    {
     "data": {
      "text/html": [
       "<strong><a href=http://dx.doi.org/10.1371/journal.pone.0111218>A cross-sectional study of avian influenza in one district of Guangzhou, 2013.</a></strong><br>2014. Zhang H, Peng C, Duan X, Shen D, Lan G, Xiao W, Tan H, Wang L, Hou J, Zhu J, He R, Zhang H, Zheng L, Yang J, Zhang Z, Zhou Z, Li W, Hu M, Zhong J, Chen Y<br>[ID: 25356738]"
      ],
      "text/plain": [
       "<IPython.core.display.HTML object>"
      ]
     },
     "metadata": {},
     "output_type": "display_data"
    },
    {
     "data": {
      "text/html": [
       "<strong><a href=http://dx.doi.org/10.1186/s12906-018-2216-7>Sheng Jiang San, a traditional multi-herb formulation, exerts anti-influenza effects in vitro and in vivo via neuraminidase inhibition and immune regulation.</a></strong><br>2018. Zhang T, Xiao M, Wong CK, Mok KC, Zhao X, Ti H, Shaw PC<br>[ID: 29739459]"
      ],
      "text/plain": [
       "<IPython.core.display.HTML object>"
      ]
     },
     "metadata": {},
     "output_type": "display_data"
    },
    {
     "data": {
      "text/html": [
       "<strong><a href=http://dx.doi.org/10.1007/s00705-015-2661-2>Phylogenetic and biological characterization of three K1203 (H5N8)-like avian influenza A virus reassortants in China in 2014.</a></strong><br>2016. Li J, Gu M, Liu D, Liu B, Jiang K, Zhong L, Liu K, Sun W, Hu J, Wang X, Hu S, Liu X, Liu X<br>[ID: 26526148]"
      ],
      "text/plain": [
       "<IPython.core.display.HTML object>"
      ]
     },
     "metadata": {},
     "output_type": "display_data"
    },
    {
     "data": {
      "text/html": [
       "<strong><a href=http://dx.doi.org/10.3201/eid2011.140556>Poultry market closures and human infection with influenza A(H7N9) virus, China, 2013-14.</a></strong><br>2014. Wu P, Jiang H, Wu JT, Chen E, He J, Zhou H, Wei L, Yang J, Yang B, Qin Y, Fang VJ, Li M, Tsang TK, Zheng J, Lau EH, Cao Y, Chai C, Zhong H, Li Z, Leung GM, ...<br>[ID: 25340354]"
      ],
      "text/plain": [
       "<IPython.core.display.HTML object>"
      ]
     },
     "metadata": {},
     "output_type": "display_data"
    },
    {
     "data": {
      "text/html": [
       "<strong><a href=http://dx.doi.org/10.1016/j.vaccine.2016.08.018>Development and approval of live attenuated influenza vaccines based on Russian master donor viruses: Process challenges and success stories.</a></strong><br>2016. Rudenko L, Yeolekar L, Kiseleva I, Isakova-Sivak I<br>[ID: 27593158]"
      ],
      "text/plain": [
       "<IPython.core.display.HTML object>"
      ]
     },
     "metadata": {},
     "output_type": "display_data"
    },
    {
     "data": {
      "text/html": [
       "<strong><a href=http://dx.doi.org/10.1128/JVI.03689-13>Role of poultry in the spread of novel H7N9 influenza virus in China.</a></strong><br>2014. Pantin-Jackwood MJ, Miller PJ, Spackman E, Swayne DE, Susta L, Costa-Hurtado M, Suarez DL<br>[ID: 24574407]"
      ],
      "text/plain": [
       "<IPython.core.display.HTML object>"
      ]
     },
     "metadata": {},
     "output_type": "display_data"
    },
    {
     "data": {
      "text/html": [
       "<strong><a href=http://dx.doi.org/10.1016/j.jtbi.2011.10.035>Campus quarantine (Fengxiao) for curbing emergent infectious diseases: lessons from mitigating A/H1N1 in Xi'an, China.</a></strong><br>2012. Tang S, Xiao Y, Yuan L, Cheke RA, Wu J<br>[ID: 22079943]"
      ],
      "text/plain": [
       "<IPython.core.display.HTML object>"
      ]
     },
     "metadata": {},
     "output_type": "display_data"
    },
    {
     "data": {
      "text/html": [
       "<strong><a href=http://dx.doi.org/10.1016/j.vaccine.2010.12.077>Acceptance of a vaccine against pandemic influenza A (H1N1) virus amongst healthcare workers in Beijing, China.</a></strong><br>2011. Seale H, Kaur R, Wang Q, Yang P, Zhang Y, Wang X, Li X, Zhang H, Zhang Z, MacIntyre CR<br>[ID: 21211593]"
      ],
      "text/plain": [
       "<IPython.core.display.HTML object>"
      ]
     },
     "metadata": {},
     "output_type": "display_data"
    },
    {
     "data": {
      "text/html": [
       "<strong><a href=http://dx.doi.org/10.1371/journal.ppat.1001308>Spatial distribution and risk factors of highly pathogenic avian influenza (HPAI) H5N1 in China.</a></strong><br>2011. Martin V, Pfeiffer DU, Zhou X, Xiao X, Prosser DJ, Guo F, Gilbert M<br>[ID: 21408202]"
      ],
      "text/plain": [
       "<IPython.core.display.HTML object>"
      ]
     },
     "metadata": {},
     "output_type": "display_data"
    },
    {
     "data": {
      "text/html": [
       "<strong><a href=http://dx.doi.org/10.1007/s00705-014-2314-x>Recombinant influenza A virus hemagglutinin HA2 subunit protects mice against influenza A(H7N9) virus infection.</a></strong><br>2015. To KK, Zhang AJ, Chan AS, Li C, Cai JP, Lau CC, Li CG, Jahan AS, Wu WL, Li L, Tsang AK, Chan KH, Chen H, Yuen KY<br>[ID: 25616843]"
      ],
      "text/plain": [
       "<IPython.core.display.HTML object>"
      ]
     },
     "metadata": {},
     "output_type": "display_data"
    },
    {
     "data": {
      "text/html": [
       "<strong><a href=http://dx.doi.org/10.1128/JVI.01189-12>Complete genome sequence of an H5N2 avian influenza virus isolated from a parrot in southern China.</a></strong><br>2012. Jiao P, Wei L, Yuan R, Gong L, Cao L, Song Y, Luo K, Ren T, Liao M<br>[ID: 22843854]"
      ],
      "text/plain": [
       "<IPython.core.display.HTML object>"
      ]
     },
     "metadata": {},
     "output_type": "display_data"
    },
    {
     "data": {
      "text/html": [
       "<strong><a href=http://dx.doi.org/10.1128/JVI.01243-12>Complete genomic sequence of an H5N1 influenza virus from a parrot in southern China.</a></strong><br>2012. Jiao P, Song Y, Yuan R, Wei L, Cao L, Luo K, Liao M<br>[ID: 22843856]"
      ],
      "text/plain": [
       "<IPython.core.display.HTML object>"
      ]
     },
     "metadata": {},
     "output_type": "display_data"
    },
    {
     "data": {
      "text/html": [
       "<strong><a href=http://dx.doi.org/10.1099/vir.0.054692-0>Mutation tryptophan to leucine at position 222 of haemagglutinin could facilitate H3N2 influenza A virus infection in dogs.</a></strong><br>2013. Yang G, Li S, Blackmon S, Ye J, Bradley KC, Cooley J, Smith D, Hanson L, Cardona C, Steinhauer DA, Webby R, Liao M, Wan XF<br>[ID: 23994833]"
      ],
      "text/plain": [
       "<IPython.core.display.HTML object>"
      ]
     },
     "metadata": {},
     "output_type": "display_data"
    },
    {
     "data": {
      "text/html": [
       "<strong><a href=http://dx.doi.org/10.1637/7473-111605R.1>Development and evaluation of a DAS-ELISA for rapid detection of avian influenza viruses.</a></strong><br>2006. Zhang A, Jin M, Liu Ff, Guo X, Hu Q, Han L, Tan Y, Chen H<br>[ID: 17039829]"
      ],
      "text/plain": [
       "<IPython.core.display.HTML object>"
      ]
     },
     "metadata": {},
     "output_type": "display_data"
    },
    {
     "data": {
      "text/html": [
       "<strong><a href=http://dx.doi.org/10.3389/fmicb.2016.00635>Pathogenicity, Transmission and Antigenic Variation of H5N1 Highly Pathogenic Avian Influenza Viruses.</a></strong><br>2016. Jiao P, Song H, Liu X, Song Y, Cui J, Wu S, Ye J, Qu N, Zhang T, Liao M<br>[ID: 27199961]"
      ],
      "text/plain": [
       "<IPython.core.display.HTML object>"
      ]
     },
     "metadata": {},
     "output_type": "display_data"
    },
    {
     "data": {
      "text/html": [
       "<strong><a href=http://dx.doi.org/10.3201/eid2008.131821>Human exposure to live poultry and psychological and behavioral responses to influenza A(H7N9), China.</a></strong><br>2014. Wang L, Cowling BJ, Wu P, Yu J, Li F, Zeng L, Wu JT, Li Z, Leung GM, Yu H<br>[ID: 25076186]"
      ],
      "text/plain": [
       "<IPython.core.display.HTML object>"
      ]
     },
     "metadata": {},
     "output_type": "display_data"
    },
    {
     "data": {
      "text/html": [
       "<strong><a href=http://dx.doi.org/10.1007/s00484-016-1284-y>Different responses of influenza epidemic to weather factors among Shanghai, Hong Kong, and British Columbia.</a></strong><br>2017. Wang XL, Yang L, He DH, Chiu AP, Chan KH, Chan KP, Zhou M, Wong CM, Guo Q, Hu W<br>[ID: 28180957]"
      ],
      "text/plain": [
       "<IPython.core.display.HTML object>"
      ]
     },
     "metadata": {},
     "output_type": "display_data"
    },
    {
     "data": {
      "text/html": [
       "<strong><a href=http://dx.doi.org/10.1038/s41598-018-27515-w>Avian influenza surveillance in domestic waterfowl and environment of live bird markets in Bangladesh, 2007-2012.</a></strong><br>2018. Khan SU, Gurley ES, Gerloff N, Rahman MZ, Simpson N, Rahman M, Haider N, Chowdhury S, Balish A, Zaman RU, Nasreen S, Chandra Das B, Azziz-Baumgartner E, Sturm-Ramirez K, Davis CT, Donis RO, Luby SP<br>[ID: 29925854]"
      ],
      "text/plain": [
       "<IPython.core.display.HTML object>"
      ]
     },
     "metadata": {},
     "output_type": "display_data"
    },
    {
     "data": {
      "text/html": [
       "<strong><a href=http://dx.doi.org/10.1136/bmjopen-2016-011038>Temporal and long-term trend analysis of class C notifiable diseases in China from 2009 to 2014.</a></strong><br>2016. Zhang X, Hou F, Qiao Z, Li X, Zhou L, Liu Y, Zhang T<br>[ID: 27797981]"
      ],
      "text/plain": [
       "<IPython.core.display.HTML object>"
      ]
     },
     "metadata": {},
     "output_type": "display_data"
    },
    {
     "data": {
      "text/html": [
       "<strong><a href=http://dx.doi.org/10.1016/j.jviromet.2018.06.010>Development of a real time reverse transcription loop-mediated isothermal amplification method (RT-LAMP) for detection of a novel swine acute diarrhea syndrome coronavirus (SADS-CoV).</a></strong><br>2018. Wang H, Cong F, Zeng F, Lian Y, Liu X, Luo M, Guo P, Ma J<br>[ID: 29936095]"
      ],
      "text/plain": [
       "<IPython.core.display.HTML object>"
      ]
     },
     "metadata": {},
     "output_type": "display_data"
    },
    {
     "data": {
      "text/html": [
       "<strong><a href=http://dx.doi.org/10.1007/s11262-013-0978-z>Genetic characterization of canine influenza A virus (H3N2) in Thailand.</a></strong><br>2014. Bunpapong N, Nonthabenjawan N, Chaiwong S, Tangwangvivat R, Boonyapisitsopa S, Jairak W, Tuanudom R, Prakairungnamthip D, Suradhat S, Thanawongnuwech R, Amonsin A<br>[ID: 24101341]"
      ],
      "text/plain": [
       "<IPython.core.display.HTML object>"
      ]
     },
     "metadata": {},
     "output_type": "display_data"
    },
    {
     "data": {
      "text/html": [
       "<strong>Trends in seroprevalence of antibodies to pandemic influenza H1N1 (2009) virus among patients seeking care in China.</strong><br>2012. Xu C, Bai T, Wang M, Chen T, Wang L, Chen M, Zeng Y, Fan Ch, Yuan F, Shi J, Sun S, Li D, Wang S, Feng Z, Zhang Y, Yu H, Yang W, Wang Y, Shu Y<br>[ID: 23237089]"
      ],
      "text/plain": [
       "<IPython.core.display.HTML object>"
      ]
     },
     "metadata": {},
     "output_type": "display_data"
    },
    {
     "data": {
      "text/html": [
       "<strong>Is a Mass Prevention and Control Program for Pandemic (H1N1) 2009 Good Value for Money? Evidence from the Chinese Experience.</strong><br>2012. Wang B, Xie J, Fang P<br>[ID: 23304674]"
      ],
      "text/plain": [
       "<IPython.core.display.HTML object>"
      ]
     },
     "metadata": {},
     "output_type": "display_data"
    },
    {
     "data": {
      "text/html": [
       "<strong><a href=http://dx.doi.org/10.3390/v6041525>Comprehensive characterization of serum microRNA profile in response to the emerging avian influenza A (H7N9) virus infection in humans.</a></strong><br>2014. Zhu Z, Qi Y, Ge A, Zhu Y, Xu K, Ji H, Shi Z, Cui L, Zhou M<br>[ID: 24699363]"
      ],
      "text/plain": [
       "<IPython.core.display.HTML object>"
      ]
     },
     "metadata": {},
     "output_type": "display_data"
    },
    {
     "data": {
      "text/html": [
       "<strong><a href=http://dx.doi.org/10.1016/j.biologicals.2009.12.004>Application of deglycosylation and electrophoresis to the quantification of influenza viral hemagglutinins facilitating the production of 2009 pandemic influenza (H1N1) vaccines at multiple manufacturing sites in China.</a></strong><br>2010. Li C, Shao M, Cui X, Song Y, Li J, Yuan L, Fang H, Liang Z, Cyr TD, Li F, Li X, Wang J<br>[ID: 20074976]"
      ],
      "text/plain": [
       "<IPython.core.display.HTML object>"
      ]
     },
     "metadata": {},
     "output_type": "display_data"
    },
    {
     "data": {
      "text/html": [
       "<strong><a href=http://dx.doi.org/10.1038/cr.2017.154>Avian influenza H7N9 viruses: a rare second warning.</a></strong><br>2018. Subbarao K<br>[ID: 29192677]"
      ],
      "text/plain": [
       "<IPython.core.display.HTML object>"
      ]
     },
     "metadata": {},
     "output_type": "display_data"
    },
    {
     "data": {
      "text/html": [
       "<strong><a href=http://dx.doi.org/10.1183/13993003.01710-2016>Tropism and innate host responses of influenza A/H5N6 virus: an analysis of <i>ex vivo</i> and <i>in vitro</i> cultures of the human respiratory tract.</a></strong><br>2017. Hui KP, Chan LL, Kuok DI, Mok CK, Yang ZF, Li RF, Luk GS, Lee EF, Lai JC, Yen HL, Zhu H, Guan Y, Nicholls JM, Peiris JS, Chan MC<br>[ID: 28275173]"
      ],
      "text/plain": [
       "<IPython.core.display.HTML object>"
      ]
     },
     "metadata": {},
     "output_type": "display_data"
    },
    {
     "data": {
      "text/html": [
       "<strong><a href=http://dx.doi.org/10.1099/vir.0.069799-0>Combinations of oseltamivir and fibrates prolong the mean survival time of mice infected with the lethal H7N9 influenza virus.</a></strong><br>2015. Xu L, Bao L, Li F, Gu S, Lv Q, Yuan J, Xu Y, Zhu H, Deng W, Li Y, Yao Y, Yu P, Gao Z, Qin C<br>[ID: 25274854]"
      ],
      "text/plain": [
       "<IPython.core.display.HTML object>"
      ]
     },
     "metadata": {},
     "output_type": "display_data"
    },
    {
     "data": {
      "text/html": [
       "<strong>Identification of naturally occurring temperature-sensitive strains of influenza A virus and location of their genetic lesions.</strong><br>1982. Zhang YM, Tian SF, Zhu JM<br>[ID: 7100902]"
      ],
      "text/plain": [
       "<IPython.core.display.HTML object>"
      ]
     },
     "metadata": {},
     "output_type": "display_data"
    },
    {
     "data": {
      "text/html": [
       "<strong><a href=http://dx.doi.org/10.1128/JVI.79.18.12058-12064.2005>Molecular basis of replication of duck H5N1 influenza viruses in a mammalian mouse model.</a></strong><br>2005. Li Z, Chen H, Jiao P, Deng G, Tian G, Li Y, Hoffmann E, Webster RG, Matsuoka Y, Yu K<br>[ID: 16140781]"
      ],
      "text/plain": [
       "<IPython.core.display.HTML object>"
      ]
     },
     "metadata": {},
     "output_type": "display_data"
    },
    {
     "data": {
      "text/html": [
       "<strong><a href=http://dx.doi.org/10.3389/fimmu.2017.00326>Mucosal and Systemic Immune Responses to Influenza H7N9 Antigen HA1-2 Co-Delivered Intranasally with Flagellin or Polyethyleneimine in Mice and Chickens.</a></strong><br>2017. Song L, Xiong D, Song H, Wu L, Zhang M, Kang X, Pan Z, Jiao X<br>[ID: 28424686]"
      ],
      "text/plain": [
       "<IPython.core.display.HTML object>"
      ]
     },
     "metadata": {},
     "output_type": "display_data"
    },
    {
     "data": {
      "text/html": [
       "<strong>[Generation of A/Chicken/Shanghai/F/98 (H9N2) avian influenza virus from eight plasmids].</strong><br>2005. Shi HY, Lu JH, Chen SJ, Sun L, Liu XF<br>[ID: 15989229]"
      ],
      "text/plain": [
       "<IPython.core.display.HTML object>"
      ]
     },
     "metadata": {},
     "output_type": "display_data"
    },
    {
     "data": {
      "text/html": [
       "<strong>Influenza infection in humans and pigs in southeastern China.</strong><br>1996. Zhou N, He S, Zhang T, Zou W, Shu L, Sharp GB, Webster RG<br>[ID: 8645101]"
      ],
      "text/plain": [
       "<IPython.core.display.HTML object>"
      ]
     },
     "metadata": {},
     "output_type": "display_data"
    },
    {
     "data": {
      "text/html": [
       "<strong><a href=http://dx.doi.org/10.1128/mBio.00445-13>H7N9 avian influenza A virus and the perpetual challenge of potential human pandemicity.</a></strong><br>2013. Morens DM, Taubenberger JK, Fauci AS<br>[ID: 23839219]"
      ],
      "text/plain": [
       "<IPython.core.display.HTML object>"
      ]
     },
     "metadata": {},
     "output_type": "display_data"
    },
    {
     "data": {
      "text/html": [
       "<strong><a href=http://dx.doi.org/10.1371/journal.pone.0117108>Antibodies to antigenic site A of influenza H7 hemagglutinin provide protection against H7N9 challenge.</a></strong><br>2015. Schmeisser F, Vasudevan A, Verma S, Wang W, Alvarado E, Weiss C, Atukorale V, Meseda C, Weir JP<br>[ID: 25629172]"
      ],
      "text/plain": [
       "<IPython.core.display.HTML object>"
      ]
     },
     "metadata": {},
     "output_type": "display_data"
    },
    {
     "data": {
      "text/html": [
       "<strong><a href=http://dx.doi.org/10.1186/s40249-016-0144-7>Surveillance and response systems for elimination of tropical diseases: summary of a thematic series in Infectious Diseases of Poverty.</a></strong><br>2016. Zhou X, Yap P, Tanner M, Bergquist R, Utzinger J, Zhou XN<br>[ID: 27179509]"
      ],
      "text/plain": [
       "<IPython.core.display.HTML object>"
      ]
     },
     "metadata": {},
     "output_type": "display_data"
    },
    {
     "data": {
      "text/html": [
       "<strong><a href=http://dx.doi.org/10.1016/j.antiviral.2012.12.013>Neuraminidase inhibitor susceptibility testing of influenza type B viruses in China during 2010 and 2011 identifies viruses with reduced susceptibility to oseltamivir and zanamivir.</a></strong><br>2013. Wang D, Sleeman K, Huang W, Nguyen HT, Levine M, Cheng Y, Li X, Tan M, Xing X, Xu X, Klimov AI, Gubareva LV, Shu Y<br>[ID: 23267831]"
      ],
      "text/plain": [
       "<IPython.core.display.HTML object>"
      ]
     },
     "metadata": {},
     "output_type": "display_data"
    },
    {
     "data": {
      "text/html": [
       "<strong><a href=http://dx.doi.org/10.1371/journal.pone.0056157>Anticipating the prevalence of avian influenza subtypes H9 and H5 in live-bird markets.</a></strong><br>2013. Pepin KM, Wang J, Webb CT, Hoeting JA, Poss M, Hudson PJ, Hong W, Zhu H, Guan Y, Riley S<br>[ID: 23409145]"
      ],
      "text/plain": [
       "<IPython.core.display.HTML object>"
      ]
     },
     "metadata": {},
     "output_type": "display_data"
    },
    {
     "data": {
      "text/html": [
       "<strong>Genetic structure and genetic variation of influenza viruses.</strong><br>1980. Palese P, Racaniello VR, Desselberger U, Young J, Baez M<br>[ID: 6103546]"
      ],
      "text/plain": [
       "<IPython.core.display.HTML object>"
      ]
     },
     "metadata": {},
     "output_type": "display_data"
    },
    {
     "data": {
      "text/html": [
       "<strong><a href=http://dx.doi.org/10.1111/irv.12254>Economic burden of influenza-associated hospitalizations and outpatient visits in Bangladesh during 2010.</a></strong><br>2014. Bhuiyan MU, Luby SP, Alamgir NI, Homaira N, Mamun AA, Khan JA, Abedin J, Sturm-Ramirez K, Gurley ES, Zaman RU, Alamgir AS, Rahman M, Widdowson MA, Azziz-Baumgartner E<br>[ID: 24750586]"
      ],
      "text/plain": [
       "<IPython.core.display.HTML object>"
      ]
     },
     "metadata": {},
     "output_type": "display_data"
    },
    {
     "data": {
      "text/html": [
       "<strong><a href=http://dx.doi.org/10.1016/j.jiac.2018.05.003>Neuraminidase inhibitor susceptibility profile of human influenza viruses during the 2016-2017 influenza season in Mainland China.</a></strong><br>2018. Huang W, Cheng Y, Li X, Tan M, Wei H, Zhao X, Xiao N, Dong J, Wang D<br>[ID: 29866491]"
      ],
      "text/plain": [
       "<IPython.core.display.HTML object>"
      ]
     },
     "metadata": {},
     "output_type": "display_data"
    },
    {
     "data": {
      "text/html": [
       "<strong><a href=http://dx.doi.org/10.1159/000319930>Epidemiological and clinical features of 308 hospitalized patients with novel 2009 influenza A (H1N1) virus infection in China during the first pandemic wave.</a></strong><br>2011. Zhang G, Xia Z, Liu Y, Li X, Tan X, Tian Y, Liang L, Nie G, Zhou B<br>[ID: 21051903]"
      ],
      "text/plain": [
       "<IPython.core.display.HTML object>"
      ]
     },
     "metadata": {},
     "output_type": "display_data"
    },
    {
     "data": {
      "text/html": [
       "<strong>Emergence of avian H1N1 influenza viruses in pigs in China.</strong><br>1996. Guan Y, Shortridge KF, Krauss S, Li PH, Kawaoka Y, Webster RG<br>[ID: 8892928]"
      ],
      "text/plain": [
       "<IPython.core.display.HTML object>"
      ]
     },
     "metadata": {},
     "output_type": "display_data"
    },
    {
     "data": {
      "text/html": [
       "<strong><a href=http://dx.doi.org/10.1371/journal.pone.0197600>Detection of influenza A virus in aerosols of vaccinated and non-vaccinated pigs in a warm environment.</a></strong><br>2018. Neira V, Allerson M, Corzo C, Culhane M, Rendahl A, Torremorell M<br>[ID: 29782527]"
      ],
      "text/plain": [
       "<IPython.core.display.HTML object>"
      ]
     },
     "metadata": {},
     "output_type": "display_data"
    },
    {
     "data": {
      "text/html": [
       "<strong><a href=http://dx.doi.org/10.1139/w10-097>Production and characterization of monoclonal antibodies against the hemagglutinin of H5N1 and antigenic investigation of avian influenza H5N1 viruses isolated from China.</a></strong><br>2011. Wei J, Yan B, Chen Z, Li T, Deng F, Wang H, Hu Z<br>[ID: 21217796]"
      ],
      "text/plain": [
       "<IPython.core.display.HTML object>"
      ]
     },
     "metadata": {},
     "output_type": "display_data"
    },
    {
     "data": {
      "text/html": [
       "<strong>Influenza surveillance in Hong Kong: results of a trial Physician Sentinel Programme.</strong><br>1999. Fitzner KA, McGhee SM, Hedley AJ, Shortridge KF<br>[ID: 11821575]"
      ],
      "text/plain": [
       "<IPython.core.display.HTML object>"
      ]
     },
     "metadata": {},
     "output_type": "display_data"
    },
    {
     "data": {
      "text/html": [
       "<strong>Sequence and phylogenetic analyses of five low pathogenic avian influenza H5N2 viruses isolated in China.</strong><br>2015. Yang S, Chen G, Sun J, Li F, Hua HC<br>[ID: 26104330]"
      ],
      "text/plain": [
       "<IPython.core.display.HTML object>"
      ]
     },
     "metadata": {},
     "output_type": "display_data"
    },
    {
     "data": {
      "text/html": [
       "<strong>The risk of avian influenza in birds in Australia.</strong><br>2006. Arzey G<br>[ID: 17136139]"
      ],
      "text/plain": [
       "<IPython.core.display.HTML object>"
      ]
     },
     "metadata": {},
     "output_type": "display_data"
    },
    {
     "data": {
      "text/html": [
       "<strong><a href=http://dx.doi.org/10.1097/INF.0000000000002178>Influenza-Associated Hospitalization in Children Younger Than Five Years of Age in Suzhou, China, 2011- 2016.</a></strong><br>2018. Yu J, Zhang X, Shan W, Gao J, Hua J, Tian J, Ding Y, Zhang J, Chen L, Song Y, Zhou S, Iuliano AD, Greene CM, Zhang T, Zhao G<br>[ID: 30153228]"
      ],
      "text/plain": [
       "<IPython.core.display.HTML object>"
      ]
     },
     "metadata": {},
     "output_type": "display_data"
    },
    {
     "data": {
      "text/html": [
       "<strong><a href=http://dx.doi.org/10.1002/jmv.24963>Etiology of community-acquired pneumonia in 1500 hospitalized children.</a></strong><br>2018. Oumei H, Xuefeng W, Jianping L, Kunling S, Rong M, Zhenze C, Li D, Huimin Y, Lining W, Zhaolan L, Xinmin L, Hua X, Zhiyan J, Yanning L, Yan H, Baoqing Z, Xiaochun F, Chunhui H, Yonghong J, Xue Z, ...<br>[ID: 28975629]"
      ],
      "text/plain": [
       "<IPython.core.display.HTML object>"
      ]
     },
     "metadata": {},
     "output_type": "display_data"
    },
    {
     "data": {
      "text/html": [
       "<strong><a href=http://dx.doi.org/10.1016/j.jep.2015.07.019>Anti-influenza virus effects of crude phenylethanoid glycosides isolated from ligustrum purpurascens via inducing endogenous interferon-γ.</a></strong><br>2016. Hu XP, Shao MM, Song X, Wu XL, Qi L, Zheng K, Fan L, Liao CH, Li CY, He J, Hu YJ, Wu HQ, Li SH, Zhang J, Zhang FX, He ZD<br>[ID: 26190352]"
      ],
      "text/plain": [
       "<IPython.core.display.HTML object>"
      ]
     },
     "metadata": {},
     "output_type": "display_data"
    },
    {
     "data": {
      "text/html": [
       "<strong><a href=http://dx.doi.org/10.1097/INF.0b013e318257172d>Childhood influenza in the outpatient setting in Shanghai, China.</a></strong><br>2012. Ge Y, Cai J, Wang X, Yao W, Shen J, Zhu Q, Wang X, Zeng M<br>[ID: 22481425]"
      ],
      "text/plain": [
       "<IPython.core.display.HTML object>"
      ]
     },
     "metadata": {},
     "output_type": "display_data"
    },
    {
     "data": {
      "text/html": [
       "<strong><a href=http://dx.doi.org/10.1128/JVI.05262-11>Reassortment events among swine influenza A viruses in China: implications for the origin of the 2009 influenza pandemic.</a></strong><br>2011. Lam TT, Zhu H, Wang J, Smith DK, Holmes EC, Webster RG, Webby R, Peiris JM, Guan Y<br>[ID: 21795347]"
      ],
      "text/plain": [
       "<IPython.core.display.HTML object>"
      ]
     },
     "metadata": {},
     "output_type": "display_data"
    },
    {
     "data": {
      "text/html": [
       "<strong><a href=http://dx.doi.org/10.1128/JVI.01141-16>A Single Mutation at Position 190 in Hemagglutinin Enhances Binding Affinity for Human Type Sialic Acid Receptor and Replication of H9N2 Avian Influenza Virus in Mice.</a></strong><br>2016. Teng Q, Xu D, Shen W, Liu Q, Rong G, Li X, Yan L, Yang J, Chen H, Yu H, Ma W, Li Z<br>[ID: 27558420]"
      ],
      "text/plain": [
       "<IPython.core.display.HTML object>"
      ]
     },
     "metadata": {},
     "output_type": "display_data"
    },
    {
     "data": {
      "text/html": [
       "<strong><a href=http://dx.doi.org/10.1186/1472-6963-10-82>The epidemiology of hospitalized influenza in children, a two year population-based study in the People's Republic of China.</a></strong><br>2010. Ji W, Zhang T, Zhang X, Jiang L, Ding Y, Hao C, Ju L, Wang Y, Jiang Q, Steinhoff M, Black S, Zhao G<br>[ID: 20353557]"
      ],
      "text/plain": [
       "<IPython.core.display.HTML object>"
      ]
     },
     "metadata": {},
     "output_type": "display_data"
    },
    {
     "data": {
      "text/html": [
       "<strong><a href=http://dx.doi.org/10.1128/JVI.00855-16>Characterization of Clade 7.2 H5 Avian Influenza Viruses That Continue To Circulate in Chickens in China.</a></strong><br>2016. Liu L, Zeng X, Chen P, Deng G, Li Y, Shi J, Gu C, Kong H, Suzuki Y, Jiang Y, Tian G, Chen H<br>[ID: 27558424]"
      ],
      "text/plain": [
       "<IPython.core.display.HTML object>"
      ]
     },
     "metadata": {},
     "output_type": "display_data"
    },
    {
     "data": {
      "text/html": [
       "<strong><a href=http://dx.doi.org/10.1007/s10393-014-0914-2>Risks of avian influenza transmission in areas of intensive free-ranging duck production with wild waterfowl.</a></strong><br>2014. Cappelle J, Zhao D, Gilbert M, Nelson MI, Newman SH, Takekawa JY, Gaidet N, Prosser DJ, Liu Y, Li P, Shu Y, Xiao X<br>[ID: 24652313]"
      ],
      "text/plain": [
       "<IPython.core.display.HTML object>"
      ]
     },
     "metadata": {},
     "output_type": "display_data"
    },
    {
     "data": {
      "text/html": [
       "<strong><a href=http://dx.doi.org/10.1016/j.vetmic.2013.04.005>Genetic variation and phylogenetic analysis of hemagglutinin genes of H9 avian influenza viruses isolated in China during 2010-2012.</a></strong><br>2013. Chen RA, Lai HZ, Li L, Liu YP, Pan WL, Zhang WY, Xu JH, He DS, Tang ZX<br>[ID: 23642649]"
      ],
      "text/plain": [
       "<IPython.core.display.HTML object>"
      ]
     },
     "metadata": {},
     "output_type": "display_data"
    },
    {
     "data": {
      "text/html": [
       "<strong><a href=http://dx.doi.org/10.1128/JVI.01623-12>Complete genome sequence of a novel H9N2 subtype influenza virus FJG9 strain in China reveals a natural reassortant event.</a></strong><br>2012. Xie Q, Yan Z, Ji J, Zhang H, Liu J, Sun Y, Li G, Chen F, Xue C, Ma J, Bee Y<br>[ID: 22923800]"
      ],
      "text/plain": [
       "<IPython.core.display.HTML object>"
      ]
     },
     "metadata": {},
     "output_type": "display_data"
    },
    {
     "data": {
      "text/html": [
       "<strong><a href=http://dx.doi.org/10.1016/j.meegid.2014.10.016>Avian influenza A (H7N9) virus infection in humans: epidemiology, evolution, and pathogenesis.</a></strong><br>2014. Husain M<br>[ID: 25446940]"
      ],
      "text/plain": [
       "<IPython.core.display.HTML object>"
      ]
     },
     "metadata": {},
     "output_type": "display_data"
    },
    {
     "data": {
      "text/html": [
       "<strong>[Isolation of human metapneumovirus from children with acute respiratory tract infection in Chongqing, China].</strong><br>2007. Mao HW, Yang XQ, Wang LJ, Huang Y, Zhao XD<br>[ID: 17349150]"
      ],
      "text/plain": [
       "<IPython.core.display.HTML object>"
      ]
     },
     "metadata": {},
     "output_type": "display_data"
    },
    {
     "data": {
      "text/html": [
       "<strong><a href=http://dx.doi.org/10.1016/j.jviromet.2015.02.025>Development of a TaqMan MGB RT-PCR for the rapid detection of H3 subtype avian influenza virus circulating in China.</a></strong><br>2015. Teng Q, Shen W, Yan D, Yan L, Li X, Li G, Yang J, Li Z<br>[ID: 25745957]"
      ],
      "text/plain": [
       "<IPython.core.display.HTML object>"
      ]
     },
     "metadata": {},
     "output_type": "display_data"
    },
    {
     "data": {
      "text/html": [
       "<strong><a href=http://dx.doi.org/10.1007/s00253-017-8600-2>Recombinant Lactobacillus plantarum expressing HA2 antigen elicits protective immunity against H9N2 avian influenza virus in chickens.</a></strong><br>2017. Yang WT, Yang GL, Yang X, Shonyela SM, Zhao L, Jiang YL, Huang HB, Shi CW, Wang JZ, Wang G, Zhao JH, Wang CF<br>[ID: 29090342]"
      ],
      "text/plain": [
       "<IPython.core.display.HTML object>"
      ]
     },
     "metadata": {},
     "output_type": "display_data"
    },
    {
     "data": {
      "text/html": [
       "<strong><a href=http://dx.doi.org/10.1111/tbed.12547>Influenza A Virus in Backyard Pigs and Poultry in Rural Cambodia.</a></strong><br>2017. Osbjer K, Berg M, Sokerya S, Chheng K, San S, Davun H, Magnusson U, Olsen B, Zohari S<br>[ID: 27484711]"
      ],
      "text/plain": [
       "<IPython.core.display.HTML object>"
      ]
     },
     "metadata": {},
     "output_type": "display_data"
    },
    {
     "data": {
      "text/html": [
       "<strong><a href=http://dx.doi.org/10.1371/journal.pone.0142584>Detection and Genetic Characteristics of H9N2 Avian Influenza Viruses from Live Poultry Markets in Hunan Province, China.</a></strong><br>2015. Huang Y, Zhang H, Li X, Hu S, Cai L, Sun Q, Li W, Deng Z, Xiang X, Zhang H, Li F, Gao L<br>[ID: 26554921]"
      ],
      "text/plain": [
       "<IPython.core.display.HTML object>"
      ]
     },
     "metadata": {},
     "output_type": "display_data"
    },
    {
     "data": {
      "text/html": [
       "<strong>[Study on seasonal characteristics and pathogenic distribution of influenza in Gansu province of China].</strong><br>2017. Yang XT, Liu XF, He J, Yu DS, Liu DP, Li HY, Li BD, Bai YN<br>[ID: 28647979]"
      ],
      "text/plain": [
       "<IPython.core.display.HTML object>"
      ]
     },
     "metadata": {},
     "output_type": "display_data"
    },
    {
     "data": {
      "text/html": [
       "<strong><a href=http://dx.doi.org/10.1371/currents.outbreaks.e1473d9bfc99d080ca242139a06c455f>Distinguishing Between Reservoir Exposure and Human-to-Human Transmission for Emerging Pathogens Using Case Onset Data.</a></strong><br>2014. Kucharski A, Mills H, Pinsent A, Fraser C, Van Kerkhove M, Donnelly CA, Riley S<br>[ID: 24619563]"
      ],
      "text/plain": [
       "<IPython.core.display.HTML object>"
      ]
     },
     "metadata": {},
     "output_type": "display_data"
    },
    {
     "data": {
      "text/html": [
       "<strong><a href=http://dx.doi.org/10.1099/vir.0.041269-0>Low pathogenic H7 subtype avian influenza viruses isolated from domestic ducks in South Korea and the close association with isolates of wild birds.</a></strong><br>2012. Kim HR, Park CK, Lee YJ, Oem JK, Kang HM, Choi JG, Lee OS, Bae YC<br>[ID: 22422062]"
      ],
      "text/plain": [
       "<IPython.core.display.HTML object>"
      ]
     },
     "metadata": {},
     "output_type": "display_data"
    },
    {
     "data": {
      "text/html": [
       "<strong><a href=http://dx.doi.org/10.1089/rej.2011.1241>Immunomodulatory effects of dietary supplementation with a milk-based wolfberry formulation in healthy elderly: a randomized, double-blind, placebo-controlled trial.</a></strong><br>2012. Vidal K, Bucheli P, Gao Q, Moulin J, Shen LS, Wang J, Blum S, Benyacoub J<br>[ID: 22352435]"
      ],
      "text/plain": [
       "<IPython.core.display.HTML object>"
      ]
     },
     "metadata": {},
     "output_type": "display_data"
    },
    {
     "data": {
      "text/html": [
       "<strong><a href=http://dx.doi.org/10.1097/MD.0000000000003929>Time series analysis of influenza incidence in Chinese provinces from 2004 to 2011.</a></strong><br>2016. Song X, Xiao J, Deng J, Kang Q, Zhang Y, Xu J<br>[ID: 27367989]"
      ],
      "text/plain": [
       "<IPython.core.display.HTML object>"
      ]
     },
     "metadata": {},
     "output_type": "display_data"
    },
    {
     "data": {
      "text/html": [
       "<strong><a href=http://dx.doi.org/10.1007/s00705-018-3842-6>Antiviral activity of Embelia ribes Burm. f. against influenza virus in vitro.</a></strong><br>2018. Hossan MS, Fatima A, Rahmatullah M, Khoo TJ, Nissapatorn V, Galochkina AV, Slita AV, Shtro AA, Nikolaeva Y, Zarubaev VV, Wiart C<br>[ID: 29633078]"
      ],
      "text/plain": [
       "<IPython.core.display.HTML object>"
      ]
     },
     "metadata": {},
     "output_type": "display_data"
    },
    {
     "data": {
      "text/html": [
       "<strong><a href=http://dx.doi.org/10.1099/jgv.0.000806>Highly pathogenic avian influenza H5N1 clade 2.3.2.1 and clade 2.3.4 viruses do not induce a clade-specific phenotype in mallard ducks.</a></strong><br>2017. Ducatez M, Sonnberg S, Crumpton JC, Rubrum A, Phommachanh P, Douangngeun B, Peiris M, Guan Y, Webster R, Webby R<br>[ID: 28631606]"
      ],
      "text/plain": [
       "<IPython.core.display.HTML object>"
      ]
     },
     "metadata": {},
     "output_type": "display_data"
    },
    {
     "data": {
      "text/html": [
       "<strong><a href=http://dx.doi.org/10.1093/infdis/jiy082>Convergent Evolution of Human-Isolated H7N9 Avian Influenza A Viruses.</a></strong><br>2018. Xiang D, Shen X, Pu Z, Irwin DM, Liao M, Shen Y<br>[ID: 29438519]"
      ],
      "text/plain": [
       "<IPython.core.display.HTML object>"
      ]
     },
     "metadata": {},
     "output_type": "display_data"
    },
    {
     "data": {
      "text/html": [
       "<strong><a href=http://dx.doi.org/10.1371/journal.pone.0119792>Characterization of influenza A (H7N9) viruses isolated from human cases imported into Taiwan.</a></strong><br>2015. Yang JR, Kuo CY, Huang HY, Wu FT, Huang YL, Cheng CY, Su YT, Wu HS, Liu MT<br>[ID: 25748033]"
      ],
      "text/plain": [
       "<IPython.core.display.HTML object>"
      ]
     },
     "metadata": {},
     "output_type": "display_data"
    },
    {
     "data": {
      "text/html": [
       "<strong><a href=http://dx.doi.org/10.1637/10899-071114-ResNote.1>Phylogenetic and pathogenic analysis of a novel H6N2 avian influenza virus isolated from a green peafowl in a wildlife park.</a></strong><br>2014. Fan Z, Ci Y, Ma Y, Liu L, Ma J, Li DY, Chen H<br>[ID: 25619010]"
      ],
      "text/plain": [
       "<IPython.core.display.HTML object>"
      ]
     },
     "metadata": {},
     "output_type": "display_data"
    },
    {
     "data": {
      "text/html": [
       "<strong><a href=http://dx.doi.org/10.1177/039463201102400106>Toll-like receptor 4-dependent adjuvant activity of Kakkon-to extract exists in the high molecular weight polysaccharide fraction.</a></strong><br>2011. Ishijima Y, Kawamura T, Kimura A, Kohno A, Okada T, Tsuji T, Watanabe Y<br>[ID: 21496386]"
      ],
      "text/plain": [
       "<IPython.core.display.HTML object>"
      ]
     },
     "metadata": {},
     "output_type": "display_data"
    },
    {
     "data": {
      "text/html": [
       "<strong><a href=http://dx.doi.org/10.3390/ijerph120707886>Sex and Age Differences in Mortality in Southern China, 2004-2010.</a></strong><br>2015. Yu L, Lin X, Liu H, Shi J, Nong Q, Tang H, Mao Z<br>[ID: 26184261]"
      ],
      "text/plain": [
       "<IPython.core.display.HTML object>"
      ]
     },
     "metadata": {},
     "output_type": "display_data"
    },
    {
     "data": {
      "text/html": [
       "<strong><a href=http://dx.doi.org/10.1016/j.prevetmed.2018.05.003>Live bird markets in Bangladesh as a potentially important source for Avian Influenza Virus transmission.</a></strong><br>2018. Hassan MM, Hoque MA, Ujvari B, Klaassen M<br>[ID: 29891142]"
      ],
      "text/plain": [
       "<IPython.core.display.HTML object>"
      ]
     },
     "metadata": {},
     "output_type": "display_data"
    },
    {
     "data": {
      "text/html": [
       "<strong><a href=http://dx.doi.org/10.1007/s11427-008-0131-8>The variable codons of H5N1 avian influenza A virus haemagglutinin genes.</a></strong><br>2008. Shi W, Gibbs MJ, Zhang Y, Zhuang D, Dun A, Yu G, Yang N, Murphy RW, Zhu C<br>[ID: 18989641]"
      ],
      "text/plain": [
       "<IPython.core.display.HTML object>"
      ]
     },
     "metadata": {},
     "output_type": "display_data"
    },
    {
     "data": {
      "text/html": [
       "<strong><a href=http://dx.doi.org/10.1016/j.vaccine.2008.09.043>Genetic characterization and protective immunity of cold-adapted attenuated avian H9N2 influenza vaccine.</a></strong><br>2008. Lee JS, Kim HS, Seo SH<br>[ID: 18838096]"
      ],
      "text/plain": [
       "<IPython.core.display.HTML object>"
      ]
     },
     "metadata": {},
     "output_type": "display_data"
    },
    {
     "data": {
      "text/html": [
       "<strong><a href=http://dx.doi.org/10.1016/j.jcv.2014.11.034>A study of family clustering in two young girls with novel avian influenza A (H7N9) in Dongyang, Zhejiang Province, in 2014.</a></strong><br>2015. Mao H, Guo B, Wang F, Sun Y, Lou X, Chen Y, Zhang L, Wang X, Li Z, Liu S, Qin S, Wei J, Pang Z, Chen Z, Zhang Y<br>[ID: 25600598]"
      ],
      "text/plain": [
       "<IPython.core.display.HTML object>"
      ]
     },
     "metadata": {},
     "output_type": "display_data"
    },
    {
     "data": {
      "text/html": [
       "<strong><a href=http://dx.doi.org/10.1007/s11262-010-0534-z>Emergence of amantadine-resistant avian influenza H5N1 virus in India.</a></strong><br>2011. Tosh C, Murugkar HV, Nagarajan S, Tripathi S, Katare M, Jain R, Khandia R, Syed Z, Behera P, Patil S, Kulkarni DD, Dubey SC<br>[ID: 20953687]"
      ],
      "text/plain": [
       "<IPython.core.display.HTML object>"
      ]
     },
     "metadata": {},
     "output_type": "display_data"
    },
    {
     "data": {
      "text/html": [
       "<strong><a href=http://dx.doi.org/10.3201/eid2008.140325>Infection with possible precursor of avian influenza A(H7N9) virus in a child, China, 2013.</a></strong><br>2014. Ren L, Yu X, Zhao B, Wu F, Jin Q, Zhang X, Wang J<br>[ID: 25061975]"
      ],
      "text/plain": [
       "<IPython.core.display.HTML object>"
      ]
     },
     "metadata": {},
     "output_type": "display_data"
    },
    {
     "data": {
      "text/html": [
       "<strong><a href=http://dx.doi.org/10.1371/journal.pone.0089581>Epidemiological and clinical characteristics and risk factors for death of patients with avian influenza A H7N9 virus infection from Jiangsu Province, Eastern China.</a></strong><br>2014. Ji H, Gu Q, Chen LL, Xu K, Ling X, Bao CJ, Tang FY, Qi X, Wu YQ, Ai J, Shen GY, Dong DJ, Yu HY, Huang M, Cao Q, Xu Y, Zhao W, Xu YT, Xia Y, Chen SH, ...<br>[ID: 24595034]"
      ],
      "text/plain": [
       "<IPython.core.display.HTML object>"
      ]
     },
     "metadata": {},
     "output_type": "display_data"
    },
    {
     "data": {
      "text/html": [
       "<strong><a href=http://dx.doi.org/10.1186/2049-9957-2-17>Research priorities in modeling the transmission risks of H7N9 bird flu.</a></strong><br>2013. Wiwanitkit V, Shi B, Xia S, Yang GJ, Zhou XN, Liu J<br>[ID: 23927386]"
      ],
      "text/plain": [
       "<IPython.core.display.HTML object>"
      ]
     },
     "metadata": {},
     "output_type": "display_data"
    },
    {
     "data": {
      "text/html": [
       "<strong>[Analysis of morbidity and mortality characteristics of the notifiable diseases reported in 2013 in China].</strong><br>2015. Wang L, Zeng L, Ren X, Geng M, Li Z, Yu H<br>[ID: 25975392]"
      ],
      "text/plain": [
       "<IPython.core.display.HTML object>"
      ]
     },
     "metadata": {},
     "output_type": "display_data"
    },
    {
     "data": {
      "text/html": [
       "<strong><a href=http://dx.doi.org/10.1016/j.prevetmed.2010.05.013>Risk factors and clusters of Highly Pathogenic Avian Influenza H5N1 outbreaks in Bangladesh.</a></strong><br>2010. Loth L, Gilbert M, Osmani MG, Kalam AM, Xiao X<br>[ID: 20554337]"
      ],
      "text/plain": [
       "<IPython.core.display.HTML object>"
      ]
     },
     "metadata": {},
     "output_type": "display_data"
    },
    {
     "data": {
      "text/html": [
       "<strong><a href=http://dx.doi.org/10.3390/ijerph120505026>Highly Pathogenic Avian Influenza H5N1 in Mainland China.</a></strong><br>2015. Li XL, Liu K, Yao HW, Sun Y, Chen WJ, Sun RX, de Vlas SJ, Fang LQ, Cao WC<br>[ID: 26006118]"
      ],
      "text/plain": [
       "<IPython.core.display.HTML object>"
      ]
     },
     "metadata": {},
     "output_type": "display_data"
    },
    {
     "data": {
      "text/html": [
       "<strong><a href=http://dx.doi.org/10.1371/journal.pone.0073724>Seasonal influenza vaccination coverage rate of target groups in selected cities and provinces in China by season (2009/10 to 2011/12).</a></strong><br>2013. Zhou L, Su Q, Xu Z, Feng A, Jin H, Wang S, Feng Z<br>[ID: 24040041]"
      ],
      "text/plain": [
       "<IPython.core.display.HTML object>"
      ]
     },
     "metadata": {},
     "output_type": "display_data"
    },
    {
     "data": {
      "text/html": [
       "<strong><a href=http://dx.doi.org/10.1007/s00705-016-2767-1>Genotypic evolution and antigenicity of H9N2 influenza viruses in Shanghai, China.</a></strong><br>2016. Ge F, Li X, Ju H, Yang D, Liu J, Qi X, Wang J, Yang X, Qiu Y, Liu P, Zhou J<br>[ID: 26935915]"
      ],
      "text/plain": [
       "<IPython.core.display.HTML object>"
      ]
     },
     "metadata": {},
     "output_type": "display_data"
    },
    {
     "data": {
      "text/html": [
       "<strong><a href=http://dx.doi.org/10.1186/s12889-015-2245-9>Knowledge, attitudes, and practices of Hong Kong population towards human A/H7N9 influenza pandemic preparedness, China, 2014.</a></strong><br>2015. Chan EY, Cheng CK, Tam G, Huang Z, Lee P<br>[ID: 26395243]"
      ],
      "text/plain": [
       "<IPython.core.display.HTML object>"
      ]
     },
     "metadata": {},
     "output_type": "display_data"
    },
    {
     "data": {
      "text/html": [
       "<strong><a href=http://dx.doi.org/10.1186/s12889-015-2475-x>A cost-effectiveness analysis of three components of a syndromic surveillance system for the early warning of epidemics in rural China.</a></strong><br>2015. Ding Y, Sauerborn R, Xu B, Shaofa N, Yan W, Diwan VK, Dong H<br>[ID: 26577518]"
      ],
      "text/plain": [
       "<IPython.core.display.HTML object>"
      ]
     },
     "metadata": {},
     "output_type": "display_data"
    },
    {
     "data": {
      "text/html": [
       "<strong><a href=http://dx.doi.org/10.1371/journal.pone.0151976>The Effect of Probiotic Treatment on Patients Infected with the H7N9 Influenza Virus.</a></strong><br>2016. Hu X, Zhang H, Lu H, Qian G, Lv L, Zhang C, Guo J, Jiang H, Zheng B, Yang F, Gu S, Chen Y, Bao Q, Yu L, Jiang X, Hu Q, Shi H, Gao H, Li L<br>[ID: 26987119]"
      ],
      "text/plain": [
       "<IPython.core.display.HTML object>"
      ]
     },
     "metadata": {},
     "output_type": "display_data"
    },
    {
     "data": {
      "text/html": [
       "<strong><a href=http://dx.doi.org/10.1007/s00705-007-0985-2>Molecular characterization of the surface glycoprotein genes of an H5N1 influenza virus isolated from a human in Guangdong, China.</a></strong><br>2007. Zhou JJ, Fu J, Fang DY, Yan HJ, Tian J, Zhou JM, Tao JP, Liang Y, Jiang LF<br>[ID: 17533555]"
      ],
      "text/plain": [
       "<IPython.core.display.HTML object>"
      ]
     },
     "metadata": {},
     "output_type": "display_data"
    },
    {
     "data": {
      "text/html": [
       "<strong><a href=http://dx.doi.org/10.1016/j.vaccine.2018.03.052>Knowledge, attitudes and practices related to the influenza virus and vaccine among older adults in Eastern China.</a></strong><br>2018. Wendlandt R, Cowling BJ, Chen Y, Havers F, Shifflett P, Song Y, Zhang R, Iuliano D, Xu C, Yu H, Zhang J, Zhang H, Tang F, Thompson M<br>[ID: 29606516]"
      ],
      "text/plain": [
       "<IPython.core.display.HTML object>"
      ]
     },
     "metadata": {},
     "output_type": "display_data"
    },
    {
     "data": {
      "text/html": [
       "<strong><a href=http://dx.doi.org/10.1038/s41426-018-0073-6>Substitution of D701N in the PB2 protein could enhance the viral replication and pathogenicity of Eurasian avian-like H1N1 swine influenza viruses.</a></strong><br>2018. Liu S, Zhu W, Feng Z, Gao R, Guo J, Li X, Liu J, Wang D, Shu Y<br>[ID: 29717109]"
      ],
      "text/plain": [
       "<IPython.core.display.HTML object>"
      ]
     },
     "metadata": {},
     "output_type": "display_data"
    },
    {
     "data": {
      "text/html": [
       "<strong><a href=http://dx.doi.org/10.1111/tbed.12697>Trade patterns facilitating highly pathogenic avian influenza virus dissemination in the free-grazing layer duck system in Vietnam.</a></strong><br>2018. Meyer A, Dinh TX, Han TA, Do DV, Nhu TV, Pham LT, Nguyen TTT, Newman S, Häsler B, Pfeiffer DU, Vergne T<br>[ID: 28815990]"
      ],
      "text/plain": [
       "<IPython.core.display.HTML object>"
      ]
     },
     "metadata": {},
     "output_type": "display_data"
    },
    {
     "data": {
      "text/html": [
       "<strong><a href=http://dx.doi.org/10.1038/s41598-018-27722-5>Influenza viral vectors expressing two kinds of HA proteins for bivalent vaccines against clade 2.3.4.4 and clade 2.3.2.1 H5 HPAIVs.</a></strong><br>2018. Hou G, Li J, Wang Y, Wang S, Peng C, Yu X, Jin J, Jiang W<br>[ID: 29921911]"
      ],
      "text/plain": [
       "<IPython.core.display.HTML object>"
      ]
     },
     "metadata": {},
     "output_type": "display_data"
    },
    {
     "data": {
      "text/html": [
       "<strong><a href=http://dx.doi.org/10.1038/ncomms1710>Mapping of H3N2 influenza antigenic evolution in China reveals a strategy for vaccine strain recommendation.</a></strong><br>2012. Du X, Dong L, Lan Y, Peng Y, Wu A, Zhang Y, Huang W, Wang D, Wang M, Guo Y, Shu Y, Jiang T<br>[ID: 22426230]"
      ],
      "text/plain": [
       "<IPython.core.display.HTML object>"
      ]
     },
     "metadata": {},
     "output_type": "display_data"
    },
    {
     "data": {
      "text/html": [
       "<strong><a href=http://dx.doi.org/10.1155/2015/804731>Epidemiological and molecular characteristics of the PB1-F2 proteins in H7N9 influenza viruses, Jiangsu.</a></strong><br>2015. Wei P, Li W, Zi H, Cunningham M, Guo Y, Xuan Y, Musa TH, Luo P<br>[ID: 25649785]"
      ],
      "text/plain": [
       "<IPython.core.display.HTML object>"
      ]
     },
     "metadata": {},
     "output_type": "display_data"
    },
    {
     "data": {
      "text/html": [
       "<strong><a href=http://dx.doi.org/10.1007/s11427-009-0115-3>Stable non-synonymous substitutions on NS gene (NS1 and NS2 proteins) of Qinghai Lake H5N1 influenza virus (Clade 2.2) after successive passages in Muscovy ducks.</a></strong><br>2009. Song X, Huang Y, Xiao H, Liu D, Gao GF<br>[ID: 19802744]"
      ],
      "text/plain": [
       "<IPython.core.display.HTML object>"
      ]
     },
     "metadata": {},
     "output_type": "display_data"
    },
    {
     "data": {
      "text/html": [
       "<strong><a href=http://dx.doi.org/10.3390/v7062773>Phylodynamics of H5N1 Highly Pathogenic Avian Influenza in Europe, 2005-2010: Potential for Molecular Surveillance of New Outbreaks.</a></strong><br>2015. Alkhamis MA, Moore BR, Perez AM<br>[ID: 26110587]"
      ],
      "text/plain": [
       "<IPython.core.display.HTML object>"
      ]
     },
     "metadata": {},
     "output_type": "display_data"
    },
    {
     "data": {
      "text/html": [
       "<strong><a href=http://dx.doi.org/10.1038/mt.2016.23>H7N9 Live Attenuated Influenza Vaccine Is Highly Immunogenic, Prevents Virus Replication, and Protects Against Severe Bronchopneumonia in Ferrets.</a></strong><br>2016. de Jonge J, Isakova-Sivak I, van Dijken H, Spijkers S, Mouthaan J, de Jong R, Smolonogina T, Roholl P, Rudenko L<br>[ID: 26796670]"
      ],
      "text/plain": [
       "<IPython.core.display.HTML object>"
      ]
     },
     "metadata": {},
     "output_type": "display_data"
    },
    {
     "data": {
      "text/html": [
       "<strong><a href=http://dx.doi.org/10.1186/s12879-017-2781-2>Spatio-temporal pattern analysis for evaluation of the spread of human infections with avian influenza A(H7N9) virus in China, 2013-2014.</a></strong><br>2017. Dong W, Yang K, Xu Q, Liu L, Chen J<br>[ID: 29065855]"
      ],
      "text/plain": [
       "<IPython.core.display.HTML object>"
      ]
     },
     "metadata": {},
     "output_type": "display_data"
    },
    {
     "data": {
      "text/html": [
       "<strong>Gestational Influenza Increases the Risk of Psychosis in Adults.</strong><br>2015. Cai L, Wan CL, He L, de Jong S, Chou KC<br>[ID: 25922176]"
      ],
      "text/plain": [
       "<IPython.core.display.HTML object>"
      ]
     },
     "metadata": {},
     "output_type": "display_data"
    },
    {
     "data": {
      "text/html": [
       "<strong><a href=http://dx.doi.org/10.1186/cc13839>The dysfunctional host response to influenza A H7N9: a potential treatment option?</a></strong><br>2014. Opal SM, Fedson DS<br>[ID: 25029246]"
      ],
      "text/plain": [
       "<IPython.core.display.HTML object>"
      ]
     },
     "metadata": {},
     "output_type": "display_data"
    },
    {
     "data": {
      "text/html": [
       "<strong><a href=http://dx.doi.org/10.1016/j.virusres.2009.09.014>Characterization of a highly pathogenic avian influenza H5N1 clade 2.3.4 virus isolated from a tree sparrow.</a></strong><br>2010. Liu Q, Ma J, Kou Z, Pu J, Lei F, Li T, Liu J<br>[ID: 19804800]"
      ],
      "text/plain": [
       "<IPython.core.display.HTML object>"
      ]
     },
     "metadata": {},
     "output_type": "display_data"
    },
    {
     "data": {
      "text/html": [
       "<strong><a href=http://dx.doi.org/10.1056/NEJMoa0906612>Clinical features of the initial cases of 2009 pandemic influenza A (H1N1) virus infection in China.</a></strong><br>2009. Cao B, Li XW, Mao Y, Wang J, Lu HZ, Chen YS, Liang ZA, Liang L, Zhang SJ, Zhang B, Gu L, Lu LH, Wang DY, Wang C, National Influenza A Pandemic (H1N1) 2009 Clinical Investigation Group of China.<br>[ID: 20007555]"
      ],
      "text/plain": [
       "<IPython.core.display.HTML object>"
      ]
     },
     "metadata": {},
     "output_type": "display_data"
    },
    {
     "data": {
      "text/html": [
       "<strong><a href=http://dx.doi.org/10.3389/fmicb.2017.01559>Vertical Transmission of H9N2 Avian Influenza Virus in Goose.</a></strong><br>2017. Yu G, Wang A, Tang Y, Diao Y<br>[ID: 28861069]"
      ],
      "text/plain": [
       "<IPython.core.display.HTML object>"
      ]
     },
     "metadata": {},
     "output_type": "display_data"
    },
    {
     "data": {
      "text/html": [
       "<strong><a href=http://dx.doi.org/10.1038/srep29888>Novel avian influenza A (H5N6) viruses isolated in migratory waterfowl before the first human case reported in China, 2014.</a></strong><br>2016. Bi Y, Liu H, Xiong C, Di Liu, Shi W, Li M, Liu S, Chen J, Chen G, Li Y, Yang G, Lei Y, Xiong Y, Lei F, Wang H, Chen Q, Chen J, Gao GF<br>[ID: 27431568]"
      ],
      "text/plain": [
       "<IPython.core.display.HTML object>"
      ]
     },
     "metadata": {},
     "output_type": "display_data"
    },
    {
     "data": {
      "text/html": [
       "<strong><a href=http://dx.doi.org/10.1016/j.meegid.2018.01.028>The genetic and phylogenetic analysis of a highly pathogenic influenza A H5N6 virus from a heron, southern China, 2013.</a></strong><br>2018. Luo K, Zhang K, Liu L, Shen X, Jiao P, Song Y, Lv J, Wang M, Liu Y, Qi W, Ren T, Irwin DM, Liao M, Shen Y<br>[ID: 29409937]"
      ],
      "text/plain": [
       "<IPython.core.display.HTML object>"
      ]
     },
     "metadata": {},
     "output_type": "display_data"
    },
    {
     "data": {
      "text/html": [
       "<strong><a href=http://dx.doi.org/10.1016/j.antiviral.2015.02.003>Global update on the susceptibility of human influenza viruses to neuraminidase inhibitors, 2013-2014.</a></strong><br>2015. Takashita E, Meijer A, Lackenby A, Gubareva L, Rebelo-de-Andrade H, Besselaar T, Fry A, Gregory V, Leang SK, Huang W, Lo J, Pereyaslov D, Siqueira MM, Wang D, Mak GC, Zhang W, Daniels RS, Hurt AC, Tashiro M<br>[ID: 25721488]"
      ],
      "text/plain": [
       "<IPython.core.display.HTML object>"
      ]
     },
     "metadata": {},
     "output_type": "display_data"
    },
    {
     "data": {
      "text/html": [
       "<strong><a href=http://dx.doi.org/10.1186/1743-422X-10-345>Genetic mutations in influenza H3N2 viruses from a 2012 epidemic in Southern China.</a></strong><br>2013. Zhong J, Liang L, Huang P, Zhu X, Zou L, Yu S, Zhang X, Zhang Y, Ni H, Yan J<br>[ID: 24279698]"
      ],
      "text/plain": [
       "<IPython.core.display.HTML object>"
      ]
     },
     "metadata": {},
     "output_type": "display_data"
    },
    {
     "data": {
      "text/html": [
       "<strong><a href=http://dx.doi.org/10.3201/eid1904.120903>Predicting hotspots for influenza virus reassortment.</a></strong><br>2013. Fuller TL, Gilbert M, Martin V, Cappelle J, Hosseini P, Njabo KY, Abdel Aziz S, Xiao X, Daszak P, Smith TB<br>[ID: 23628436]"
      ],
      "text/plain": [
       "<IPython.core.display.HTML object>"
      ]
     },
     "metadata": {},
     "output_type": "display_data"
    },
    {
     "data": {
      "text/html": [
       "<strong><a href=http://dx.doi.org/10.3201/eid2105.141137>Transmission Potential of Influenza A(H7N9) Virus, China, 2013-2014.</a></strong><br>2015. Kucharski AJ, Mills HL, Donnelly CA, Riley S<br>[ID: 25897624]"
      ],
      "text/plain": [
       "<IPython.core.display.HTML object>"
      ]
     },
     "metadata": {},
     "output_type": "display_data"
    },
    {
     "data": {
      "text/html": [
       "<strong><a href=http://dx.doi.org/10.1016/j.vaccine.2017.06.054>Increasing seasonal influenza vaccination among high risk groups in China: Do community healthcare workers have a role to play?</a></strong><br>2017. Song Y, Zhang T, Chen L, Yi B, Hao X, Zhou S, Zhang R, Greene C<br>[ID: 28668569]"
      ],
      "text/plain": [
       "<IPython.core.display.HTML object>"
      ]
     },
     "metadata": {},
     "output_type": "display_data"
    },
    {
     "data": {
      "text/html": [
       "<strong><a href=http://dx.doi.org/10.1093/heapol/czq065>Dilemmas of securitization and health risk management in the People's Republic of China: the cases of SARS and avian influenza.</a></strong><br>2010. Wishnick E<br>[ID: 20961946]"
      ],
      "text/plain": [
       "<IPython.core.display.HTML object>"
      ]
     },
     "metadata": {},
     "output_type": "display_data"
    },
    {
     "data": {
      "text/html": [
       "<strong><a href=http://dx.doi.org/10.1007/s12250-012-3262-9>Molecular characterization of avian-like H1N1 swine influenza a viruses isolated in Eastern China, 2011.</a></strong><br>2012. Qi X, Pan Y, Qin Y, Zu R, Tang F, Zhou M, Wang H, Song Y<br>[ID: 23055004]"
      ],
      "text/plain": [
       "<IPython.core.display.HTML object>"
      ]
     },
     "metadata": {},
     "output_type": "display_data"
    },
    {
     "data": {
      "text/html": [
       "<strong><a href=http://dx.doi.org/10.1016/j.jinf.2014.03.006>Identifying areas with a high risk of human infection with the avian influenza A (H7N9) virus in East Asia.</a></strong><br>2014. Fuller T, Havers F, Xu C, Fang LQ, Cao WC, Shu Y, Widdowson MA, Smith TB<br>[ID: 24642206]"
      ],
      "text/plain": [
       "<IPython.core.display.HTML object>"
      ]
     },
     "metadata": {},
     "output_type": "display_data"
    },
    {
     "data": {
      "text/html": [
       "<strong><a href=http://dx.doi.org/10.1128/mBio.01102-13>Transcriptomic characterization of the novel avian-origin influenza A (H7N9) virus: specific host response and responses intermediate between avian (H5N1 and H7N7) and human (H3N2) viruses and implications for treatment options.</a></strong><br>2014. Josset L, Zeng H, Kelly SM, Tumpey TM, Katze MG<br>[ID: 24496798]"
      ],
      "text/plain": [
       "<IPython.core.display.HTML object>"
      ]
     },
     "metadata": {},
     "output_type": "display_data"
    },
    {
     "data": {
      "text/html": [
       "<strong><a href=http://dx.doi.org/10.1128/JVI.06389-11>Establishment and lineage replacement of H6 influenza viruses in domestic ducks in southern China.</a></strong><br>2012. Huang K, Zhu H, Fan X, Wang J, Cheung CL, Duan L, Hong W, Liu Y, Li L, Smith DK, Chen H, Webster RG, Webby RJ, Peiris M, Guan Y<br>[ID: 22438558]"
      ],
      "text/plain": [
       "<IPython.core.display.HTML object>"
      ]
     },
     "metadata": {},
     "output_type": "display_data"
    },
    {
     "data": {
      "text/html": [
       "<strong><a href=http://dx.doi.org/10.1016/j.meegid.2014.06.007>Complete genome sequence of a natural reassortant H9N2 avian influenza virus found in bean goose (Anser fabalis): direct evidence for virus exchange between Korea and China via wild birds.</a></strong><br>2014. Lee DH, Park JK, Yuk SS, Erdene-Ochir TO, Kwon JH, Lee JB, Park SY, Choi IS, Lee SW, Song CS<br>[ID: 24953505]"
      ],
      "text/plain": [
       "<IPython.core.display.HTML object>"
      ]
     },
     "metadata": {},
     "output_type": "display_data"
    },
    {
     "data": {
      "text/html": [
       "<strong><a href=http://dx.doi.org/10.3382/ps/pey187>Genetic characteristics of H9N2 avian influenza viruses isolated from free-range poultry in Eastern China, in 2014-2015.</a></strong><br>2018. Zhu C, Hu C, Gui B, Chen Q, Zhang S, He G<br>[ID: 30169762]"
      ],
      "text/plain": [
       "<IPython.core.display.HTML object>"
      ]
     },
     "metadata": {},
     "output_type": "display_data"
    },
    {
     "data": {
      "text/html": [
       "<strong><a href=http://dx.doi.org/10.1016/j.vaccine.2015.08.050>Virus replication kinetics and pathogenesis of infection with H7N9 influenza virus in isogenic guinea pigs upon intratracheal inoculation.</a></strong><br>2015. Wiersma LC, Kreijtz JH, Vogelzang-van Trierum SE, van Amerongen G, van Run P, Ladwig M, Banneke S, Schaefer H, Fouchier RA, Kuiken T, Osterhaus AD, Rimmelzwaan GF<br>[ID: 26307235]"
      ],
      "text/plain": [
       "<IPython.core.display.HTML object>"
      ]
     },
     "metadata": {},
     "output_type": "display_data"
    },
    {
     "data": {
      "text/html": [
       "<strong><a href=http://dx.doi.org/10.1016/j.virol.2015.10.020>Experimental infection of peridomestic mammals with emergent H7N9 (A/Anhui/1/2013) influenza A virus: Implications for biosecurity and wet markets.</a></strong><br>2016. Root JJ, Bosco-Lauth AM, Bielefeldt-Ohmann H, Bowen RA<br>[ID: 26550948]"
      ],
      "text/plain": [
       "<IPython.core.display.HTML object>"
      ]
     },
     "metadata": {},
     "output_type": "display_data"
    },
    {
     "data": {
      "text/html": [
       "<strong><a href=http://dx.doi.org/10.1128/JVI.01157-07>Establishment of influenza A virus (H6N1) in minor poultry species in southern China.</a></strong><br>2007. Cheung CL, Vijaykrishna D, Smith GJ, Fan XH, Zhang JX, Bahl J, Duan L, Huang K, Tai H, Wang J, Poon LL, Peiris JS, Chen H, Guan Y<br>[ID: 17652385]"
      ],
      "text/plain": [
       "<IPython.core.display.HTML object>"
      ]
     },
     "metadata": {},
     "output_type": "display_data"
    },
    {
     "data": {
      "text/html": [
       "<strong><a href=http://dx.doi.org/10.1042/BST0391313>Biochemical contacts and collaborations between China and the U.K. since 1911.</a></strong><br>2011. Dodson GG<br>[ID: 21936808]"
      ],
      "text/plain": [
       "<IPython.core.display.HTML object>"
      ]
     },
     "metadata": {},
     "output_type": "display_data"
    },
    {
     "data": {
      "text/html": [
       "<strong><a href=http://dx.doi.org/10.1016/j.meegid.2018.02.029>Molecular evolution of H1N1 swine influenza in Guangdong, China, 2016-2017.</a></strong><br>2018. Cai M, Huang J, Bu D, Yu Z, Fu X, Ji C, Zhou P, Zhang G<br>[ID: 29477550]"
      ],
      "text/plain": [
       "<IPython.core.display.HTML object>"
      ]
     },
     "metadata": {},
     "output_type": "display_data"
    },
    {
     "data": {
      "text/html": [
       "<strong><a href=http://dx.doi.org/10.1637/8707-031709-ResNote.1>Protective efficacy of the H5 inactivated vaccine against different highly pathogenic H5N1 avian influenza viruses isolated in China and Vietnam.</a></strong><br>2010. Tian G, Zeng X, Li Y, Shi J, Chen H<br>[ID: 20521646]"
      ],
      "text/plain": [
       "<IPython.core.display.HTML object>"
      ]
     },
     "metadata": {},
     "output_type": "display_data"
    },
    {
     "data": {
      "text/html": [
       "<strong><a href=http://dx.doi.org/10.3201/eid1508.090283>Avian influenza virus A (H5N1), detected through routine surveillance, in child, Bangladesh.</a></strong><br>2009. Brooks WA, Alamgir AS, Sultana R, Islam MS, Rahman M, Fry AM, Shu B, Lindstrom S, Nahar K, Goswami D, Haider MS, Nahar S, Butler E, Hancock K, Donis RO, Davis CT, Zaman RU, Luby SP, Uyeki TM, Rahman M<br>[ID: 19751601]"
      ],
      "text/plain": [
       "<IPython.core.display.HTML object>"
      ]
     },
     "metadata": {},
     "output_type": "display_data"
    },
    {
     "data": {
      "text/html": [
       "<strong>Analysis of the clinical characteristics and treatment of two patients with avian influenza virus (H7N9).</strong><br>2013. Lu S, Xi X, Zheng Y, Cao Y, Liu X, Lu H<br>[ID: 23612081]"
      ],
      "text/plain": [
       "<IPython.core.display.HTML object>"
      ]
     },
     "metadata": {},
     "output_type": "display_data"
    },
    {
     "data": {
      "text/html": [
       "<strong><a href=http://dx.doi.org/10.1093/cid/ciy583>Bioaerosol Sampling to Detect Avian Influenza Virus in Hanoi's Largest Live Poultry Market.</a></strong><br>2018. Bui VN, Nguyen TT, Nguyen-Viet H, Bui AN, McCallion KA, Lee HS, Than ST, Coleman KK, Gray GC<br>[ID: 30184114]"
      ],
      "text/plain": [
       "<IPython.core.display.HTML object>"
      ]
     },
     "metadata": {},
     "output_type": "display_data"
    },
    {
     "data": {
      "text/html": [
       "<strong><a href=http://dx.doi.org/10.3201/eid2105.141756>Detecting Spread of Avian Influenza A(H7N9) Virus Beyond China.</a></strong><br>2015. Millman AJ, Havers F, Iuliano AD, Davis CT, Sar B, Sovann L, Chin S, Corwin AL, Vongphrachanh P, Douangngeun B, Lindblade KA, Chittaganpitch M, Kaewthong V, Kile JC, Nguyen HT, Pham DV, Donis RO, Widdowson MA<br>[ID: 25897654]"
      ],
      "text/plain": [
       "<IPython.core.display.HTML object>"
      ]
     },
     "metadata": {},
     "output_type": "display_data"
    },
    {
     "data": {
      "text/html": [
       "<strong>[Study on the correlation of human influenza A/H3N2 hemagglutinin gene variation and the epidemic from 1995 to 2005 in China].</strong><br>2007. Dong LB, Zhang Y, Wen LY, Zhao X, Huang WJ, Lan Y, Guo JF, Li Z, Wang M, Dong J, Guo YJ, Shu YL<br>[ID: 17969848]"
      ],
      "text/plain": [
       "<IPython.core.display.HTML object>"
      ]
     },
     "metadata": {},
     "output_type": "display_data"
    },
    {
     "data": {
      "text/html": [
       "<strong><a href=http://dx.doi.org/10.3389/fmicb.2015.01170>New reassortant H5N8 highly pathogenic avian influenza virus from waterfowl in Southern China.</a></strong><br>2015. Song Y, Cui J, Song H, Ye J, Zhao Z, Wu S, Xu C, Jiao P, Liao M<br>[ID: 26557113]"
      ],
      "text/plain": [
       "<IPython.core.display.HTML object>"
      ]
     },
     "metadata": {},
     "output_type": "display_data"
    },
    {
     "data": {
      "text/html": [
       "<strong>[Characteristic analysis of NA gene of human influenza viruses (H3N2) isolated from 1996 to 2005 in China].</strong><br>2007. Huang WJ, Dong LB, Zhang Y, Wen LY, Zhao X, Li MX, Guo JF, Lan Y, Li Z, Wang M, Dong J, Guo YJ, Shu YL<br>[ID: 17969849]"
      ],
      "text/plain": [
       "<IPython.core.display.HTML object>"
      ]
     },
     "metadata": {},
     "output_type": "display_data"
    },
    {
     "data": {
      "text/html": [
       "<strong><a href=http://dx.doi.org/10.1007/s00705-015-2452-9>Interplay between influenza A virus and host factors: targets for antiviral intervention.</a></strong><br>2015. Tripathi S, Batra J, Lal SK<br>[ID: 26016443]"
      ],
      "text/plain": [
       "<IPython.core.display.HTML object>"
      ]
     },
     "metadata": {},
     "output_type": "display_data"
    },
    {
     "data": {
      "text/html": [
       "<strong><a href=http://dx.doi.org/10.3201/eid1607.091881>Novel swine influenza virus reassortants in pigs, China.</a></strong><br>2010. Bi Y, Fu G, Chen J, Peng J, Sun Y, Wang J, Pu J, Zhang Y, Gao H, Ma G, Tian F, Brown IH, Liu J<br>[ID: 20587196]"
      ],
      "text/plain": [
       "<IPython.core.display.HTML object>"
      ]
     },
     "metadata": {},
     "output_type": "display_data"
    },
    {
     "data": {
      "text/html": [
       "<strong>[Characteristics, evolution and variation of M genes of human avian H5N1 strains in Guangdong].</strong><br>2007. Huang P, Zou LR, Fan L, Li H, Chen QX, Yu SY, Ke CW<br>[ID: 17969854]"
      ],
      "text/plain": [
       "<IPython.core.display.HTML object>"
      ]
     },
     "metadata": {},
     "output_type": "display_data"
    },
    {
     "data": {
      "text/html": [
       "<strong><a href=http://dx.doi.org/10.1016/j.ymthe.2017.03.035>Preclinical and Clinical Demonstration of Immunogenicity by mRNA Vaccines against H10N8 and H7N9 Influenza Viruses.</a></strong><br>2017. Bahl K, Senn JJ, Yuzhakov O, Bulychev A, Brito LA, Hassett KJ, Laska ME, Smith M, Almarsson Ö, Thompson J, Ribeiro AM, Watson M, Zaks T, Ciaramella G<br>[ID: 28457665]"
      ],
      "text/plain": [
       "<IPython.core.display.HTML object>"
      ]
     },
     "metadata": {},
     "output_type": "display_data"
    },
    {
     "data": {
      "text/html": [
       "<strong><a href=http://dx.doi.org/10.1016/j.vaccine.2015.01.026>An H10N8 influenza virus vaccine strain and mouse challenge model based on the human isolate A/Jiangxi-Donghu/346/13.</a></strong><br>2015. Wohlbold TJ, Hirsh A, Krammer F<br>[ID: 25604801]"
      ],
      "text/plain": [
       "<IPython.core.display.HTML object>"
      ]
     },
     "metadata": {},
     "output_type": "display_data"
    },
    {
     "data": {
      "text/html": [
       "<strong><a href=http://dx.doi.org/10.1016/j.prevetmed.2014.03.030>Spatiotemporal pattern and risk factors of the reported novel avian-origin influenza A(H7N9) cases in China.</a></strong><br>2014. Qiu J, Li R, Xu X, Hong X, Xia X, Yu C<br>[ID: 24767171]"
      ],
      "text/plain": [
       "<IPython.core.display.HTML object>"
      ]
     },
     "metadata": {},
     "output_type": "display_data"
    },
    {
     "data": {
      "text/html": [
       "<strong><a href=http://dx.doi.org/10.1007/s00705-014-2110-7>Analysis of the phylogeny of Chinese H9N2 avian influenza viruses and their pathogenicity in mice.</a></strong><br>2014. Lin Z, Xu C, Liu B, Ji Y, Fu Y, Guo J, Zhu Q<br>[ID: 24838853]"
      ],
      "text/plain": [
       "<IPython.core.display.HTML object>"
      ]
     },
     "metadata": {},
     "output_type": "display_data"
    },
    {
     "data": {
      "text/html": [
       "<strong><a href=http://dx.doi.org/10.1186/1746-6148-9-196>Surveillance of avian influenza virus type A in semi-scavenging ducks in Bangladesh.</a></strong><br>2013. Khatun A, Giasuddin M, Islam KM, Khanom S, Samad MA, Islam MR, Noor M, Bhuiyan JU, Kim WI, Eo SK, Rahman MM<br>[ID: 24099526]"
      ],
      "text/plain": [
       "<IPython.core.display.HTML object>"
      ]
     },
     "metadata": {},
     "output_type": "display_data"
    },
    {
     "data": {
      "text/html": [
       "<strong><a href=http://dx.doi.org/10.1038/srep10704>Fatal H5N6 Avian Influenza Virus Infection in a Domestic Cat and Wild Birds in China.</a></strong><br>2015. Yu Z, Gao X, Wang T, Li Y, Li Y, Xu Y, Chu D, Sun H, Wu C, Li S, Wang H, Li Y, Xia Z, Lin W, Qian J, Chen H, Xia X, Gao Y<br>[ID: 26034886]"
      ],
      "text/plain": [
       "<IPython.core.display.HTML object>"
      ]
     },
     "metadata": {},
     "output_type": "display_data"
    },
    {
     "data": {
      "text/html": [
       "<strong><a href=http://dx.doi.org/10.3201/eid2101.141092>Avian influenza (H7N9) virus infection in Chinese tourist in Malaysia, 2014.</a></strong><br>2015. William T, Thevarajah B, Lee SF, Suleiman M, Jeffree MS, Menon J, Saat Z, Thayan R, Tambyah PA, Yeo TW<br>[ID: 25531078]"
      ],
      "text/plain": [
       "<IPython.core.display.HTML object>"
      ]
     },
     "metadata": {},
     "output_type": "display_data"
    },
    {
     "data": {
      "text/html": [
       "<strong><a href=http://dx.doi.org/10.1038/srep43433>The need for strengthening the influenza virus detection ability of hospital clinical laboratories: an investigation of the 2009 pandemic.</a></strong><br>2017. Yang S, Zhou Y, Cui Y, Ding C, Wu J, Deng M, Wang C, Lu X, Chen X, Li Y, Shi D, Mi F, Li L<br>[ID: 28281544]"
      ],
      "text/plain": [
       "<IPython.core.display.HTML object>"
      ]
     },
     "metadata": {},
     "output_type": "display_data"
    },
    {
     "data": {
      "text/html": [
       "<strong><a href=http://dx.doi.org/10.1371/journal.pone.0117846>Clinical, virological and immunological features from patients infected with re-emergent avian-origin human H7N9 influenza disease of varying severity in Guangdong province.</a></strong><br>2015. Yang ZF, Mok CK, Liu XQ, Li XB, He JF, Guan WD, Xu YH, Pan WQ, Chen LY, Lin YP, Wu SG, Pan SH, Huang JC, Ding GY, Zheng K, Ke CW, Lin JY, Zhang YH, Lee HH, Liu WK, ...<br>[ID: 25723593]"
      ],
      "text/plain": [
       "<IPython.core.display.HTML object>"
      ]
     },
     "metadata": {},
     "output_type": "display_data"
    },
    {
     "data": {
      "text/html": [
       "<strong>An uncontrolled open-label, multicenter study to monitor the antiviral activity and safety of inhaled zanamivir (as Rotadisk via Diskhaler device) among Chinese adolescents and adults with influenza-like illness.</strong><br>2012. Cao B, Wang DY, Yu XM, Wei LQ, Pu ZH, Gao Y, Wang J, Dong JP, Li XL, Xu Q, Hu K, Chen BY, Yu YS, Song SF, Shu YL, Wang C<br>[ID: 22932170]"
      ],
      "text/plain": [
       "<IPython.core.display.HTML object>"
      ]
     },
     "metadata": {},
     "output_type": "display_data"
    },
    {
     "data": {
      "text/html": [
       "<strong>Backyard poultry raising in Bangladesh: a valued resource for the villagers and a setting for zoonotic transmission of avian influenza. A qualitative study.</strong><br>2012. Sultana R, Nahar N, Rimi NA, Azad S, Islam MS, Gurley ES, Luby SP<br>[ID: 22950607]"
      ],
      "text/plain": [
       "<IPython.core.display.HTML object>"
      ]
     },
     "metadata": {},
     "output_type": "display_data"
    },
    {
     "data": {
      "text/html": [
       "<strong><a href=http://dx.doi.org/10.1637/8914-043009-Reg.1>Migration of waterfowl in the East Asian flyway and spatial relationship to HPAI H5N1 outbreaks.</a></strong><br>2010. Takekawa JY, Newman SH, Xiao X, Prosser DJ, Spragens KA, Palm EC, Yan B, Li T, Lei F, Zhao D, Douglas DC, Muzaffar SB, Ji W<br>[ID: 20521681]"
      ],
      "text/plain": [
       "<IPython.core.display.HTML object>"
      ]
     },
     "metadata": {},
     "output_type": "display_data"
    },
    {
     "data": {
      "text/html": [
       "<strong><a href=http://dx.doi.org/10.1007/s11262-009-0339-0>Evolution analysis of the matrix (M) protein genes of 17 H9N2 chicken influenza viruses isolated in northern China during 1998-2008.</a></strong><br>2009. Huang Y, Hu B, Wen X, Cao S, Xu D, Zhang X, Khan MI<br>[ID: 19247825]"
      ],
      "text/plain": [
       "<IPython.core.display.HTML object>"
      ]
     },
     "metadata": {},
     "output_type": "display_data"
    },
    {
     "data": {
      "text/html": [
       "<strong><a href=http://dx.doi.org/10.1016/j.vetmic.2014.09.029>Enzootic genotype S of H9N2 avian influenza viruses donates internal genes to emerging zoonotic influenza viruses in China.</a></strong><br>2014. Gu M, Chen H, Li Q, Huang J, Zhao M, Gu X, Jiang K, Wang X, Peng D, Liu X<br>[ID: 25457363]"
      ],
      "text/plain": [
       "<IPython.core.display.HTML object>"
      ]
     },
     "metadata": {},
     "output_type": "display_data"
    },
    {
     "data": {
      "text/html": [
       "<strong><a href=http://dx.doi.org/10.1007/s11596-017-1814-9>'Outbreak Gold Standard' selection to provide optimized threshold for infectious diseases early-alert based on China Infectious Disease Automated-alert and Response System.</a></strong><br>2017. Wang RP, Jiang YG, Zhao GM, Guo XQ, Michael E<br>[ID: 29270740]"
      ],
      "text/plain": [
       "<IPython.core.display.HTML object>"
      ]
     },
     "metadata": {},
     "output_type": "display_data"
    },
    {
     "data": {
      "text/html": [
       "<strong><a href=http://dx.doi.org/10.1007/s00705-012-1259-1>Characterization of a highly pathogenic H5N1 avian influenza virus isolated from ducks in Eastern China in 2011.</a></strong><br>2012. Hai-bo W, Chao-tan G, Ru-feng L, Li-hua X, En-kang W, Jin-biao Y, Yi-ting W, Qiao-gang W, Nan-ping W<br>[ID: 22371029]"
      ],
      "text/plain": [
       "<IPython.core.display.HTML object>"
      ]
     },
     "metadata": {},
     "output_type": "display_data"
    },
    {
     "data": {
      "text/html": [
       "<strong>[Antigenic and genetic study of influenza virus B circulated in China in 2004-2005].</strong><br>2006. Zhang Y, Wen LY, Zhao X, Li Z, Guo JF, Xu CL, Wang M, Yu HJ, Yang WZ, Guo YJ, Shu YL<br>[ID: 16816852]"
      ],
      "text/plain": [
       "<IPython.core.display.HTML object>"
      ]
     },
     "metadata": {},
     "output_type": "display_data"
    },
    {
     "data": {
      "text/html": [
       "<strong><a href=http://dx.doi.org/10.1371/journal.pone.0096674>Epidemiology of acute respiratory infections in children in Guangzhou: a three-year study.</a></strong><br>2014. Liu WK, Liu Q, Chen DH, Liang HX, Chen XK, Chen MX, Qiu SY, Yang ZY, Zhou R<br>[ID: 24797911]"
      ],
      "text/plain": [
       "<IPython.core.display.HTML object>"
      ]
     },
     "metadata": {},
     "output_type": "display_data"
    },
    {
     "data": {
      "text/html": [
       "<strong><a href=http://dx.doi.org/10.1128/JVI.02275-15>Hemagglutinin Stalk- and Neuraminidase-Specific Monoclonal Antibodies Protect against Lethal H10N8 Influenza Virus Infection in Mice.</a></strong><br>2016. Wohlbold TJ, Chromikova V, Tan GS, Meade P, Amanat F, Comella P, Hirsh A, Krammer F<br>[ID: 26512088]"
      ],
      "text/plain": [
       "<IPython.core.display.HTML object>"
      ]
     },
     "metadata": {},
     "output_type": "display_data"
    },
    {
     "data": {
      "text/html": [
       "<strong>Origin and evolution of highly pathogenic H5N1 avian influenza in Asia.</strong><br>2005. Sims LD, Domenech J, Benigno C, Kahn S, Kamata A, Lubroth J, Martin V, Roeder P<br>[ID: 16085721]"
      ],
      "text/plain": [
       "<IPython.core.display.HTML object>"
      ]
     },
     "metadata": {},
     "output_type": "display_data"
    },
    {
     "data": {
      "text/html": [
       "<strong><a href=http://dx.doi.org/10.1128/genomeA.00431-13>Complete Genome Sequence of a Novel Reassortant Avian Influenza H1N2 Virus Isolated from a Domestic Sparrow in 2012.</a></strong><br>2013. Xie Z, Guo J, Xie L, Liu J, Pang Y, Deng X, Xie Z, Fan Q, Luo S<br>[ID: 23868121]"
      ],
      "text/plain": [
       "<IPython.core.display.HTML object>"
      ]
     },
     "metadata": {},
     "output_type": "display_data"
    },
    {
     "data": {
      "text/html": [
       "<strong>Molecular analysis of the first avian influenza H5N1 isolates from fowl in Romania.</strong><br>2006. Oprişan G, Coste H, Lupulescu E, Oprişoreanu AM, Szmal C, Onita I, Popovici N, Ionescu LE, Bicheru S, Enache N, Ceianu C, Czobor F, Olaru E, Alexandrescu V, Radu DL, Onu A, Popa MI<br>[ID: 18389720]"
      ],
      "text/plain": [
       "<IPython.core.display.HTML object>"
      ]
     },
     "metadata": {},
     "output_type": "display_data"
    },
    {
     "data": {
      "text/html": [
       "<strong><a href=http://dx.doi.org/10.1128/genomeA.00463-13>Full Genome Sequence of a Natural Reassortant H9N2 Avian Influenza Virus Isolated from Domestic Ducks in Jiangsu Province, China.</a></strong><br>2013. Zhao M, Liu Q, Sun Q, Zhang W, Zhao G, Gu M, Wang X, Hu S, Liu X, Liu X<br>[ID: 23868123]"
      ],
      "text/plain": [
       "<IPython.core.display.HTML object>"
      ]
     },
     "metadata": {},
     "output_type": "display_data"
    },
    {
     "data": {
      "text/html": [
       "<strong><a href=http://dx.doi.org/10.1128/genomeA.00469-13>Complete Genome Sequence of Avian Influenza Virus A/chicken/Jiangsu/1001/2013(H5N2), Demonstrating Continuous Reassortance of H5N2 in China.</a></strong><br>2013. Mi Z, Liu W, Fan H, An X, Pei G, Wang W, Xu X, Ma M, Zhang Z, Cao W, Tong Y<br>[ID: 23868124]"
      ],
      "text/plain": [
       "<IPython.core.display.HTML object>"
      ]
     },
     "metadata": {},
     "output_type": "display_data"
    },
    {
     "data": {
      "text/html": [
       "<strong><a href=http://dx.doi.org/10.1093/ofid/ofw182>Risk Factors for Influenza A(H7N9) Disease in China, a Matched Case Control Study, October 2014 to April 2015.</a></strong><br>2016. Zhou L, Ren R, Ou J, Kang M, Wang X, Havers F, Huo X, Liu X, Sun Q, He Y, Liu B, Wu S, Wang Y, Sui H, Zhang Y, Tang S, Chang C, Xiang L, Wang D, Zhao S, ...<br>[ID: 27704029]"
      ],
      "text/plain": [
       "<IPython.core.display.HTML object>"
      ]
     },
     "metadata": {},
     "output_type": "display_data"
    },
    {
     "data": {
      "text/html": [
       "<strong><a href=http://dx.doi.org/10.1016/j.antiviral.2014.04.006>Arbidol as a broad-spectrum antiviral: an update.</a></strong><br>2014. Blaising J, Polyak SJ, Pécheur EI<br>[ID: 24769245]"
      ],
      "text/plain": [
       "<IPython.core.display.HTML object>"
      ]
     },
     "metadata": {},
     "output_type": "display_data"
    },
    {
     "data": {
      "text/html": [
       "<strong><a href=http://dx.doi.org/10.1055/s-0033-1344807>[Informations and recommendations of the German Respiratory Society and the Paul-Ehrlich-Society for chemotherapy concerning the outbreak of influenza A(H7N9) virus infections in humans].</a></strong><br>2013. Höffken G, Kern P, Buchholz U, Ewig S, Schaberg T<br>[ID: 24154847]"
      ],
      "text/plain": [
       "<IPython.core.display.HTML object>"
      ]
     },
     "metadata": {},
     "output_type": "display_data"
    },
    {
     "data": {
      "text/html": [
       "<strong><a href=http://dx.doi.org/10.7555/JBR.27.20130071>Risk assessment on the epidemics of human infection with a novel avian influenza A (H7N9) virus in Jiangsu Province, China.</a></strong><br>2013. Liu W, Zhu Y, Qi X, Xu K, Ge A, Ji H, Ai J, Bao C, Tang F, Zhou M<br>[ID: 23720670]"
      ],
      "text/plain": [
       "<IPython.core.display.HTML object>"
      ]
     },
     "metadata": {},
     "output_type": "display_data"
    },
    {
     "data": {
      "text/html": [
       "<strong><a href=http://dx.doi.org/10.1128/JCM.01090-08>design of multiplexed detection assays for identification of avian influenza a virus subtypes pathogenic to humans by SmartCycler real-time reverse transcription-PCR.</a></strong><br>2009. Wang W, Ren P, Mardi S, Hou L, Tsai C, Chan KH, Cheng P, Sheng J, Buchy P, Sun B, Toyoda T, Lim W, Peiris JS, Zhou P, Deubel V<br>[ID: 18971359]"
      ],
      "text/plain": [
       "<IPython.core.display.HTML object>"
      ]
     },
     "metadata": {},
     "output_type": "display_data"
    },
    {
     "data": {
      "text/html": [
       "<strong><a href=http://dx.doi.org/10.1128/JVI.02605-15>Infectivity and Transmissibility of Avian H9N2 Influenza Viruses in Pigs.</a></strong><br>2016. Wang J, Wu M, Hong W, Fan X, Chen R, Zheng Z, Zeng Y, Huang R, Zhang Y, Lam TT, Smith DK, Zhu H, Guan Y<br>[ID: 26764002]"
      ],
      "text/plain": [
       "<IPython.core.display.HTML object>"
      ]
     },
     "metadata": {},
     "output_type": "display_data"
    },
    {
     "data": {
      "text/html": [
       "<strong><a href=http://dx.doi.org/10.1016/j.vaccine.2016.03.068>Influenza vaccine effectiveness in preventing hospitalization among Beijing residents in China, 2013-15.</a></strong><br>2016. Qin Y, Zhang Y, Wu P, Feng S, Zheng J, Yang P, Pan Y, Wang Q, Feng L, Pang X, Puig-Barberà J, Yu H, Cowling BJ<br>[ID: 27026147]"
      ],
      "text/plain": [
       "<IPython.core.display.HTML object>"
      ]
     },
     "metadata": {},
     "output_type": "display_data"
    },
    {
     "data": {
      "text/html": [
       "<strong><a href=http://dx.doi.org/10.1371/journal.pone.0120793>Evaluation of MDCK cell-derived influenza H7N9 vaccine candidates in ferrets.</a></strong><br>2015. Chia MY, Hu AY, Tseng YF, Weng TC, Lai CC, Lin JY, Chen PL, Wang YF, Chao SR, Chang JY, Hwang YS, Yeh CT, Yu CP, Chen YC, Su IJ, Lee MS<br>[ID: 25799397]"
      ],
      "text/plain": [
       "<IPython.core.display.HTML object>"
      ]
     },
     "metadata": {},
     "output_type": "display_data"
    },
    {
     "data": {
      "text/html": [
       "<strong><a href=http://dx.doi.org/10.1099/vir.0.071001-0>C-terminal elongation of NS1 of H9N2 influenza virus induces a high level of inflammatory cytokines and increases transmission.</a></strong><br>2015. Kong W, Liu L, Wang Y, He Q, Wu S, Qin Z, Wang J, Sun H, Sun Y, Zhang R, Pu J, Liu J<br>[ID: 25326314]"
      ],
      "text/plain": [
       "<IPython.core.display.HTML object>"
      ]
     },
     "metadata": {},
     "output_type": "display_data"
    },
    {
     "data": {
      "text/html": [
       "<strong>Origin of the hemagglutinin gene of H3N2 influenza viruses from pigs in China.</strong><br>1988. Kida H, Shortridge KF, Webster RG<br>[ID: 3336940]"
      ],
      "text/plain": [
       "<IPython.core.display.HTML object>"
      ]
     },
     "metadata": {},
     "output_type": "display_data"
    },
    {
     "data": {
      "text/html": [
       "<strong><a href=http://dx.doi.org/10.1038/srep14170>Dual E627K and D701N mutations in the PB2 protein of A(H7N9) influenza virus increased its virulence in mammalian models.</a></strong><br>2015. Zhu W, Li L, Yan Z, Gan T, Li L, Chen R, Chen R, Zheng Z, Hong W, Wang J, Smith DK, Guan Y, Zhu H, Shu Y<br>[ID: 26391278]"
      ],
      "text/plain": [
       "<IPython.core.display.HTML object>"
      ]
     },
     "metadata": {},
     "output_type": "display_data"
    },
    {
     "data": {
      "text/html": [
       "<strong><a href=http://dx.doi.org/10.1196/annals.1307.001>Conservation medicine and a new agenda for emerging diseases.</a></strong><br>2004. Daszak P, Tabor GM, Kilpatrick AM, Epstein J, Plowright R<br>[ID: 15604464]"
      ],
      "text/plain": [
       "<IPython.core.display.HTML object>"
      ]
     },
     "metadata": {},
     "output_type": "display_data"
    },
    {
     "data": {
      "text/html": [
       "<strong>[Seroepidemiologic survey for A/PR/8/34 (H1N1) virus from Chinese residents].</strong><br>1998. Guo Y, Qi J, Wang M<br>[ID: 12526320]"
      ],
      "text/plain": [
       "<IPython.core.display.HTML object>"
      ]
     },
     "metadata": {},
     "output_type": "display_data"
    },
    {
     "data": {
      "text/html": [
       "<strong><a href=http://dx.doi.org/10.2147/DDDT.S160329>Population pharmacokinetics and dosing optimization of cefathiamidine in children with hematologic infection.</a></strong><br>2018. Zhi LJ, Wang L, Chen XK, Zhai XY, Wen L, Dong L, Jacqz-Aigrain E, Shi ZR, Zhao W<br>[ID: 29713143]"
      ],
      "text/plain": [
       "<IPython.core.display.HTML object>"
      ]
     },
     "metadata": {},
     "output_type": "display_data"
    },
    {
     "data": {
      "text/html": [
       "<strong><a href=http://dx.doi.org/10.1186/s12879-017-2888-5>Possible interference between seasonal epidemics of influenza and other respiratory viruses in Hong Kong, 2014-2017.</a></strong><br>2017. Zheng X, Song Z, Li Y, Zhang J, Wang XL<br>[ID: 29246199]"
      ],
      "text/plain": [
       "<IPython.core.display.HTML object>"
      ]
     },
     "metadata": {},
     "output_type": "display_data"
    },
    {
     "data": {
      "text/html": [
       "<strong><a href=http://dx.doi.org/10.1517/14728222.2015.1006198>Gene expression signatures as a therapeutic target for severe H7N9 influenza - what do we know so far?</a></strong><br>2015. Morrison J, Katze MG<br>[ID: 25600759]"
      ],
      "text/plain": [
       "<IPython.core.display.HTML object>"
      ]
     },
     "metadata": {},
     "output_type": "display_data"
    },
    {
     "data": {
      "text/html": [
       "<strong><a href=http://dx.doi.org/10.1038/ncomms4142>Dynamic reassortments and genetic heterogeneity of the human-infecting influenza A (H7N9) virus.</a></strong><br>2014. Cui L, Liu D, Shi W, Pan J, Qi X, Li X, Guo X, Zhou M, Li W, Li J, Haywood J, Xiao H, Yu X, Pu X, Wu Y, Yu H, Zhao K, Zhu Y, Wu B, Jin T, ...<br>[ID: 24457975]"
      ],
      "text/plain": [
       "<IPython.core.display.HTML object>"
      ]
     },
     "metadata": {},
     "output_type": "display_data"
    },
    {
     "data": {
      "text/html": [
       "<strong><a href=http://dx.doi.org/10.1177/1010539510365097>Hospital health care workers' understanding of and attitudes toward pandemic influenza in Beijing.</a></strong><br>2012. Seale H, Wang Q, Yang P, Dwyer DE, Zhang Y, Wang X, Li X, MacIntyre CR<br>[ID: 20460279]"
      ],
      "text/plain": [
       "<IPython.core.display.HTML object>"
      ]
     },
     "metadata": {},
     "output_type": "display_data"
    },
    {
     "data": {
      "text/html": [
       "<strong><a href=http://dx.doi.org/10.1111/tbed.12279>Risk of Introduction in Northern Vietnam of HPAI Viruses from China: Description, Patterns and Drivers of Illegal Poultry Trade.</a></strong><br>2016. Desvaux S, Nguyen CO, Vu DT, Henriquez C, Ky VD, Roger F, Fenwick S, Goutard F<br>[ID: 25268992]"
      ],
      "text/plain": [
       "<IPython.core.display.HTML object>"
      ]
     },
     "metadata": {},
     "output_type": "display_data"
    },
    {
     "data": {
      "text/html": [
       "<strong><a href=http://dx.doi.org/10.1097/INF.0000000000000492>Mild influenza A/H7N9 infection among children in Guangdong Province.</a></strong><br>2015. Zeng X, Mai W, Shu B, Yi L, Lu J, Song T, Zhong H, Xiao H, Guan D, Wu J, Liang L, Monagin C, Zhang X, Ke C<br>[ID: 25068289]"
      ],
      "text/plain": [
       "<IPython.core.display.HTML object>"
      ]
     },
     "metadata": {},
     "output_type": "display_data"
    },
    {
     "data": {
      "text/html": [
       "<strong><a href=http://dx.doi.org/10.1007/s11427-017-9221-4>Research progress in human infection with avian influenza H7N9 virus.</a></strong><br>2017. Tang J, Wang D<br>[ID: 29270791]"
      ],
      "text/plain": [
       "<IPython.core.display.HTML object>"
      ]
     },
     "metadata": {},
     "output_type": "display_data"
    },
    {
     "data": {
      "text/html": [
       "<strong><a href=http://dx.doi.org/10.1007/s11427-017-9211-0>Pathogen genomic surveillance elucidates the origins, transmission and evolution of emerging viral agents in China.</a></strong><br>2017. Shi W, Li J, Zhou H, Gao GF<br>[ID: 29270793]"
      ],
      "text/plain": [
       "<IPython.core.display.HTML object>"
      ]
     },
     "metadata": {},
     "output_type": "display_data"
    },
    {
     "data": {
      "text/html": [
       "<strong>[Adamantane resistance among influenza A (H3N2) viruses isolated from the mainland of China].</strong><br>2006. Lan Y, Li Z, Dong LB, Zhang Y, Wen LY, Zhang YM, Wang M, Guo YJ, Shu YL<br>[ID: 16816855]"
      ],
      "text/plain": [
       "<IPython.core.display.HTML object>"
      ]
     },
     "metadata": {},
     "output_type": "display_data"
    },
    {
     "data": {
      "text/html": [
       "<strong><a href=http://dx.doi.org/10.1038/s41598-017-02598-z>The PB2 mutation with lysine at 627 enhances the pathogenicity of avian influenza (H7N9) virus which belongs to a non-zoonotic lineage.</a></strong><br>2017. Li W, Lee HHY, Li RF, Zhu HM, Yi G, Peiris JSM, Yang ZF, Mok CKP<br>[ID: 28539661]"
      ],
      "text/plain": [
       "<IPython.core.display.HTML object>"
      ]
     },
     "metadata": {},
     "output_type": "display_data"
    },
    {
     "data": {
      "text/html": [
       "<strong>Characterization of H9 subtype influenza viruses from the ducks of southern China: a candidate for the next influenza pandemic in humans?</strong><br>2003. Li KS, Xu KM, Peiris JS, Poon LL, Yu KZ, Yuen KY, Shortridge KF, Webster RG, Guan Y<br>[ID: 12768017]"
      ],
      "text/plain": [
       "<IPython.core.display.HTML object>"
      ]
     },
     "metadata": {},
     "output_type": "display_data"
    },
    {
     "data": {
      "text/html": [
       "<strong>[Antigenic and genetic study of influenza virus (H1N1) circulated in China in 2004-2005].</strong><br>2006. Xu CL, Xiang NJ, Zhang Y, Wen LY, Zhao X, Li Z, Guo JF, Wang M, Yu HJ, Yang WZ, Guo YJ, Shu YL<br>[ID: 16816857]"
      ],
      "text/plain": [
       "<IPython.core.display.HTML object>"
      ]
     },
     "metadata": {},
     "output_type": "display_data"
    },
    {
     "data": {
      "text/html": [
       "<strong><a href=http://dx.doi.org/10.1136/bmjopen-2013-004279>Journey to vaccination: a protocol for a multinational qualitative study.</a></strong><br>2014. Wheelock A, Miraldo M, Parand A, Vincent C, Sevdalis N<br>[ID: 24486678]"
      ],
      "text/plain": [
       "<IPython.core.display.HTML object>"
      ]
     },
     "metadata": {},
     "output_type": "display_data"
    },
    {
     "data": {
      "text/html": [
       "<strong><a href=http://dx.doi.org/10.1172/JCI85317>H7N9 influenza virus neutralizing antibodies that possess few somatic mutations.</a></strong><br>2016. Thornburg NJ, Zhang H, Bangaru S, Sapparapu G, Kose N, Lampley RM, Bombardi RG, Yu Y, Graham S, Branchizio A, Yoder SM, Rock MT, Creech CB, Edwards KM, Lee D, Li S, Wilson IA, García-Sastre A, Albrecht RA, Crowe JE Jr<br>[ID: 26950424]"
      ],
      "text/plain": [
       "<IPython.core.display.HTML object>"
      ]
     },
     "metadata": {},
     "output_type": "display_data"
    },
    {
     "data": {
      "text/html": [
       "<strong><a href=http://dx.doi.org/10.1080/03079457.2014.898244>Molecular evolution of H5N1 highly pathogenic avian influenza viruses in Bangladesh between 2007 and 2012.</a></strong><br>2014. Haque ME, Giasuddin M, Chowdhury EH, Islam MR<br>[ID: 24689433]"
      ],
      "text/plain": [
       "<IPython.core.display.HTML object>"
      ]
     },
     "metadata": {},
     "output_type": "display_data"
    },
    {
     "data": {
      "text/html": [
       "<strong><a href=http://dx.doi.org/10.1016/j.virol.2014.10.002>Efficient replication and strong induction of innate immune responses by H9N2 avian influenza virus in human dendritic cells.</a></strong><br>2014. Westenius V, Mäkelä SM, Ziegler T, Julkunen I, Österlund P<br>[ID: 25461529]"
      ],
      "text/plain": [
       "<IPython.core.display.HTML object>"
      ]
     },
     "metadata": {},
     "output_type": "display_data"
    },
    {
     "data": {
      "text/html": [
       "<strong><a href=http://dx.doi.org/10.1093/cid/ciy681>Clinical and immunological characteristics of human infections with H5N6 avian influenza virus.</a></strong><br>2018. Bi Y, Tan S, Yang Y, Wong G, Zhao M, Zhang Q, Wang Q, Zhao X, Li L, Yuan J, Li H, Li H, Xu W, Shi W, Quan C, Zou R, Li J, Zheng H, Yang L, Liu WJ, ...<br>[ID: 30124826]"
      ],
      "text/plain": [
       "<IPython.core.display.HTML object>"
      ]
     },
     "metadata": {},
     "output_type": "display_data"
    },
    {
     "data": {
      "text/html": [
       "<strong><a href=http://dx.doi.org/10.3201/eid1909.130336>Antigenic and molecular characterization of avian influenza A(H9N2) viruses, Bangladesh.</a></strong><br>2013. Shanmuganatham K, Feeroz MM, Jones-Engel L, Smith GJ, Fourment M, Walker D, McClenaghan L, Alam SM, Hasan MK, Seiler P, Franks J, Danner A, Barman S, McKenzie P, Krauss S, Webby RJ, Webster RG<br>[ID: 23968540]"
      ],
      "text/plain": [
       "<IPython.core.display.HTML object>"
      ]
     },
     "metadata": {},
     "output_type": "display_data"
    },
    {
     "data": {
      "text/html": [
       "<strong><a href=http://dx.doi.org/10.1111/tbed.12733>Global genetic variation and transmission dynamics of H9N2 avian influenza virus.</a></strong><br>2018. Wei K, Li Y<br>[ID: 29086491]"
      ],
      "text/plain": [
       "<IPython.core.display.HTML object>"
      ]
     },
     "metadata": {},
     "output_type": "display_data"
    },
    {
     "data": {
      "text/html": [
       "<strong>[Influenza surveillance].</strong><br>1992. Shen F<br>[ID: 1303322]"
      ],
      "text/plain": [
       "<IPython.core.display.HTML object>"
      ]
     },
     "metadata": {},
     "output_type": "display_data"
    },
    {
     "data": {
      "text/html": [
       "<strong>[Viral pathogens of acute lower respiratory tract infection in hospitalized children from East Guangdong of China].</strong><br>2009. Ou SY, Lin GY, Wu Y, Lu XD, Lin CX, Zhou RB<br>[ID: 19292960]"
      ],
      "text/plain": [
       "<IPython.core.display.HTML object>"
      ]
     },
     "metadata": {},
     "output_type": "display_data"
    },
    {
     "data": {
      "text/html": [
       "<strong><a href=http://dx.doi.org/10.1016/j.agee.2006.09.001>Avian influenza, domestic ducks and rice agriculture in Thailand.</a></strong><br>2007. Gilbert M, Xiao X, Chaitaweesub P, Kalpravidh W, Premashthira S, Boles S, Slingenbergh J<br>[ID: 18418464]"
      ],
      "text/plain": [
       "<IPython.core.display.HTML object>"
      ]
     },
     "metadata": {},
     "output_type": "display_data"
    },
    {
     "data": {
      "text/html": [
       "<strong><a href=http://dx.doi.org/10.1128/JVI.01327-14>Expansion of genotypic diversity and establishment of 2009 H1N1 pandemic-origin internal genes in pigs in China.</a></strong><br>2014. Liang H, Lam TT, Fan X, Chen X, Zeng Y, Zhou J, Duan L, Tse M, Chan CH, Li L, Leung TY, Yip CH, Cheung CL, Zhou B, Smith DK, Poon LL, Peiris M, Guan Y, Zhu H<br>[ID: 25008935]"
      ],
      "text/plain": [
       "<IPython.core.display.HTML object>"
      ]
     },
     "metadata": {},
     "output_type": "display_data"
    },
    {
     "data": {
      "text/html": [
       "<strong><a href=http://dx.doi.org/10.1371/journal.pone.0041403>Epidemiologic and economic burden of influenza in the outpatient setting: a prospective study in a subtropical area of China.</a></strong><br>2012. Guo RN, Zheng HZ, Huang LQ, Zhou Y, Zhang X, Liang CK, Lin JY, He JF, Zhang JQ<br>[ID: 22911789]"
      ],
      "text/plain": [
       "<IPython.core.display.HTML object>"
      ]
     },
     "metadata": {},
     "output_type": "display_data"
    },
    {
     "data": {
      "text/html": [
       "<strong>[Influenza A (H5N1) in Hong Kong: Forerunner of a pandemic or just a scientifically interesting phenomenon and a useful exercise in pandemiology?].</strong><br>1998. de Jong JC, Claas EC, Osterhaus AD<br>[ID: 9749297]"
      ],
      "text/plain": [
       "<IPython.core.display.HTML object>"
      ]
     },
     "metadata": {},
     "output_type": "display_data"
    },
    {
     "data": {
      "text/html": [
       "<strong><a href=http://dx.doi.org/10.4161/hv.28135>Cross-conservation of T-cell epitopes: now even more relevant to (H7N9) influenza vaccine design.</a></strong><br>2014. De Groot AS, Moise L, Liu R, Gutierrez AH, Terry F, Koita OA, Ross TM, Martin W<br>[ID: 24525618]"
      ],
      "text/plain": [
       "<IPython.core.display.HTML object>"
      ]
     },
     "metadata": {},
     "output_type": "display_data"
    },
    {
     "data": {
      "text/html": [
       "<strong><a href=http://dx.doi.org/10.1016/j.virol.2013.12.023>Multiple reassortment events among highly pathogenic avian influenza A(H5N1) viruses detected in Bangladesh.</a></strong><br>2014. Gerloff NA, Khan SU, Balish A, Shanta IS, Simpson N, Berman L, Haider N, Poh MK, Islam A, Gurley E, Hasnat MA, Dey T, Shu B, Emery S, Lindstrom S, Haque A, Klimov A, Villanueva J, Rahman M, Azziz-Baumgartner E, ...<br>[ID: 24503093]"
      ],
      "text/plain": [
       "<IPython.core.display.HTML object>"
      ]
     },
     "metadata": {},
     "output_type": "display_data"
    },
    {
     "data": {
      "text/html": [
       "<strong><a href=http://dx.doi.org/10.1126/science.1239844>Infectivity, transmission, and pathology of human-isolated H7N9 influenza virus in ferrets and pigs.</a></strong><br>2013. Zhu H, Wang D, Kelvin DJ, Li L, Zheng Z, Yoon SW, Wong SS, Farooqui A, Wang J, Banner D, Chen R, Zheng R, Zhou J, Zhang Y, Hong W, Dong W, Cai Q, Roehrl MH, Huang SS, Kelvin AA, ...<br>[ID: 23704376]"
      ],
      "text/plain": [
       "<IPython.core.display.HTML object>"
      ]
     },
     "metadata": {},
     "output_type": "display_data"
    },
    {
     "data": {
      "text/html": [
       "<strong>Molecular epidemiology of H5N1 avian influenza.</strong><br>2009. Guan Y, Smith GJ, Webby R, Webster RG<br>[ID: 19618617]"
      ],
      "text/plain": [
       "<IPython.core.display.HTML object>"
      ]
     },
     "metadata": {},
     "output_type": "display_data"
    },
    {
     "data": {
      "text/html": [
       "<strong><a href=http://dx.doi.org/10.1371/journal.ppat.1004642>Diverse heterologous primary infections radically alter immunodominance hierarchies and clinical outcomes following H7N9 influenza challenge in mice.</a></strong><br>2015. Duan S, Meliopoulos VA, McClaren JL, Guo XZ, Sanders CJ, Smallwood HS, Webby RJ, Schultz-Cherry SL, Doherty PC, Thomas PG<br>[ID: 25668410]"
      ],
      "text/plain": [
       "<IPython.core.display.HTML object>"
      ]
     },
     "metadata": {},
     "output_type": "display_data"
    },
    {
     "data": {
      "text/html": [
       "<strong>Possible pandemic threat from new reassortment of influenza A(H7N9) virus in China.</strong><br>2014. Meng Z, Han R, Hu Y, Yuan Z, Jiang S, Zhang X, Xu J<br>[ID: 24556346]"
      ],
      "text/plain": [
       "<IPython.core.display.HTML object>"
      ]
     },
     "metadata": {},
     "output_type": "display_data"
    },
    {
     "data": {
      "text/html": [
       "<strong><a href=http://dx.doi.org/10.1099/vir.0.000056>Two novel reassortants of avian influenza A (H5N6) virus in China.</a></strong><br>2015. Bi Y, Mei K, Shi W, Liu D, Yu X, Gao Z, Zhao L, Gao GF, Chen J, Chen Q<br>[ID: 25604926]"
      ],
      "text/plain": [
       "<IPython.core.display.HTML object>"
      ]
     },
     "metadata": {},
     "output_type": "display_data"
    },
    {
     "data": {
      "text/html": [
       "<strong><a href=http://dx.doi.org/10.1111/j.1469-0691.2009.02746.x>Prevalence of human respiratory viruses in adults with acute respiratory tract infections in Beijing, 2005-2007.</a></strong><br>2009. Ren L, Gonzalez R, Wang Z, Xiang Z, Wang Y, Zhou H, Li J, Xiao Y, Yang Q, Zhang J, Chen L, Wang W, Li Y, Li T, Meng X, Zhang Y, Vernet G, Paranhos-Baccalà G, Chen J, Jin Q, ...<br>[ID: 19456830]"
      ],
      "text/plain": [
       "<IPython.core.display.HTML object>"
      ]
     },
     "metadata": {},
     "output_type": "display_data"
    },
    {
     "data": {
      "text/html": [
       "<strong>Avian influenza vaccination: the experience in China.</strong><br>2009. Chen H<br>[ID: 19618631]"
      ],
      "text/plain": [
       "<IPython.core.display.HTML object>"
      ]
     },
     "metadata": {},
     "output_type": "display_data"
    },
    {
     "data": {
      "text/html": [
       "<strong><a href=http://dx.doi.org/10.1128/JVI.00883-16>Prevailing PA Mutation K356R in Avian Influenza H9N2 Virus Increases Mammalian Replication and Pathogenicity.</a></strong><br>2016. Xu G, Zhang X, Gao W, Wang C, Wang J, Sun H, Sun Y, Guo L, Zhang R, Chang KC, Liu J, Pu J<br>[ID: 27384648]"
      ],
      "text/plain": [
       "<IPython.core.display.HTML object>"
      ]
     },
     "metadata": {},
     "output_type": "display_data"
    },
    {
     "data": {
      "text/html": [
       "<strong><a href=http://dx.doi.org/10.1186/s12879-016-1383-8>Efficacy of oseltamivir-peramivir combination therapy compared to oseltamivir monotherapy for Influenza A (H7N9) infection: a retrospective study.</a></strong><br>2016. Zhang Y, Gao H, Liang W, Tang L, Yang Y, Wu X, Yu L, Chen P, Zheng S, Ou H, Li L<br>[ID: 26864456]"
      ],
      "text/plain": [
       "<IPython.core.display.HTML object>"
      ]
     },
     "metadata": {},
     "output_type": "display_data"
    },
    {
     "data": {
      "text/html": [
       "<strong><a href=http://dx.doi.org/10.1016/j.ijid.2013.11.013>Correlation between reported human infection with avian influenza A H7N9 virus and cyber user awareness: what can we learn from digital epidemiology?</a></strong><br>2014. Xie T, Yang Z, Yang S, Wu N, Li L<br>[ID: 24576842]"
      ],
      "text/plain": [
       "<IPython.core.display.HTML object>"
      ]
     },
     "metadata": {},
     "output_type": "display_data"
    },
    {
     "data": {
      "text/html": [
       "<strong>Biological Characteristics of H9N2 Avian Influenza Viruses from Healthy Chickens in Shanghai, China.</strong><br>2016. Shi Q, Wang Q, Ju L, Xiong H, Chen Y, Jiang L, Jiang Q<br>[ID: 27941707]"
      ],
      "text/plain": [
       "<IPython.core.display.HTML object>"
      ]
     },
     "metadata": {},
     "output_type": "display_data"
    },
    {
     "data": {
      "text/html": [
       "<strong><a href=http://dx.doi.org/10.1016/j.mehy.2006.05.002>Bird flu, influenza and 1918: the case for mutant Avian tuberculosis.</a></strong><br>2006. Broxmeyer L<br>[ID: 16806732]"
      ],
      "text/plain": [
       "<IPython.core.display.HTML object>"
      ]
     },
     "metadata": {},
     "output_type": "display_data"
    },
    {
     "data": {
      "text/html": [
       "<strong>Protective cross-reactive cellular immunity to lethal A/Goose/Guangdong/1/96-like H5N1 influenza virus is correlated with the proportion of pulmonary CD8(+) T cells expressing gamma interferon.</strong><br>2002. Seo SH, Peiris M, Webster RG<br>[ID: 11967305]"
      ],
      "text/plain": [
       "<IPython.core.display.HTML object>"
      ]
     },
     "metadata": {},
     "output_type": "display_data"
    },
    {
     "data": {
      "text/html": [
       "<strong><a href=http://dx.doi.org/10.1017/S0950268814003264>Case-control study of risk factors for human infection with avian influenza A(H7N9) virus in Shanghai, China, 2013.</a></strong><br>2015. Li J, Chen J, Yang G, Zheng YX, Mao SH, Zhu WP, Yu XL, Gao Y, Pan QC, Yuan ZA<br>[ID: 25471822]"
      ],
      "text/plain": [
       "<IPython.core.display.HTML object>"
      ]
     },
     "metadata": {},
     "output_type": "display_data"
    },
    {
     "data": {
      "text/html": [
       "<strong><a href=http://dx.doi.org/10.1021/ci400421e>Structurally conserved binding sites of hemagglutinin as targets for influenza drug and vaccine development.</a></strong><br>2013. Yusuf M, Konc J, Sy Bing C, Trykowska Konc J, Ahmad Khairudin NB, Janezic D, Wahab HA<br>[ID: 23980878]"
      ],
      "text/plain": [
       "<IPython.core.display.HTML object>"
      ]
     },
     "metadata": {},
     "output_type": "display_data"
    },
    {
     "data": {
      "text/html": [
       "<strong><a href=http://dx.doi.org/10.1007/s11262-015-1198-5>Genetic analysis of H3N2 avian influenza viruses isolated from live poultry markets and poultry slaughterhouses in Shanghai, China in 2013.</a></strong><br>2015. Yang D, Liu J, Ju H, Ge F, Wang J, Li X, Zhou J, Liu P<br>[ID: 25899857]"
      ],
      "text/plain": [
       "<IPython.core.display.HTML object>"
      ]
     },
     "metadata": {},
     "output_type": "display_data"
    },
    {
     "data": {
      "text/html": [
       "<strong><a href=http://dx.doi.org/10.1016/j.jcma.2015.08.009>No evidence of 1918 influenza pandemic origin in Chinese laborers/soldiers in France.</a></strong><br>2016. Shanks GD<br>[ID: 26542935]"
      ],
      "text/plain": [
       "<IPython.core.display.HTML object>"
      ]
     },
     "metadata": {},
     "output_type": "display_data"
    },
    {
     "data": {
      "text/html": [
       "<strong><a href=http://dx.doi.org/10.1371/journal.pone.0099322>Response of mice and ferrets to a monovalent influenza A (H7N9) split vaccine.</a></strong><br>2014. Duan Y, Gu H, Chen R, Zhao Z, Zhang L, Xing L, Lai C, Zhang P, Li Z, Zhang K, Wang Z, Zhang S, Wang X, Yang P<br>[ID: 24937303]"
      ],
      "text/plain": [
       "<IPython.core.display.HTML object>"
      ]
     },
     "metadata": {},
     "output_type": "display_data"
    },
    {
     "data": {
      "text/html": [
       "<strong><a href=http://dx.doi.org/10.1016/j.envres.2015.06.040>Time series regression model for infectious disease and weather.</a></strong><br>2015. Imai C, Armstrong B, Chalabi Z, Mangtani P, Hashizume M<br>[ID: 26188633]"
      ],
      "text/plain": [
       "<IPython.core.display.HTML object>"
      ]
     },
     "metadata": {},
     "output_type": "display_data"
    },
    {
     "data": {
      "text/html": [
       "<strong><a href=http://dx.doi.org/10.1371/journal.pone.0072606>Viral etiology and clinical profiles of children with severe acute respiratory infections in China.</a></strong><br>2013. Zhang C, Zhu N, Xie Z, Lu R, He B, Liu C, Ma X, Tan W<br>[ID: 23991128]"
      ],
      "text/plain": [
       "<IPython.core.display.HTML object>"
      ]
     },
     "metadata": {},
     "output_type": "display_data"
    },
    {
     "data": {
      "text/html": [
       "<strong><a href=http://dx.doi.org/10.1016/j.jinf.2017.12.012>Pathogenicity and transmissibility of three avian influenza A (H5N6) viruses isolated from wild birds.</a></strong><br>2018. Kang Y, Shen X, Yuan R, Xiang B, Fang Z, Murphy RW, Liao M, Shen Y, Ren T<br>[ID: 29307740]"
      ],
      "text/plain": [
       "<IPython.core.display.HTML object>"
      ]
     },
     "metadata": {},
     "output_type": "display_data"
    },
    {
     "data": {
      "text/html": [
       "<strong><a href=http://dx.doi.org/10.1016/j.vaccine.2014.04.060>Potency of an inactivated influenza vaccine prepared from A/duck/Mongolia/119/2008 (H7N9) against the challenge with A/Anhui/1/2013 (H7N9).</a></strong><br>2014. Chu DH, Sakoda Y, Nishi T, Hiono T, Shichinohe S, Okamatsu M, Kida H<br>[ID: 24793949]"
      ],
      "text/plain": [
       "<IPython.core.display.HTML object>"
      ]
     },
     "metadata": {},
     "output_type": "display_data"
    },
    {
     "data": {
      "text/html": [
       "<strong><a href=http://dx.doi.org/10.1177/1010539510377653>Controlling influenza A (H1N1) in China: Bayesian or frequentist approach.</a></strong><br>2012. Lai D, Hsu CE, Glasser JH<br>[ID: 20685666]"
      ],
      "text/plain": [
       "<IPython.core.display.HTML object>"
      ]
     },
     "metadata": {},
     "output_type": "display_data"
    },
    {
     "data": {
      "text/html": [
       "<strong>The next influenza pandemic: lessons from Hong Kong.</strong><br>2003. Shortridge KF, Peiris JS, Guan Y<br>[ID: 12675938]"
      ],
      "text/plain": [
       "<IPython.core.display.HTML object>"
      ]
     },
     "metadata": {},
     "output_type": "display_data"
    },
    {
     "data": {
      "text/html": [
       "<strong><a href=http://dx.doi.org/10.1016/j.ijbiomac.2016.11.054>Identification of Inonotus obliquus polysaccharide with broad-spectrum antiviral activity against multi-feline viruses.</a></strong><br>2017. Tian J, Hu X, Liu D, Wu H, Qu L<br>[ID: 27865960]"
      ],
      "text/plain": [
       "<IPython.core.display.HTML object>"
      ]
     },
     "metadata": {},
     "output_type": "display_data"
    },
    {
     "data": {
      "text/html": [
       "<strong><a href=http://dx.doi.org/10.1017/S0950268815002812>Interpreting the transmissibility of the avian influenza A(H7N9) infection from 2013 to 2015 in Zhejiang Province, China.</a></strong><br>2016. Chong KC, Wang X, Liu S, Cai J, Su X, Zee BC, Tam G, Wang MH, Chen E<br>[ID: 26645357]"
      ],
      "text/plain": [
       "<IPython.core.display.HTML object>"
      ]
     },
     "metadata": {},
     "output_type": "display_data"
    },
    {
     "data": {
      "text/html": [
       "<strong><a href=http://dx.doi.org/10.1016/j.virol.2012.09.037>Identification and characterization of avian-origin H3N2 canine influenza viruses in northern China during 2009-2010.</a></strong><br>2013. Sun Y, Sun S, Ma J, Tan Y, Du L, Shen Y, Mu Q, Pu J, Lin D, Liu J<br>[ID: 23063406]"
      ],
      "text/plain": [
       "<IPython.core.display.HTML object>"
      ]
     },
     "metadata": {},
     "output_type": "display_data"
    },
    {
     "data": {
      "text/html": [
       "<strong><a href=http://dx.doi.org/10.1111/irv.12257>A 3-year prospective study of the epidemiology of acute respiratory viral infections in hospitalized children in Shenzhen, China.</a></strong><br>2014. He Y, Lin GY, Wang Q, Cai XY, Zhang YH, Lin CX, Lu CD, Lu XD<br>[ID: 24828783]"
      ],
      "text/plain": [
       "<IPython.core.display.HTML object>"
      ]
     },
     "metadata": {},
     "output_type": "display_data"
    },
    {
     "data": {
      "text/html": [
       "<strong><a href=http://dx.doi.org/10.4269/ajtmh.15-0064>High Pathogenicity of Influenza A (H10N8) Virus in Mice.</a></strong><br>2015. Chen H, Huang L, Li H, Zhou X, Li H, Sun N, Qi W, Xiao C, Ni X, Liu M, Liao M<br>[ID: 26350451]"
      ],
      "text/plain": [
       "<IPython.core.display.HTML object>"
      ]
     },
     "metadata": {},
     "output_type": "display_data"
    },
    {
     "data": {
      "text/html": [
       "<strong><a href=http://dx.doi.org/10.1111/irv.12490>Estimates of seasonal influenza-associated mortality in Bangladesh, 2010-2012.</a></strong><br>2018. Ahmed M, Aleem MA, Roguski K, Abedin J, Islam A, Alam KF, Gurley ES, Rahman M, Azziz-Baumgartner E, Homaira N, Sturm-Ramirez K, Danielle Iuliano A<br>[ID: 29197174]"
      ],
      "text/plain": [
       "<IPython.core.display.HTML object>"
      ]
     },
     "metadata": {},
     "output_type": "display_data"
    },
    {
     "data": {
      "text/html": [
       "<strong><a href=http://dx.doi.org/10.1073/pnas.0608157103>Emergence and predominance of an H5N1 influenza variant in China.</a></strong><br>2006. Smith GJ, Fan XH, Wang J, Li KS, Qin K, Zhang JX, Vijaykrishna D, Cheung CL, Huang K, Rayner JM, Peiris JS, Chen H, Webster RG, Guan Y<br>[ID: 17075062]"
      ],
      "text/plain": [
       "<IPython.core.display.HTML object>"
      ]
     },
     "metadata": {},
     "output_type": "display_data"
    },
    {
     "data": {
      "text/html": [
       "<strong><a href=http://dx.doi.org/10.1186/s12879-016-2049-2>Comparison of the first three waves of avian influenza A(H7N9) virus circulation in the mainland of the People's Republic of China.</a></strong><br>2016. Xiang N, Iuliano AD, Zhang Y, Ren R, Geng X, Ye B, Tu W, Li CA, Lv Y, Yang M, Zhao J, Wang Y, Yang F, Zhou L, Liu B, Shu Y, Ni D, Feng Z, Li Q<br>[ID: 27919225]"
      ],
      "text/plain": [
       "<IPython.core.display.HTML object>"
      ]
     },
     "metadata": {},
     "output_type": "display_data"
    },
    {
     "data": {
      "text/html": [
       "<strong><a href=http://dx.doi.org/10.1017/S0950268812001318>Phylogenetic, molecular and drug-sensitivity analysis of HA and NA genes of human H3N2 influenza A viruses in Guangdong, China, 2007-2011.</a></strong><br>2013. Huang P, Liang LJ, Hou NM, Zhang X, Su WZ, Yu SY, Zhang YH, Wu J, Chen WQ<br>[ID: 22827898]"
      ],
      "text/plain": [
       "<IPython.core.display.HTML object>"
      ]
     },
     "metadata": {},
     "output_type": "display_data"
    },
    {
     "data": {
      "text/html": [
       "<strong><a href=http://dx.doi.org/10.1128/JVI.01085-13>Induction of cross-reactive antibodies to novel H7N9 influenza virus by recombinant Newcastle disease virus expressing a North American lineage H7 subtype hemagglutinin.</a></strong><br>2013. Goff PH, Krammer F, Hai R, Seibert CW, Margine I, García-Sastre A, Palese P<br>[ID: 23698299]"
      ],
      "text/plain": [
       "<IPython.core.display.HTML object>"
      ]
     },
     "metadata": {},
     "output_type": "display_data"
    },
    {
     "data": {
      "text/html": [
       "<strong><a href=http://dx.doi.org/10.1371/journal.ppat.1000918>Global migration dynamics underlie evolution and persistence of human influenza A (H3N2).</a></strong><br>2010. Bedford T, Cobey S, Beerli P, Pascual M<br>[ID: 20523898]"
      ],
      "text/plain": [
       "<IPython.core.display.HTML object>"
      ]
     },
     "metadata": {},
     "output_type": "display_data"
    },
    {
     "data": {
      "text/html": [
       "<strong><a href=http://dx.doi.org/10.2807/1560-7917.ES.2017.22.7.30462>Inference and forecast of H7N9 influenza in China, 2013 to 2015.</a></strong><br>2017. Li R, Bai Y, Heaney A, Kandula S, Cai J, Zhao X, Xu B, Shaman J<br>[ID: 28230525]"
      ],
      "text/plain": [
       "<IPython.core.display.HTML object>"
      ]
     },
     "metadata": {},
     "output_type": "display_data"
    },
    {
     "data": {
      "text/html": [
       "<strong>Generation and evaluation of a high-growth reassortant H9N2 influenza A virus as a pandemic vaccine candidate.</strong><br>2003. Chen H, Subbarao K, Swayne D, Chen Q, Lu X, Katz J, Cox N, Matsuoka Y<br>[ID: 12706686]"
      ],
      "text/plain": [
       "<IPython.core.display.HTML object>"
      ]
     },
     "metadata": {},
     "output_type": "display_data"
    },
    {
     "data": {
      "text/html": [
       "<strong><a href=http://dx.doi.org/10.4142/jvs.2017.18.S1.269>Evolution, global spread, and pathogenicity of highly pathogenic avian influenza H5Nx clade 2.3.4.4.</a></strong><br>2017. Lee DH, Bertran K, Kwon JH, Swayne DE<br>[ID: 28859267]"
      ],
      "text/plain": [
       "<IPython.core.display.HTML object>"
      ]
     },
     "metadata": {},
     "output_type": "display_data"
    },
    {
     "data": {
      "text/html": [
       "<strong>Risk factors and outcomes for pandemic H1N1 influenza compared with seasonal influenza in hospitalized children in China.</strong><br>2012. Zhang Q, Ji W, Guo Z, Bai Z, Macdonald NE<br>[ID: 24294275]"
      ],
      "text/plain": [
       "<IPython.core.display.HTML object>"
      ]
     },
     "metadata": {},
     "output_type": "display_data"
    },
    {
     "data": {
      "text/html": [
       "<strong><a href=http://dx.doi.org/10.1371/journal.pone.0013063>Phylogenetic and molecular characterization of H9N2 influenza isolates from chickens in Northern China from 2007-2009.</a></strong><br>2010. Bi J, Deng G, Dong J, Kong F, Li X, Xu Q, Zhang M, Zhao L, Qiao J<br>[ID: 20927364]"
      ],
      "text/plain": [
       "<IPython.core.display.HTML object>"
      ]
     },
     "metadata": {},
     "output_type": "display_data"
    },
    {
     "data": {
      "text/html": [
       "<strong>The influenza virus gene pool in a poultry market in South central china.</strong><br>2003. Liu M, He S, Walker D, Zhou N, Perez DR, Mo B, Li F, Huang X, Webster RG, Webby RJ<br>[ID: 12573572]"
      ],
      "text/plain": [
       "<IPython.core.display.HTML object>"
      ]
     },
     "metadata": {},
     "output_type": "display_data"
    },
    {
     "data": {
      "text/html": [
       "<strong>[Molecular mechanism affecting route of transmission for H9N2 subtype AIV].</strong><br>2006. Shi HY, Liu XF<br>[ID: 16579464]"
      ],
      "text/plain": [
       "<IPython.core.display.HTML object>"
      ]
     },
     "metadata": {},
     "output_type": "display_data"
    },
    {
     "data": {
      "text/html": [
       "<strong><a href=http://dx.doi.org/10.3201/eid2401.171393>Changing Geographic Patterns and Risk Factors for Avian Influenza A(H7N9) Infections in Humans, China.</a></strong><br>2018. Artois J, Jiang H, Wang X, Qin Y, Pearcy M, Lai S, Shi Y, Zhang J, Peng Z, Zheng J, He Y, Dhingra MS, von Dobschuetz S, Guo F, Martin V, Kalpravidh W, Claes F, Robinson T, Hay SI, Xiao X, ...<br>[ID: 29260681]"
      ],
      "text/plain": [
       "<IPython.core.display.HTML object>"
      ]
     },
     "metadata": {},
     "output_type": "display_data"
    },
    {
     "data": {
      "text/html": [
       "<strong><a href=http://dx.doi.org/10.1098/rspb.2014.0268>Social mixing patterns in rural and urban areas of southern China.</a></strong><br>2014. Read JM, Lessler J, Riley S, Wang S, Tan LJ, Kwok KO, Guan Y, Jiang CQ, Cummings DA<br>[ID: 24789897]"
      ],
      "text/plain": [
       "<IPython.core.display.HTML object>"
      ]
     },
     "metadata": {},
     "output_type": "display_data"
    },
    {
     "data": {
      "text/html": [
       "<strong><a href=http://dx.doi.org/10.1021/ac4040778>Quantification of viral proteins of the avian H7 subtype of influenza virus: an isotope dilution mass spectrometry method applicable for producing more rapid vaccines in the case of an influenza pandemic.</a></strong><br>2014. Santana WI, Williams TL, Winne EK, Pirkle JL, Barr JR<br>[ID: 24689548]"
      ],
      "text/plain": [
       "<IPython.core.display.HTML object>"
      ]
     },
     "metadata": {},
     "output_type": "display_data"
    },
    {
     "data": {
      "text/html": [
       "<strong><a href=http://dx.doi.org/10.1007/s11262-010-0477-4>Isolation and molecular characterization of a H5N1 virus isolated from a Jungle crow (Corvus macrohynchos) in India.</a></strong><br>2010. Nagarajan S, Tosh C, Murugkar HV, Venkatesh G, Katare M, Jain R, Behera P, Khandia R, Tripathi S, Kulkarni DD, Dubey SC<br>[ID: 20396941]"
      ],
      "text/plain": [
       "<IPython.core.display.HTML object>"
      ]
     },
     "metadata": {},
     "output_type": "display_data"
    },
    {
     "data": {
      "text/html": [
       "<strong><a href=http://dx.doi.org/10.1099/vir.0.42473-0>Experimental infection and natural contact exposure of ferrets with canine influenza virus (H3N2).</a></strong><br>2013. Lee YN, Lee DH, Park JK, Yuk SS, Kwon JH, Nahm SS, Lee JB, Park SY, Choi IS, Song CS<br>[ID: 23329681]"
      ],
      "text/plain": [
       "<IPython.core.display.HTML object>"
      ]
     },
     "metadata": {},
     "output_type": "display_data"
    },
    {
     "data": {
      "text/html": [
       "<strong><a href=http://dx.doi.org/10.1016/j.fitote.2011.04.007>Anti-inflammatory, antiviral and quantitative study of quercetin-3-O-β-D-glucuronide in Polygonum perfoliatum L.</a></strong><br>2011. Fan D, Zhou X, Zhao C, Chen H, Zhao Y, Gong X<br>[ID: 21570451]"
      ],
      "text/plain": [
       "<IPython.core.display.HTML object>"
      ]
     },
     "metadata": {},
     "output_type": "display_data"
    },
    {
     "data": {
      "text/html": [
       "<strong><a href=http://dx.doi.org/10.1128/JVI.00127-16>Highly Pathogenic Avian Influenza H5N6 Viruses Exhibit Enhanced Affinity for Human Type Sialic Acid Receptor and In-Contact Transmission in Model Ferrets.</a></strong><br>2016. Sun H, Pu J, Wei Y, Sun Y, Hu J, Liu L, Xu G, Gao W, Li C, Zhang X, Huang Y, Chang KC, Liu X, Liu J<br>[ID: 27122581]"
      ],
      "text/plain": [
       "<IPython.core.display.HTML object>"
      ]
     },
     "metadata": {},
     "output_type": "display_data"
    },
    {
     "data": {
      "text/html": [
       "<strong><a href=http://dx.doi.org/10.3389/fmicb.2016.01068>A Novel H1N2 Influenza Virus Related to the Classical and Human Influenza Viruses from Pigs in Southern China.</a></strong><br>2016. Song Y, Wu X, Wang N, Ouyang G, Qu N, Cui J, Qi Y, Liao M, Jiao P<br>[ID: 27458456]"
      ],
      "text/plain": [
       "<IPython.core.display.HTML object>"
      ]
     },
     "metadata": {},
     "output_type": "display_data"
    },
    {
     "data": {
      "text/html": [
       "<strong><a href=http://dx.doi.org/10.1186/s13690-017-0218-4>Intensifying poultry production systems and the emergence of avian influenza in China: a 'One Health/Ecohealth' epitome.</a></strong><br>2017. Gilbert M, Xiao X, Robinson TP<br>[ID: 29209498]"
      ],
      "text/plain": [
       "<IPython.core.display.HTML object>"
      ]
     },
     "metadata": {},
     "output_type": "display_data"
    },
    {
     "data": {
      "text/html": [
       "<strong><a href=http://dx.doi.org/10.1016/j.ijid.2016.01.002>Is a highly pathogenic avian influenza virus H5N1 fragment recombined in PB1 the key for the epidemic of the novel AIV H7N9 in China, 2013?</a></strong><br>2016. Chen L, Sun L, Li R, Chen Y, Zhang Z, Xiong C, Zhao G, Jiang Q<br>[ID: 26778522]"
      ],
      "text/plain": [
       "<IPython.core.display.HTML object>"
      ]
     },
     "metadata": {},
     "output_type": "display_data"
    },
    {
     "data": {
      "text/html": [
       "<strong><a href=http://dx.doi.org/10.3390/ijerph120100767>A method for screening climate change-sensitive infectious diseases.</a></strong><br>2015. Wang Y, Rao Y, Wu X, Zhao H, Chen J<br>[ID: 25594780]"
      ],
      "text/plain": [
       "<IPython.core.display.HTML object>"
      ]
     },
     "metadata": {},
     "output_type": "display_data"
    },
    {
     "data": {
      "text/html": [
       "<strong>[Epidemiological characteristics of human avian influenza A (H7N9) virus infection in China].</strong><br>2014. Ren R, Zhou L, Xiang N, Liu B, Zhao J, Geng X, Wang Y, Li C, Lyu Y, Yang F, Yang M, Sui H, Huang X, Meng L, Hong Z, Tu W, Cao Y, Li L, Ding F, Wang Z, ...<br>[ID: 25623455]"
      ],
      "text/plain": [
       "<IPython.core.display.HTML object>"
      ]
     },
     "metadata": {},
     "output_type": "display_data"
    },
    {
     "data": {
      "text/html": [
       "<strong><a href=http://dx.doi.org/10.1371/journal.pone.0093094>The origin of novel avian influenza A (H7N9) and mutation dynamics for its human-to-human transmissible capacity.</a></strong><br>2014. Peng J, Yang H, Jiang H, Lin YX, Lu CD, Xu YW, Zeng J<br>[ID: 24671138]"
      ],
      "text/plain": [
       "<IPython.core.display.HTML object>"
      ]
     },
     "metadata": {},
     "output_type": "display_data"
    },
    {
     "data": {
      "text/html": [
       "<strong><a href=http://dx.doi.org/10.1016/j.virol.2004.12.002>Avian influenza viruses in Korean live poultry markets and their pathogenic potential.</a></strong><br>2005. Choi YK, Seo SH, Kim JA, Webby RJ, Webster RG<br>[ID: 15680418]"
      ],
      "text/plain": [
       "<IPython.core.display.HTML object>"
      ]
     },
     "metadata": {},
     "output_type": "display_data"
    },
    {
     "data": {
      "text/html": [
       "<strong><a href=http://dx.doi.org/10.1006/viro.1994.1067>Analysis of the influenza virus gene pool of avian species from southern China.</a></strong><br>1994. Lin YP, Shu LL, Wright S, Bean WJ, Sharp GB, Shortridge KF, Webster RG<br>[ID: 8291238]"
      ],
      "text/plain": [
       "<IPython.core.display.HTML object>"
      ]
     },
     "metadata": {},
     "output_type": "display_data"
    },
    {
     "data": {
      "text/html": [
       "<strong><a href=http://dx.doi.org/10.1093/infdis/jiw180>Bioaerosol Sampling in Modern Agriculture: A Novel Approach for Emerging Pathogen Surveillance?</a></strong><br>2016. Anderson BD, Ma M, Xia Y, Wang T, Shu B, Lednicky JA, Ma MJ, Lu J, Gray GC<br>[ID: 27190187]"
      ],
      "text/plain": [
       "<IPython.core.display.HTML object>"
      ]
     },
     "metadata": {},
     "output_type": "display_data"
    },
    {
     "data": {
      "text/html": [
       "<strong><a href=http://dx.doi.org/10.1637/11452-061616-Reg>Endemic Variation of H9N2 Avian Influenza Virus in China.</a></strong><br>2016. Liu YF, Lai HZ, Li L, Liu YP, Zhang WY, Gao R, Huang WK, Luo QF, Gao Y, Luo Q, Xie XY, Xu JH, Chen RA<br>[ID: 27902899]"
      ],
      "text/plain": [
       "<IPython.core.display.HTML object>"
      ]
     },
     "metadata": {},
     "output_type": "display_data"
    },
    {
     "data": {
      "text/html": [
       "<strong><a href=http://dx.doi.org/10.1016/j.jcv.2014.01.009>Comparison of commercial influenza A virus assays in detecting avian influenza H7N9 among poultry cloacal swabs, China.</a></strong><br>2014. Ma MJ, Yang XX, Xia X, Anderson BD, Heil GL, Qian YH, Lu B, Cao WC, Gray GC<br>[ID: 24529843]"
      ],
      "text/plain": [
       "<IPython.core.display.HTML object>"
      ]
     },
     "metadata": {},
     "output_type": "display_data"
    },
    {
     "data": {
      "text/html": [
       "<strong><a href=http://dx.doi.org/10.1002/jmv.22021>Genetic variation of the hemagglutinin of avian influenza virus H9N2.</a></strong><br>2011. Song XF, Han P, Chen YP<br>[ID: 21412792]"
      ],
      "text/plain": [
       "<IPython.core.display.HTML object>"
      ]
     },
     "metadata": {},
     "output_type": "display_data"
    },
    {
     "data": {
      "text/html": [
       "<strong><a href=http://dx.doi.org/10.1002/pmic.201400309>Identification of potential virulence determinants associated H9N2 avian influenza virus PB2 E627K mutation by comparative proteomics.</a></strong><br>2015. Qi W, Tian J, Su S, Huang L, Li H, Liao M<br>[ID: 25641917]"
      ],
      "text/plain": [
       "<IPython.core.display.HTML object>"
      ]
     },
     "metadata": {},
     "output_type": "display_data"
    },
    {
     "data": {
      "text/html": [
       "<strong><a href=http://dx.doi.org/10.1016/j.vaccine.2017.03.094>Advancing new vaccines against pandemic influenza in low-resource countries.</a></strong><br>2017. Berlanda Scorza F<br>[ID: 28410815]"
      ],
      "text/plain": [
       "<IPython.core.display.HTML object>"
      ]
     },
     "metadata": {},
     "output_type": "display_data"
    },
    {
     "data": {
      "text/html": [
       "<strong><a href=http://dx.doi.org/10.1016/j.talanta.2012.07.076>A metabonomic approach to the effect evaluation of treatment in patients infected with influenza A (H1N1).</a></strong><br>2012. Lu C, Jiang Z, Fan X, Liao G, Li S, He C, Han L, Luo S, Liu Y, Lin H, Li L, Li X, Liang Q, Wang Y, Luo G<br>[ID: 23141311]"
      ],
      "text/plain": [
       "<IPython.core.display.HTML object>"
      ]
     },
     "metadata": {},
     "output_type": "display_data"
    },
    {
     "data": {
      "text/html": [
       "<strong><a href=http://dx.doi.org/10.1016/j.rvsc.2008.09.007>Fusion of C3d with hemagglutinin enhances protective immunity against swine influenza virus.</a></strong><br>2009. Li GX, Tian ZJ, Yu H, Jin YY, Hou SH, Zhou YJ, Liu TQ, Hu SP, Tong GZ<br>[ID: 19010505]"
      ],
      "text/plain": [
       "<IPython.core.display.HTML object>"
      ]
     },
     "metadata": {},
     "output_type": "display_data"
    },
    {
     "data": {
      "text/html": [
       "<strong><a href=http://dx.doi.org/10.3389/fmicb.2017.00587>C-C Motif Chemokine Ligand 2 (CCL2) Mediates Acute Lung Injury Induced by Lethal Influenza H7N9 Virus.</a></strong><br>2017. Lai C, Wang K, Zhao Z, Zhang L, Gu H, Yang P, Wang X<br>[ID: 28421067]"
      ],
      "text/plain": [
       "<IPython.core.display.HTML object>"
      ]
     },
     "metadata": {},
     "output_type": "display_data"
    },
    {
     "data": {
      "text/html": [
       "<strong><a href=http://dx.doi.org/10.1099/vir.0.061721-0>The PB2 E627K mutation contributes to the high polymerase activity and enhanced replication of H7N9 influenza virus.</a></strong><br>2014. Zhang H, Li X, Guo J, Li L, Chang C, Li Y, Bian C, Xu K, Chen H, Sun B<br>[ID: 24394699]"
      ],
      "text/plain": [
       "<IPython.core.display.HTML object>"
      ]
     },
     "metadata": {},
     "output_type": "display_data"
    },
    {
     "data": {
      "text/html": [
       "<strong>[Avian influenza viruses isolated in Japan].</strong><br>2005. Mase M, Kawaoka Y<br>[ID: 16557008]"
      ],
      "text/plain": [
       "<IPython.core.display.HTML object>"
      ]
     },
     "metadata": {},
     "output_type": "display_data"
    },
    {
     "data": {
      "text/html": [
       "<strong><a href=http://dx.doi.org/10.1016/j.vaccine.2014.06.047>Determinants of willingness to pay for self-paid vaccines in China.</a></strong><br>2014. Hou Z, Jie Chang, Yue D, Fang H, Meng Q, Zhang Y<br>[ID: 24968160]"
      ],
      "text/plain": [
       "<IPython.core.display.HTML object>"
      ]
     },
     "metadata": {},
     "output_type": "display_data"
    },
    {
     "data": {
      "text/html": [
       "<strong><a href=http://dx.doi.org/10.1128/JVI.00273-13>Identification of dominant antibody-dependent cell-mediated cytotoxicity epitopes on the hemagglutinin antigen of pandemic H1N1 influenza virus.</a></strong><br>2013. Srivastava V, Yang Z, Hung IF, Xu J, Zheng B, Zhang MY<br>[ID: 23487456]"
      ],
      "text/plain": [
       "<IPython.core.display.HTML object>"
      ]
     },
     "metadata": {},
     "output_type": "display_data"
    },
    {
     "data": {
      "text/html": [
       "<strong><a href=http://dx.doi.org/10.1186/s12985-015-0285-5>Serological survey of canine H3N2, pandemic H1N1/09, and human seasonal H3N2 influenza viruses in cats in northern China, 2010-2014.</a></strong><br>2015. Zhang X, Shen Y, Du L, Wang R, Jiang B, Sun H, Pu J, Lin D, Wang M, Liu J, Sun Y<br>[ID: 25889762]"
      ],
      "text/plain": [
       "<IPython.core.display.HTML object>"
      ]
     },
     "metadata": {},
     "output_type": "display_data"
    },
    {
     "data": {
      "text/html": [
       "<strong><a href=http://dx.doi.org/10.1371/journal.pone.0128479>Serological Evidence and Risk Factors for Swine Influenza Infections among Chinese Swine Workers in Guangdong Province.</a></strong><br>2015. Ma M, Anderson BD, Wang T, Chen Y, Zhang D, Gray GC, Lu J<br>[ID: 26016740]"
      ],
      "text/plain": [
       "<IPython.core.display.HTML object>"
      ]
     },
     "metadata": {},
     "output_type": "display_data"
    },
    {
     "data": {
      "text/html": [
       "<strong>A prospective comparison of the epidemiological and clinical characteristics of pandemic (H1N1) 2009 influenza A virus and seasonal influenza A viruses in Guangzhou, South China in 2009.</strong><br>2012. Yang ZF, Zhan YQ, Chen RC, Zhou R, Wang YT, Luo Y, Jiang M, Li JQ, Qin S, Guan WD, Lai KF, Wen HL, Liang ZW, Li L, Zhong NS<br>[ID: 22627301]"
      ],
      "text/plain": [
       "<IPython.core.display.HTML object>"
      ]
     },
     "metadata": {},
     "output_type": "display_data"
    },
    {
     "data": {
      "text/html": [
       "<strong><a href=http://dx.doi.org/10.1016/j.virusres.2013.03.004>Vaccination of gallinaceous poultry for H5N1 highly pathogenic avian influenza: current questions and new technology.</a></strong><br>2013. Spackman E, Swayne DE<br>[ID: 23524326]"
      ],
      "text/plain": [
       "<IPython.core.display.HTML object>"
      ]
     },
     "metadata": {},
     "output_type": "display_data"
    },
    {
     "data": {
      "text/html": [
       "<strong><a href=http://dx.doi.org/10.1016/j.vaccine.2010.11.026>Immunogenicity and protective efficacy of a live attenuated vaccine against the 2009 pandemic A H1N1 in mice and ferrets.</a></strong><br>2011. Yang P, Duan Y, Wang C, Xing L, Gao X, Tang C, Luo D, Zhao Z, Jia W, Peng D, Liu X, Wang X<br>[ID: 21111782]"
      ],
      "text/plain": [
       "<IPython.core.display.HTML object>"
      ]
     },
     "metadata": {},
     "output_type": "display_data"
    },
    {
     "data": {
      "text/html": [
       "<strong><a href=http://dx.doi.org/10.1016/S0140-6736(13)60938-1>Origin and diversity of novel avian influenza A H7N9 viruses causing human infection: phylogenetic, structural, and coalescent analyses.</a></strong><br>2013. Liu D, Shi W, Shi Y, Wang D, Xiao H, Li W, Bi Y, Wu Y, Li X, Yan J, Liu W, Zhao G, Yang W, Wang Y, Ma J, Shu Y, Lei F, Gao GF<br>[ID: 23643111]"
      ],
      "text/plain": [
       "<IPython.core.display.HTML object>"
      ]
     },
     "metadata": {},
     "output_type": "display_data"
    },
    {
     "data": {
      "text/html": [
       "<strong>[Antigenic and genetic characterizations of group A influenza viruses H3N2 circulated in men in China during 2000-2002].</strong><br>2004. Zhang Y, Wen LY, Li Z, Guo JF, Wang M, Guo YJ<br>[ID: 15340518]"
      ],
      "text/plain": [
       "<IPython.core.display.HTML object>"
      ]
     },
     "metadata": {},
     "output_type": "display_data"
    },
    {
     "data": {
      "text/html": [
       "<strong>[Characterization of HA and NA genes of swine influenza A (H9N2) viruses].</strong><br>2004. Guo YJ, Wen LY, Wang M, Li Z, Zhang Y, Guo JF<br>[ID: 15340516]"
      ],
      "text/plain": [
       "<IPython.core.display.HTML object>"
      ]
     },
     "metadata": {},
     "output_type": "display_data"
    },
    {
     "data": {
      "text/html": [
       "<strong><a href=http://dx.doi.org/10.1128/JVI.02692-15>Genetics, Receptor Binding, Replication, and Mammalian Transmission of H4 Avian Influenza Viruses Isolated from Live Poultry Markets in China.</a></strong><br>2016. Liang L, Deng G, Shi J, Wang S, Zhang Q, Kong H, Gu C, Guan Y, Suzuki Y, Li Y, Jiang Y, Tian G, Liu L, Li C, Chen H<br>[ID: 26581996]"
      ],
      "text/plain": [
       "<IPython.core.display.HTML object>"
      ]
     },
     "metadata": {},
     "output_type": "display_data"
    },
    {
     "data": {
      "text/html": [
       "<strong><a href=http://dx.doi.org/10.1016/j.vetmic.2015.10.031>Antigenic evolution of H9N2 chicken influenza viruses isolated in China during 2009-2013 and selection of a candidate vaccine strain with broad cross-reactivity.</a></strong><br>2016. Wei Y, Xu G, Zhang G, Wen C, Anwar F, Wang S, Lemmon G, Wang J, Carter R, Wang M, Sun H, Sun Y, Zhao J, Wu G, Webster RG, Liu J, Pu J<br>[ID: 26711021]"
      ],
      "text/plain": [
       "<IPython.core.display.HTML object>"
      ]
     },
     "metadata": {},
     "output_type": "display_data"
    },
    {
     "data": {
      "text/html": [
       "<strong><a href=http://dx.doi.org/10.1038/srep44410>Highly pathogenic H5N6 influenza A viruses recovered from wild birds in Guangdong, southern China, 2014-2015.</a></strong><br>2017. Kang Y, Liu L, Feng M, Yuan R, Huang C, Tan Y, Gao P, Xiang D, Zhao X, Li Y, Irwin DM, Shen Y, Ren T<br>[ID: 28294126]"
      ],
      "text/plain": [
       "<IPython.core.display.HTML object>"
      ]
     },
     "metadata": {},
     "output_type": "display_data"
    },
    {
     "data": {
      "text/html": [
       "<strong><a href=http://dx.doi.org/10.1186/s12889-017-4884-5>Estimating disease burden of a potential A(H7N9) pandemic influenza outbreak in the United States.</a></strong><br>2017. Silva W, Das TK, Izurieta R<br>[ID: 29178863]"
      ],
      "text/plain": [
       "<IPython.core.display.HTML object>"
      ]
     },
     "metadata": {},
     "output_type": "display_data"
    },
    {
     "data": {
      "text/html": [
       "<strong>Diversity of influenza A virus subtypes isolated from domestic poultry in Hong Kong.</strong><br>1979. Shortridge KF, Butterfield WK, Webster RG, Campbell CH<br>[ID: 314357]"
      ],
      "text/plain": [
       "<IPython.core.display.HTML object>"
      ]
     },
     "metadata": {},
     "output_type": "display_data"
    },
    {
     "data": {
      "text/html": [
       "<strong><a href=http://dx.doi.org/10.1637/11136-050815-Reg>The Continuing Evolution of H5N1 and H9N2 Influenza Viruses in Bangladesh Between 2013 and 2014.</a></strong><br>2016. Marinova-Petkova A, Shanmuganatham K, Feeroz MM, Jones-Engel L, Hasan MK, Akhtar S, Turner J, Walker D, Seiler P, Franks J, McKenzie P, Krauss S, Webby RJ, Webster RG<br>[ID: 27309046]"
      ],
      "text/plain": [
       "<IPython.core.display.HTML object>"
      ]
     },
     "metadata": {},
     "output_type": "display_data"
    },
    {
     "data": {
      "text/html": [
       "<strong><a href=http://dx.doi.org/10.1016/j.virusres.2010.03.010>Diversified reassortant H9N2 avian influenza viruses in chicken flocks in northern and eastern China.</a></strong><br>2010. Huang Y, Hu B, Wen X, Cao S, Gavrilov BK, Du Q, Khan MI, Zhang X<br>[ID: 20347894]"
      ],
      "text/plain": [
       "<IPython.core.display.HTML object>"
      ]
     },
     "metadata": {},
     "output_type": "display_data"
    },
    {
     "data": {
      "text/html": [
       "<strong>Reappearance of H1N1 influenza virus in man: evidence for the persistence of the virus in domestic chickens.</strong><br>1979. Shortridge K, Webster RG, Kam SL, Gardner JM<br>[ID: 314358]"
      ],
      "text/plain": [
       "<IPython.core.display.HTML object>"
      ]
     },
     "metadata": {},
     "output_type": "display_data"
    },
    {
     "data": {
      "text/html": [
       "<strong><a href=http://dx.doi.org/10.1016/j.ajic.2014.04.012>Health care workers--part of the system or part of the public? Ambivalent risk perception in health care workers.</a></strong><br>2014. Gesser-Edelsburg A, Walter N, Green MS<br>[ID: 24939516]"
      ],
      "text/plain": [
       "<IPython.core.display.HTML object>"
      ]
     },
     "metadata": {},
     "output_type": "display_data"
    },
    {
     "data": {
      "text/html": [
       "<strong><a href=http://dx.doi.org/10.1016/j.vetmic.2015.11.001>Characterization of clade 2.3.4.4 highly pathogenic H5 avian influenza viruses in ducks and chickens.</a></strong><br>2016. Sun H, Pu J, Hu J, Liu L, Xu G, Gao GF, Liu X, Liu J<br>[ID: 26711037]"
      ],
      "text/plain": [
       "<IPython.core.display.HTML object>"
      ]
     },
     "metadata": {},
     "output_type": "display_data"
    },
    {
     "data": {
      "text/html": [
       "<strong>[Origin of hemagglutinin and neuraminidase gene of swine influenza A H1N1 viruses].</strong><br>2003. Guo YJ, Wen LY, Wang M, Zhang Y, Guo JF, Li Z<br>[ID: 15340540]"
      ],
      "text/plain": [
       "<IPython.core.display.HTML object>"
      ]
     },
     "metadata": {},
     "output_type": "display_data"
    },
    {
     "data": {
      "text/html": [
       "<strong>Origin and progress of the 1968-69 Hong Kong influenza epidemic.</strong><br>1969. Cockburn WC, Delon PJ, Ferreira W<br>[ID: 5309437]"
      ],
      "text/plain": [
       "<IPython.core.display.HTML object>"
      ]
     },
     "metadata": {},
     "output_type": "display_data"
    },
    {
     "data": {
      "text/html": [
       "<strong><a href=http://dx.doi.org/10.1016/j.vetmic.2010.07.012>Isolation and genetic analysis of a novel triple-reassortant H1N1 influenza virus from a pig in China.</a></strong><br>2011. Xu M, Huang Y, Chen J, Huang Z, Zhang J, Zhu Y, Xie S, Chen Q, Wei W, Yang D, Huang X, Xuan H, Xiang H<br>[ID: 20708352]"
      ],
      "text/plain": [
       "<IPython.core.display.HTML object>"
      ]
     },
     "metadata": {},
     "output_type": "display_data"
    },
    {
     "data": {
      "text/html": [
       "<strong><a href=http://dx.doi.org/10.1637/11178-051915-ResNote>Protective Efficacy of the Inactivated H5N1 Influenza Vaccine Re-6 Against Different Clades of H5N1 Viruses Isolated in China and the Democratic People's Republic of Korea.</a></strong><br>2016. Zeng X, Deng G, Liu L, Li Y, Shi J, Chen P, Feng H, Liu J, Guo X, Mao S, Yang F, Chen Z, Tian G, Chen H<br>[ID: 27309061]"
      ],
      "text/plain": [
       "<IPython.core.display.HTML object>"
      ]
     },
     "metadata": {},
     "output_type": "display_data"
    },
    {
     "data": {
      "text/html": [
       "<strong><a href=http://dx.doi.org/10.1080/17441690701524471>China engages global health governance: processes and dilemmas.</a></strong><br>2009. Chan LH, Lee PK, Chan G<br>[ID: 19153928]"
      ],
      "text/plain": [
       "<IPython.core.display.HTML object>"
      ]
     },
     "metadata": {},
     "output_type": "display_data"
    },
    {
     "data": {
      "text/html": [
       "<strong><a href=http://dx.doi.org/10.1007/s11427-017-9152-1>Phylogenetic and genetic characterization of a 2017 clinical isolate of H7N9 virus in Guangzhou, China during the fifth epidemic wave.</a></strong><br>2017. Deng Y, Li C, Han J, Wen Y, Wang J, Hong W, Li X, Liu Z, Ye Q, Li J, Zhou C, Yu L, Qin C, Zhang F, Jiang T<br>[ID: 29019145]"
      ],
      "text/plain": [
       "<IPython.core.display.HTML object>"
      ]
     },
     "metadata": {},
     "output_type": "display_data"
    },
    {
     "data": {
      "text/html": [
       "<strong><a href=http://dx.doi.org/10.3201/eid1509.090794>Clinical and epidemiologic characteristics of 3 early cases of influenza A pandemic (H1N1) 2009 virus infection, People's Republic of China, 2009.</a></strong><br>2009. Bin C, Xingwang L, Yuelong S, Nan J, Shijun C, Xiayuan X, Chen W, National Influenza A Pandemic (H1N1) 2009 Clinical Investigation Group.<br>[ID: 19788809]"
      ],
      "text/plain": [
       "<IPython.core.display.HTML object>"
      ]
     },
     "metadata": {},
     "output_type": "display_data"
    },
    {
     "data": {
      "text/html": [
       "<strong><a href=http://dx.doi.org/10.1128/JVI.00375-18>Structural and Molecular Characterization of the Hemagglutinin from the Fifth Epidemic Wave A(H7N9) Influenza Viruses.</a></strong><br>2018. Yang H, Carney PJ, Chang JC, Guo Z, Stevens J<br>[ID: 29848588]"
      ],
      "text/plain": [
       "<IPython.core.display.HTML object>"
      ]
     },
     "metadata": {},
     "output_type": "display_data"
    },
    {
     "data": {
      "text/html": [
       "<strong><a href=http://dx.doi.org/10.1007/s00705-007-1002-5>Analysis of the PB2 gene reveals that Indian H5N1 influenza virus belongs to a mixed-migratory bird sub-lineage possessing the amino acid lysine at position 627 of the PB2 protein.</a></strong><br>2007. Kamal RP, Tosh C, Pattnaik B, Behera P, Nagarajan S, Gounalan S, Shrivastava N, Shankar BP, Pradhan HK<br>[ID: 17558541]"
      ],
      "text/plain": [
       "<IPython.core.display.HTML object>"
      ]
     },
     "metadata": {},
     "output_type": "display_data"
    },
    {
     "data": {
      "text/html": [
       "<strong><a href=http://dx.doi.org/10.1637/11096-042015-Reg>Tracking Mallards (Anas platyrhynchos) with GPS Satellite Transmitters Along Their Migration Route Through Northeast Asia.</a></strong><br>2016. Shin JH, Lee KS, Kim SH, Hwang JK, Woo C, Kim J, Kim JH, Suh JH, Jeong J, Wang SJ, Chung HM, Yu SD, Choi KH, Mo IP<br>[ID: 27309072]"
      ],
      "text/plain": [
       "<IPython.core.display.HTML object>"
      ]
     },
     "metadata": {},
     "output_type": "display_data"
    },
    {
     "data": {
      "text/html": [
       "<strong><a href=http://dx.doi.org/10.1016/j.chemosphere.2015.12.082>Acute effects of air pollution on influenza-like illness in Nanjing, China: A population-based study.</a></strong><br>2016. Huang L, Zhou L, Chen J, Chen K, Liu Y, Chen X, Tang F<br>[ID: 26766354]"
      ],
      "text/plain": [
       "<IPython.core.display.HTML object>"
      ]
     },
     "metadata": {},
     "output_type": "display_data"
    },
    {
     "data": {
      "text/html": [
       "<strong><a href=http://dx.doi.org/10.1637/11125-050615-Reg>Spatial Modeling of Wild Bird Risk Factors for Highly Pathogenic A(H5N1) Avian Influenza Virus Transmission.</a></strong><br>2016. Prosser DJ, Hungerford LL, Erwin RM, Ottinger MA, Takekawa JY, Newman SH, Xiao X, Ellis EC<br>[ID: 27309075]"
      ],
      "text/plain": [
       "<IPython.core.display.HTML object>"
      ]
     },
     "metadata": {},
     "output_type": "display_data"
    },
    {
     "data": {
      "text/html": [
       "<strong>[Emerged Pdm09 influenza virus increased purifying selection of seasonal H1N1 influenza virus].</strong><br>2013. Lan Y, Huang WJ, Sui HT, Li XY, Zhao X, Li M, Chen YY, Guo JF, Cheng YH, Tan MJ, Wang Z, Xiao N, Wei HJ, Wang DY, Shu YL<br>[ID: 23757844]"
      ],
      "text/plain": [
       "<IPython.core.display.HTML object>"
      ]
     },
     "metadata": {},
     "output_type": "display_data"
    },
    {
     "data": {
      "text/html": [
       "<strong><a href=http://dx.doi.org/10.1186/s12879-017-2217-z>Using a community based survey of healthcare seeking behavior to estimate the actual magnitude of influenza among adults in Beijing during 2013-2014 season.</a></strong><br>2017. Wang X, Wu S, Yang P, Li H, Chu Y, Tang Y, Hua W, Zhang H, Li C, Wang Q<br>[ID: 28159000]"
      ],
      "text/plain": [
       "<IPython.core.display.HTML object>"
      ]
     },
     "metadata": {},
     "output_type": "display_data"
    },
    {
     "data": {
      "text/html": [
       "<strong>Complementary and alternative medicine is expected to make greater contribution in controlling the prevalence of influenza.</strong><br>2013. Tao Z, Yang Y, Shi W, Xue M, Yang W, Song Z, Yao C, Yin J, Shi D, Zhang Y, Cai Y, Tong C, Yuan Y<br>[ID: 24241177]"
      ],
      "text/plain": [
       "<IPython.core.display.HTML object>"
      ]
     },
     "metadata": {},
     "output_type": "display_data"
    },
    {
     "data": {
      "text/html": [
       "<strong><a href=http://dx.doi.org/10.1371/journal.pone.0137831>Live Poultry Exposure and Public Response to Influenza A(H7N9) in Urban and Rural China during Two Epidemic Waves in 2013-2014.</a></strong><br>2015. Wu P, Wang L, Cowling BJ, Yu J, Fang VJ, Li F, Zeng L, Wu JT, Li Z, Leung GM, Yu H<br>[ID: 26367002]"
      ],
      "text/plain": [
       "<IPython.core.display.HTML object>"
      ]
     },
     "metadata": {},
     "output_type": "display_data"
    },
    {
     "data": {
      "text/html": [
       "<strong>[Complete genome phylogenetic analysis of five H9N2 avian influenza viruses isolated from poultry flocks in Qinghai lake region].</strong><br>2014. Liu LY, Jiang SY, Wang LJ, Yi H, Zhao SC, Tang ZJ, Xu CL, Dong J, Gao RB, Zhang Y, Zou SM, Li XD, Yang L, Yang J, Chen T, Shu YL<br>[ID: 24923162]"
      ],
      "text/plain": [
       "<IPython.core.display.HTML object>"
      ]
     },
     "metadata": {},
     "output_type": "display_data"
    },
    {
     "data": {
      "text/html": [
       "<strong><a href=http://dx.doi.org/10.1371/journal.pone.0093775>Comparison of characteristics between patients with H7N9 living in rural and urban areas of Zhejiang Province, China: a preliminary report.</a></strong><br>2014. Sun J, Gong Z, Lv H, Chen Z, Chai C, Liu S, Ling F, Lu Y, Cai J, Yu Z, Miao Z, Ren J, Chen E<br>[ID: 24710171]"
      ],
      "text/plain": [
       "<IPython.core.display.HTML object>"
      ]
     },
     "metadata": {},
     "output_type": "display_data"
    },
    {
     "data": {
      "text/html": [
       "<strong><a href=http://dx.doi.org/10.1128/JVI.00323-18>Multiple Incursions and Recurrent Epidemic Fade-Out of H3N2 Canine Influenza A Virus in the United States.</a></strong><br>2018. Voorhees IEH, Dalziel BD, Glaser A, Dubovi EJ, Murcia PR, Newbury S, Toohey-Kurth K, Su S, Kriti D, Van Bakel H, Goodman LB, Leutenegger C, Holmes EC, Parrish CR<br>[ID: 29875234]"
      ],
      "text/plain": [
       "<IPython.core.display.HTML object>"
      ]
     },
     "metadata": {},
     "output_type": "display_data"
    },
    {
     "data": {
      "text/html": [
       "<strong><a href=http://dx.doi.org/10.1016/j.virusres.2018.03.019>Implications of and lessons learned from external assurance of eight influenza diagnostics in China.</a></strong><br>2018. Zhang D, Lin G, Zhang K, Yi L, Zhang R, Xie J, Li J<br>[ID: 29608994]"
      ],
      "text/plain": [
       "<IPython.core.display.HTML object>"
      ]
     },
     "metadata": {},
     "output_type": "display_data"
    },
    {
     "data": {
      "text/html": [
       "<strong><a href=http://dx.doi.org/10.3201/eid2308.170600>Human Infection with Highly Pathogenic Avian Influenza A(H7N9) Virus, China.</a></strong><br>2017. Ke C, Mok CKP, Zhu W, Zhou H, He J, Guan W, Wu J, Song W, Wang D, Liu J, Lin Q, Chu DKW, Yang L, Zhong N, Yang Z, Shu Y, Peiris JSM<br>[ID: 28580899]"
      ],
      "text/plain": [
       "<IPython.core.display.HTML object>"
      ]
     },
     "metadata": {},
     "output_type": "display_data"
    },
    {
     "data": {
      "text/html": [
       "<strong><a href=http://dx.doi.org/10.1056/NEJMoa1304617>Epidemiology of human infections with avian influenza A(H7N9) virus in China.</a></strong><br>2014. Li Q, Zhou L, Zhou M, Chen Z, Li F, Wu H, Xiang N, Chen E, Tang F, Wang D, Meng L, Hong Z, Tu W, Cao Y, Li L, Ding F, Liu B, Wang M, Xie R, Gao R, ...<br>[ID: 23614499]"
      ],
      "text/plain": [
       "<IPython.core.display.HTML object>"
      ]
     },
     "metadata": {},
     "output_type": "display_data"
    },
    {
     "data": {
      "text/html": [
       "<strong><a href=http://dx.doi.org/10.1016/j.cmi.2016.03.017>Post-mortem findings in a patient with avian influenza A (H5N6) virus infection.</a></strong><br>2016. Gao R, Pan M, Li X, Zou X, Zhao X, Li T, Yang H, Zou S, Bo H, Xu J, Li S, Zhang M, Li Z, Wang D, Zaki SR, Shu Y<br>[ID: 27040806]"
      ],
      "text/plain": [
       "<IPython.core.display.HTML object>"
      ]
     },
     "metadata": {},
     "output_type": "display_data"
    },
    {
     "data": {
      "text/html": [
       "<strong><a href=http://dx.doi.org/10.1016/j.ajog.2011.04.031>Effect of respiratory hospitalization during pregnancy on infant outcomes.</a></strong><br>2011. McNeil SA, Dodds LA, Fell DB, Allen VM, Halperin BA, Steinhoff MC, MacDonald NE<br>[ID: 21640231]"
      ],
      "text/plain": [
       "<IPython.core.display.HTML object>"
      ]
     },
     "metadata": {},
     "output_type": "display_data"
    },
    {
     "data": {
      "text/html": [
       "<strong><a href=http://dx.doi.org/10.1007/s00705-013-1685-8>Genetic characterization of H1N2 swine influenza virus isolated in China and its pathogenesis and inflammatory responses in mice.</a></strong><br>2013. Zhang Y, Wang N, Cao J, Chen H, Jin M, Zhou H<br>[ID: 23591972]"
      ],
      "text/plain": [
       "<IPython.core.display.HTML object>"
      ]
     },
     "metadata": {},
     "output_type": "display_data"
    },
    {
     "data": {
      "text/html": [
       "<strong>Evolutionary characterization of recent human H3N2 influenza A isolates from Japan and China: novel changes in the receptor binding domain.</strong><br>1996. Lindstrom S, Sugita S, Endo A, Ishida M, Huang P, Xi SH, Nerome K<br>[ID: 8774693]"
      ],
      "text/plain": [
       "<IPython.core.display.HTML object>"
      ]
     },
     "metadata": {},
     "output_type": "display_data"
    },
    {
     "data": {
      "text/html": [
       "<strong><a href=http://dx.doi.org/10.1128/JVI.00793-09>Characterization of the H5N1 highly pathogenic avian influenza virus derived from wild pikas in China.</a></strong><br>2009. Zhou J, Sun W, Wang J, Guo J, Yin W, Wu N, Li L, Yan Y, Liao M, Huang Y, Luo K, Jiang X, Chen H<br>[ID: 19553321]"
      ],
      "text/plain": [
       "<IPython.core.display.HTML object>"
      ]
     },
     "metadata": {},
     "output_type": "display_data"
    },
    {
     "data": {
      "text/html": [
       "<strong><a href=http://dx.doi.org/10.1371/journal.pone.0199260>Genetic and biological characterization of H9N2 avian influenza viruses isolated in China from 2011 to 2014.</a></strong><br>2018. Zhu R, Xu D, Yang X, Zhang J, Wang S, Shi H, Liu X<br>[ID: 29969454]"
      ],
      "text/plain": [
       "<IPython.core.display.HTML object>"
      ]
     },
     "metadata": {},
     "output_type": "display_data"
    },
    {
     "data": {
      "text/html": [
       "<strong><a href=http://dx.doi.org/10.1128/JVI.00659-09>A novel genotype H9N2 influenza virus possessing human H5N1 internal genomes has been circulating in poultry in eastern China since 1998.</a></strong><br>2009. Zhang P, Tang Y, Liu X, Liu W, Zhang X, Liu H, Peng D, Gao S, Wu Y, Zhang L, Lu S, Liu X<br>[ID: 19553328]"
      ],
      "text/plain": [
       "<IPython.core.display.HTML object>"
      ]
     },
     "metadata": {},
     "output_type": "display_data"
    },
    {
     "data": {
      "text/html": [
       "<strong><a href=http://dx.doi.org/10.1128/genomeA.00091-13>Complete Genomic Sequence of a Novel Reassortant H4N2 Avian Influenza Virus Isolated from Domestic Ducks in Jiangsu, China.</a></strong><br>2013. Zhao Q, Li Q, Zhong L, Gu M, Zhu J, Zhao G, Chen C, Wang X, Liu X, Liu X<br>[ID: 23516214]"
      ],
      "text/plain": [
       "<IPython.core.display.HTML object>"
      ]
     },
     "metadata": {},
     "output_type": "display_data"
    },
    {
     "data": {
      "text/html": [
       "<strong><a href=http://dx.doi.org/10.1016/j.cca.2010.08.036>The influence of influenza A (H1N1) virus on creatinine and cystatin C.</a></strong><br>2010. Guo Z, Wang Q, Wu Z, Zhu J, Qiu Y, Zheng L, Qiu L<br>[ID: 20816950]"
      ],
      "text/plain": [
       "<IPython.core.display.HTML object>"
      ]
     },
     "metadata": {},
     "output_type": "display_data"
    },
    {
     "data": {
      "text/html": [
       "<strong>[Comparison of sequences of the hemagglutinin gene and phylogenetical analysis of H9 subtype avian influenza viruses isolated from some regions in China].</strong><br>2002. Liu H, Cheng J, Peng D, Jia L, Zhang R, Liu X<br>[ID: 12557368]"
      ],
      "text/plain": [
       "<IPython.core.display.HTML object>"
      ]
     },
     "metadata": {},
     "output_type": "display_data"
    },
    {
     "data": {
      "text/html": [
       "<strong><a href=http://dx.doi.org/10.1016/j.vetmic.2016.07.025>Surveillance, epidemiological, and virological detection of highly pathogenic H5N1 avian influenza viruses in duck and poultry from Bangladesh.</a></strong><br>2016. Ansari WK, Parvej MS, El Zowalaty ME, Jackson S, Bustin SA, Ibrahim AK, El Zowalaty AE, Rahman MT, Zhang H, Khan MF, Ahamed MM, Rahman MF, Rahman M, Nazir KH, Ahmed S, Hossen ML, Kafi MA, Yamage M, Debnath NC, Ahmed G, ...<br>[ID: 27599930]"
      ],
      "text/plain": [
       "<IPython.core.display.HTML object>"
      ]
     },
     "metadata": {},
     "output_type": "display_data"
    },
    {
     "data": {
      "text/html": [
       "<strong><a href=http://dx.doi.org/10.1371/journal.pone.0174980>Influenza A H5N1 and H7N9 in China: A spatial risk analysis.</a></strong><br>2017. Bui CM, Gardner L, MacIntyre R, Sarkar S<br>[ID: 28376125]"
      ],
      "text/plain": [
       "<IPython.core.display.HTML object>"
      ]
     },
     "metadata": {},
     "output_type": "display_data"
    },
    {
     "data": {
      "text/html": [
       "<strong><a href=http://dx.doi.org/10.1186/s12917-017-1104-6>Serological and virological surveillance of avian influenza virus in domestic ducks of the north-east region of Bangladesh.</a></strong><br>2017. Sarker RD, Giasuddin M, Chowdhury EH, Islam MR<br>[ID: 28623934]"
      ],
      "text/plain": [
       "<IPython.core.display.HTML object>"
      ]
     },
     "metadata": {},
     "output_type": "display_data"
    },
    {
     "data": {
      "text/html": [
       "<strong><a href=http://dx.doi.org/10.1128/JVI.01043-12>Full genome sequence of a recombinant H5N1 influenza virus from a condor in southern China.</a></strong><br>2012. Jiao P, Yuan R, Song Y, Wei L, Ren T, Liao M, Luo K<br>[ID: 22733885]"
      ],
      "text/plain": [
       "<IPython.core.display.HTML object>"
      ]
     },
     "metadata": {},
     "output_type": "display_data"
    },
    {
     "data": {
      "text/html": [
       "<strong><a href=http://dx.doi.org/10.1016/j.vetmic.2013.10.012>A serological survey of canine H3N2, pandemic H1N1/09 and human seasonal H3N2 influenza viruses in dogs in China.</a></strong><br>2014. Sun Y, Shen Y, Zhang X, Wang Q, Liu L, Han X, Jiang B, Wang R, Sun H, Pu J, Lin D, Xia Z, Liu J<br>[ID: 24239170]"
      ],
      "text/plain": [
       "<IPython.core.display.HTML object>"
      ]
     },
     "metadata": {},
     "output_type": "display_data"
    },
    {
     "data": {
      "text/html": [
       "<strong><a href=http://dx.doi.org/10.1128/JVI.02055-16>M Gene Reassortment in H9N2 Influenza Virus Promotes Early Infection and Replication: Contribution to Rising Virus Prevalence in Chickens in China.</a></strong><br>2017. Pu J, Sun H, Qu Y, Wang C, Gao W, Zhu J, Sun Y, Bi Y, Huang Y, Chang KC, Cui J, Liu J<br>[ID: 28148803]"
      ],
      "text/plain": [
       "<IPython.core.display.HTML object>"
      ]
     },
     "metadata": {},
     "output_type": "display_data"
    },
    {
     "data": {
      "text/html": [
       "<strong>[Seasonal, avian and pandemic influenza: are we prepared?]</strong><br>2018. Feng ZJ<br>[ID: 30180420]"
      ],
      "text/plain": [
       "<IPython.core.display.HTML object>"
      ]
     },
     "metadata": {},
     "output_type": "display_data"
    },
    {
     "data": {
      "text/html": [
       "<strong>[History of influenza pandemics in China during the past century].</strong><br>2018. Qin Y, Zhao MJ, Tan YY, Li XQ, Zheng JD, Peng ZB, Feng LZ<br>[ID: 30180422]"
      ],
      "text/plain": [
       "<IPython.core.display.HTML object>"
      ]
     },
     "metadata": {},
     "output_type": "display_data"
    },
    {
     "data": {
      "text/html": [
       "<strong>[Development and prospect of Influenza Surveillance Network in China].</strong><br>2018. Wang DY<br>[ID: 30180424]"
      ],
      "text/plain": [
       "<IPython.core.display.HTML object>"
      ]
     },
     "metadata": {},
     "output_type": "display_data"
    },
    {
     "data": {
      "text/html": [
       "<strong>[Genetic variety of influenza A virus in the populations of wild birds in the south of Western Siberia].</strong><br>2005. Razumova IuV, Shchelkanov MIu, Durymanova AA, Zolotykh SI, Ternovoĭ VA, Slavsliĭ AA, Iurlov AK, Beklemishev AB, Shestopalov AM, L'vov DK<br>[ID: 16104520]"
      ],
      "text/plain": [
       "<IPython.core.display.HTML object>"
      ]
     },
     "metadata": {},
     "output_type": "display_data"
    },
    {
     "data": {
      "text/html": [
       "<strong><a href=http://dx.doi.org/10.1016/j.cimid.2018.01.001>Novel reassortant H5N6 highly pathogenic influenza A viruses in Vietnamese quail outbreaks.</a></strong><br>2018. Thanh HD, Tran VT, Nguyen DT, Hung VK, Kim W<br>[ID: 29406283]"
      ],
      "text/plain": [
       "<IPython.core.display.HTML object>"
      ]
     },
     "metadata": {},
     "output_type": "display_data"
    },
    {
     "data": {
      "text/html": [
       "<strong>Avian-origin H3N2 canine influenza virus circulating in farmed dogs in Guangdong, China.</strong><br>2013. Su S, Chen Y, Zhao FR, Chen JD, Xie JX, Chen ZM, Huang Z, Hu YM, Zhang MZ, Tan LK, Zhang GH, Li SJ<br>[ID: 24298574]"
      ],
      "text/plain": [
       "<IPython.core.display.HTML object>"
      ]
     },
     "metadata": {},
     "output_type": "display_data"
    },
    {
     "data": {
      "text/html": [
       "<strong><a href=http://dx.doi.org/10.4103/1947-2714.115764>H7N9 Influenza: The Emerging Infectious Disease.</a></strong><br>2013. Wiwanitkit V<br>[ID: 24020046]"
      ],
      "text/plain": [
       "<IPython.core.display.HTML object>"
      ]
     },
     "metadata": {},
     "output_type": "display_data"
    },
    {
     "data": {
      "text/html": [
       "<strong><a href=http://dx.doi.org/10.1080/21645515.2015.1052197>H7N9 T-cell epitopes that mimic human sequences are less immunogenic and may induce Treg-mediated tolerance.</a></strong><br>2015. Liu R, Moise L, Tassone R, Gutierrez AH, Terry FE, Sangare K, Ardito MT, Martin WD, De Groot AS<br>[ID: 26090577]"
      ],
      "text/plain": [
       "<IPython.core.display.HTML object>"
      ]
     },
     "metadata": {},
     "output_type": "display_data"
    },
    {
     "data": {
      "text/html": [
       "<strong>Potential infections of H5N1 and H9N2 avian influenza do exist in Guangdong populations of China.</strong><br>2008. Lu CY, Lu JH, Chen WQ, Jiang LF, Tan BY, Ling WH, Zheng BJ, Sui HY<br>[ID: 19080274]"
      ],
      "text/plain": [
       "<IPython.core.display.HTML object>"
      ]
     },
     "metadata": {},
     "output_type": "display_data"
    },
    {
     "data": {
      "text/html": [
       "<strong><a href=http://dx.doi.org/10.1007/978-3-540-92165-3_6>Influenza vaccines for avian species.</a></strong><br>2009. Kapczynski DR, Swayne DE<br>[ID: 19768403]"
      ],
      "text/plain": [
       "<IPython.core.display.HTML object>"
      ]
     },
     "metadata": {},
     "output_type": "display_data"
    },
    {
     "data": {
      "text/html": [
       "<strong><a href=http://dx.doi.org/10.1093/infdis/jiy317>Clinical Correlations of Transcriptional Profile in Patients Infected With Avian Influenza H7N9 Virus.</a></strong><br>2018. Guan W, Yang Z, Wu NC, Lee HHY, Li Y, Jiang W, Shen L, Wu DC, Chen R, Zhong N, Wilson IA, Peiris M, Mok CKP<br>[ID: 29846612]"
      ],
      "text/plain": [
       "<IPython.core.display.HTML object>"
      ]
     },
     "metadata": {},
     "output_type": "display_data"
    },
    {
     "data": {
      "text/html": [
       "<strong><a href=http://dx.doi.org/10.1007/978-3-540-92165-3_7>Development and application of avian influenza vaccines in China.</a></strong><br>2009. Chen H, Bu Z<br>[ID: 19768404]"
      ],
      "text/plain": [
       "<IPython.core.display.HTML object>"
      ]
     },
     "metadata": {},
     "output_type": "display_data"
    },
    {
     "data": {
      "text/html": [
       "<strong><a href=http://dx.doi.org/10.3201/eid2012.140765>Circulation of reassortant influenza A(H7N9) viruses in poultry and humans, Guangdong Province, China, 2013.</a></strong><br>2014. Ke C, Lu J, Wu J, Guan D, Zou L, Song T, Yi L, Zeng X, Liang L, Ni H, Kang M, Zhang X, Zhong H, He J, Lin J, Smith D, Burke D, Fouchier RA, Koopmans M, Zhang Y<br>[ID: 25418838]"
      ],
      "text/plain": [
       "<IPython.core.display.HTML object>"
      ]
     },
     "metadata": {},
     "output_type": "display_data"
    },
    {
     "data": {
      "text/html": [
       "<strong><a href=http://dx.doi.org/10.1038/s41426-017-0012-y>Two reassortant types of highly pathogenic H5N8 avian influenza virus from wild birds in Central China in 2016.</a></strong><br>2018. Ma L, Jin T, Wang H, Liu H, Wang R, Li Y, Yang G, Xiong Y, Chen J, Zhang J, Chen G, Li W, Liu D, Lin P, Huang Y, Gao GF, Chen Q<br>[ID: 29410395]"
      ],
      "text/plain": [
       "<IPython.core.display.HTML object>"
      ]
     },
     "metadata": {},
     "output_type": "display_data"
    },
    {
     "data": {
      "text/html": [
       "<strong>[In vitro anti-influenza virus activity of 10 traditional Chinese medicines].</strong><br>2010. He WY, Gao RM, Li XQ, Jiang JD, Li YH<br>[ID: 21351519]"
      ],
      "text/plain": [
       "<IPython.core.display.HTML object>"
      ]
     },
     "metadata": {},
     "output_type": "display_data"
    },
    {
     "data": {
      "text/html": [
       "<strong><a href=http://dx.doi.org/10.1177/0300060518792795>Rescue of four pediatric patients with severe influenza A (H3N2) in Weifang, China.</a></strong><br>2018. Li T, Qi N, Gao X, Yu H<br>[ID: 30213216]"
      ],
      "text/plain": [
       "<IPython.core.display.HTML object>"
      ]
     },
     "metadata": {},
     "output_type": "display_data"
    },
    {
     "data": {
      "text/html": [
       "<strong>[Phylogenetic analysis of the surface glycoprotein genes of an aquatic bird origin influenza virus isolate A/Duck/Yangzhou/233/2002 (H6N2)].</strong><br>2005. Zhang PH, Liu XW, Qian ZM, Tang YH, Liu XF<br>[ID: 16245856]"
      ],
      "text/plain": [
       "<IPython.core.display.HTML object>"
      ]
     },
     "metadata": {},
     "output_type": "display_data"
    },
    {
     "data": {
      "text/html": [
       "<strong><a href=http://dx.doi.org/10.1186/s12879-017-2215-1>Study on age-dependent pre-existing 2009 pandemic influenza virus T and B cell responses from Chinese population.</a></strong><br>2017. Lv J, Ren ZY, Zhang YY, Liu YE, Gao J, Yao K, Feng D, Li ZY, Feng X, Liu YX, Jia N<br>[ID: 28187750]"
      ],
      "text/plain": [
       "<IPython.core.display.HTML object>"
      ]
     },
     "metadata": {},
     "output_type": "display_data"
    },
    {
     "data": {
      "text/html": [
       "<strong><a href=http://dx.doi.org/10.1128/genomeA.00802-17>Genetic Characterization of an Avian Influenza Virus H4N6 Strain Isolated from a Guangxi Pockmark Duck.</a></strong><br>2017. Xie L, Xie Z, Wu A, Luo S, Zhang M, Huang L, Xie Z, Huang J, Zhang Y, Zeng T, Deng X<br>[ID: 28839020]"
      ],
      "text/plain": [
       "<IPython.core.display.HTML object>"
      ]
     },
     "metadata": {},
     "output_type": "display_data"
    },
    {
     "data": {
      "text/html": [
       "<strong><a href=http://dx.doi.org/10.1128/JVI.00143-17>Molecular Evolution and Emergence of H5N6 Avian Influenza Virus in Central China.</a></strong><br>2017. Du Y, Chen M, Yang J, Jia Y, Han S, Holmes EC, Cui J<br>[ID: 28404845]"
      ],
      "text/plain": [
       "<IPython.core.display.HTML object>"
      ]
     },
     "metadata": {},
     "output_type": "display_data"
    },
    {
     "data": {
      "text/html": [
       "<strong><a href=http://dx.doi.org/10.1016/j.meegid.2016.03.010>Clinical, epidemiological and virological characteristics of the first detected human case of avian influenza A(H5N6) virus.</a></strong><br>2016. Zhang R, Chen T, Ou X, Liu R, Yang Y, Ye W, Chen J, Yao D, Sun B, Zhang X, Zhou J, Sun Y, Chen F, Wang SP<br>[ID: 26973295]"
      ],
      "text/plain": [
       "<IPython.core.display.HTML object>"
      ]
     },
     "metadata": {},
     "output_type": "display_data"
    },
    {
     "data": {
      "text/html": [
       "<strong><a href=http://dx.doi.org/10.3382/ps.2010-00695>Cloning and phylogenetic analysis of hemagglutinin gene of H9N2 subtype avian influenza virus from different isolates in China during 2002 to 2009.</a></strong><br>2010. Wu ZQ, Ji J, Zuo KJ, Xie QM, Li HM, Liu J, Chen F, Xue CY, Ma JY, Bi YZ<br>[ID: 20460659]"
      ],
      "text/plain": [
       "<IPython.core.display.HTML object>"
      ]
     },
     "metadata": {},
     "output_type": "display_data"
    },
    {
     "data": {
      "text/html": [
       "<strong><a href=http://dx.doi.org/10.1586/erv.10.23>Safety and immunogenicity of influenza A H1N1 vaccines.</a></strong><br>2010. Lu W, Tambyah PA<br>[ID: 20370547]"
      ],
      "text/plain": [
       "<IPython.core.display.HTML object>"
      ]
     },
     "metadata": {},
     "output_type": "display_data"
    },
    {
     "data": {
      "text/html": [
       "<strong><a href=http://dx.doi.org/10.1111/j.1469-0691.2005.01325.x>Human metapneumovirus in paediatric patients.</a></strong><br>2006. Principi N, Bosis S, Esposito S<br>[ID: 16524405]"
      ],
      "text/plain": [
       "<IPython.core.display.HTML object>"
      ]
     },
     "metadata": {},
     "output_type": "display_data"
    },
    {
     "data": {
      "text/html": [
       "<strong><a href=http://dx.doi.org/10.1186/1743-422X-11-185>Transmission of H7N9 influenza virus in mice by different infective routes.</a></strong><br>2014. Bao L, Xu L, Zhu H, Deng W, Chen T, Lv Q, Li F, Yuan J, Xu Y, Huang L, Li Y, Liu J, Yao Y, Yu P, Chen H, Qin C<br>[ID: 25367670]"
      ],
      "text/plain": [
       "<IPython.core.display.HTML object>"
      ]
     },
     "metadata": {},
     "output_type": "display_data"
    },
    {
     "data": {
      "text/html": [
       "<strong><a href=http://dx.doi.org/10.1016/j.virusres.2008.11.008>Further evidence for infection of pigs with human-like H1N1 influenza viruses in China.</a></strong><br>2009. Yu H, Zhou YJ, Li GX, Zhang GH, Liu HL, Yan LP, Liao M, Tong GZ<br>[ID: 19063926]"
      ],
      "text/plain": [
       "<IPython.core.display.HTML object>"
      ]
     },
     "metadata": {},
     "output_type": "display_data"
    },
    {
     "data": {
      "text/html": [
       "<strong><a href=http://dx.doi.org/10.4161/hv.26715>Review of 10 years of clinical experience with Chinese domestic trivalent influenza vaccine Anflu®.</a></strong><br>2014. Liu Y, Wu JY, Wang X, Chen JT, Xia M, Hu W, Zou Y, Yin WD<br>[ID: 24104060]"
      ],
      "text/plain": [
       "<IPython.core.display.HTML object>"
      ]
     },
     "metadata": {},
     "output_type": "display_data"
    },
    {
     "data": {
      "text/html": [
       "<strong><a href=http://dx.doi.org/10.1128/JCM.43.11.5760-5767.2005>Human infection with an avian H9N2 influenza A virus in Hong Kong in 2003.</a></strong><br>2005. Butt KM, Smith GJ, Chen H, Zhang LJ, Leung YH, Xu KM, Lim W, Webster RG, Yuen KY, Peiris JS, Guan Y<br>[ID: 16272514]"
      ],
      "text/plain": [
       "<IPython.core.display.HTML object>"
      ]
     },
     "metadata": {},
     "output_type": "display_data"
    },
    {
     "data": {
      "text/html": [
       "<strong><a href=http://dx.doi.org/10.1371/journal.ppat.1005578>Broadly-Reactive Neutralizing and Non-neutralizing Antibodies Directed against the H7 Influenza Virus Hemagglutinin Reveal Divergent Mechanisms of Protection.</a></strong><br>2016. Tan GS, Leon PE, Albrecht RA, Margine I, Hirsh A, Bahl J, Krammer F<br>[ID: 27081859]"
      ],
      "text/plain": [
       "<IPython.core.display.HTML object>"
      ]
     },
     "metadata": {},
     "output_type": "display_data"
    },
    {
     "data": {
      "text/html": [
       "<strong><a href=http://dx.doi.org/10.1016/j.meegid.2014.02.016>Complex reassortment of polymerase genes in Asian influenza A virus H7 and H9 subtypes.</a></strong><br>2014. Liu J, Zhang J, Huang F, Zhang Y, Luo H, Zhang H<br>[ID: 24632455]"
      ],
      "text/plain": [
       "<IPython.core.display.HTML object>"
      ]
     },
     "metadata": {},
     "output_type": "display_data"
    },
    {
     "data": {
      "text/html": [
       "<strong><a href=http://dx.doi.org/10.5414/CP201843>Pharmacokinetics of single and multiple oral doses of arbidol in healthy Chinese volunteers.</a></strong><br>2013. Sun Y, He X, Qiu F, Zhu X, Zhao M, Li-Ling J, Su X, Zhao L<br>[ID: 23391367]"
      ],
      "text/plain": [
       "<IPython.core.display.HTML object>"
      ]
     },
     "metadata": {},
     "output_type": "display_data"
    },
    {
     "data": {
      "text/html": [
       "<strong><a href=http://dx.doi.org/10.1371/journal.pone.0095430>Rural villagers and urban residents exposure to poultry in China.</a></strong><br>2014. Peng Z, Wu P, Ge L, Fielding R, Cheng X, Su W, Ye M, Shi Y, Liao Q, Zhou H, Zhou L, Li L, Wu J, Zhang S, Yu Z, Wu X, Ma H, Lu J, Cowling BJ, Yu H<br>[ID: 24769673]"
      ],
      "text/plain": [
       "<IPython.core.display.HTML object>"
      ]
     },
     "metadata": {},
     "output_type": "display_data"
    },
    {
     "data": {
      "text/html": [
       "<strong><a href=http://dx.doi.org/10.1016/j.envpol.2017.09.071>Measuring the impact of air pollution on respiratory infection risk in China.</a></strong><br>2018. Tang S, Yan Q, Shi W, Wang X, Sun X, Yu P, Wu J, Xiao Y<br>[ID: 28966029]"
      ],
      "text/plain": [
       "<IPython.core.display.HTML object>"
      ]
     },
     "metadata": {},
     "output_type": "display_data"
    },
    {
     "data": {
      "text/html": [
       "<strong><a href=http://dx.doi.org/10.1086/524990>China's heath care system and avian influenza preparedness.</a></strong><br>2008. Kaufman JA<br>[ID: 18269328]"
      ],
      "text/plain": [
       "<IPython.core.display.HTML object>"
      ]
     },
     "metadata": {},
     "output_type": "display_data"
    },
    {
     "data": {
      "text/html": [
       "<strong><a href=http://dx.doi.org/10.4014/jmb.1511.11047>Genetic Characterization of an Ancestral Strain of the Avian-Origin H3N2 Canine Influenza Virus Currently Circulating in East Asia.</a></strong><br>2016. Kim JK, Nam JH, Lyoo KS, Moon H, Na W, Song EJ, Yeom M, Shim SM, Jeong DG, An DJ, Kang BK, Song D<br>[ID: 27012241]"
      ],
      "text/plain": [
       "<IPython.core.display.HTML object>"
      ]
     },
     "metadata": {},
     "output_type": "display_data"
    },
    {
     "data": {
      "text/html": [
       "<strong><a href=http://dx.doi.org/10.1002/jmv.20135>Excess hospital admissions for pneumonia, chronic obstructive pulmonary disease, and heart failure during influenza seasons in Hong Kong.</a></strong><br>2004. Yap FH, Ho PL, Lam KF, Chan PK, Cheng YH, Peiris JS<br>[ID: 15221909]"
      ],
      "text/plain": [
       "<IPython.core.display.HTML object>"
      ]
     },
     "metadata": {},
     "output_type": "display_data"
    },
    {
     "data": {
      "text/html": [
       "<strong><a href=http://dx.doi.org/10.1186/1471-2334-14-427>Surveillance of low pathogenic novel H7N9 avian influenza in commercial poultry barns: detection of outbreaks and estimation of virus introduction time.</a></strong><br>2014. Pinsent A, Blake IM, White MT, Riley S<br>[ID: 25085078]"
      ],
      "text/plain": [
       "<IPython.core.display.HTML object>"
      ]
     },
     "metadata": {},
     "output_type": "display_data"
    },
    {
     "data": {
      "text/html": [
       "<strong><a href=http://dx.doi.org/10.1080/21645515.2017.1397868>Potential impact of B lineage mismatch on trivalent influenza vaccine effectiveness during the 2015-2016 influenza season among nursery school children in Suzhou, China.</a></strong><br>2018. Wang Y, Chen L, Cheng Y, Zhou S, Pang Y, Zhang J, Greene CM, Song Y, Zhang T, Zhao G<br>[ID: 29090968]"
      ],
      "text/plain": [
       "<IPython.core.display.HTML object>"
      ]
     },
     "metadata": {},
     "output_type": "display_data"
    },
    {
     "data": {
      "text/html": [
       "<strong><a href=http://dx.doi.org/10.1038/srep27360>Phylogenetic analysis and pathogenicity of H3 subtype avian influenza viruses isolated from live poultry markets in China.</a></strong><br>2016. Cui H, Shi Y, Ruan T, Li X, Teng Q, Chen H, Yang J, Liu Q, Li Z<br>[ID: 27270298]"
      ],
      "text/plain": [
       "<IPython.core.display.HTML object>"
      ]
     },
     "metadata": {},
     "output_type": "display_data"
    },
    {
     "data": {
      "text/html": [
       "<strong><a href=http://dx.doi.org/10.1056/NEJMoa1008553>Safety of influenza A (H1N1) vaccine in postmarketing surveillance in China.</a></strong><br>2011. Liang XF, Li L, Liu DW, Li KL, Wu WD, Zhu BP, Wang HQ, Luo HM, Cao LS, Zheng JS, Yin DP, Cao L, Wu BB, Bao HH, Xu DS, Yang WZ, Wang Y<br>[ID: 21288090]"
      ],
      "text/plain": [
       "<IPython.core.display.HTML object>"
      ]
     },
     "metadata": {},
     "output_type": "display_data"
    },
    {
     "data": {
      "text/html": [
       "<strong><a href=http://dx.doi.org/10.1016/j.jtbi.2014.12.002>Global dynamic analysis of a H7N9 avian-human influenza model in an outbreak region.</a></strong><br>2015. Chen Y, Wen Y<br>[ID: 25496732]"
      ],
      "text/plain": [
       "<IPython.core.display.HTML object>"
      ]
     },
     "metadata": {},
     "output_type": "display_data"
    },
    {
     "data": {
      "text/html": [
       "<strong><a href=http://dx.doi.org/10.1128/JVI.00327-07>Characterization of low-pathogenic H5 subtype influenza viruses from Eurasia: implications for the origin of highly pathogenic H5N1 viruses.</a></strong><br>2007. Duan L, Campitelli L, Fan XH, Leung YH, Vijaykrishna D, Zhang JX, Donatelli I, Delogu M, Li KS, Foni E, Chiapponi C, Wu WL, Kai H, Webster RG, Shortridge KF, Peiris JS, Smith GJ, Chen H, Guan Y<br>[ID: 17507485]"
      ],
      "text/plain": [
       "<IPython.core.display.HTML object>"
      ]
     },
     "metadata": {},
     "output_type": "display_data"
    },
    {
     "data": {
      "text/html": [
       "<strong><a href=http://dx.doi.org/10.1111/irv.12515>Mortality burden from seasonal influenza and 2009 H1N1 pandemic influenza in Beijing, China, 2007-2013.</a></strong><br>2018. Wu S, Wei Z, Greene CM, Yang P, Su J, Song Y, Iuliano AD, Wang Q<br>[ID: 29054110]"
      ],
      "text/plain": [
       "<IPython.core.display.HTML object>"
      ]
     },
     "metadata": {},
     "output_type": "display_data"
    },
    {
     "data": {
      "text/html": [
       "<strong><a href=http://dx.doi.org/10.3390/v5071719>Development of a magnetic electrochemical bar code array for point mutation detection in the H5N1 neuraminidase gene.</a></strong><br>2013. Krejcova L, Hynek D, Kopel P, Rodrigo MA, Adam V, Hubalek J, Babula P, Trnkova L, Kizek R<br>[ID: 23860384]"
      ],
      "text/plain": [
       "<IPython.core.display.HTML object>"
      ]
     },
     "metadata": {},
     "output_type": "display_data"
    },
    {
     "data": {
      "text/html": [
       "<strong>New and emerging infectious diseases.</strong><br>2007. Spicuzza L, Spicuzza A, La Rosa M, Polosa R, Di Maria G<br>[ID: 17390754]"
      ],
      "text/plain": [
       "<IPython.core.display.HTML object>"
      ]
     },
     "metadata": {},
     "output_type": "display_data"
    },
    {
     "data": {
      "text/html": [
       "<strong><a href=http://dx.doi.org/10.1186/1471-2334-13-592>Minimizing the threat of pandemic emergence from avian influenza in poultry systems.</a></strong><br>2013. Pepin KM, Lloyd-Smith JO, Webb CT, Holcomb K, Zhu H, Guan Y, Riley S<br>[ID: 24341669]"
      ],
      "text/plain": [
       "<IPython.core.display.HTML object>"
      ]
     },
     "metadata": {},
     "output_type": "display_data"
    },
    {
     "data": {
      "text/html": [
       "<strong><a href=http://dx.doi.org/10.1172/JCI74374>Preexisting human antibodies neutralize recently emerged H7N9 influenza strains.</a></strong><br>2015. Henry Dunand CJ, Leon PE, Kaur K, Tan GS, Zheng NY, Andrews S, Huang M, Qu X, Huang Y, Salgado-Ferrer M, Ho IY, Taylor W, Hai R, Wrammert J, Ahmed R, García-Sastre A, Palese P, Krammer F, Wilson PC<br>[ID: 25689254]"
      ],
      "text/plain": [
       "<IPython.core.display.HTML object>"
      ]
     },
     "metadata": {},
     "output_type": "display_data"
    },
    {
     "data": {
      "text/html": [
       "<strong><a href=http://dx.doi.org/10.1016/j.vaccine.2010.07.064>Seasonal influenza vaccine supply and target vaccinated population in China, 2004-2009.</a></strong><br>2010. Feng L, Mounts AW, Feng Y, Luo Y, Yang P, Feng Z, Yang W, Yu H<br>[ID: 20688038]"
      ],
      "text/plain": [
       "<IPython.core.display.HTML object>"
      ]
     },
     "metadata": {},
     "output_type": "display_data"
    },
    {
     "data": {
      "text/html": [
       "<strong><a href=http://dx.doi.org/10.1007/s10393-010-0672-8>Flying over an infected landscape: distribution of highly pathogenic avian influenza H5N1 risk in South Asia and satellite tracking of wild waterfowl.</a></strong><br>2010. Gilbert M, Newman SH, Takekawa JY, Loth L, Biradar C, Prosser DJ, Balachandran S, Subba Rao MV, Mundkur T, Yan B, Xing Z, Hou Y, Batbayar N, Natsagdorj T, Hogerwerf L, Slingenbergh J, Xiao X<br>[ID: 21267626]"
      ],
      "text/plain": [
       "<IPython.core.display.HTML object>"
      ]
     },
     "metadata": {},
     "output_type": "display_data"
    },
    {
     "data": {
      "text/html": [
       "<strong><a href=http://dx.doi.org/10.1128/JVI.03292-13>H6 influenza viruses pose a potential threat to human health.</a></strong><br>2014. Wang G, Deng G, Shi J, Luo W, Zhang G, Zhang Q, Liu L, Jiang Y, Li C, Sriwilaijaroen N, Hiramatsu H, Suzuki Y, Kawaoka Y, Chen H<br>[ID: 24501418]"
      ],
      "text/plain": [
       "<IPython.core.display.HTML object>"
      ]
     },
     "metadata": {},
     "output_type": "display_data"
    },
    {
     "data": {
      "text/html": [
       "<strong><a href=http://dx.doi.org/10.1128/JVI.02468-07>Identification of the progenitors of Indonesian and Vietnamese avian influenza A (H5N1) viruses from southern China.</a></strong><br>2008. Wang J, Vijaykrishna D, Duan L, Bahl J, Zhang JX, Webster RG, Peiris JS, Chen H, Smith GJ, Guan Y<br>[ID: 18216109]"
      ],
      "text/plain": [
       "<IPython.core.display.HTML object>"
      ]
     },
     "metadata": {},
     "output_type": "display_data"
    },
    {
     "data": {
      "text/html": [
       "<strong><a href=http://dx.doi.org/10.1038/ncomms5116>Predicting the risk of avian influenza A H7N9 infection in live-poultry markets across Asia.</a></strong><br>2014. Gilbert M, Golding N, Zhou H, Wint GR, Robinson TP, Tatem AJ, Lai S, Zhou S, Jiang H, Guo D, Huang Z, Messina JP, Xiao X, Linard C, Van Boeckel TP, Martin V, Bhatt S, Gething PW, Farrar JJ, Hay SI, ...<br>[ID: 24937647]"
      ],
      "text/plain": [
       "<IPython.core.display.HTML object>"
      ]
     },
     "metadata": {},
     "output_type": "display_data"
    },
    {
     "data": {
      "text/html": [
       "<strong><a href=http://dx.doi.org/10.1016/j.jcma.2013.04.003>An overview of the recent outbreaks of the avian-origin influenza A (H7N9) virus in the human.</a></strong><br>2013. Tang RB, Chen HL<br>[ID: 23651506]"
      ],
      "text/plain": [
       "<IPython.core.display.HTML object>"
      ]
     },
     "metadata": {},
     "output_type": "display_data"
    },
    {
     "data": {
      "text/html": [
       "<strong><a href=http://dx.doi.org/10.3201/eid2012.140911>Human infection with influenza virus A(H10N8) from live poultry markets, China, 2014.</a></strong><br>2014. Zhang T, Bi Y, Tian H, Li X, Liu D, Wu Y, Jin T, Wang Y, Chen Q, Chen Z, Chang J, Gao GF, Xu B<br>[ID: 25425075]"
      ],
      "text/plain": [
       "<IPython.core.display.HTML object>"
      ]
     },
     "metadata": {},
     "output_type": "display_data"
    },
    {
     "data": {
      "text/html": [
       "<strong><a href=http://dx.doi.org/10.3389/fmicb.2018.00604>Influenza Viral Vectors Expressing Two Kinds of HA Proteins as Bivalent Vaccine Against Highly Pathogenic Avian Influenza Viruses of Clade 2.3.4.4 H5 and H7N9.</a></strong><br>2018. Li J, Hou G, Wang Y, Wang S, Peng C, Yu X, Jiang W<br>[ID: 29670587]"
      ],
      "text/plain": [
       "<IPython.core.display.HTML object>"
      ]
     },
     "metadata": {},
     "output_type": "display_data"
    },
    {
     "data": {
      "text/html": [
       "<strong>[Virological characterization of influenza A(H3N2) virus in Mainland China during 2011-2012].</strong><br>2013. Huang WJ, Cheng YH, Li XY, Zhao X, Guo JF, Wang Z, Tan MJ, Li M, Sui HT, Wei HJ, Chen YY, Xiao N, Lan Y, Wang DY, Shu YL<br>[ID: 23905468]"
      ],
      "text/plain": [
       "<IPython.core.display.HTML object>"
      ]
     },
     "metadata": {},
     "output_type": "display_data"
    },
    {
     "data": {
      "text/html": [
       "<strong><a href=http://dx.doi.org/10.1016/j.virol.2005.06.025>Evolution of H9N2 influenza viruses from domestic poultry in Mainland China.</a></strong><br>2005. Li C, Yu K, Tian G, Yu D, Liu L, Jing B, Ping J, Chen H<br>[ID: 16026813]"
      ],
      "text/plain": [
       "<IPython.core.display.HTML object>"
      ]
     },
     "metadata": {},
     "output_type": "display_data"
    },
    {
     "data": {
      "text/html": [
       "<strong>[Detection of molecular markers of amantadine resistance in swine influenza viruses by pyrosequencing].</strong><br>2010. Liu H, Lv Y, Huang W, Yan M, Zhang W, Li M, Wang Q, Li J, Zheng D, Zhao Y, Sun C, Wang Z<br>[ID: 20499646]"
      ],
      "text/plain": [
       "<IPython.core.display.HTML object>"
      ]
     },
     "metadata": {},
     "output_type": "display_data"
    },
    {
     "data": {
      "text/html": [
       "<strong><a href=http://dx.doi.org/10.1186/s12985-017-0842-1>Characteristics of influenza H13N8 subtype virus firstly isolated from Qinghai Lake Region, China.</a></strong><br>2017. Dong J, Bo H, Zhang Y, Dong L, Zou S, Huang W, Liu J, Wang D, Shu Y<br>[ID: 28923071]"
      ],
      "text/plain": [
       "<IPython.core.display.HTML object>"
      ]
     },
     "metadata": {},
     "output_type": "display_data"
    },
    {
     "data": {
      "text/html": [
       "<strong><a href=http://dx.doi.org/10.1001/jama.2015.7916>Effect of Varying Doses of a Monovalent H7N9 Influenza Vaccine With and Without AS03 and MF59 Adjuvants on Immune Response: A Randomized Clinical Trial.</a></strong><br>2015. Jackson LA, Campbell JD, Frey SE, Edwards KM, Keitel WA, Kotloff KL, Berry AA, Graham I, Atmar RL, Creech CB, Thomsen IP, Patel SM, Gutierrez AF, Anderson EL, El Sahly HM, Hill H, Noah DL, Bellamy AR<br>[ID: 26197184]"
      ],
      "text/plain": [
       "<IPython.core.display.HTML object>"
      ]
     },
     "metadata": {},
     "output_type": "display_data"
    },
    {
     "data": {
      "text/html": [
       "<strong><a href=http://dx.doi.org/10.7759/cureus.2048>Swine Flu: Knowledge, Attitude, and Practices Survey of Medical and Dental Students of Karachi.</a></strong><br>2018. Hasan F, Khan MO, Ali M<br>[ID: 29541569]"
      ],
      "text/plain": [
       "<IPython.core.display.HTML object>"
      ]
     },
     "metadata": {},
     "output_type": "display_data"
    },
    {
     "data": {
      "text/html": [
       "<strong>Bedside chest radiography of novel influenza A (H7N9) virus infections and follow-up findings after short-time treatment.</strong><br>2013. Song FX, Zhou J, Shi YX, Zhang ZY, Feng F, Zhou JJ, Wang QL<br>[ID: 24286403]"
      ],
      "text/plain": [
       "<IPython.core.display.HTML object>"
      ]
     },
     "metadata": {},
     "output_type": "display_data"
    },
    {
     "data": {
      "text/html": [
       "<strong><a href=http://dx.doi.org/10.1016/j.meegid.2016.05.012>Multiple introductions of a reassortant H5N1 avian influenza virus of clade 2.3.2.1c with PB2 gene of H9N2 subtype into Indian poultry.</a></strong><br>2016. Tosh C, Nagarajan S, Kumar M, Murugkar HV, Venkatesh G, Shukla S, Mishra A, Mishra P, Agarwal S, Singh B, Dubey P, Tripathi S, Kulkarni DD<br>[ID: 27174088]"
      ],
      "text/plain": [
       "<IPython.core.display.HTML object>"
      ]
     },
     "metadata": {},
     "output_type": "display_data"
    },
    {
     "data": {
      "text/html": [
       "<strong><a href=http://dx.doi.org/10.1038/s41598-018-20988-9>Sudden emergence of human infections with H7N9 avian influenza A virus in Hubei province, central China.</a></strong><br>2018. Liu J, Xu J, Liu L, Wei X, Song Y, Fang B, Yu X, Li X, Ye G, Du Y, Chen M, Shi W, Liu D, Holmes EC, Cui J<br>[ID: 29410505]"
      ],
      "text/plain": [
       "<IPython.core.display.HTML object>"
      ]
     },
     "metadata": {},
     "output_type": "display_data"
    },
    {
     "data": {
      "text/html": [
       "<strong><a href=http://dx.doi.org/10.3724/SP.J.1141.2011.01066>[Preliminary investigation of viruses to the wild tree shrews (Tupaia belangeri Chinese)].</a></strong><br>2011. Wang XX, Li JX, Wang WG, Sun XM, He CY, Dai JJ<br>[ID: 21341387]"
      ],
      "text/plain": [
       "<IPython.core.display.HTML object>"
      ]
     },
     "metadata": {},
     "output_type": "display_data"
    },
    {
     "data": {
      "text/html": [
       "<strong><a href=http://dx.doi.org/10.1186/1471-2334-14-244>Epidemiology of the avian influenza A (H7N9) outbreak in Zhejiang Province, China.</a></strong><br>2014. Gong Z, Lv H, Ding H, Han J, Sun J, Chai C, Cai J, Yu Z, Chen E<br>[ID: 24886478]"
      ],
      "text/plain": [
       "<IPython.core.display.HTML object>"
      ]
     },
     "metadata": {},
     "output_type": "display_data"
    },
    {
     "data": {
      "text/html": [
       "<strong><a href=http://dx.doi.org/10.1637/0005-2086(2003)047[0116:PAOTHG]2.0.CO;2>Phylogenetic analysis of the hemagglutinin genes of twenty-six avian influenza viruses of subtype H9N2 isolated from chickens in China during 1996-2001.</a></strong><br>2003. Liu H, Liu X, Cheng J, Peng D, Jia L, Huang Y<br>[ID: 12713166]"
      ],
      "text/plain": [
       "<IPython.core.display.HTML object>"
      ]
     },
     "metadata": {},
     "output_type": "display_data"
    },
    {
     "data": {
      "text/html": [
       "<strong><a href=http://dx.doi.org/10.1111/tbed.12327>A Systematic Review of the Comparative Epidemiology of Avian and Human Influenza A H5N1 and H7N9 - Lessons and Unanswered Questions.</a></strong><br>2016. Bui C, Bethmont A, Chughtai AA, Gardner L, Sarkar S, Hassan S, Seale H, MacIntyre CR<br>[ID: 25644240]"
      ],
      "text/plain": [
       "<IPython.core.display.HTML object>"
      ]
     },
     "metadata": {},
     "output_type": "display_data"
    },
    {
     "data": {
      "text/html": [
       "<strong>Seroepidemiological evidence of avian H4, H5, and H9 influenza A virus transmission to pigs in southeastern China.</strong><br>2002. Ninomiya A, Takada A, Okazaki K, Shortridge KF, Kida H<br>[ID: 12135631]"
      ],
      "text/plain": [
       "<IPython.core.display.HTML object>"
      ]
     },
     "metadata": {},
     "output_type": "display_data"
    },
    {
     "data": {
      "text/html": [
       "<strong>[Epidemics of conjunctivitis caused by avian influenza virus and molecular basis for its ocular tropism].</strong><br>2014. Yang C, Jin M<br>[ID: 25312466]"
      ],
      "text/plain": [
       "<IPython.core.display.HTML object>"
      ]
     },
     "metadata": {},
     "output_type": "display_data"
    },
    {
     "data": {
      "text/html": [
       "<strong><a href=http://dx.doi.org/10.1007/s00705-012-1496-3>Characterization of low-pathogenic H6N6 avian influenza viruses in central China.</a></strong><br>2013. Yao Y, Wang H, Chen Q, Zhang H, Zhang T, Chen J, Xu B, Wang H, Sun B, Chen Z<br>[ID: 23053524]"
      ],
      "text/plain": [
       "<IPython.core.display.HTML object>"
      ]
     },
     "metadata": {},
     "output_type": "display_data"
    },
    {
     "data": {
      "text/html": [
       "<strong><a href=http://dx.doi.org/10.1016/j.cimid.2012.11.005>A one health perspective on HPAI H5N1 in the Greater Mekong sub-region.</a></strong><br>2013. Pfeiffer DU, Otte MJ, Roland-Holst D, Zilberman D<br>[ID: 23260375]"
      ],
      "text/plain": [
       "<IPython.core.display.HTML object>"
      ]
     },
     "metadata": {},
     "output_type": "display_data"
    },
    {
     "data": {
      "text/html": [
       "<strong><a href=http://dx.doi.org/10.1371/journal.pbio.2004974>Timescales of influenza A/H3N2 antibody dynamics.</a></strong><br>2018. Kucharski AJ, Lessler J, Cummings DAT, Riley S<br>[ID: 30125272]"
      ],
      "text/plain": [
       "<IPython.core.display.HTML object>"
      ]
     },
     "metadata": {},
     "output_type": "display_data"
    },
    {
     "data": {
      "text/html": [
       "<strong><a href=http://dx.doi.org/10.1016/j.vetmic.2011.10.003>Evaluation of the protective efficacy of a commercial vaccine against different antigenic groups of H9N2 influenza viruses in chickens.</a></strong><br>2012. Sun Y, Pu J, Fan L, Sun H, Wang J, Zhang Y, Liu L, Liu J<br>[ID: 22019289]"
      ],
      "text/plain": [
       "<IPython.core.display.HTML object>"
      ]
     },
     "metadata": {},
     "output_type": "display_data"
    },
    {
     "data": {
      "text/html": [
       "<strong><a href=http://dx.doi.org/10.1371/journal.pone.0080028>Development and evaluation of a SYBR green-based real time RT-PCR assay for detection of the emerging avian influenza A (H7N9) virus.</a></strong><br>2013. Zhu Z, Fan H, Qi X, Qi Y, Shi Z, Wang H, Cui L, Zhou M<br>[ID: 24278234]"
      ],
      "text/plain": [
       "<IPython.core.display.HTML object>"
      ]
     },
     "metadata": {},
     "output_type": "display_data"
    },
    {
     "data": {
      "text/html": [
       "<strong><a href=http://dx.doi.org/10.1007/s00705-008-0139-1>Characterization of a pathogenic H9N2 influenza A virus isolated from central China in 2007.</a></strong><br>2008. Wu R, Sui ZW, Zhang HB, Chen QJ, Liang WW, Yang KL, Xiong ZL, Liu ZW, Chen Z, Xu DP<br>[ID: 18574551]"
      ],
      "text/plain": [
       "<IPython.core.display.HTML object>"
      ]
     },
     "metadata": {},
     "output_type": "display_data"
    },
    {
     "data": {
      "text/html": [
       "<strong><a href=http://dx.doi.org/10.1006/viro.1994.1583>Genetic and antigenic analysis of the influenza virus responsible for the 1992 Hong Kong equine influenza epizootic.</a></strong><br>1994. Lai AC, Lin YP, Powell DG, Shortridge KF, Webster RG, Daly J, Chambers TM<br>[ID: 7941336]"
      ],
      "text/plain": [
       "<IPython.core.display.HTML object>"
      ]
     },
     "metadata": {},
     "output_type": "display_data"
    },
    {
     "data": {
      "text/html": [
       "<strong><a href=http://dx.doi.org/10.1002/jmv.21602>Development of a consensus microarray method for identification of some highly pathogenic viruses.</a></strong><br>2009. Xiao-Ping K, Yong-Qiang L, Qing-Ge S, Hong L, Qing-Yu Z, Yin-Hui Y<br>[ID: 19774692]"
      ],
      "text/plain": [
       "<IPython.core.display.HTML object>"
      ]
     },
     "metadata": {},
     "output_type": "display_data"
    },
    {
     "data": {
      "text/html": [
       "<strong>Sixty-two severe and critical patients with 2009 influenza A (H1N1) in Shanghai, China.</strong><br>2011. Liu L, Zhang RF, Lu HZ, Lu SH, Huang Q, Xiong YY, Xi XH, Zhang ZY<br>[ID: 21740773]"
      ],
      "text/plain": [
       "<IPython.core.display.HTML object>"
      ]
     },
     "metadata": {},
     "output_type": "display_data"
    },
    {
     "data": {
      "text/html": [
       "<strong><a href=http://dx.doi.org/10.3390/ijerph121214981>A Predictive Risk Model for A(H7N9) Human Infections Based on Spatial-Temporal Autocorrelation and Risk Factors: China, 2013-2014.</a></strong><br>2015. Dong W, Yang K, Xu QL, Yang YL<br>[ID: 26633446]"
      ],
      "text/plain": [
       "<IPython.core.display.HTML object>"
      ]
     },
     "metadata": {},
     "output_type": "display_data"
    },
    {
     "data": {
      "text/html": [
       "<strong><a href=http://dx.doi.org/10.1128/JCM.01257-07>Genetic evolution of swine influenza A (H3N2) viruses in China from 1970 to 2006.</a></strong><br>2008. Yu H, Hua RH, Zhang Q, Liu TQ, Liu HL, Li GX, Tong GZ<br>[ID: 18199784]"
      ],
      "text/plain": [
       "<IPython.core.display.HTML object>"
      ]
     },
     "metadata": {},
     "output_type": "display_data"
    },
    {
     "data": {
      "text/html": [
       "<strong><a href=http://dx.doi.org/10.1186/1471-2334-12-93>Seroprevalence of avian influenza A (H5N1) virus among poultry workers in Jiangsu Province, China: an observational study.</a></strong><br>2012. Huo X, Zu R, Qi X, Qin Y, Li L, Tang F, Hu Z, Zhu F<br>[ID: 22512873]"
      ],
      "text/plain": [
       "<IPython.core.display.HTML object>"
      ]
     },
     "metadata": {},
     "output_type": "display_data"
    },
    {
     "data": {
      "text/html": [
       "<strong><a href=http://dx.doi.org/10.1637/11248-080415-ResNoteR>Experimental Infection of Chickens with Intercontinental Reassortant H9N2 Influenza Viruses from Wild Birds.</a></strong><br>2016. Lee DH, Kwon JH, Park JK, Yuk SS, Tseren-Ochir EO, Noh JY, Lee JB, Park SY, Choi IS, Song CS<br>[ID: 27309293]"
      ],
      "text/plain": [
       "<IPython.core.display.HTML object>"
      ]
     },
     "metadata": {},
     "output_type": "display_data"
    },
    {
     "data": {
      "text/html": [
       "<strong><a href=http://dx.doi.org/10.1016/j.virusres.2013.05.012>The emergence and diversification of panzootic H5N1 influenza viruses.</a></strong><br>2013. Guan Y, Smith GJ<br>[ID: 23735533]"
      ],
      "text/plain": [
       "<IPython.core.display.HTML object>"
      ]
     },
     "metadata": {},
     "output_type": "display_data"
    },
    {
     "data": {
      "text/html": [
       "<strong><a href=http://dx.doi.org/10.1016/j.virusres.2013.05.009>Natural history of highly pathogenic avian influenza H5N1.</a></strong><br>2013. Sonnberg S, Webby RJ, Webster RG<br>[ID: 23735535]"
      ],
      "text/plain": [
       "<IPython.core.display.HTML object>"
      ]
     },
     "metadata": {},
     "output_type": "display_data"
    },
    {
     "data": {
      "text/html": [
       "<strong>Post-pandemic seroprevalence of 2009 pandemic influenza A (H1N1) virus in Shandong Province, China.</strong><br>2012. Liu T, Li Z, Song S, Zhang S, Wang Y, Lin Y, Wang S, Wang X, Xu A, Bi Z<br>[ID: 22996214]"
      ],
      "text/plain": [
       "<IPython.core.display.HTML object>"
      ]
     },
     "metadata": {},
     "output_type": "display_data"
    },
    {
     "data": {
      "text/html": [
       "<strong><a href=http://dx.doi.org/10.1016/j.vaccine.2014.09.050>Evaluation of avian influenza virus isolated from ducks as a potential live vaccine candidate against novel H7N9 viruses.</a></strong><br>2014. Jiang WM, Wang SC, Liu HL, Yu JM, Du X, Hou GY, Li JP, Liu S, Wang KC, Zhuang QY, Liu XM, Chen JM<br>[ID: 25285880]"
      ],
      "text/plain": [
       "<IPython.core.display.HTML object>"
      ]
     },
     "metadata": {},
     "output_type": "display_data"
    },
    {
     "data": {
      "text/html": [
       "<strong><a href=http://dx.doi.org/10.1016/j.jviromet.2017.03.014>Detection of a novel highly pathogenic H7 influenza virus by duplex real-time reverse transcription polymerase chain reaction.</a></strong><br>2017. Jia W, Cao C, Lin Y, Zhong L, Xie S, Wang X, Yin S, Xu Z, Dai Y, Li Z, Niu X, Qi W, Lu T, Liao M<br>[ID: 28411129]"
      ],
      "text/plain": [
       "<IPython.core.display.HTML object>"
      ]
     },
     "metadata": {},
     "output_type": "display_data"
    },
    {
     "data": {
      "text/html": [
       "<strong><a href=http://dx.doi.org/10.1099/0022-1317-72-8-2007>Molecular evidence for a role of domestic ducks in the introduction of avian H3 influenza viruses to pigs in southern China, where the A/Hong Kong/68 (H3N2) strain emerged.</a></strong><br>1991. Yasuda J, Shortridge KF, Shimizu Y, Kida H<br>[ID: 1875195]"
      ],
      "text/plain": [
       "<IPython.core.display.HTML object>"
      ]
     },
     "metadata": {},
     "output_type": "display_data"
    },
    {
     "data": {
      "text/html": [
       "<strong>[Antigenic and genetic study of hemagglutinin gene of influenza virus (H3N2) circulated in China in 2004].</strong><br>2005. Shu YL, Zhang Y, Wen LY, Li Z, Guo JF, Wang M, Yu HJ, Yang WZ, Guo YJ<br>[ID: 16415996]"
      ],
      "text/plain": [
       "<IPython.core.display.HTML object>"
      ]
     },
     "metadata": {},
     "output_type": "display_data"
    },
    {
     "data": {
      "text/html": [
       "<strong><a href=http://dx.doi.org/10.1111/j.1863-2378.2010.01351.x>Animal health policy principles for highly pathogenic avian influenza: shared experience from China and Canada.</a></strong><br>2011. Stephen C, Ninghui L, Yeh F, Zhang L<br>[ID: 20819200]"
      ],
      "text/plain": [
       "<IPython.core.display.HTML object>"
      ]
     },
     "metadata": {},
     "output_type": "display_data"
    },
    {
     "data": {
      "text/html": [
       "<strong><a href=http://dx.doi.org/10.1155/2015/913726>Global dynamics of avian influenza epidemic models with psychological effect.</a></strong><br>2015. Liu S, Pang L, Ruan S, Zhang X<br>[ID: 25861378]"
      ],
      "text/plain": [
       "<IPython.core.display.HTML object>"
      ]
     },
     "metadata": {},
     "output_type": "display_data"
    },
    {
     "data": {
      "text/html": [
       "<strong><a href=http://dx.doi.org/10.1371/journal.pone.0133035>Surveillance of Influenza A Virus and Its Subtypes in Migratory Wild Birds of Nepal.</a></strong><br>2015. Karmacharya D, Manandhar S, Sharma A, Bhatta T, Adhikari P, Sherchan AM, Shrestha B, Bista M, Rajbhandari R, Oberoi M, Bisht K, Hero JM, Dissanayake R, Dhakal M, Hughes J, Debnath N<br>[ID: 26176773]"
      ],
      "text/plain": [
       "<IPython.core.display.HTML object>"
      ]
     },
     "metadata": {},
     "output_type": "display_data"
    },
    {
     "data": {
      "text/html": [
       "<strong>Japan-China Joint Medical Workshop on Drug Discoveries and Therapeutics 2008: The need of Asian pharmaceutical researchers' cooperation.</strong><br>2008. Nakata M, Tang W<br>[ID: 22504718]"
      ],
      "text/plain": [
       "<IPython.core.display.HTML object>"
      ]
     },
     "metadata": {},
     "output_type": "display_data"
    },
    {
     "data": {
      "text/html": [
       "<strong><a href=http://dx.doi.org/10.3389/fmicb.2017.02611>Genetic Characteristic and Global Transmission of Influenza A H9N2 Virus.</a></strong><br>2017. Hu M, Jin Y, Zhou J, Huang Z, Li B, Zhou W, Ren H, Yue J, Liang L<br>[ID: 29312274]"
      ],
      "text/plain": [
       "<IPython.core.display.HTML object>"
      ]
     },
     "metadata": {},
     "output_type": "display_data"
    },
    {
     "data": {
      "text/html": [
       "<strong><a href=http://dx.doi.org/10.1017/S0950268814000272>Probable longer incubation period for human infection with avian influenza A(H7N9) virus in Jiangsu Province, China, 2013.</a></strong><br>2014. Huang Y, Xu K, Ren DF, Ai J, Ji H, Ge AH, Bao CJ, Shi GQ, Shen T, Tang FY, Zhu YF, Zhou MH, Wang H<br>[ID: 24569108]"
      ],
      "text/plain": [
       "<IPython.core.display.HTML object>"
      ]
     },
     "metadata": {},
     "output_type": "display_data"
    },
    {
     "data": {
      "text/html": [
       "<strong><a href=http://dx.doi.org/10.1016/j.jcv.2015.06.092>Living poultry markets in rural area: Human infection with H7N9 virus re-emerges in Zhejiang Province, China, in winter 2014.</a></strong><br>2015. Sun Y, Wang H, Lou X, Mao H, Yan Y, Chen E, Wang X, Li Z, Gao J, Fu X, Chen Z, Feng Y, Chen Z, Zhang Y<br>[ID: 26305813]"
      ],
      "text/plain": [
       "<IPython.core.display.HTML object>"
      ]
     },
     "metadata": {},
     "output_type": "display_data"
    },
    {
     "data": {
      "text/html": [
       "<strong><a href=http://dx.doi.org/10.1016/j.resp.2010.11.004>Three fatal cases of pandemic 2009 influenza A virus infection in Shenzhen are associated with cytokine storm.</a></strong><br>2011. Cheng XW, Lu J, Wu CL, Yi LN, Xie X, Shi XD, Fang SS, Zan H, Kung HF, He ML<br>[ID: 21075220]"
      ],
      "text/plain": [
       "<IPython.core.display.HTML object>"
      ]
     },
     "metadata": {},
     "output_type": "display_data"
    },
    {
     "data": {
      "text/html": [
       "<strong><a href=http://dx.doi.org/10.1136/bmjopen-2012-002293>e-Health preparedness assessment in the context of an influenza pandemic: a qualitative study in China.</a></strong><br>2013. Li J, Seale H, Ray P, Wang Q, Yang P, Li S, Zhang Y, Macintyre CR<br>[ID: 23485719]"
      ],
      "text/plain": [
       "<IPython.core.display.HTML object>"
      ]
     },
     "metadata": {},
     "output_type": "display_data"
    },
    {
     "data": {
      "text/html": [
       "<strong><a href=http://dx.doi.org/10.1002/jmv.23869>Avian influenza H9N2 seroprevalence among swine farm residents in China.</a></strong><br>2014. Zhou P, Zhu W, Gu H, Fu X, Wang L, Zheng Y, He S, Ke C, Wang H, Yuan Z, Ning Z, Qi W, Li S, Zhang G<br>[ID: 24390939]"
      ],
      "text/plain": [
       "<IPython.core.display.HTML object>"
      ]
     },
     "metadata": {},
     "output_type": "display_data"
    },
    {
     "data": {
      "text/html": [
       "<strong><a href=http://dx.doi.org/10.1016/j.vaccine.2007.01.063>Immunogenicity of novel consensus-based DNA vaccines against avian influenza.</a></strong><br>2007. Laddy DJ, Yan J, Corbitt N, Kobinger GP, Weiner DB<br>[ID: 17306909]"
      ],
      "text/plain": [
       "<IPython.core.display.HTML object>"
      ]
     },
     "metadata": {},
     "output_type": "display_data"
    },
    {
     "data": {
      "text/html": [
       "<strong><a href=http://dx.doi.org/10.1371/journal.pone.0007846>Characterization of the influenza A H5N1 viruses of the 2008-09 outbreaks in India reveals a third introduction and possible endemicity.</a></strong><br>2009. Chakrabarti AK, Pawar SD, Cherian SS, Koratkar SS, Jadhav SM, Pal B, Raut S, Thite V, Kode SS, Keng SS, Payyapilly BJ, Mullick J, Mishra AC<br>[ID: 19924254]"
      ],
      "text/plain": [
       "<IPython.core.display.HTML object>"
      ]
     },
     "metadata": {},
     "output_type": "display_data"
    },
    {
     "data": {
      "text/html": [
       "<strong><a href=http://dx.doi.org/10.1016/j.vaccine.2012.09.081>Molecular epidemiology of circulating highly pathogenic avian influenza (H5N1) virus in chickens, in Bangladesh, 2007-2010.</a></strong><br>2012. Ahmed SS, Themudo GE, Christensen JP, Biswas PK, Giasuddin M, Samad MA, Toft N, Ersbøll AK<br>[ID: 23063840]"
      ],
      "text/plain": [
       "<IPython.core.display.HTML object>"
      ]
     },
     "metadata": {},
     "output_type": "display_data"
    },
    {
     "data": {
      "text/html": [
       "<strong>Kinetic analysis of the immunity in a pregnant patient infected with avian influenza H7N9.</strong><br>2014. Qian W, Jiang PC, Qian J, Jin ZC, Yang J, Lin J, Wen XM, Han FA, Mao LX, Yang J, Deng ZQ<br>[ID: 25126178]"
      ],
      "text/plain": [
       "<IPython.core.display.HTML object>"
      ]
     },
     "metadata": {},
     "output_type": "display_data"
    },
    {
     "data": {
      "text/html": [
       "<strong><a href=http://dx.doi.org/10.1016/j.micpath.2015.03.003>Sparse serological evidence of H5N1 avian influenza virus infections in domestic cats, northeastern China.</a></strong><br>2015. Sun L, Zhou P, He S, Luo Y, Jia K, Fu C, Sun Y, He H, Tu L, Ning Z, Yuan Z, Wang H, Li S, Yuan L<br>[ID: 25752867]"
      ],
      "text/plain": [
       "<IPython.core.display.HTML object>"
      ]
     },
     "metadata": {},
     "output_type": "display_data"
    },
    {
     "data": {
      "text/html": [
       "<strong><a href=http://dx.doi.org/10.3201/eid2003.131531>Influenza A(H1N1)pdm09 virus infection in giant pandas, China.</a></strong><br>2014. Li D, Zhu L, Cui H, Ling S, Fan S, Yu Z, Zhou Y, Wang T, Qian J, Xia X, Xu Z, Gao Y, Wang C<br>[ID: 24565026]"
      ],
      "text/plain": [
       "<IPython.core.display.HTML object>"
      ]
     },
     "metadata": {},
     "output_type": "display_data"
    },
    {
     "data": {
      "text/html": [
       "<strong><a href=http://dx.doi.org/10.1016/j.imlet.2010.09.012>Serologic cross-reactivity among humans and birds infected with highly pathogenic avian influenza A subtype H5N1 viruses in China.</a></strong><br>2011. Li Z, Ma C, Liu Z, He W<br>[ID: 20923686]"
      ],
      "text/plain": [
       "<IPython.core.display.HTML object>"
      ]
     },
     "metadata": {},
     "output_type": "display_data"
    },
    {
     "data": {
      "text/html": [
       "<strong><a href=http://dx.doi.org/10.1007/s11262-015-1245-2>Genetic characterization of natural reassortant H4 subtype avian influenza viruses isolated from domestic ducks in Zhejiang province in China from 2013 to 2014.</a></strong><br>2015. Wu H, Peng X, Peng X, Cheng L, Lu X, Jin C, Xie T, Yao H, Wu N<br>[ID: 26350888]"
      ],
      "text/plain": [
       "<IPython.core.display.HTML object>"
      ]
     },
     "metadata": {},
     "output_type": "display_data"
    },
    {
     "data": {
      "text/html": [
       "<strong><a href=http://dx.doi.org/10.1016/j.vaccine.2011.04.048>Influenza vaccine for pregnant women in resource-constrained countries: a review of the evidence to inform policy decisions.</a></strong><br>2011. Ortiz JR, Englund JA, Neuzil KM<br>[ID: 21550377]"
      ],
      "text/plain": [
       "<IPython.core.display.HTML object>"
      ]
     },
     "metadata": {},
     "output_type": "display_data"
    },
    {
     "data": {
      "text/html": [
       "<strong><a href=http://dx.doi.org/10.1111/tbed.12536>Raising Backyard Poultry in Rural Bangladesh: Financial and Nutritional Benefits, but Persistent Risky Practices.</a></strong><br>2017. Shanta IS, Hasnat MA, Zeidner N, Gurley ES, Azziz-Baumgartner E, Sharker MAY, Hossain K, Khan SU, Haider N, Bhuyan AA, Hossain MA, Luby SP<br>[ID: 27311406]"
      ],
      "text/plain": [
       "<IPython.core.display.HTML object>"
      ]
     },
     "metadata": {},
     "output_type": "display_data"
    },
    {
     "data": {
      "text/html": [
       "<strong><a href=http://dx.doi.org/10.1007/s11262-016-1323-0>Characterization of a novel H3N2 influenza virus isolated from domestic ducks in China.</a></strong><br>2016. Li C, Yu M, Liu L, Sun H<br>[ID: 27000112]"
      ],
      "text/plain": [
       "<IPython.core.display.HTML object>"
      ]
     },
     "metadata": {},
     "output_type": "display_data"
    },
    {
     "data": {
      "text/html": [
       "<strong><a href=http://dx.doi.org/10.1098/rstb.2001.0997>Emergence of influenza A viruses.</a></strong><br>2001. Webby RJ, Webster RG<br>[ID: 11779380]"
      ],
      "text/plain": [
       "<IPython.core.display.HTML object>"
      ]
     },
     "metadata": {},
     "output_type": "display_data"
    },
    {
     "data": {
      "text/html": [
       "<strong><a href=http://dx.doi.org/10.1038/emi.2016.75>Sustained live poultry market surveillance contributes to early warnings for human infection with avian influenza viruses.</a></strong><br>2016. Fang S, Bai T, Yang L, Wang X, Peng B, Liu H, Geng Y, Zhang R, Ma H, Zhu W, Wang D, Cheng J, Shu Y<br>[ID: 27485495]"
      ],
      "text/plain": [
       "<IPython.core.display.HTML object>"
      ]
     },
     "metadata": {},
     "output_type": "display_data"
    },
    {
     "data": {
      "text/html": [
       "<strong><a href=http://dx.doi.org/10.1007/s00705-013-1728-1>Development of TaqMan-based qPCR method for detection of caprine arthritis-encephalitis virus (CAEV) infection.</a></strong><br>2013. Li Y, Zhou F, Li X, Wang J, Zhao X, Huang J<br>[ID: 23670072]"
      ],
      "text/plain": [
       "<IPython.core.display.HTML object>"
      ]
     },
     "metadata": {},
     "output_type": "display_data"
    },
    {
     "data": {
      "text/html": [
       "<strong><a href=http://dx.doi.org/10.3892/br.2013.128>Analysis of the risk factors for influenza A (H1N1) pneumonia.</a></strong><br>2013. Zhang Q, Zhao ZW, Xing ZL, Zhang B, Zheng HF, Sun LX<br>[ID: 24649017]"
      ],
      "text/plain": [
       "<IPython.core.display.HTML object>"
      ]
     },
     "metadata": {},
     "output_type": "display_data"
    },
    {
     "data": {
      "text/html": [
       "<strong><a href=http://dx.doi.org/10.1016/j.vetmic.2013.09.030>Genome-scale evolution and phylodynamics of H5N1 influenza virus in China during 1996-2012.</a></strong><br>2013. Wei K, Chen Y, Xie D<br>[ID: 24161594]"
      ],
      "text/plain": [
       "<IPython.core.display.HTML object>"
      ]
     },
     "metadata": {},
     "output_type": "display_data"
    },
    {
     "data": {
      "text/html": [
       "<strong><a href=http://dx.doi.org/10.1016/j.coviro.2016.02.005>Emergence and dissemination of clade 2.3.4.4 H5Nx influenza viruses-how is the Asian HPAI H5 lineage maintained.</a></strong><br>2016. Claes F, Morzaria SP, Donis RO<br>[ID: 26991931]"
      ],
      "text/plain": [
       "<IPython.core.display.HTML object>"
      ]
     },
     "metadata": {},
     "output_type": "display_data"
    },
    {
     "data": {
      "text/html": [
       "<strong><a href=http://dx.doi.org/10.1038/srep14171>Antigenic Patterns and Evolution of the Human Influenza A (H1N1) Virus.</a></strong><br>2015. Liu M, Zhao X, Hua S, Du X, Peng Y, Li X, Lan Y, Wang D, Wu A, Shu Y, Jiang T<br>[ID: 26412348]"
      ],
      "text/plain": [
       "<IPython.core.display.HTML object>"
      ]
     },
     "metadata": {},
     "output_type": "display_data"
    },
    {
     "data": {
      "text/html": [
       "<strong><a href=http://dx.doi.org/10.1098/rstb.2001.1012>The so-called Great Spanish Influenza Pandemic of 1918 may have originated in France in 1916.</a></strong><br>2001. Oxford JS<br>[ID: 11779384]"
      ],
      "text/plain": [
       "<IPython.core.display.HTML object>"
      ]
     },
     "metadata": {},
     "output_type": "display_data"
    },
    {
     "data": {
      "text/html": [
       "<strong><a href=http://dx.doi.org/10.1128/JVI.01777-14>Occurrence and reassortment of avian influenza A (H7N9) viruses derived from coinfected birds in China.</a></strong><br>2014. Liu W, Fan H, Raghwani J, Lam TT, Li J, Pybus OG, Yao HW, Wo Y, Liu K, An XP, Pei GQ, Li H, Wang HY, Zhao JJ, Jiang T, Ma MJ, Xia X, Dong YD, Zhao TY, Jiang JF, ...<br>[ID: 25210174]"
      ],
      "text/plain": [
       "<IPython.core.display.HTML object>"
      ]
     },
     "metadata": {},
     "output_type": "display_data"
    },
    {
     "data": {
      "text/html": [
       "<strong><a href=http://dx.doi.org/10.1292/jvms.14-0290>Serological evidence for influenza virus infection in Korean wild boars.</a></strong><br>2015. Cho YY, Lim SI, Jeoung HY, Kim YK, Song JY, Lee JB, An DJ<br>[ID: 25298239]"
      ],
      "text/plain": [
       "<IPython.core.display.HTML object>"
      ]
     },
     "metadata": {},
     "output_type": "display_data"
    },
    {
     "data": {
      "text/html": [
       "<strong><a href=http://dx.doi.org/10.1128/JVI.02725-12>Complete genome sequence of a novel natural recombinant H5N5 influenza virus from ducks in central China.</a></strong><br>2012. Zou W, Guo X, Li S, Yang Y, Jin M<br>[ID: 23166272]"
      ],
      "text/plain": [
       "<IPython.core.display.HTML object>"
      ]
     },
     "metadata": {},
     "output_type": "display_data"
    },
    {
     "data": {
      "text/html": [
       "<strong><a href=http://dx.doi.org/10.1093/cid/cix334>Preliminary Epidemiologic Assessment of Human Infections With Highly Pathogenic Avian Influenza A(H5N6) Virus, China.</a></strong><br>2017. Jiang H, Wu P, Uyeki TM, He J, Deng Z, Xu W, Lv Q, Zhang J, Wu Y, Tsang TK, Kang M, Zheng J, Wang L, Yang B, Qin Y, Feng L, Fang VJ, Gao GF, Leung GM, Yu H, ...<br>[ID: 28407105]"
      ],
      "text/plain": [
       "<IPython.core.display.HTML object>"
      ]
     },
     "metadata": {},
     "output_type": "display_data"
    },
    {
     "data": {
      "text/html": [
       "<strong><a href=http://dx.doi.org/10.1128/JVI.02726-12>Complete genome sequence of a novel H4N1 influenza virus isolated from a pig in central China.</a></strong><br>2012. Hu Y, Liu X, Li S, Guo X, Yang Y, Jin M<br>[ID: 23166273]"
      ],
      "text/plain": [
       "<IPython.core.display.HTML object>"
      ]
     },
     "metadata": {},
     "output_type": "display_data"
    },
    {
     "data": {
      "text/html": [
       "<strong><a href=http://dx.doi.org/10.1371/journal.pone.0166180>Transmissibility of the Influenza Virus during Influenza Outbreaks and Related Asymptomatic Infection in Mainland China, 2005-2013.</a></strong><br>2016. Chen T, Chen T, Liu R, Xu C, Wang D, Chen F, Zhu W, Zhang X, Yang J, Wang L, Xie Z, Chen Y, Bai T, Li Y, Wang Z, Zhang M, Chen S, Shu Y<br>[ID: 27880774]"
      ],
      "text/plain": [
       "<IPython.core.display.HTML object>"
      ]
     },
     "metadata": {},
     "output_type": "display_data"
    },
    {
     "data": {
      "text/html": [
       "<strong><a href=http://dx.doi.org/10.1371/journal.pone.0149149>Glycosylation of Residue 141 of Subtype H7 Influenza A Hemagglutinin (HA) Affects HA-Pseudovirus Infectivity and Sensitivity to Site A Neutralizing Antibodies.</a></strong><br>2016. Alvarado-Facundo E, Vassell R, Schmeisser F, Weir JP, Weiss CD, Wang W<br>[ID: 26862918]"
      ],
      "text/plain": [
       "<IPython.core.display.HTML object>"
      ]
     },
     "metadata": {},
     "output_type": "display_data"
    },
    {
     "data": {
      "text/html": [
       "<strong><a href=http://dx.doi.org/10.1016/j.meegid.2014.12.026>Identification of the source of A (H10N8) virus causing human infection.</a></strong><br>2015. Xu Y, Cao H, Liu H, Sun H, Martin B, Zhao Y, Wang Q, Deng G, Xue J, Zong Y, Zhu J, Wen F, Long LP, Wong SS, Zhao N, Fu X, Liao M, Hu G, Webby R, Gao GF, ...<br>[ID: 25550151]"
      ],
      "text/plain": [
       "<IPython.core.display.HTML object>"
      ]
     },
     "metadata": {},
     "output_type": "display_data"
    },
    {
     "data": {
      "text/html": [
       "<strong><a href=http://dx.doi.org/10.1371/journal.pone.0165688>Avian Influenza Risk Surveillance in North America with Online Media.</a></strong><br>2016. Robertson C, Yee L<br>[ID: 27880777]"
      ],
      "text/plain": [
       "<IPython.core.display.HTML object>"
      ]
     },
     "metadata": {},
     "output_type": "display_data"
    },
    {
     "data": {
      "text/html": [
       "<strong><a href=http://dx.doi.org/10.1186/1471-2334-14-541>Detection of a novel avian influenza A (H7N9) virus in humans by multiplex one-step real-time RT-PCR assay.</a></strong><br>2014. Fan J, Cui D, Lau S, Xie G, Guo X, Zheng S, Huang X, Yang S, Yang X, Huo Z, Yu F, Lou J, Tian L, Li X, Dong Y, Zhu Q, Chen Y<br>[ID: 25298249]"
      ],
      "text/plain": [
       "<IPython.core.display.HTML object>"
      ]
     },
     "metadata": {},
     "output_type": "display_data"
    },
    {
     "data": {
      "text/html": [
       "<strong><a href=http://dx.doi.org/10.1038/emi.2016.71>Molecular characterization of H6 subtype influenza viruses in southern China from 2009 to 2011.</a></strong><br>2016. Zou S, Gao R, Zhang Y, Li X, Chen W, Bai T, Dong L, Wang D, Shu Y<br>[ID: 27436363]"
      ],
      "text/plain": [
       "<IPython.core.display.HTML object>"
      ]
     },
     "metadata": {},
     "output_type": "display_data"
    },
    {
     "data": {
      "text/html": [
       "<strong><a href=http://dx.doi.org/10.1038/srep35401>Evaluation of the human adaptation of influenza A/H7N9 virus in PB2 protein using human and swine respiratory tract explant cultures.</a></strong><br>2016. Chan LL, Bui CT, Mok CK, Ng MM, Nicholls JM, Peiris JS, Chan MC, Chan RW<br>[ID: 27739468]"
      ],
      "text/plain": [
       "<IPython.core.display.HTML object>"
      ]
     },
     "metadata": {},
     "output_type": "display_data"
    },
    {
     "data": {
      "text/html": [
       "<strong><a href=http://dx.doi.org/10.1016/j.jpba.2013.03.008>HPLC-DAD-Q-TOF-MS/MS analysis and HPLC quantitation of chemical constituents in traditional Chinese medicinal formula Ge-Gen Decoction.</a></strong><br>2013. Yan Y, Chai CZ, Wang DW, Yue XY, Zhu DN, Yu BY<br>[ID: 23584078]"
      ],
      "text/plain": [
       "<IPython.core.display.HTML object>"
      ]
     },
     "metadata": {},
     "output_type": "display_data"
    },
    {
     "data": {
      "text/html": [
       "<strong><a href=http://dx.doi.org/10.1371/journal.pone.0101788>Profiles of acute cytokine and antibody responses in patients infected with avian influenza A H7N9.</a></strong><br>2014. Huang R, Zhang L, Gu Q, Zhou YH, Hao Y, Zhang K, Liu Y, Dong D, Wang S, Huang Z, Lu S, Wu C<br>[ID: 25003343]"
      ],
      "text/plain": [
       "<IPython.core.display.HTML object>"
      ]
     },
     "metadata": {},
     "output_type": "display_data"
    },
    {
     "data": {
      "text/html": [
       "<strong>Phylogenetic analysis of neuraminidase gene of H9N2 influenza viruses prevalent in chickens in China during 1995-2002.</strong><br>2003. Liu JH, Okazaki K, Shi WM, Wu QM, Mweene AS, Kida H<br>[ID: 14501198]"
      ],
      "text/plain": [
       "<IPython.core.display.HTML object>"
      ]
     },
     "metadata": {},
     "output_type": "display_data"
    },
    {
     "data": {
      "text/html": [
       "<strong><a href=http://dx.doi.org/10.1080/01421590802155100>A descriptive analysis of medical education in China.</a></strong><br>2008. Ren X, Yin J, Wang B, Roy Schwarz M<br>[ID: 18777425]"
      ],
      "text/plain": [
       "<IPython.core.display.HTML object>"
      ]
     },
     "metadata": {},
     "output_type": "display_data"
    },
    {
     "data": {
      "text/html": [
       "<strong><a href=http://dx.doi.org/10.1371/journal.pone.0126335>Environmental Sampling for Avian Influenza A(H7N9) in Live-Poultry Markets in Guangdong, China.</a></strong><br>2015. Kang M, He J, Song T, Rutherford S, Wu J, Lin J, Huang G, Tan X, Zhong H<br>[ID: 25933138]"
      ],
      "text/plain": [
       "<IPython.core.display.HTML object>"
      ]
     },
     "metadata": {},
     "output_type": "display_data"
    },
    {
     "data": {
      "text/html": [
       "<strong><a href=http://dx.doi.org/10.1073/pnas.0402443101>H5N1 influenza: a protean pandemic threat.</a></strong><br>2004. Guan Y, Poon LL, Cheung CY, Ellis TM, Lim W, Lipatov AS, Chan KH, Sturm-Ramirez KM, Cheung CL, Leung YH, Yuen KY, Webster RG, Peiris JS<br>[ID: 15148370]"
      ],
      "text/plain": [
       "<IPython.core.display.HTML object>"
      ]
     },
     "metadata": {},
     "output_type": "display_data"
    },
    {
     "data": {
      "text/html": [
       "<strong><a href=http://dx.doi.org/10.1007/s00705-016-3043-0>Characteristics of two highly pathogenic avian influenza H5N8 viruses with different pathogenicity in mice.</a></strong><br>2016. Wang X, Meng F, Wang D, Liu X, Chen S, Qin T, Peng D, Liu X<br>[ID: 27589977]"
      ],
      "text/plain": [
       "<IPython.core.display.HTML object>"
      ]
     },
     "metadata": {},
     "output_type": "display_data"
    },
    {
     "data": {
      "text/html": [
       "<strong><a href=http://dx.doi.org/10.1186/s12879-015-0970-4>A case report of avian influenza H7N9 killing a young doctor in Shanghai, China.</a></strong><br>2015. Pan H, Zhang X, Hu J, Chen J, Pan Q, Teng Z, Zheng Y, Mao S, Zhang H, King CC, Wu F<br>[ID: 26101082]"
      ],
      "text/plain": [
       "<IPython.core.display.HTML object>"
      ]
     },
     "metadata": {},
     "output_type": "display_data"
    },
    {
     "data": {
      "text/html": [
       "<strong>Bringing influenza vaccines into the 21st century.</strong><br>2014. Settembre EC, Dormitzer PR, Rappuoli R<br>[ID: 24378716]"
      ],
      "text/plain": [
       "<IPython.core.display.HTML object>"
      ]
     },
     "metadata": {},
     "output_type": "display_data"
    },
    {
     "data": {
      "text/html": [
       "<strong>[Detection of Avian Influenza Virus in Environmental Samples Collected from Live Poultry Markets in China during 2009-2013].</strong><br>2015. Zhang Y, Li X, Zou S, Bo H, Dong L, Gao R, Wang D, Shu Y<br>[ID: 26951005]"
      ],
      "text/plain": [
       "<IPython.core.display.HTML object>"
      ]
     },
     "metadata": {},
     "output_type": "display_data"
    },
    {
     "data": {
      "text/html": [
       "<strong><a href=http://dx.doi.org/10.1073/pnas.1521463112>H1N1 influenza virus induces narcolepsy-like sleep disruption and targets sleep-wake regulatory neurons in mice.</a></strong><br>2016. Tesoriero C, Codita A, Zhang MD, Cherninsky A, Karlsson H, Grassi-Zucconi G, Bertini G, Harkany T, Ljungberg K, Liljeström P, Hökfelt TG, Bentivoglio M, Kristensson K<br>[ID: 26668381]"
      ],
      "text/plain": [
       "<IPython.core.display.HTML object>"
      ]
     },
     "metadata": {},
     "output_type": "display_data"
    },
    {
     "data": {
      "text/html": [
       "<strong><a href=http://dx.doi.org/10.1186/s12985-015-0372-7>Protective efficacy of an inactivated vaccine against H9N2 avian influenza virus in ducks.</a></strong><br>2015. Teng Q, Shen W, Liu Q, Rong G, Chen L, Li X, Chen H, Yang J, Li Z<br>[ID: 26377565]"
      ],
      "text/plain": [
       "<IPython.core.display.HTML object>"
      ]
     },
     "metadata": {},
     "output_type": "display_data"
    },
    {
     "data": {
      "text/html": [
       "<strong><a href=http://dx.doi.org/10.1371/journal.pone.0178328>A comprehensive retrospective study of the seroprevalence of H9N2 avian influenza viruses in occupationally exposed populations in China.</a></strong><br>2017. Li X, Tian B, Jianfang Z, Yongkun C, Xiaodan L, Wenfei Z, Yan L, Jing T, Junfeng G, Tao C, Rongbao G, Dayan W, Shu Y<br>[ID: 28575073]"
      ],
      "text/plain": [
       "<IPython.core.display.HTML object>"
      ]
     },
     "metadata": {},
     "output_type": "display_data"
    },
    {
     "data": {
      "text/html": [
       "<strong><a href=http://dx.doi.org/10.1097/INF.0b013e3181f63c39>Incidence of influenza virus infection in early infancy: a prospective study in South Asia.</a></strong><br>2011. Henkle E, Steinhoff MC, Omer SB, Roy E, Arifeen SE, Raqib R, McNeal M, Breiman RF, Moss WJ, Zaman K<br>[ID: 20856162]"
      ],
      "text/plain": [
       "<IPython.core.display.HTML object>"
      ]
     },
     "metadata": {},
     "output_type": "display_data"
    },
    {
     "data": {
      "text/html": [
       "<strong>Unravelling the ecology of influenza A virus.</strong><br>1993. Beveridge WI<br>[ID: 8310117]"
      ],
      "text/plain": [
       "<IPython.core.display.HTML object>"
      ]
     },
     "metadata": {},
     "output_type": "display_data"
    },
    {
     "data": {
      "text/html": [
       "<strong><a href=http://dx.doi.org/10.1016/j.vaccine.2015.07.026>Recombinant H7 hemagglutinin forms subviral particles that protect mice and ferrets from challenge with H7N9 influenza virus.</a></strong><br>2015. Pushko P, Pujanauski LM, Sun X, Pearce M, Hidajat R, Kort T, Schwartzman LM, Tretyakova I, Chunqing L, Taubenberger JK, Tumpey TM<br>[ID: 26207590]"
      ],
      "text/plain": [
       "<IPython.core.display.HTML object>"
      ]
     },
     "metadata": {},
     "output_type": "display_data"
    },
    {
     "data": {
      "text/html": [
       "<strong><a href=http://dx.doi.org/10.1371/journal.pone.0069941>Rapid and sensitive detection of novel avian-origin influenza A (H7N9) virus by reverse transcription loop-mediated isothermal amplification combined with a lateral-flow device.</a></strong><br>2013. Ge Y, Wu B, Qi X, Zhao K, Guo X, Zhu Y, Qi Y, Shi Z, Zhou M, Wang H, Cui L<br>[ID: 23936359]"
      ],
      "text/plain": [
       "<IPython.core.display.HTML object>"
      ]
     },
     "metadata": {},
     "output_type": "display_data"
    },
    {
     "data": {
      "text/html": [
       "<strong><a href=http://dx.doi.org/10.1007/s10393-013-0861-3>Success factors for avian influenza vaccine use in poultry and potential impact at the wild bird-agricultural interface.</a></strong><br>2014. Swayne DE, Spackman E, Pantin-Jackwood M<br>[ID: 24026475]"
      ],
      "text/plain": [
       "<IPython.core.display.HTML object>"
      ]
     },
     "metadata": {},
     "output_type": "display_data"
    },
    {
     "data": {
      "text/html": [
       "<strong><a href=http://dx.doi.org/10.1371/journal.pone.0115347>Influenza surveillance and incidence in a rural area in China during the 2009/2010 influenza pandemic.</a></strong><br>2014. Zhang Y, Li L, Dong X, Kong M, Gao L, Dong X, Xu W<br>[ID: 25542003]"
      ],
      "text/plain": [
       "<IPython.core.display.HTML object>"
      ]
     },
     "metadata": {},
     "output_type": "display_data"
    },
    {
     "data": {
      "text/html": [
       "<strong><a href=http://dx.doi.org/10.1128/JCM.01907-13>Rapid and sensitive detection of H7N9 avian influenza virus by use of reverse transcription-loop-mediated isothermal amplification.</a></strong><br>2013. Zhang J, Feng Y, Hu D, Lv H, Zhu J, Cao M, Zheng F, Zhu J, Gong X, Hao L, Srinivas S, Ren H, Qi Z, Li B, Wang C<br>[ID: 24006004]"
      ],
      "text/plain": [
       "<IPython.core.display.HTML object>"
      ]
     },
     "metadata": {},
     "output_type": "display_data"
    },
    {
     "data": {
      "text/html": [
       "<strong><a href=http://dx.doi.org/10.1371/journal.pone.0028786>Etiology and clinical characteristics of influenza-like illness (ILI) in outpatients in Beijing, June 2010 to May 2011.</a></strong><br>2012. Yang X, Yao Y, Chen M, Yang X, Xie Y, Liu Y, Zhao X, Gao Y, Wei L<br>[ID: 22238581]"
      ],
      "text/plain": [
       "<IPython.core.display.HTML object>"
      ]
     },
     "metadata": {},
     "output_type": "display_data"
    },
    {
     "data": {
      "text/html": [
       "<strong><a href=http://dx.doi.org/10.1637/0005-2086(2007)51[568:COHIVI]2.0.CO;2>Characterization of H5N1 influenza viruses isolated from migratory birds in Qinghai province of China in 2006.</a></strong><br>2007. Lei F, Tang S, Zhao D, Zhang X, Kou Z, Li Y, Zhang Z, Yin Z, Chen S, Li S, Zhang D, Yan B, Li T<br>[ID: 17626485]"
      ],
      "text/plain": [
       "<IPython.core.display.HTML object>"
      ]
     },
     "metadata": {},
     "output_type": "display_data"
    },
    {
     "data": {
      "text/html": [
       "<strong><a href=http://dx.doi.org/10.1371/journal.pone.0081136>Origin and characteristics of internal genes affect infectivity of the novel avian-origin influenza A (H7N9) virus.</a></strong><br>2013. Feng Y, Mao H, Xu C, Jiang J, Chen Y, Yan J, Gao J, Li Z, Xia S, Lu Y<br>[ID: 24278391]"
      ],
      "text/plain": [
       "<IPython.core.display.HTML object>"
      ]
     },
     "metadata": {},
     "output_type": "display_data"
    },
    {
     "data": {
      "text/html": [
       "<strong><a href=http://dx.doi.org/10.1371/journal.pone.0191789>Epidemiology characteristics of human coronaviruses in patients with respiratory infection symptoms and phylogenetic analysis of HCoV-OC43 during 2010-2015 in Guangzhou.</a></strong><br>2018. Zhang SF, Tuo JL, Huang XB, Zhu X, Zhang DM, Zhou K, Yuan L, Luo HJ, Zheng BJ, Yuen KY, Li MF, Cao KY, Xu L<br>[ID: 29377913]"
      ],
      "text/plain": [
       "<IPython.core.display.HTML object>"
      ]
     },
     "metadata": {},
     "output_type": "display_data"
    },
    {
     "data": {
      "text/html": [
       "<strong>EDs on heightened alert for MERS-CoV as first cases reach the US.</strong><br>2014. <br>[ID: 24968569]"
      ],
      "text/plain": [
       "<IPython.core.display.HTML object>"
      ]
     },
     "metadata": {},
     "output_type": "display_data"
    },
    {
     "data": {
      "text/html": [
       "<strong><a href=http://dx.doi.org/10.1016/j.jcv.2013.09.017>Avian influenza A (H5N1) virus antibodies in pigs and residents of swine farms, southern China.</a></strong><br>2013. Cao N, Zhu W, Chen Y, Tan L, Zhou P, Cao Z, Ke C, Li Y, Wu J, Qi W, Jiao P, Zhang G<br>[ID: 24231290]"
      ],
      "text/plain": [
       "<IPython.core.display.HTML object>"
      ]
     },
     "metadata": {},
     "output_type": "display_data"
    },
    {
     "data": {
      "text/html": [
       "<strong><a href=http://dx.doi.org/10.1371/journal.pone.0096350>Novel avian influenza A (H7N9) virus induces impaired interferon responses in human dendritic cells.</a></strong><br>2014. Arilahti V, Mäkelä SM, Tynell J, Julkunen I, Österlund P<br>[ID: 24804732]"
      ],
      "text/plain": [
       "<IPython.core.display.HTML object>"
      ]
     },
     "metadata": {},
     "output_type": "display_data"
    },
    {
     "data": {
      "text/html": [
       "<strong><a href=http://dx.doi.org/10.1371/journal.pone.0025808>Reassortant H9N2 influenza viruses containing H5N1-like PB1 genes isolated from black-billed magpies in Southern China.</a></strong><br>2011. Dong G, Xu C, Wang C, Wu B, Luo J, Zhang H, Nolte DL, Deliberto TJ, Duan M, Ji G, He H<br>[ID: 21980538]"
      ],
      "text/plain": [
       "<IPython.core.display.HTML object>"
      ]
     },
     "metadata": {},
     "output_type": "display_data"
    },
    {
     "data": {
      "text/html": [
       "<strong><a href=http://dx.doi.org/10.1128/JVI.02316-06>Evolution and molecular epidemiology of H9N2 influenza A viruses from quail in southern China, 2000 to 2005.</a></strong><br>2007. Xu KM, Li KS, Smith GJ, Li JW, Tai H, Zhang JX, Webster RG, Peiris JS, Chen H, Guan Y<br>[ID: 17192315]"
      ],
      "text/plain": [
       "<IPython.core.display.HTML object>"
      ]
     },
     "metadata": {},
     "output_type": "display_data"
    },
    {
     "data": {
      "text/html": [
       "<strong><a href=http://dx.doi.org/10.1038/srep07632>Genetic diversity of avian influenza A (H10N8) virus in live poultry markets and its association with human infections in China.</a></strong><br>2015. Liu M, Li X, Yuan H, Zhou J, Wu J, Bo H, Xia W, Xiong Y, Yang L, Gao R, Guo J, Huang W, Zhang Y, Zhao X, Zou X, Chen T, Wang D, Li Q, Wang S, Chen S, ...<br>[ID: 25591167]"
      ],
      "text/plain": [
       "<IPython.core.display.HTML object>"
      ]
     },
     "metadata": {},
     "output_type": "display_data"
    },
    {
     "data": {
      "text/html": [
       "<strong><a href=http://dx.doi.org/10.1038/srep37843>Characterizations of H4 avian influenza viruses isolated from ducks in live poultry markets and farm in Shanghai.</a></strong><br>2016. Shi Y, Cui H, Wang J, Chi Q, Li X, Teng Q, Chen H, Yang J, Liu Q, Li Z<br>[ID: 27897216]"
      ],
      "text/plain": [
       "<IPython.core.display.HTML object>"
      ]
     },
     "metadata": {},
     "output_type": "display_data"
    },
    {
     "data": {
      "text/html": [
       "<strong><a href=http://dx.doi.org/10.15585/mmwr.mm6609e2>Increase in Human Infections with Avian Influenza A(H7N9) Virus During the Fifth Epidemic - China, October 2016-February 2017.</a></strong><br>2017. Iuliano AD, Jang Y, Jones J, Davis CT, Wentworth DE, Uyeki TM, Roguski K, Thompson MG, Gubareva L, Fry AM, Burns E, Trock S, Zhou S, Katz JM, Jernigan DB<br>[ID: 28278147]"
      ],
      "text/plain": [
       "<IPython.core.display.HTML object>"
      ]
     },
     "metadata": {},
     "output_type": "display_data"
    },
    {
     "data": {
      "text/html": [
       "<strong><a href=http://dx.doi.org/10.1186/1743-422X-10-289>Inactivation of the novel avian influenza A (H7N9) virus under physical conditions or chemical agents treatment.</a></strong><br>2013. Zou S, Guo J, Gao R, Dong L, Zhou J, Zhang Y, Dong J, Bo H, Qin K, Shu Y<br>[ID: 24034697]"
      ],
      "text/plain": [
       "<IPython.core.display.HTML object>"
      ]
     },
     "metadata": {},
     "output_type": "display_data"
    },
    {
     "data": {
      "text/html": [
       "<strong>[Sequence comparison of the hemagglutinin gene of the duck-origin H9N2 subtype avian influenza viruses].</strong><br>2012. Wan CH, Fu GH, Cheng LF, Shi SH, Chen HM, Peng CX, Lin F, Lin JS, Huang Y<br>[ID: 22519178]"
      ],
      "text/plain": [
       "<IPython.core.display.HTML object>"
      ]
     },
     "metadata": {},
     "output_type": "display_data"
    },
    {
     "data": {
      "text/html": [
       "<strong><a href=http://dx.doi.org/10.1371/journal.pone.0178634>Multiplex one-step Real-time PCR by Taqman-MGB method for rapid detection of pan and H5 subtype avian influenza viruses.</a></strong><br>2017. Zhang Z, Liu D, Sun W, Liu J, He L, Hu J, Gu M, Wang X, Liu X, Hu S, Chen S, Peng D, Liu X<br>[ID: 28575115]"
      ],
      "text/plain": [
       "<IPython.core.display.HTML object>"
      ]
     },
     "metadata": {},
     "output_type": "display_data"
    },
    {
     "data": {
      "text/html": [
       "<strong><a href=http://dx.doi.org/10.1111/irv.12435>Sero-epidemiologic study of influenza A(H7N9) infection among exposed populations, China 2013-2014.</a></strong><br>2017. Xiang N, Bai T, Kang K, Yuan H, Zhou S, Ren R, Li X, Wu J, Deng L, Zeng G, Wang X, Mao S, Shi J, Gao R, Chen T, Zou S, Li D, Havers F, Widdowson MA, Greene CM, ...<br>[ID: 27762061]"
      ],
      "text/plain": [
       "<IPython.core.display.HTML object>"
      ]
     },
     "metadata": {},
     "output_type": "display_data"
    },
    {
     "data": {
      "text/html": [
       "<strong><a href=http://dx.doi.org/10.3390/ijerph120100816>Cluster of human infections with avian influenza A (H7N9) cases: a temporal and spatial analysis.</a></strong><br>2015. Zhang Y, Shen Z, Ma C, Jiang C, Feng C, Shankar N, Yang P, Sun W, Wang Q<br>[ID: 25599373]"
      ],
      "text/plain": [
       "<IPython.core.display.HTML object>"
      ]
     },
     "metadata": {},
     "output_type": "display_data"
    },
    {
     "data": {
      "text/html": [
       "<strong><a href=http://dx.doi.org/10.1007/s00705-013-1908-z>Identification of equine influenza virus infection in Asian wild horses (Equus przewalskii).</a></strong><br>2014. Yin X, Lu G, Guo W, Qi T, Ma J, Zhu C, Zhao S, Pan J, Xiang W<br>[ID: 24212887]"
      ],
      "text/plain": [
       "<IPython.core.display.HTML object>"
      ]
     },
     "metadata": {},
     "output_type": "display_data"
    },
    {
     "data": {
      "text/html": [
       "<strong><a href=http://dx.doi.org/10.1371/journal.pone.0177672>Evaluating the effects of common control measures for influenza A (H1N1) outbreak at school in China: A modeling study.</a></strong><br>2017. Chen T, Huang Y, Liu R, Xie Z, Chen S, Hu G<br>[ID: 28542360]"
      ],
      "text/plain": [
       "<IPython.core.display.HTML object>"
      ]
     },
     "metadata": {},
     "output_type": "display_data"
    },
    {
     "data": {
      "text/html": [
       "<strong><a href=http://dx.doi.org/10.1371/journal.pone.0052671>Chinese and global distribution of H9 subtype avian influenza viruses.</a></strong><br>2012. Jiang W, Liu S, Hou G, Li J, Zhuang Q, Wang S, Zhang P, Chen J<br>[ID: 23285143]"
      ],
      "text/plain": [
       "<IPython.core.display.HTML object>"
      ]
     },
     "metadata": {},
     "output_type": "display_data"
    },
    {
     "data": {
      "text/html": [
       "<strong><a href=http://dx.doi.org/10.1038/srep07588>Characterization of a novel reassortant influenza A virus (H2N2) from a domestic duck in Eastern China.</a></strong><br>2014. Ma MJ, Yang XX, Qian YH, Zhao SY, Hua S, Wang TC, Chen SH, Ma GY, Sang XY, Liu LN, Wu AP, Jiang TJ, Gao YW, Gray GC, Zhao T, Ling X, Wang JL, Lu B, Qian J, Cao WC<br>[ID: 25533850]"
      ],
      "text/plain": [
       "<IPython.core.display.HTML object>"
      ]
     },
     "metadata": {},
     "output_type": "display_data"
    },
    {
     "data": {
      "text/html": [
       "<strong><a href=http://dx.doi.org/10.1016/j.prevetmed.2014.01.010>The spread of highly pathogenic avian influenza (subtype H5N1) clades in Bangladesh, 2010 and 2011.</a></strong><br>2014. Osmani MG, Ward MP, Giasuddin M, Islam MR, Kalam A<br>[ID: 24485276]"
      ],
      "text/plain": [
       "<IPython.core.display.HTML object>"
      ]
     },
     "metadata": {},
     "output_type": "display_data"
    },
    {
     "data": {
      "text/html": [
       "<strong><a href=http://dx.doi.org/10.1099/0022-1317-82-6-1397>Infection of a child in Hong Kong by an influenza A H3N2 virus closely related to viruses circulating in European pigs.</a></strong><br>2001. Gregory V, Lim W, Cameron K, Bennett M, Marozin S, Klimov A, Hall H, Cox N, Hay A, Lin YP<br>[ID: 11369884]"
      ],
      "text/plain": [
       "<IPython.core.display.HTML object>"
      ]
     },
     "metadata": {},
     "output_type": "display_data"
    },
    {
     "data": {
      "text/html": [
       "<strong><a href=http://dx.doi.org/10.1038/s41426-018-0086-1>Prospective surveillance for influenza. virus in Chinese swine farms.</a></strong><br>2018. Anderson BD, Ma MJ, Wang GL, Bi ZQ, Lu B, Wang XJ, Wang CX, Chen SH, Qian YH, Song SX, Li M, Zhao T, Wu MN, Borkenhagen LK, Cao WC, Gray GC<br>[ID: 29765021]"
      ],
      "text/plain": [
       "<IPython.core.display.HTML object>"
      ]
     },
     "metadata": {},
     "output_type": "display_data"
    },
    {
     "data": {
      "text/html": [
       "<strong><a href=http://dx.doi.org/10.1073/pnas.1422456112>Evolution of the H9N2 influenza genotype that facilitated the genesis of the novel H7N9 virus.</a></strong><br>2015. Pu J, Wang S, Yin Y, Zhang G, Carter RA, Wang J, Xu G, Sun H, Wang M, Wen C, Wei Y, Wang D, Zhu B, Lemmon G, Jiao Y, Duan S, Wang Q, Du Q, Sun M, Bao J, ...<br>[ID: 25548189]"
      ],
      "text/plain": [
       "<IPython.core.display.HTML object>"
      ]
     },
     "metadata": {},
     "output_type": "display_data"
    },
    {
     "data": {
      "text/html": [
       "<strong><a href=http://dx.doi.org/10.1007/s00705-013-1842-0>Investigating a crow die-off in January-February 2011 during the introduction of a new clade of highly pathogenic avian influenza virus H5N1 into Bangladesh.</a></strong><br>2014. Khan SU, Berman L, Haider N, Gerloff N, Rahman MZ, Shu B, Rahman M, Dey TK, Davis TC, Das BC, Balish A, Islam A, Teifke JP, Zeidner N, Lindstrom S, Klimov A, Donis RO, Luby SP, Shivaprasad HL, Mikolon AB<br>[ID: 24081824]"
      ],
      "text/plain": [
       "<IPython.core.display.HTML object>"
      ]
     },
     "metadata": {},
     "output_type": "display_data"
    },
    {
     "data": {
      "text/html": [
       "<strong><a href=http://dx.doi.org/10.1016/j.prrv.2016.12.005>Epidemiology and Pathophysiology of Childhood Narcolepsy.</a></strong><br>2018. Dye TJ, Gurbani N, Simakajornboon N<br>[ID: 28108192]"
      ],
      "text/plain": [
       "<IPython.core.display.HTML object>"
      ]
     },
     "metadata": {},
     "output_type": "display_data"
    },
    {
     "data": {
      "text/html": [
       "<strong><a href=http://dx.doi.org/10.3201/eid2109.150635>Third Wave of Influenza A(H7N9) Virus from Poultry, Guangdong Province, China, 2014-2015.</a></strong><br>2015. Xie S, Jia W, Lin Y, Xing K, Ren X, Qi W, Liao M<br>[ID: 26291620]"
      ],
      "text/plain": [
       "<IPython.core.display.HTML object>"
      ]
     },
     "metadata": {},
     "output_type": "display_data"
    },
    {
     "data": {
      "text/html": [
       "<strong><a href=http://dx.doi.org/10.1097/INF.0000000000000726>Population-based Incidence and Etiology of Community-acquired Neonatal Viral Infections in Bangladesh: A Community-based and Hospital-based Surveillance Study.</a></strong><br>2015. Farzin A, Saha SK, Baqui AH, Choi Y, Ahmed NU, Simoes EA, El Arifeen S, Al-Emran HM, Bari S, Rahman SM, Mannan I, Crook D, Seraji HR, Begum N, Black RE, Santosham M, Darmstadt GL, Bangladesh Projahnmo-2 (Mirzapur) Study Group.<br>[ID: 25961894]"
      ],
      "text/plain": [
       "<IPython.core.display.HTML object>"
      ]
     },
     "metadata": {},
     "output_type": "display_data"
    },
    {
     "data": {
      "text/html": [
       "<strong><a href=http://dx.doi.org/10.1186/s12884-015-0470-y>Designs of two randomized, community-based trials to assess the impact of influenza immunization during pregnancy on respiratory illness among pregnant women and their infants and reproductive outcomes in rural Nepal.</a></strong><br>2015. Tielsch JM, Steinhoff M, Katz J, Englund JA, Kuypers J, Khatry SK, Shrestha L, LeClerq SC<br>[ID: 25879974]"
      ],
      "text/plain": [
       "<IPython.core.display.HTML object>"
      ]
     },
     "metadata": {},
     "output_type": "display_data"
    },
    {
     "data": {
      "text/html": [
       "<strong><a href=http://dx.doi.org/10.1111/irv.12412>The ecology and adaptive evolution of influenza A interspecies transmission.</a></strong><br>2017. Joseph U, Su YC, Vijaykrishna D, Smith GJ<br>[ID: 27426214]"
      ],
      "text/plain": [
       "<IPython.core.display.HTML object>"
      ]
     },
     "metadata": {},
     "output_type": "display_data"
    },
    {
     "data": {
      "text/html": [
       "<strong><a href=http://dx.doi.org/10.1016/S1473-3099(15)00502-2>Interventions to reduce zoonotic and pandemic risks from avian influenza in Asia.</a></strong><br>2016. Peiris JS, Cowling BJ, Wu JT, Feng L, Guan Y, Yu H, Leung GM<br>[ID: 26654122]"
      ],
      "text/plain": [
       "<IPython.core.display.HTML object>"
      ]
     },
     "metadata": {},
     "output_type": "display_data"
    },
    {
     "data": {
      "text/html": [
       "<strong><a href=http://dx.doi.org/10.1016/j.vaccine.2018.07.004>H7 virus-like particles assembled by hemagglutinin containing H3N2 transmembrane domain and M1 induce broad homologous and heterologous protection in mice.</a></strong><br>2018. Qin J, Zhang Y, Shen X, Gong L, Peng O, Liu Y, Xue C, Cao Y<br>[ID: 30037418]"
      ],
      "text/plain": [
       "<IPython.core.display.HTML object>"
      ]
     },
     "metadata": {},
     "output_type": "display_data"
    },
    {
     "data": {
      "text/html": [
       "<strong><a href=http://dx.doi.org/10.1038/srep25845>Fatal influenza A (H5N1) virus Infection in zoo-housed Tigers in Yunnan Province, China.</a></strong><br>2016. Hu T, Zhao H, Zhang Y, Zhang W, Kong Q, Zhang Z, Cui Q, Qiu W, Deng B, Fan Q, Zhang F<br>[ID: 27162026]"
      ],
      "text/plain": [
       "<IPython.core.display.HTML object>"
      ]
     },
     "metadata": {},
     "output_type": "display_data"
    },
    {
     "data": {
      "text/html": [
       "<strong><a href=http://dx.doi.org/10.1038/s41426-018-0088-z>Novel triple-reassortant influenza viruses in pigs, Guangxi, China.</a></strong><br>2018. He P, Wang G, Mo Y, Yu Q, Xiao X, Yang W, Zhao W, Guo X, Chen Q, He J, Liang M, Zhu J, Ding Y, Wei Z, Ouyang K, Liu F, Jian H, Huang W, García-Sastre A, Chen Y<br>[ID: 29765037]"
      ],
      "text/plain": [
       "<IPython.core.display.HTML object>"
      ]
     },
     "metadata": {},
     "output_type": "display_data"
    },
    {
     "data": {
      "text/html": [
       "<strong><a href=http://dx.doi.org/10.1128/genomeA.00747-14>Genetic Characterization of a Natural Reassortant H3N8 Avian Influenza Virus Isolated from Domestic Geese in Guangxi, Southern China.</a></strong><br>2014. Liu T, Xie Z, Song D, Luo S, Xie L, Li M, Xie Z, Deng X<br>[ID: 25081261]"
      ],
      "text/plain": [
       "<IPython.core.display.HTML object>"
      ]
     },
     "metadata": {},
     "output_type": "display_data"
    },
    {
     "data": {
      "text/html": [
       "<strong><a href=http://dx.doi.org/10.1086/653709>New evidence suggests Southern China as a common source of multiple clusters of highly pathogenic H5N1 avian influenza virus.</a></strong><br>2010. Wu B, Wang C, Dong G, Guo Y, Nolte DL, Deliberto TJ, Xu J, Duan M, He H<br>[ID: 20575658]"
      ],
      "text/plain": [
       "<IPython.core.display.HTML object>"
      ]
     },
     "metadata": {},
     "output_type": "display_data"
    },
    {
     "data": {
      "text/html": [
       "<strong><a href=http://dx.doi.org/10.1017/S0950268818001292>Review analysis and impact of co-circulating H5N1 and H9N2 avian influenza viruses in Bangladesh.</a></strong><br>2018. Parvin R, Begum JA, Nooruzzaman M, Chowdhury EH, Islam MR, Vahlenkamp TW<br>[ID: 29781424]"
      ],
      "text/plain": [
       "<IPython.core.display.HTML object>"
      ]
     },
     "metadata": {},
     "output_type": "display_data"
    },
    {
     "data": {
      "text/html": [
       "<strong><a href=http://dx.doi.org/10.1637/7597-040506.1>Spatiotemporal distributions of reported cases of the avian influenza H5N1 (bird flu) in Southern China in early 2004.</a></strong><br>2006. Oyana TJ, Dai D, Scott KE<br>[ID: 17274286]"
      ],
      "text/plain": [
       "<IPython.core.display.HTML object>"
      ]
     },
     "metadata": {},
     "output_type": "display_data"
    },
    {
     "data": {
      "text/html": [
       "<strong><a href=http://dx.doi.org/10.1017/S0950268817002369>Estimated incidence and number of outpatient visits for seasonal influenza in 2015-2016 in Beijing, China.</a></strong><br>2017. Wu S, VAN Asten L, Wang L, McDonald SA, Pan Y, Duan W, Zhang L, Sun Y, Zhang Y, Zhang X, Pilot E, Krafft T, VAN DER Hoek W, VAN DER Sande MAB, Yang P, Wang Q<br>[ID: 29117874]"
      ],
      "text/plain": [
       "<IPython.core.display.HTML object>"
      ]
     },
     "metadata": {},
     "output_type": "display_data"
    },
    {
     "data": {
      "text/html": [
       "<strong>[Laboratory diagnosis and molecular characterization analysis of the H5N1 influenza virus isolated from the first human case in Shenzhen, China].</strong><br>2008. He JF, Lv X, Cheng XW, Wu CL, Zhang SX, Shu Y, Fang SS, Lu JH, Gu LN, Lai JW, Gao RB<br>[ID: 18320819]"
      ],
      "text/plain": [
       "<IPython.core.display.HTML object>"
      ]
     },
     "metadata": {},
     "output_type": "display_data"
    },
    {
     "data": {
      "text/html": [
       "<strong><a href=http://dx.doi.org/10.1016/S1995-7645(11)60130-2>Burden and outcome of human influenza in a tertiary care hospital of Bangladesh.</a></strong><br>2011. Rasul CH, Bakar MA, Mamun AA, Siraz MS, Zaman RU<br>[ID: 21771703]"
      ],
      "text/plain": [
       "<IPython.core.display.HTML object>"
      ]
     },
     "metadata": {},
     "output_type": "display_data"
    },
    {
     "data": {
      "text/html": [
       "<strong>Identification of a swine influenza virus (Hsw1N1) isolated from a duck in Hong Kong.</strong><br>1978. Butterfield WK, Campbell CH, Webster RG, Shortridge KF<br>[ID: 712123]"
      ],
      "text/plain": [
       "<IPython.core.display.HTML object>"
      ]
     },
     "metadata": {},
     "output_type": "display_data"
    },
    {
     "data": {
      "text/html": [
       "<strong><a href=http://dx.doi.org/10.1142/S0192415X05002965>Using herbal medicine as a means of prevention experience during the SARS crisis.</a></strong><br>2005. Lau TF, Leung PC, Wong EL, Fong C, Cheng KF, Zhang SC, Lam CW, Wong V, Choy KM, Ko WM<br>[ID: 16047553]"
      ],
      "text/plain": [
       "<IPython.core.display.HTML object>"
      ]
     },
     "metadata": {},
     "output_type": "display_data"
    },
    {
     "data": {
      "text/html": [
       "<strong>[A(H5N1) and A(H7N9) avian influenza: the H7N9 avian influenza outbreak of 2013].</strong><br>2013. Wang Q, Yao KH<br>[ID: 23791048]"
      ],
      "text/plain": [
       "<IPython.core.display.HTML object>"
      ]
     },
     "metadata": {},
     "output_type": "display_data"
    },
    {
     "data": {
      "text/html": [
       "<strong><a href=http://dx.doi.org/10.1016/j.vaccine.2016.03.056>Seasonal influenza vaccine effectiveness against medically attended influenza illness among children aged 6-59 months, October 2011-September 2012: A matched test-negative case-control study in Suzhou, China.</a></strong><br>2016. Wang Y, Zhang T, Chen L, Greene C, Ding Y, Cheng Y, Yang C, Zeng S, Hua J, Zhou S, Song Y, Luan L, Zhang J, Zhao G<br>[ID: 27016650]"
      ],
      "text/plain": [
       "<IPython.core.display.HTML object>"
      ]
     },
     "metadata": {},
     "output_type": "display_data"
    },
    {
     "data": {
      "text/html": [
       "<strong>[A limited understanding of hazard of influenza A virus subtype H7N9 in children].</strong><br>2013. Zhu YM<br>[ID: 23791050]"
      ],
      "text/plain": [
       "<IPython.core.display.HTML object>"
      ]
     },
     "metadata": {},
     "output_type": "display_data"
    },
    {
     "data": {
      "text/html": [
       "<strong><a href=http://dx.doi.org/10.1016/j.meegid.2013.03.007>Imported pigs may have introduced the first classical swine influenza viruses into Mainland China.</a></strong><br>2013. Zhu W, Yang S, Guo Y, Yang L, Bai T, Yu Z, Li X, Li M, Guo J, Wang D, Gao R, Dong L, Zou S, Li Z, Wang M, Shu Y<br>[ID: 23567818]"
      ],
      "text/plain": [
       "<IPython.core.display.HTML object>"
      ]
     },
     "metadata": {},
     "output_type": "display_data"
    },
    {
     "data": {
      "text/html": [
       "<strong>Pandemic influenza: a zoonosis?</strong><br>1992. Shortridge KF<br>[ID: 1609163]"
      ],
      "text/plain": [
       "<IPython.core.display.HTML object>"
      ]
     },
     "metadata": {},
     "output_type": "display_data"
    },
    {
     "data": {
      "text/html": [
       "<strong><a href=http://dx.doi.org/10.1093/infdis/jiw608>Induction of Broadly Cross-Reactive Stalk-Specific Antibody Responses to Influenza Group 1 and Group 2 Hemagglutinins by Natural H7N9 Virus Infection in Humans.</a></strong><br>2017. Liu L, Nachbagauer R, Zhu L, Huang Y, Xie X, Jin S, Zhang A, Wan Y, Hirsh A, Tian D, Shi X, Dong Z, Yuan S, Hu Y, Krammer F, Zhang X, Xu J<br>[ID: 28380622]"
      ],
      "text/plain": [
       "<IPython.core.display.HTML object>"
      ]
     },
     "metadata": {},
     "output_type": "display_data"
    },
    {
     "data": {
      "text/html": [
       "<strong><a href=http://dx.doi.org/10.1007/s00705-014-2059-6>An outbreak of echovirus 33 in schools in China in 2013.</a></strong><br>2014. Tan X, Gao L, Ma X, Nie J, Zhan D, Zhang B, Liu Y, Liu F, Xu W<br>[ID: 24696270]"
      ],
      "text/plain": [
       "<IPython.core.display.HTML object>"
      ]
     },
     "metadata": {},
     "output_type": "display_data"
    },
    {
     "data": {
      "text/html": [
       "<strong><a href=http://dx.doi.org/10.1007/s11262-011-0667-8>Characterisation of a highly pathogenic H5N1 clade 2.3.2 influenza virus isolated from swans in Shanghai, China.</a></strong><br>2012. Zhao G, Zhong L, Lu X, Hu J, Gu X, Kai Y, Song Q, Sun Q, Liu J, Peng D, Wang X, Liu X, Liu X<br>[ID: 21904849]"
      ],
      "text/plain": [
       "<IPython.core.display.HTML object>"
      ]
     },
     "metadata": {},
     "output_type": "display_data"
    },
    {
     "data": {
      "text/html": [
       "<strong><a href=http://dx.doi.org/10.1371/journal.pone.0077132>Epidemiological surveillance of low pathogenic avian influenza virus (LPAIV) from poultry in Guangxi Province, Southern China.</a></strong><br>2013. Peng Y, Xie ZX, Liu JB, Pang YS, Deng XW, Xie ZQ, Xie LJ, Fan Q, Luo SS<br>[ID: 24204754]"
      ],
      "text/plain": [
       "<IPython.core.display.HTML object>"
      ]
     },
     "metadata": {},
     "output_type": "display_data"
    },
    {
     "data": {
      "text/html": [
       "<strong><a href=http://dx.doi.org/10.1007/s00705-018-3800-3>Co-circulation of multiple genotypes of influenza A (H7N9) viruses in eastern China, 2016-2017.</a></strong><br>2018. Qi X, An X, Jiao Y, Yu H, Xu K, Cui L, Wang S, Deng F, Huo X, Huang H, Dai Q, Bao C<br>[ID: 29541846]"
      ],
      "text/plain": [
       "<IPython.core.display.HTML object>"
      ]
     },
     "metadata": {},
     "output_type": "display_data"
    },
    {
     "data": {
      "text/html": [
       "<strong><a href=http://dx.doi.org/10.1038/s41598-018-20645-1>Characterization of avian influenza H9N2 viruses isolated from ostriches (Struthio camelus).</a></strong><br>2018. Wang D, Wang J, Bi Y, Fan D, Liu H, Luo N, Yang Z, Wang S, Chen W, Wang J, Xu S, Chen J, Zhang Y, Yin Y<br>[ID: 29396439]"
      ],
      "text/plain": [
       "<IPython.core.display.HTML object>"
      ]
     },
     "metadata": {},
     "output_type": "display_data"
    },
    {
     "data": {
      "text/html": [
       "<strong><a href=http://dx.doi.org/10.1080/14760584.2017.1333907>Tackling a novel lethal virus: a focus on H7N9 vaccine development.</a></strong><br>2017. Isakova-Sivak I, Rudenko L<br>[ID: 28532182]"
      ],
      "text/plain": [
       "<IPython.core.display.HTML object>"
      ]
     },
     "metadata": {},
     "output_type": "display_data"
    },
    {
     "data": {
      "text/html": [
       "<strong><a href=http://dx.doi.org/10.1186/1743-422X-10-149>Risk factors associated with severe manifestations of 2009 pandemic influenza A (H1N1) infection in China: a case-control study.</a></strong><br>2013. Ren YY, Yin YY, Li WQ, Lin Y, Liu T, Wang S, Zhang SY, Li Z, Wang XJ, Bi ZQ<br>[ID: 23672278]"
      ],
      "text/plain": [
       "<IPython.core.display.HTML object>"
      ]
     },
     "metadata": {},
     "output_type": "display_data"
    },
    {
     "data": {
      "text/html": [
       "<strong><a href=http://dx.doi.org/10.1128/JVI.00256-10>Establishment of an H6N2 influenza virus lineage in domestic ducks in southern China.</a></strong><br>2010. Huang K, Bahl J, Fan XH, Vijaykrishna D, Cheung CL, Webby RJ, Webster RG, Chen H, Smith GJ, Peiris JS, Guan Y<br>[ID: 20463062]"
      ],
      "text/plain": [
       "<IPython.core.display.HTML object>"
      ]
     },
     "metadata": {},
     "output_type": "display_data"
    },
    {
     "data": {
      "text/html": [
       "<strong><a href=http://dx.doi.org/10.1111/j.1750-2659.2008.00067.x>Safety and immunogenicity of Sinovac's prototype pandemic influenza H5N1 vaccines: a review on clinical trials.</a></strong><br>2008. Qiu YZ, Yin WD<br>[ID: 19453400]"
      ],
      "text/plain": [
       "<IPython.core.display.HTML object>"
      ]
     },
     "metadata": {},
     "output_type": "display_data"
    },
    {
     "data": {
      "text/html": [
       "<strong><a href=http://dx.doi.org/10.3201/eid1912.130340>Novel variants of clade 2.3.4 highly pathogenic avian influenza A(H5N1) viruses, China.</a></strong><br>2013. Gu M, Zhao G, Zhao K, Zhong L, Huang J, Wan H, Wang X, Liu W, Liu H, Peng D, Liu X<br>[ID: 24274396]"
      ],
      "text/plain": [
       "<IPython.core.display.HTML object>"
      ]
     },
     "metadata": {},
     "output_type": "display_data"
    },
    {
     "data": {
      "text/html": [
       "<strong><a href=http://dx.doi.org/10.1371/journal.pone.0033092>A survey of avian influenza in tree sparrows in China in 2011.</a></strong><br>2012. Han Y, Hou G, Jiang W, Han C, Liu S, Chen J, Li J, Zhang P, Huang B, Liu Y, Chen J<br>[ID: 22496742]"
      ],
      "text/plain": [
       "<IPython.core.display.HTML object>"
      ]
     },
     "metadata": {},
     "output_type": "display_data"
    },
    {
     "data": {
      "text/html": [
       "<strong><a href=http://dx.doi.org/10.1128/JVI.00413-10>Continued evolution of H5N1 influenza viruses in wild birds, domestic poultry, and humans in China from 2004 to 2009.</a></strong><br>2010. Li Y, Shi J, Zhong G, Deng G, Tian G, Ge J, Zeng X, Song J, Zhao D, Liu L, Jiang Y, Guan Y, Bu Z, Chen H<br>[ID: 20538856]"
      ],
      "text/plain": [
       "<IPython.core.display.HTML object>"
      ]
     },
     "metadata": {},
     "output_type": "display_data"
    },
    {
     "data": {
      "text/html": [
       "<strong><a href=http://dx.doi.org/10.1002/jmv.21130>Serologic and genetic characterization analyses of a highly pathogenic influenza virus (H5N1) isolated from an infected man in Shenzhen.</a></strong><br>2008. Cheng X, Wu C, He J, Lv X, Zhang S, Zhou L, Wang J, Deng R, Long Q, Wang X, Cheng J<br>[ID: 18428128]"
      ],
      "text/plain": [
       "<IPython.core.display.HTML object>"
      ]
     },
     "metadata": {},
     "output_type": "display_data"
    },
    {
     "data": {
      "text/html": [
       "<strong><a href=http://dx.doi.org/10.1378/chest.129.1.156>Avian influenza virus infections in humans.</a></strong><br>2006. Wong SS, Yuen KY<br>[ID: 16424427]"
      ],
      "text/plain": [
       "<IPython.core.display.HTML object>"
      ]
     },
     "metadata": {},
     "output_type": "display_data"
    },
    {
     "data": {
      "text/html": [
       "<strong>[Virological characterization of influenza B virus in mainland China during 2011-2012].</strong><br>2013. Huang WJ, Tan MJ, Lan Y, Cheng YH, Wang Z, Li XY, Guo JF, Wei HJ, Chen YY, Xiao N, Liu B, Sui HT, Zhao X, Wang DY, Shu YL<br>[ID: 23547377]"
      ],
      "text/plain": [
       "<IPython.core.display.HTML object>"
      ]
     },
     "metadata": {},
     "output_type": "display_data"
    },
    {
     "data": {
      "text/html": [
       "<strong><a href=http://dx.doi.org/10.1038/ncomms2433>Interferon-induced transmembrane protein-3 genetic variant rs12252-C is associated with severe influenza in Chinese individuals.</a></strong><br>2013. Zhang YH, Zhao Y, Li N, Peng YC, Giannoulatou E, Jin RH, Yan HP, Wu H, Liu JH, Liu N, Wang DY, Shu YL, Ho LP, Kellam P, McMichael A, Dong T<br>[ID: 23361009]"
      ],
      "text/plain": [
       "<IPython.core.display.HTML object>"
      ]
     },
     "metadata": {},
     "output_type": "display_data"
    },
    {
     "data": {
      "text/html": [
       "<strong><a href=http://dx.doi.org/10.1371/journal.pone.0030424>Seasonal influenza vaccine effectiveness among children aged 6 to 59 months in southern China.</a></strong><br>2012. Yang Z, Dong Z, Fu C<br>[ID: 22291953]"
      ],
      "text/plain": [
       "<IPython.core.display.HTML object>"
      ]
     },
     "metadata": {},
     "output_type": "display_data"
    },
    {
     "data": {
      "text/html": [
       "<strong><a href=http://dx.doi.org/10.3389/fpubh.2013.00028>Mapping avian influenza transmission risk at the interface of domestic poultry and wild birds.</a></strong><br>2013. Prosser DJ, Hungerford LL, Erwin RM, Ottinger MA, Takekawa JY, Ellis EC<br>[ID: 24350197]"
      ],
      "text/plain": [
       "<IPython.core.display.HTML object>"
      ]
     },
     "metadata": {},
     "output_type": "display_data"
    },
    {
     "data": {
      "text/html": [
       "<strong><a href=http://dx.doi.org/10.1007/s11427-009-0067-7>Human avian influenza A (H5N1) virus infection in China.</a></strong><br>2009. Xu C, Dong L, Xin L, Lan Y, Chen Y, Yang L, Shu Y<br>[ID: 19471862]"
      ],
      "text/plain": [
       "<IPython.core.display.HTML object>"
      ]
     },
     "metadata": {},
     "output_type": "display_data"
    },
    {
     "data": {
      "text/html": [
       "<strong><a href=http://dx.doi.org/10.1016/j.micinf.2017.08.004>Construction and comparison of different source neuraminidase candidate vaccine strains for human infection with Eurasian avian-like influenza H1N1 virus.</a></strong><br>2017. Liu L, Lu J, Zhou J, Li Z, Zhang H, Wang D, Shu Y<br>[ID: 28859895]"
      ],
      "text/plain": [
       "<IPython.core.display.HTML object>"
      ]
     },
     "metadata": {},
     "output_type": "display_data"
    },
    {
     "data": {
      "text/html": [
       "<strong><a href=http://dx.doi.org/10.1007/s11427-009-0068-6>H5N1 avian influenza in China.</a></strong><br>2009. Chen H<br>[ID: 19471864]"
      ],
      "text/plain": [
       "<IPython.core.display.HTML object>"
      ]
     },
     "metadata": {},
     "output_type": "display_data"
    },
    {
     "data": {
      "text/html": [
       "<strong>Protective efficacy of a high-growth reassortant swine H3N2 inactivated vaccine constructed by reverse genetic manipulation.</strong><br>2014. Wen F, Ma JH, Yu H, Yang FR, Huang M, Zhou YJ, Li ZJ, Tong GZ<br>[ID: 24675833]"
      ],
      "text/plain": [
       "<IPython.core.display.HTML object>"
      ]
     },
     "metadata": {},
     "output_type": "display_data"
    },
    {
     "data": {
      "text/html": [
       "<strong><a href=http://dx.doi.org/10.1126/science.1240532>H7N9 influenza viruses are transmissible in ferrets by respiratory droplet.</a></strong><br>2013. Zhang Q, Shi J, Deng G, Guo J, Zeng X, He X, Kong H, Gu C, Li X, Liu J, Wang G, Chen Y, Liu L, Liang L, Li Y, Fan J, Wang J, Li W, Guan L, Li Q, ...<br>[ID: 23868922]"
      ],
      "text/plain": [
       "<IPython.core.display.HTML object>"
      ]
     },
     "metadata": {},
     "output_type": "display_data"
    },
    {
     "data": {
      "text/html": [
       "<strong>[Study of highly pathogenic H5N1 influenza virus isolated from sick and dead birds in Western Siberia].</strong><br>2006. Onishchenko GG, Shestopalov AM, Ternovoĭ VA, Evseenko VA, Durymanov AG, Rassadkin IuN, Zaĭkovskaia AV, Zolotykh SI, Iurlov AK, Mikheev VN, Netesov SV, Drozdov IG<br>[ID: 16981493]"
      ],
      "text/plain": [
       "<IPython.core.display.HTML object>"
      ]
     },
     "metadata": {},
     "output_type": "display_data"
    },
    {
     "data": {
      "text/html": [
       "<strong><a href=http://dx.doi.org/10.1038/srep24154>Avian influenza viruses that cause highly virulent infections in humans exhibit distinct replicative properties in contrast to human H1N1 viruses.</a></strong><br>2016. Simon PF, de La Vega MA, Paradis É, Mendoza E, Coombs KM, Kobasa D, Beauchemin CA<br>[ID: 27080193]"
      ],
      "text/plain": [
       "<IPython.core.display.HTML object>"
      ]
     },
     "metadata": {},
     "output_type": "display_data"
    },
    {
     "data": {
      "text/html": [
       "<strong><a href=http://dx.doi.org/10.1038/s41426-018-0072-7>Replication and pathogenic potential of influenza A virus subtypes H3, H7, and H15 from free-range ducks in Bangladesh in mammals.</a></strong><br>2018. El-Shesheny R, Feeroz MM, Krauss S, Vogel P, McKenzie P, Webby RJ, Webster RG<br>[ID: 29691394]"
      ],
      "text/plain": [
       "<IPython.core.display.HTML object>"
      ]
     },
     "metadata": {},
     "output_type": "display_data"
    },
    {
     "data": {
      "text/html": [
       "<strong><a href=http://dx.doi.org/10.1099/0022-1317-76-8-2009>Seroepidemiological and molecular evidence for the presence of two H3N8 equine influenza viruses in China in 1993-94.</a></strong><br>1995. Guo Y, Wang M, Zheng GS, Li WK, Kawaoka Y, Webster RG<br>[ID: 7636481]"
      ],
      "text/plain": [
       "<IPython.core.display.HTML object>"
      ]
     },
     "metadata": {},
     "output_type": "display_data"
    },
    {
     "data": {
      "text/html": [
       "<strong><a href=http://dx.doi.org/10.1186/s12879-015-0829-8>Genetic diversity of the 2013-14 human isolates of influenza H7N9 in China.</a></strong><br>2015. Farooqui A, Leon AJ, Huang L, Wu S, Cai Y, Lin P, Chen W, Fang X, Zeng T, Liu Y, Zhang L, Su T, Chen W, Ghedin E, Zhu H, Guan Y, Kelvin DJ<br>[ID: 25880069]"
      ],
      "text/plain": [
       "<IPython.core.display.HTML object>"
      ]
     },
     "metadata": {},
     "output_type": "display_data"
    },
    {
     "data": {
      "text/html": [
       "<strong><a href=http://dx.doi.org/10.3201/eid2110.150623>Effect of Live Poultry Market Closure on Avian Influenza A(H7N9) Virus Activity in Guangzhou, China, 2014.</a></strong><br>2015. Yuan J, Lau EH, Li K, Leung YH, Yang Z, Xie C, Liu Y, Liu Y, Ma X, Liu J, Li X, Chen K, Luo L, Di B, Cowling BJ, Tang X, Leung GM, Wang M, Peiris M<br>[ID: 26402310]"
      ],
      "text/plain": [
       "<IPython.core.display.HTML object>"
      ]
     },
     "metadata": {},
     "output_type": "display_data"
    },
    {
     "data": {
      "text/html": [
       "<strong><a href=http://dx.doi.org/10.1371/journal.pone.0137862>Evaluation of Commercial Diagnostic Assays for the Specific Detection of Avian Influenza A (H7N9) Virus RNA Using a Quality-Control Panel and Clinical Specimens in China.</a></strong><br>2015. Shi D, Shen S, Fan X, Chen S, Wang D, Li C, Wu X, Li L, Bai D, Zhang C, Wang J<br>[ID: 26361351]"
      ],
      "text/plain": [
       "<IPython.core.display.HTML object>"
      ]
     },
     "metadata": {},
     "output_type": "display_data"
    },
    {
     "data": {
      "text/html": [
       "<strong><a href=http://dx.doi.org/10.1371/journal.pone.0045807>Influenza A/H1N1 2009 pandemic and respiratory virus infections, Beijing, 2009-2010.</a></strong><br>2012. Yang Y, Wang Z, Ren L, Wang W, Vernet G, Paranhos-Baccalà G, Jin Q, Wang J<br>[ID: 23029253]"
      ],
      "text/plain": [
       "<IPython.core.display.HTML object>"
      ]
     },
     "metadata": {},
     "output_type": "display_data"
    },
    {
     "data": {
      "text/html": [
       "<strong><a href=http://dx.doi.org/10.1099/vir.0.063438-0>Perpetuation of H5N1 and H9N2 avian influenza viruses in natural water bodies.</a></strong><br>2014. Zhang H, Li Y, Chen J, Chen Q, Chen Z<br>[ID: 24671753]"
      ],
      "text/plain": [
       "<IPython.core.display.HTML object>"
      ]
     },
     "metadata": {},
     "output_type": "display_data"
    },
    {
     "data": {
      "text/html": [
       "<strong><a href=http://dx.doi.org/10.1371/journal.pone.0071765>Seroprevalence of antibodies to highly pathogenic avian influenza A (H5N1) virus among close contacts exposed to H5N1 cases, China, 2005-2008.</a></strong><br>2013. Liao Q, Bai T, Zhou L, Vong S, Guo J, Lv W, Dong L, Xiang N, Li Z, Huai Y, Zhou J, Li X, Chen RY, Xu Z, Uyeki TM, Shu Y, Yu H<br>[ID: 23967241]"
      ],
      "text/plain": [
       "<IPython.core.display.HTML object>"
      ]
     },
     "metadata": {},
     "output_type": "display_data"
    },
    {
     "data": {
      "text/html": [
       "<strong><a href=http://dx.doi.org/10.1016/j.vetmic.2009.12.007>Equine influenza outbreak in India (2008-09): virus isolation, sero-epidemiology and phylogenetic analysis of HA gene.</a></strong><br>2010. Virmani N, Bera BC, Singh BK, Shanmugasundaram K, Gulati BR, Barua S, Vaid RK, Gupta AK, Singh RK<br>[ID: 20053509]"
      ],
      "text/plain": [
       "<IPython.core.display.HTML object>"
      ]
     },
     "metadata": {},
     "output_type": "display_data"
    },
    {
     "data": {
      "text/html": [
       "<strong><a href=http://dx.doi.org/10.1007/s00705-006-0852-6>Exploration of the emergence of the Victoria lineage of influenza B virus.</a></strong><br>2007. Chen JM, Guo YJ, Wu KY, Guo JF, Wang M, Dong J, Zhang Y, Li Z, Shu YL<br>[ID: 17075722]"
      ],
      "text/plain": [
       "<IPython.core.display.HTML object>"
      ]
     },
     "metadata": {},
     "output_type": "display_data"
    },
    {
     "data": {
      "text/html": [
       "<strong><a href=http://dx.doi.org/10.1371/journal.pone.0031076>Trends in notifiable infectious diseases in China: implications for surveillance and population health policy.</a></strong><br>2012. Zhang L, Wilson DP<br>[ID: 22359565]"
      ],
      "text/plain": [
       "<IPython.core.display.HTML object>"
      ]
     },
     "metadata": {},
     "output_type": "display_data"
    },
    {
     "data": {
      "text/html": [
       "<strong><a href=http://dx.doi.org/10.1007/s00705-006-0731-1>Detection and identification of avian, duck, and goose reoviruses by RT-PCR: goose and duck reoviruses are part of the same genogroup in the genus Orthoreovirus.</a></strong><br>2006. Zhang Y, Liu M, Shuidong O, Hu QL, Guo DC, Chen HY, Han Z<br>[ID: 16502280]"
      ],
      "text/plain": [
       "<IPython.core.display.HTML object>"
      ]
     },
     "metadata": {},
     "output_type": "display_data"
    },
    {
     "data": {
      "text/html": [
       "<strong><a href=http://dx.doi.org/10.1371/journal.pone.0159106>Seroepidemiological Evidence of Subtype H3N8 Influenza Virus Infection among Pet Dogs in China.</a></strong><br>2016. Zhou P, Huang S, Zeng W, Zhang X, Wang L, Fu X, Li S<br>[ID: 27414031]"
      ],
      "text/plain": [
       "<IPython.core.display.HTML object>"
      ]
     },
     "metadata": {},
     "output_type": "display_data"
    },
    {
     "data": {
      "text/html": [
       "<strong><a href=http://dx.doi.org/10.7150/ijbs.8198>Preliminary success in the characterization and management of a sudden breakout of a novel H7N9 influenza A virus.</a></strong><br>2014. Wu YL, Shen LW, Ding YP, Tanaka Y, Zhang W<br>[ID: 24520209]"
      ],
      "text/plain": [
       "<IPython.core.display.HTML object>"
      ]
     },
     "metadata": {},
     "output_type": "display_data"
    },
    {
     "data": {
      "text/html": [
       "<strong><a href=http://dx.doi.org/10.1016/j.vaccine.2013.12.013>Influenza associated mortality in Southern China, 2010-2012.</a></strong><br>2014. Wang H, Fu C, Li K, Lu J, Chen Y, Lu E, Xiao X, Di B, Liu H, Yang Z, Wang M<br>[ID: 24370709]"
      ],
      "text/plain": [
       "<IPython.core.display.HTML object>"
      ]
     },
     "metadata": {},
     "output_type": "display_data"
    },
    {
     "data": {
      "text/html": [
       "<strong><a href=http://dx.doi.org/10.1016/j.vetimm.2011.02.021>Immunoadjuvant effects of hemagglutinating virus of Japan envelope (HVJ-E) on the inactivated H9 subtype avian influenza virus vaccine.</a></strong><br>2011. Zhang Q, Wang Z, Yuan Y, Xue Z, Zhai G, Zuo W, Zhu S, Zhu G, Xu X<br>[ID: 21444118]"
      ],
      "text/plain": [
       "<IPython.core.display.HTML object>"
      ]
     },
     "metadata": {},
     "output_type": "display_data"
    },
    {
     "data": {
      "text/html": [
       "<strong><a href=http://dx.doi.org/10.1128/genomeA.00229-14>Identification of a Triple-Reassortant H1N1 Swine Influenza Virus in a Southern China Pig.</a></strong><br>2014. Xie Z, Zhang M, Xie L, Luo S, Liu J, Deng X, Xie Z, Pang Y, Fan Q<br>[ID: 24675864]"
      ],
      "text/plain": [
       "<IPython.core.display.HTML object>"
      ]
     },
     "metadata": {},
     "output_type": "display_data"
    },
    {
     "data": {
      "text/html": [
       "<strong><a href=http://dx.doi.org/10.1016/j.vaccine.2017.10.010>Newcastle disease virus (NDV) recombinant expressing the hemagglutinin of H7N9 avian influenza virus protects chickens against NDV and highly pathogenic avian influenza A (H7N9) virus challenges.</a></strong><br>2017. Hu Z, Liu X, Jiao X, Liu X<br>[ID: 29042201]"
      ],
      "text/plain": [
       "<IPython.core.display.HTML object>"
      ]
     },
     "metadata": {},
     "output_type": "display_data"
    },
    {
     "data": {
      "text/html": [
       "<strong><a href=http://dx.doi.org/10.1016/j.meegid.2018.09.022>A family cluster of two fatal cases infected with influenza A (H7N9) virus in Kunming China, 2017.</a></strong><br>2018. Guo L, Hou M, Ning R, Li W, Yang Z, Li H, Chu M, Yu L, Liu L<br>[ID: 30248474]"
      ],
      "text/plain": [
       "<IPython.core.display.HTML object>"
      ]
     },
     "metadata": {},
     "output_type": "display_data"
    },
    {
     "data": {
      "text/html": [
       "<strong><a href=http://dx.doi.org/10.1136/bmjopen-2017-019709>Cohort profile: China respiratory illness surveillance among pregnant women (CRISP), 2015-2018.</a></strong><br>2018. Chen L, Zhou S, Zhang Z, Wang Y, Bao L, Tan Y, Sheng F, Song Y, Zhang R, Danielle Iuliano A, Thompson MG, Greene CM, Zhang J<br>[ID: 29705756]"
      ],
      "text/plain": [
       "<IPython.core.display.HTML object>"
      ]
     },
     "metadata": {},
     "output_type": "display_data"
    },
    {
     "data": {
      "text/html": [
       "<strong><a href=http://dx.doi.org/10.1159/000488631>The Protective Effects of the A/ZJU01/ PR8/2013 Split H7N9 Avian Influenza Vaccine Against Highly Pathogenic H7N9 in BALB/c Mice.</a></strong><br>2018. Wu XX, Deng XL, Yu DS, Yao W, Ou HL, Weng TH, Hu CY, Hu FY, Wu NP, Yao H, Zhang FC, Li LJ<br>[ID: 29617693]"
      ],
      "text/plain": [
       "<IPython.core.display.HTML object>"
      ]
     },
     "metadata": {},
     "output_type": "display_data"
    },
    {
     "data": {
      "text/html": [
       "<strong><a href=http://dx.doi.org/10.3390/md11124788>Polyhydroxylated steroids from the South China Sea soft coral Sarcophyton sp. and their cytotoxic and antiviral activities.</a></strong><br>2013. Gong KK, Tang XL, Zhang G, Cheng CL, Zhang XW, Li PL, Li GQ<br>[ID: 24317470]"
      ],
      "text/plain": [
       "<IPython.core.display.HTML object>"
      ]
     },
     "metadata": {},
     "output_type": "display_data"
    },
    {
     "data": {
      "text/html": [
       "<strong><a href=http://dx.doi.org/10.1371/journal.pone.0069035>Socio-economic burden of influenza among children younger than 5 years in the outpatient setting in Suzhou, China.</a></strong><br>2013. Wang D, Zhang T, Wu J, Jiang Y, Ding Y, Hua J, Li Y, Zhang J, Chen L, Feng Z, Iuliano D, McFarland J, Zhao G<br>[ID: 23950882]"
      ],
      "text/plain": [
       "<IPython.core.display.HTML object>"
      ]
     },
     "metadata": {},
     "output_type": "display_data"
    },
    {
     "data": {
      "text/html": [
       "<strong><a href=http://dx.doi.org/10.1099/vir.0.037358-0>Natural and experimental infection of dogs with pandemic H1N1/2009 influenza virus.</a></strong><br>2012. Lin D, Sun S, Du L, Ma J, Fan L, Pu J, Sun Y, Zhao J, Sun H, Liu J<br>[ID: 21976611]"
      ],
      "text/plain": [
       "<IPython.core.display.HTML object>"
      ]
     },
     "metadata": {},
     "output_type": "display_data"
    },
    {
     "data": {
      "text/html": [
       "<strong><a href=http://dx.doi.org/10.3390/ijerph14020217>Comparison of Influenza Epidemiological and Virological Characteristics between Outpatients and Inpatients in Zhejiang Province, China, March 2011-June 2015.</a></strong><br>2017. Cheng W, Yu Z, Liu S, Zhang X, Wang X, Cai J, Ling F, Chen E<br>[ID: 28241447]"
      ],
      "text/plain": [
       "<IPython.core.display.HTML object>"
      ]
     },
     "metadata": {},
     "output_type": "display_data"
    },
    {
     "data": {
      "text/html": [
       "<strong><a href=http://dx.doi.org/10.1371/journal.pmed.1001552>Characterization of regional influenza seasonality patterns in China and implications for vaccination strategies: spatio-temporal modeling of surveillance data.</a></strong><br>2013. Yu H, Alonso WJ, Feng L, Tan Y, Shu Y, Yang W, Viboud C<br>[ID: 24348203]"
      ],
      "text/plain": [
       "<IPython.core.display.HTML object>"
      ]
     },
     "metadata": {},
     "output_type": "display_data"
    },
    {
     "data": {
      "text/html": [
       "<strong><a href=http://dx.doi.org/10.1111/irv.12461>Predictors for fatal human infections with avian H7N9 influenza, evidence from four epidemic waves in Jiangsu Province, Eastern China, 2013-2016.</a></strong><br>2017. Ma W, Huang H, Chen J, Xu K, Dai Q, Yu H, Deng F, Qi X, Wang S, Hong J, Bao C, Huo X, Zhou M<br>[ID: 28675634]"
      ],
      "text/plain": [
       "<IPython.core.display.HTML object>"
      ]
     },
     "metadata": {},
     "output_type": "display_data"
    },
    {
     "data": {
      "text/html": [
       "<strong><a href=http://dx.doi.org/10.1016/j.antiviral.2016.10.001>An influenza A virus (H7N9) anti-neuraminidase monoclonal antibody with prophylactic and therapeutic activity in vivo.</a></strong><br>2016. Wilson JR, Guo Z, Reber A, Kamal RP, Music N, Gansebom S, Bai Y, Levine M, Carney P, Tzeng WP, Stevens J, York IA<br>[ID: 27713074]"
      ],
      "text/plain": [
       "<IPython.core.display.HTML object>"
      ]
     },
     "metadata": {},
     "output_type": "display_data"
    },
    {
     "data": {
      "text/html": [
       "<strong><a href=http://dx.doi.org/10.1186/1471-2334-11-128>Knowledge, attitudes and practices (KAP) related to the pandemic (H1N1) 2009 among Chinese general population: a telephone survey.</a></strong><br>2011. Lin Y, Huang L, Nie S, Liu Z, Yu H, Yan W, Xu Y<br>[ID: 21575222]"
      ],
      "text/plain": [
       "<IPython.core.display.HTML object>"
      ]
     },
     "metadata": {},
     "output_type": "display_data"
    },
    {
     "data": {
      "text/html": [
       "<strong><a href=http://dx.doi.org/10.1128/genomeA.00965-17>Genome Sequence of an H9N2 Avian Influenza Virus Strain with Hemagglutinin-Neuraminidase Combination, Isolated from a Quail in Guangxi, Southern China.</a></strong><br>2017. Xie L, Xie Z, Li D, Luo S, Zhang M, Huang L, Xie Z, Huang J, Zhang Y, Zeng T, Deng X<br>[ID: 28935735]"
      ],
      "text/plain": [
       "<IPython.core.display.HTML object>"
      ]
     },
     "metadata": {},
     "output_type": "display_data"
    },
    {
     "data": {
      "text/html": [
       "<strong><a href=http://dx.doi.org/10.1093/cid/cir398>Early use of glucocorticoids was a risk factor for critical disease and death from pH1N1 infection.</a></strong><br>2011. Han K, Ma H, An X, Su Y, Chen J, Lian Z, Zhao J, Zhu BP, Fontaine RE, Feng Z, Zeng G<br>[ID: 21810744]"
      ],
      "text/plain": [
       "<IPython.core.display.HTML object>"
      ]
     },
     "metadata": {},
     "output_type": "display_data"
    },
    {
     "data": {
      "text/html": [
       "<strong><a href=http://dx.doi.org/10.1016/j.vaccine.2013.09.009>A subunit vaccine candidate derived from a classic H5N1 avian influenza virus in China protects fowls and BALB/c mice from lethal challenge.</a></strong><br>2013. Liu G, Zhang F, Shi J, Tian G, Chen H, Yu K, Meng Q<br>[ID: 24055355]"
      ],
      "text/plain": [
       "<IPython.core.display.HTML object>"
      ]
     },
     "metadata": {},
     "output_type": "display_data"
    },
    {
     "data": {
      "text/html": [
       "<strong>Analysis of the evolution and variation of the human influenza A virus nucleoprotein gene from 1933 to 1990.</strong><br>1993. Shu LL, Bean WJ, Webster RG<br>[ID: 8474171]"
      ],
      "text/plain": [
       "<IPython.core.display.HTML object>"
      ]
     },
     "metadata": {},
     "output_type": "display_data"
    },
    {
     "data": {
      "text/html": [
       "<strong><a href=http://dx.doi.org/10.1159/000150292>Influenza--a model of an emerging virus disease.</a></strong><br>1993. Webster RG, Wright SM, Castrucci MR, Bean WJ, Kawaoka Y<br>[ID: 8407243]"
      ],
      "text/plain": [
       "<IPython.core.display.HTML object>"
      ]
     },
     "metadata": {},
     "output_type": "display_data"
    },
    {
     "data": {
      "text/html": [
       "<strong><a href=http://dx.doi.org/10.1038/ncomms1432>Location-specific patterns of exposure to recent pre-pandemic strains of influenza A in southern China.</a></strong><br>2011. Lessler J, Cummings DA, Read JM, Wang S, Zhu H, Smith GJ, Guan Y, Jiang CQ, Riley S<br>[ID: 21829185]"
      ],
      "text/plain": [
       "<IPython.core.display.HTML object>"
      ]
     },
     "metadata": {},
     "output_type": "display_data"
    },
    {
     "data": {
      "text/html": [
       "<strong><a href=http://dx.doi.org/10.7589/2017-10-253>Prevalence of Multiple Subtypes of Avian Influenza Virus Antibodies in Egg Yolks of Mallard ( Anas platyrhynchos) and White-winged Terns ( Chlidonias leucopterus) in the Northeastern Republic of China.</a></strong><br>2018. Chen X, Qi Y, Wang H, Wang Y, Wang H, Ni H<br>[ID: 29894211]"
      ],
      "text/plain": [
       "<IPython.core.display.HTML object>"
      ]
     },
     "metadata": {},
     "output_type": "display_data"
    },
    {
     "data": {
      "text/html": [
       "<strong><a href=http://dx.doi.org/10.1007/s11250-013-0458-4>First report of seroprevalence of swine influenza A virus in Tibetan pigs in Tibet, China.</a></strong><br>2014. Liu GH, Zhou DH, Cong W, Zhang XX, Shi XC, Danba C, Huang SY, Zhu XQ<br>[ID: 23955014]"
      ],
      "text/plain": [
       "<IPython.core.display.HTML object>"
      ]
     },
     "metadata": {},
     "output_type": "display_data"
    },
    {
     "data": {
      "text/html": [
       "<strong><a href=http://dx.doi.org/10.1016/j.antiviral.2014.08.008>Protection against influenza H7N9 virus challenge with a recombinant NP-M1-HSP60 protein vaccine construct in BALB/c mice.</a></strong><br>2014. Yang P, Wang W, Gu H, Li Z, Zhang K, Wang Z, Li R, Duan Y, Zhang S, Wang X<br>[ID: 25173575]"
      ],
      "text/plain": [
       "<IPython.core.display.HTML object>"
      ]
     },
     "metadata": {},
     "output_type": "display_data"
    },
    {
     "data": {
      "text/html": [
       "<strong><a href=http://dx.doi.org/10.1111/tbed.12788>Incidence of contamination of live bird markets in Bangladesh with influenza A virus and subtypes H5, H7 and H9.</a></strong><br>2018. Biswas PK, Giasuddin M, Chowdhury P, Barua H, Debnath NC, Yamage M<br>[ID: 29226568]"
      ],
      "text/plain": [
       "<IPython.core.display.HTML object>"
      ]
     },
     "metadata": {},
     "output_type": "display_data"
    },
    {
     "data": {
      "text/html": [
       "<strong><a href=http://dx.doi.org/10.1371/journal.pone.0058434>Geographic divisions and modeling of virological data on seasonal influenza in the Chinese mainland during the 2006-2009 monitoring years.</a></strong><br>2013. Zou J, Yang H, Cui H, Shu Y, Xu P, Xu C, Chen T<br>[ID: 23526984]"
      ],
      "text/plain": [
       "<IPython.core.display.HTML object>"
      ]
     },
     "metadata": {},
     "output_type": "display_data"
    },
    {
     "data": {
      "text/html": [
       "<strong><a href=http://dx.doi.org/10.1128/JVI.05266-11>Indications that live poultry markets are a major source of human H5N1 influenza virus infection in China.</a></strong><br>2011. Wan XF, Dong L, Lan Y, Long LP, Xu C, Zou S, Li Z, Wen L, Cai Z, Wang W, Li X, Yuan F, Sui H, Zhang Y, Dong J, Sun S, Gao Y, Wang M, Bai T, Yang L, ...<br>[ID: 21976646]"
      ],
      "text/plain": [
       "<IPython.core.display.HTML object>"
      ]
     },
     "metadata": {},
     "output_type": "display_data"
    },
    {
     "data": {
      "text/html": [
       "<strong>Genetic analysis of novel avian A(H7N9) influenza viruses isolated from patients in China, February to April 2013.</strong><br>2013. Kageyama T, Fujisaki S, Takashita E, Xu H, Yamada S, Uchida Y, Neumann G, Saito T, Kawaoka Y, Tashiro M<br>[ID: 23594575]"
      ],
      "text/plain": [
       "<IPython.core.display.HTML object>"
      ]
     },
     "metadata": {},
     "output_type": "display_data"
    },
    {
     "data": {
      "text/html": [
       "<strong><a href=http://dx.doi.org/10.1055/s-2007-976488>Pandemic (avian) influenza.</a></strong><br>2007. Rajagopal S, Treanor J<br>[ID: 17458770]"
      ],
      "text/plain": [
       "<IPython.core.display.HTML object>"
      ]
     },
     "metadata": {},
     "output_type": "display_data"
    },
    {
     "data": {
      "text/html": [
       "<strong><a href=http://dx.doi.org/10.1016/j.vaccine.2014.06.016>A single dose of whole inactivated H7N9 influenza vaccine confers protection from severe disease but not infection in ferrets.</a></strong><br>2014. Wong SS, Jeevan T, Kercher L, Yoon SW, Petkova AM, Crumpton JC, Franks J, Debeauchamp J, Rubrum A, Seiler P, Krauss S, Webster R, Webby RJ<br>[ID: 24950355]"
      ],
      "text/plain": [
       "<IPython.core.display.HTML object>"
      ]
     },
     "metadata": {},
     "output_type": "display_data"
    },
    {
     "data": {
      "text/html": [
       "<strong><a href=http://dx.doi.org/10.1016/j.vetmic.2010.01.006>Isolation and genetic characterization of H3N8 equine influenza virus from donkeys in China.</a></strong><br>2010. Qi T, Guo W, Huang W, Dai L, Zhao L, Li H, Li X, Zhang X, Wang Y, Yan Y, He N, Xiang W<br>[ID: 20153940]"
      ],
      "text/plain": [
       "<IPython.core.display.HTML object>"
      ]
     },
     "metadata": {},
     "output_type": "display_data"
    },
    {
     "data": {
      "text/html": [
       "<strong><a href=http://dx.doi.org/10.1128/JCM.01769-08>Outbreak of acute respiratory disease in China caused by B2 species of adenovirus type 11.</a></strong><br>2009. Zhu Z, Zhang Y, Xu S, Yu P, Tian X, Wang L, Liu Z, Tang L, Mao N, Ji Y, Li C, Yang Z, Wang S, Wang J, Li D, Xu W<br>[ID: 19109466]"
      ],
      "text/plain": [
       "<IPython.core.display.HTML object>"
      ]
     },
     "metadata": {},
     "output_type": "display_data"
    },
    {
     "data": {
      "text/html": [
       "<strong><a href=http://dx.doi.org/10.1186/s12866-014-0271-x>Development of reverse-transcription loop-mediated isothermal amplification assay for rapid detection of novel avian influenza A (H7N9) virus.</a></strong><br>2014. Liu J, Nian QG, Li J, Hu Y, Li XF, Zhang Y, Deng YQ, Zhu SY, Zhu QY, Qin ED, Jiang T, Qin CF<br>[ID: 25394781]"
      ],
      "text/plain": [
       "<IPython.core.display.HTML object>"
      ]
     },
     "metadata": {},
     "output_type": "display_data"
    },
    {
     "data": {
      "text/html": [
       "<strong><a href=http://dx.doi.org/10.1099/0022-1317-75-2-371>Antigenic and sequence analysis of H3 influenza virus haemagglutinins from pigs in Italy.</a></strong><br>1994. Castrucci MR, Campitelli L, Ruggieri A, Barigazzi G, Sidoli L, Daniels R, Oxford JS, Donatelli I<br>[ID: 8113758]"
      ],
      "text/plain": [
       "<IPython.core.display.HTML object>"
      ]
     },
     "metadata": {},
     "output_type": "display_data"
    },
    {
     "data": {
      "text/html": [
       "<strong><a href=http://dx.doi.org/10.1016/S0140-6736(13)61207-6>Human infection with avian influenza A H7N9 virus: an assessment of clinical severity.</a></strong><br>2013. Yu H, Cowling BJ, Feng L, Lau EH, Liao Q, Tsang TK, Peng Z, Wu P, Liu F, Fang VJ, Zhang H, Li M, Zeng L, Xu Z, Li Z, Luo H, Li Q, Feng Z, Cao B, Yang W, ...<br>[ID: 23803487]"
      ],
      "text/plain": [
       "<IPython.core.display.HTML object>"
      ]
     },
     "metadata": {},
     "output_type": "display_data"
    },
    {
     "data": {
      "text/html": [
       "<strong><a href=http://dx.doi.org/10.1016/S0140-6736(13)61171-X>Comparative epidemiology of human infections with avian influenza A H7N9 and H5N1 viruses in China: a population-based study of laboratory-confirmed cases.</a></strong><br>2013. Cowling BJ, Jin L, Lau EH, Liao Q, Wu P, Jiang H, Tsang TK, Zheng J, Fang VJ, Chang Z, Ni MY, Zhang Q, Ip DK, Yu J, Li Y, Wang L, Tu W, Meng L, Wu JT, Luo H, ...<br>[ID: 23803488]"
      ],
      "text/plain": [
       "<IPython.core.display.HTML object>"
      ]
     },
     "metadata": {},
     "output_type": "display_data"
    },
    {
     "data": {
      "text/html": [
       "<strong><a href=http://dx.doi.org/10.1136/bmjresp-2017-000267>Patterns and management of chronic obstructive pulmonary disease in urban and rural China: a community-based survey of 25 000 adults across 10 regions.</a></strong><br>2018. Kurmi OP, Davis KJ, Hubert Lam KB, Guo Y, Vaucher J, Bennett D, Wang J, Bian Z, Du H, Li L, Clarke R, Chen Z<br>[ID: 29531747]"
      ],
      "text/plain": [
       "<IPython.core.display.HTML object>"
      ]
     },
     "metadata": {},
     "output_type": "display_data"
    },
    {
     "data": {
      "text/html": [
       "<strong><a href=http://dx.doi.org/10.1186/s40249-015-0077-6>The economic burden of influenza-associated outpatient visits and hospitalizations in China: a retrospective survey.</a></strong><br>2015. Yang J, Jit M, Leung KS, Zheng YM, Feng LZ, Wang LP, Lau EH, Wu JT, Yu HJ<br>[ID: 26445412]"
      ],
      "text/plain": [
       "<IPython.core.display.HTML object>"
      ]
     },
     "metadata": {},
     "output_type": "display_data"
    },
    {
     "data": {
      "text/html": [
       "<strong><a href=http://dx.doi.org/10.4172/2157-7560.1000287>Recombinant Hemagglutinin and Virus-Like Particle Vaccines for H7N9 Influenza Virus.</a></strong><br>2015. Li X, Pushko P, Tretyakova I<br>[ID: 26523241]"
      ],
      "text/plain": [
       "<IPython.core.display.HTML object>"
      ]
     },
     "metadata": {},
     "output_type": "display_data"
    },
    {
     "data": {
      "text/html": [
       "<strong><a href=http://dx.doi.org/10.1007/s12250-016-3750-4>Highly pathogenic avian influenza H5N1 Clade 2.3.2.1c virus in migratory birds, 2014-2015.</a></strong><br>2016. Bi Y, Chen J, Zhang Z, Li M, Cai T, Sharshov K, Susloparov I, Shestopalov A, Wong G, He Y, Xing Z, Sun J, Liu D, Liu Y, Liu L, Liu W, Lei F, Shi W, Gao GF<br>[ID: 27405930]"
      ],
      "text/plain": [
       "<IPython.core.display.HTML object>"
      ]
     },
     "metadata": {},
     "output_type": "display_data"
    },
    {
     "data": {
      "text/html": [
       "<strong>[Molecular evolution of human influenza H3N2 virus hemagglutinin genes in Guangdong China].</strong><br>2012. Huang P, Zhong J, Liang LJ, Hou NM, Ni HZ, Wu J, Zhang X<br>[ID: 22978155]"
      ],
      "text/plain": [
       "<IPython.core.display.HTML object>"
      ]
     },
     "metadata": {},
     "output_type": "display_data"
    },
    {
     "data": {
      "text/html": [
       "<strong><a href=http://dx.doi.org/10.1016/j.vetmic.2011.05.009>Pathogenicity in quails and mice of H5N1 highly pathogenic avian influenza viruses isolated from ducks.</a></strong><br>2011. Sun H, Jiao P, Jia B, Xu C, Wei L, Shan F, Luo K, Xin C, Zhang K, Liao M<br>[ID: 21665388]"
      ],
      "text/plain": [
       "<IPython.core.display.HTML object>"
      ]
     },
     "metadata": {},
     "output_type": "display_data"
    },
    {
     "data": {
      "text/html": [
       "<strong><a href=http://dx.doi.org/10.1371/journal.pone.0063788>Direct medical cost of influenza-related hospitalizations among severe acute respiratory infections cases in three provinces in China.</a></strong><br>2013. Zhou L, Situ S, Huang T, Hu S, Wang X, Zhu X, Gao L, Li Z, Feng A, Jin H, Wang S, Su Q, Xu Z, Feng Z<br>[ID: 23717485]"
      ],
      "text/plain": [
       "<IPython.core.display.HTML object>"
      ]
     },
     "metadata": {},
     "output_type": "display_data"
    },
    {
     "data": {
      "text/html": [
       "<strong><a href=http://dx.doi.org/10.1099/vir.0.023168-0>Molecular epidemiological surveys of H5 subtype highly pathogenic avian influenza viruses in poultry in China during 2007-2009.</a></strong><br>2010. Jiang WM, Liu S, Chen J, Hou GY, Li JP, Cao YF, Zhuang QY, Li Y, Huang BX, Chen JM<br>[ID: 20610668]"
      ],
      "text/plain": [
       "<IPython.core.display.HTML object>"
      ]
     },
     "metadata": {},
     "output_type": "display_data"
    },
    {
     "data": {
      "text/html": [
       "<strong><a href=http://dx.doi.org/10.1637/10183-041012-Review.1>Impact of vaccines and vaccination on global control of avian influenza.</a></strong><br>2012. Swayne DE<br>[ID: 23402099]"
      ],
      "text/plain": [
       "<IPython.core.display.HTML object>"
      ]
     },
     "metadata": {},
     "output_type": "display_data"
    },
    {
     "data": {
      "text/html": [
       "<strong><a href=http://dx.doi.org/10.1080/03079450600821166>Molecular epizootiology of recurrent low pathogenic avian influenza by H9N2 subtype virus in Korea.</a></strong><br>2006. Kwon HJ, Cho SH, Kim MC, Ahn YJ, Kim SJ<br>[ID: 16854644]"
      ],
      "text/plain": [
       "<IPython.core.display.HTML object>"
      ]
     },
     "metadata": {},
     "output_type": "display_data"
    },
    {
     "data": {
      "text/html": [
       "<strong><a href=http://dx.doi.org/10.1016/j.vaccine.2015.09.081>Systematic review of economic evaluations of vaccination programs in mainland China: Are they sufficient to inform decision making?</a></strong><br>2015. Pan XF, Griffiths UK, Pennington M, Yu H, Jit M<br>[ID: 26435189]"
      ],
      "text/plain": [
       "<IPython.core.display.HTML object>"
      ]
     },
     "metadata": {},
     "output_type": "display_data"
    },
    {
     "data": {
      "text/html": [
       "<strong><a href=http://dx.doi.org/10.1016/j.epidem.2017.02.007>Modelling H5N1 in Bangladesh across spatial scales: Model complexity and zoonotic transmission risk.</a></strong><br>2017. Hill EM, House T, Dhingra MS, Kalpravidh W, Morzaria S, Osmani MG, Yamage M, Xiao X, Gilbert M, Tildesley MJ<br>[ID: 28325494]"
      ],
      "text/plain": [
       "<IPython.core.display.HTML object>"
      ]
     },
     "metadata": {},
     "output_type": "display_data"
    },
    {
     "data": {
      "text/html": [
       "<strong>Characterization of a highly pathogenic H5N1 avian influenza A virus isolated from duck meat.</strong><br>2002. Tumpey TM, Suarez DL, Perkins LE, Senne DA, Lee JG, Lee YJ, Mo IP, Sung HW, Swayne DE<br>[ID: 12021367]"
      ],
      "text/plain": [
       "<IPython.core.display.HTML object>"
      ]
     },
     "metadata": {},
     "output_type": "display_data"
    },
    {
     "data": {
      "text/html": [
       "<strong><a href=http://dx.doi.org/10.1128/JVI.01241-14>Avian influenza H7N9/13 and H7N7/13: a comparative virulence study in chickens, pigeons, and ferrets.</a></strong><br>2014. Kalthoff D, Bogs J, Grund C, Tauscher K, Teifke JP, Starick E, Harder T, Beer M<br>[ID: 24899194]"
      ],
      "text/plain": [
       "<IPython.core.display.HTML object>"
      ]
     },
     "metadata": {},
     "output_type": "display_data"
    },
    {
     "data": {
      "text/html": [
       "<strong><a href=http://dx.doi.org/10.1186/s12889-017-4488-0>How to select a proper early warning threshold to detect infectious disease outbreaks based on the China infectious disease automated alert and response system (CIDARS).</a></strong><br>2017. Wang R, Jiang Y, Michael E, Zhao G<br>[ID: 28606078]"
      ],
      "text/plain": [
       "<IPython.core.display.HTML object>"
      ]
     },
     "metadata": {},
     "output_type": "display_data"
    },
    {
     "data": {
      "text/html": [
       "<strong><a href=http://dx.doi.org/10.1016/j.jep.2009.11.008>Anti-influenza virus effects of the aqueous extract from Mosla scabra.</a></strong><br>2010. Yu C, Yan Y, Wu X, Zhang B, Wang W, Wu Q<br>[ID: 19914366]"
      ],
      "text/plain": [
       "<IPython.core.display.HTML object>"
      ]
     },
     "metadata": {},
     "output_type": "display_data"
    },
    {
     "data": {
      "text/html": [
       "<strong><a href=http://dx.doi.org/10.1007/s00477-016-1362-z>H7N9 and H5N1 avian influenza suitability models for China: accounting for new poultry and live-poultry markets distribution data.</a></strong><br>2017. Artois J, Lai S, Feng L, Jiang H, Zhou H, Li X, Dhingra MS, Linard C, Nicolas G, Xiao X, Robinson TP, Yu H, Gilbert M<br>[ID: 28298880]"
      ],
      "text/plain": [
       "<IPython.core.display.HTML object>"
      ]
     },
     "metadata": {},
     "output_type": "display_data"
    },
    {
     "data": {
      "text/html": [
       "<strong><a href=http://dx.doi.org/10.1098/rstb.2009.0093>Avian influenza virus, Streptococcus suis serotype 2, severe acute respiratory syndrome-coronavirus and beyond: molecular epidemiology, ecology and the situation in China.</a></strong><br>2009. Ma Y, Feng Y, Liu D, Gao GF<br>[ID: 19687041]"
      ],
      "text/plain": [
       "<IPython.core.display.HTML object>"
      ]
     },
     "metadata": {},
     "output_type": "display_data"
    },
    {
     "data": {
      "text/html": [
       "<strong>[Characterization of murine leukemia virus recombinants that express H5N1 subtype avian influenza virus hemagglutinin glycoproteins].</strong><br>2005. Liu HL, Rong LJ, Zhou B, Wei JC, Zheng QS, Chen PY<br>[ID: 15859328]"
      ],
      "text/plain": [
       "<IPython.core.display.HTML object>"
      ]
     },
     "metadata": {},
     "output_type": "display_data"
    },
    {
     "data": {
      "text/html": [
       "<strong><a href=http://dx.doi.org/10.1128/JVI.02059-13>Influenza H7N9 and H9N2 viruses: coexistence in poultry linked to human H7N9 infection and genome characteristics.</a></strong><br>2014. Yu X, Jin T, Cui Y, Pu X, Li J, Xu J, Liu G, Jia H, Liu D, Song S, Yu Y, Xie L, Huang R, Ding H, Kou Y, Zhou Y, Wang Y, Xu X, Yin Y, Wang J, ...<br>[ID: 24403589]"
      ],
      "text/plain": [
       "<IPython.core.display.HTML object>"
      ]
     },
     "metadata": {},
     "output_type": "display_data"
    },
    {
     "data": {
      "text/html": [
       "<strong><a href=http://dx.doi.org/10.1371/journal.pone.0120983>Surveillance for seasonal influenza virus prevalence in hospitalized children with lower respiratory tract infection in Guangzhou, China during the post-pandemic era.</a></strong><br>2015. Guan WD, Gong XY, Mok CK, Chen TT, Wu SG, Pan SH, Cowling BJ, Yang ZF, Chen DH<br>[ID: 25867910]"
      ],
      "text/plain": [
       "<IPython.core.display.HTML object>"
      ]
     },
     "metadata": {},
     "output_type": "display_data"
    },
    {
     "data": {
      "text/html": [
       "<strong><a href=http://dx.doi.org/10.3201/eid2407.171220>Poultry Infection with Influenza Viruses of Wild Bird Origin, China, 2016.</a></strong><br>2018. Yu Z, Cheng K, Gao Y<br>[ID: 29912711]"
      ],
      "text/plain": [
       "<IPython.core.display.HTML object>"
      ]
     },
     "metadata": {},
     "output_type": "display_data"
    },
    {
     "data": {
      "text/html": [
       "<strong><a href=http://dx.doi.org/10.1007/s00705-009-0425-6>Generation and evaluation of an H9N1 influenza vaccine derived by reverse genetics that allows utilization of a DIVA strategy for control of H9N2 avian influenza.</a></strong><br>2009. Wu R, Chen Q, Zheng L, Chen J, Sui Z, Guan Y, Chen Z<br>[ID: 19543688]"
      ],
      "text/plain": [
       "<IPython.core.display.HTML object>"
      ]
     },
     "metadata": {},
     "output_type": "display_data"
    },
    {
     "data": {
      "text/html": [
       "<strong><a href=http://dx.doi.org/10.1186/1471-2164-15-1110>Phylogeography of Avian influenza A H9N2 in China.</a></strong><br>2014. Jin Y, Yu D, Ren H, Yin Z, Huang Z, Hu M, Li B, Zhou W, Yue J, Liang L<br>[ID: 25511561]"
      ],
      "text/plain": [
       "<IPython.core.display.HTML object>"
      ]
     },
     "metadata": {},
     "output_type": "display_data"
    },
    {
     "data": {
      "text/html": [
       "<strong><a href=http://dx.doi.org/10.1016/j.ijid.2018.07.003>Epidemiology and ARIMA model of positive-rate of influenza viruses among children in Wuhan, China: A nine-year retrospective study.</a></strong><br>2018. He Z, Tao H<br>[ID: 29990540]"
      ],
      "text/plain": [
       "<IPython.core.display.HTML object>"
      ]
     },
     "metadata": {},
     "output_type": "display_data"
    },
    {
     "data": {
      "text/html": [
       "<strong><a href=http://dx.doi.org/10.1093/jmcb/mjr017>The 2009 pandemic A/Wenshan/01/2009 H1N1 induces apoptotic cell death in human airway epithelial cells.</a></strong><br>2011. Yang N, Hong X, Yang P, Ju X, Wang Y, Tang J, Li C, Fan Q, Zhang F, Chen Z, Xing L, Zhao Z, Gao X, Liao G, Li Q, Wang X, Li D, Jiang C<br>[ID: 21816972]"
      ],
      "text/plain": [
       "<IPython.core.display.HTML object>"
      ]
     },
     "metadata": {},
     "output_type": "display_data"
    },
    {
     "data": {
      "text/html": [
       "<strong><a href=http://dx.doi.org/10.1016/j.vetmic.2014.11.031>Two different genotypes of H1N2 swine influenza virus isolated in northern China and their pathogenicity in animals.</a></strong><br>2015. Yang H, Chen Y, Qiao C, Xu C, Yan M, Xin X, Bu Z, Chen H<br>[ID: 25542286]"
      ],
      "text/plain": [
       "<IPython.core.display.HTML object>"
      ]
     },
     "metadata": {},
     "output_type": "display_data"
    },
    {
     "data": {
      "text/html": [
       "<strong><a href=http://dx.doi.org/10.1292/jvms.17-0452>Microbiological identification and analysis of waterfowl livers collected from backyard farms in southern China.</a></strong><br>2018. Liu R, Chen C, Huang Y, Cheng L, Lu R, Fu G, Shi S, Chen H, Wan C, Fu Q, Lin J<br>[ID: 29398671]"
      ],
      "text/plain": [
       "<IPython.core.display.HTML object>"
      ]
     },
     "metadata": {},
     "output_type": "display_data"
    },
    {
     "data": {
      "text/html": [
       "<strong>Characterization of a new avian-like influenza A virus from horses in China.</strong><br>1992. Guo Y, Wang M, Kawaoka Y, Gorman O, Ito T, Saito T, Webster RG<br>[ID: 1314452]"
      ],
      "text/plain": [
       "<IPython.core.display.HTML object>"
      ]
     },
     "metadata": {},
     "output_type": "display_data"
    },
    {
     "data": {
      "text/html": [
       "<strong><a href=http://dx.doi.org/10.1098/rstb.2004.1480>Environmental and social influences on emerging infectious diseases: past, present and future.</a></strong><br>2004. McMichael AJ<br>[ID: 15306389]"
      ],
      "text/plain": [
       "<IPython.core.display.HTML object>"
      ]
     },
     "metadata": {},
     "output_type": "display_data"
    },
    {
     "data": {
      "text/html": [
       "<strong>Guiding outbreak management by the use of influenza A(H7Nx) virus sequence analysis.</strong><br>2013. Jonges M, Meijer A, Fouchier RA, Koch G, Li J, Pan JC, Chen H, Shu YL, Koopmans MP<br>[ID: 23611030]"
      ],
      "text/plain": [
       "<IPython.core.display.HTML object>"
      ]
     },
     "metadata": {},
     "output_type": "display_data"
    },
    {
     "data": {
      "text/html": [
       "<strong><a href=http://dx.doi.org/10.1371/journal.pone.0049939>Satellite tracking on the flyways of brown-headed gulls and their potential role in the spread of highly pathogenic avian influenza H5N1 virus.</a></strong><br>2012. Ratanakorn P, Wiratsudakul A, Wiriyarat W, Eiamampai K, Farmer AH, Webster RG, Chaichoune K, Suwanpakdee S, Pothieng D, Puthavathana P<br>[ID: 23209623]"
      ],
      "text/plain": [
       "<IPython.core.display.HTML object>"
      ]
     },
     "metadata": {},
     "output_type": "display_data"
    },
    {
     "data": {
      "text/html": [
       "<strong>Clinical features of initial cases of 2009 pandemic influenza A (H1N1) in Macau, China.</strong><br>2010. Zhou BT, Fan YM, Li TM, Liu XQ<br>[ID: 21034647]"
      ],
      "text/plain": [
       "<IPython.core.display.HTML object>"
      ]
     },
     "metadata": {},
     "output_type": "display_data"
    },
    {
     "data": {
      "text/html": [
       "<strong><a href=http://dx.doi.org/10.1007/s11262-005-1790-1>Phylogenetic analysis of eight genes of H9N2 subtype influenza virus: a mainland China strain possessing early isolates' genes that have been circulating.</a></strong><br>2005. Lu JH, Liu XF, Shao WX, Liu YL, Wei DP, Liu HQ<br>[ID: 16025241]"
      ],
      "text/plain": [
       "<IPython.core.display.HTML object>"
      ]
     },
     "metadata": {},
     "output_type": "display_data"
    },
    {
     "data": {
      "text/html": [
       "<strong><a href=http://dx.doi.org/10.1016/S1473-3099(17)30323-7>Epidemiology of avian influenza A H7N9 virus in human beings across five epidemics in mainland China, 2013-17: an epidemiological study of laboratory-confirmed case series.</a></strong><br>2017. Wang X, Jiang H, Wu P, Uyeki TM, Feng L, Lai S, Wang L, Huo X, Xu K, Chen E, Wang X, He J, Kang M, Zhang R, Zhang J, Wu J, Hu S, Zhang H, Liu X, Fu W, ...<br>[ID: 28583578]"
      ],
      "text/plain": [
       "<IPython.core.display.HTML object>"
      ]
     },
     "metadata": {},
     "output_type": "display_data"
    },
    {
     "data": {
      "text/html": [
       "<strong><a href=http://dx.doi.org/10.1371/journal.pone.0143582>Live Bird Exposure among the General Public, Guangzhou, China, May 2013.</a></strong><br>2015. Liao Q, Yuan J, Lau EH, Chen GY, Yang ZC, Ma XW, Chen JD, Liu YH, Wang C, Tang XP, Liu YF, Zhuo L, Leung GM, Zhang W, Cowling BJ, Wang M, Fielding R<br>[ID: 26623646]"
      ],
      "text/plain": [
       "<IPython.core.display.HTML object>"
      ]
     },
     "metadata": {},
     "output_type": "display_data"
    },
    {
     "data": {
      "text/html": [
       "<strong><a href=http://dx.doi.org/10.1186/s12879-016-1932-1>The complexity of human infected AIV H5N6 isolated from China.</a></strong><br>2016. Zhang Z, Li R, Jiang L, Xiong C, Chen Y, Zhao G, Jiang Q<br>[ID: 27782815]"
      ],
      "text/plain": [
       "<IPython.core.display.HTML object>"
      ]
     },
     "metadata": {},
     "output_type": "display_data"
    },
    {
     "data": {
      "text/html": [
       "<strong><a href=http://dx.doi.org/10.1007/s00705-014-2193-1>Characterization of a novel highly pathogenic H5N2 avian influenza virus isolated from a duck in eastern China.</a></strong><br>2014. Wu H, Peng X, Xu L, Jin C, Cheng L, Lu X, Xie T, Yao H, Wu N<br>[ID: 25091744]"
      ],
      "text/plain": [
       "<IPython.core.display.HTML object>"
      ]
     },
     "metadata": {},
     "output_type": "display_data"
    },
    {
     "data": {
      "text/html": [
       "<strong>[Antimicrobial susceptibility of community-acquired respiratory tract pathogens isolated from adults in China during 2009 and 2010].</strong><br>2012. Wang H, Liu YL, Chen MJ, Xu YC, Sun HL, Yang QW, Hu YJ, Cao B, Chu YZ, Liu Y, Zhang R, Yu YS, Sun ZY, Zhuo C, Ni YX, Hu BJ<br>[ID: 22455967]"
      ],
      "text/plain": [
       "<IPython.core.display.HTML object>"
      ]
     },
     "metadata": {},
     "output_type": "display_data"
    },
    {
     "data": {
      "text/html": [
       "<strong>[Generation of neutralizing recombinant human antibodies for targeting highly pathogenic avian influenza A (H5N1) virus].</strong><br>2008. Sun LN, Liu QZ, Wang M, Li C, Li Z, Hu XF, Zhu LL, Li Q, Wang SW, Shu YL, Liang MF, Li DX<br>[ID: 18683551]"
      ],
      "text/plain": [
       "<IPython.core.display.HTML object>"
      ]
     },
     "metadata": {},
     "output_type": "display_data"
    },
    {
     "data": {
      "text/html": [
       "<strong><a href=http://dx.doi.org/10.1371/journal.pone.0024324>Spatio-temporal magnitude and direction of highly pathogenic avian influenza (H5N1) outbreaks in Bangladesh.</a></strong><br>2011. Ahmed SS, Ersbøll AK, Biswas PK, Christensen JP, Toft N<br>[ID: 21931683]"
      ],
      "text/plain": [
       "<IPython.core.display.HTML object>"
      ]
     },
     "metadata": {},
     "output_type": "display_data"
    },
    {
     "data": {
      "text/html": [
       "<strong><a href=http://dx.doi.org/10.1016/j.vaccine.2014.11.008>Cross-protection against H7N9 influenza strains using a live-attenuated H7N3 virus vaccine.</a></strong><br>2015. Carter DM, Bloom CE, Kirchenbaum GA, Tsvetnitsky V, Isakova-Sivak I, Rudenko L, Ross TM<br>[ID: 25448100]"
      ],
      "text/plain": [
       "<IPython.core.display.HTML object>"
      ]
     },
     "metadata": {},
     "output_type": "display_data"
    },
    {
     "data": {
      "text/html": [
       "<strong><a href=http://dx.doi.org/10.1016/j.vetmic.2018.07.003>Protective efficacy of a high-growth reassortant H1N1 influenza virus vaccine against the European Avian-like H1N1 swine influenza virus in mice and pigs.</a></strong><br>2018. Ruan BY, Wen F, Gong XQ, Liu XM, Wang Q, Yu LX, Wang SY, Zhang P, Yang HM, Shan TL, Zheng H, Zhou YJ, Tong W, Gao F, Tong GZ, Yu H<br>[ID: 30080677]"
      ],
      "text/plain": [
       "<IPython.core.display.HTML object>"
      ]
     },
     "metadata": {},
     "output_type": "display_data"
    },
    {
     "data": {
      "text/html": [
       "<strong>[Genetic analysis of the nonstructural gene (NS1) of H9N2 avian influenza viruses isolated in China].</strong><br>2008. Li JL, Chen EL, Li HP, Hao CL, Bi DR, Wang ZL<br>[ID: 18683560]"
      ],
      "text/plain": [
       "<IPython.core.display.HTML object>"
      ]
     },
     "metadata": {},
     "output_type": "display_data"
    },
    {
     "data": {
      "text/html": [
       "<strong><a href=http://dx.doi.org/10.1016/j.vaccine.2013.11.036>One-shot vaccination with an insect cell-derived low-dose influenza A H7 virus-like particle preparation protects mice against H7N9 challenge.</a></strong><br>2014. Klausberger M, Wilde M, Palmberger D, Hai R, Albrecht RA, Margine I, Hirsh A, García-Sastre A, Grabherr R, Krammer F<br>[ID: 24262313]"
      ],
      "text/plain": [
       "<IPython.core.display.HTML object>"
      ]
     },
     "metadata": {},
     "output_type": "display_data"
    },
    {
     "data": {
      "text/html": [
       "<strong><a href=http://dx.doi.org/10.5365/WPSAR.2015.6.1.013>Leveraging social networking sites for disease surveillance and public sensing: the case of the 2013 avian influenza A(H7N9) outbreak in China.</a></strong><br>2015. Zhang EX, Yang Y, Di Shang R, Simons JJ, Quek BK, Yin XF, See W, Oh OS, Nandar KS, Ling VR, Chan PP, Wang Z, Goh RS, James L, Tey JS<br>[ID: 26306219]"
      ],
      "text/plain": [
       "<IPython.core.display.HTML object>"
      ]
     },
     "metadata": {},
     "output_type": "display_data"
    },
    {
     "data": {
      "text/html": [
       "<strong><a href=http://dx.doi.org/10.1371/journal.ppat.1000161>Evolutionary dynamics and emergence of panzootic H5N1 influenza viruses.</a></strong><br>2008. Vijaykrishna D, Bahl J, Riley S, Duan L, Zhang JX, Chen H, Peiris JS, Smith GJ, Guan Y<br>[ID: 18818732]"
      ],
      "text/plain": [
       "<IPython.core.display.HTML object>"
      ]
     },
     "metadata": {},
     "output_type": "display_data"
    },
    {
     "data": {
      "text/html": [
       "<strong><a href=http://dx.doi.org/10.3382/ps/pey154>Phylogenetic classification of hemagglutinin gene of H9N2 avian influenza viruses isolated in China during 2012-2016 and evaluation of selected candidate vaccine strains.</a></strong><br>2018. Xu C, Ye H, Qiu W, Lin H, Chen Y, Zhang H, Liao M<br>[ID: 29931183]"
      ],
      "text/plain": [
       "<IPython.core.display.HTML object>"
      ]
     },
     "metadata": {},
     "output_type": "display_data"
    },
    {
     "data": {
      "text/html": [
       "<strong><a href=http://dx.doi.org/10.3389/fmicb.2014.00642>D701N mutation in the PB2 protein contributes to the pathogenicity of H5N1 avian influenza viruses but not transmissibility in guinea pigs.</a></strong><br>2014. Jiao P, Wei L, Song Y, Cui J, Song H, Cao L, Yuan R, Luo K, Liao M<br>[ID: 25505461]"
      ],
      "text/plain": [
       "<IPython.core.display.HTML object>"
      ]
     },
     "metadata": {},
     "output_type": "display_data"
    },
    {
     "data": {
      "text/html": [
       "<strong><a href=http://dx.doi.org/10.3201/eid2402.171565>Clusters of Human Infection and Human-to-Human Transmission of Avian Influenza A(H7N9) Virus, 2013-2017.</a></strong><br>2018. Zhou L, Chen E, Bao C, Xiang N, Wu J, Wu S, Shi J, Wang X, Zheng Y, Zhang Y, Ren R, Greene CM, Havers F, Iuliano AD, Song Y, Li C, Chen T, Wang Y, Li D, Ni D, ...<br>[ID: 29165238]"
      ],
      "text/plain": [
       "<IPython.core.display.HTML object>"
      ]
     },
     "metadata": {},
     "output_type": "display_data"
    },
    {
     "data": {
      "text/html": [
       "<strong><a href=http://dx.doi.org/10.1016/j.jep.2013.02.020>A polyphenol-rich extract from Chaenomeles sinensis (Chinese quince) inhibits influenza A virus infection by preventing primary transcription in vitro.</a></strong><br>2013. Sawai-Kuroda R, Kikuchi S, Shimizu YK, Sasaki Y, Kuroda K, Tanaka T, Yamamoto T, Sakurai K, Shimizu K<br>[ID: 23439031]"
      ],
      "text/plain": [
       "<IPython.core.display.HTML object>"
      ]
     },
     "metadata": {},
     "output_type": "display_data"
    },
    {
     "data": {
      "text/html": [
       "<strong><a href=http://dx.doi.org/10.1038/emi.2017.60>Role of domestic ducks in the emergence of a new genotype of highly pathogenic H5N1 avian influenza A viruses in Bangladesh.</a></strong><br>2017. Barman S, Marinova-Petkova A, Hasan MK, Akhtar S, El-Shesheny R, Turner JC, Franks J, Walker D, Seiler J, Friedman K, Kercher L, Jeevan T, Darnell D, Kayali G, Jones-Engel L, McKenzie P, Krauss S, Webby RJ, Webster RG, Feeroz MM<br>[ID: 28790460]"
      ],
      "text/plain": [
       "<IPython.core.display.HTML object>"
      ]
     },
     "metadata": {},
     "output_type": "display_data"
    },
    {
     "data": {
      "text/html": [
       "<strong>Trichinellosis: a worldwide zoonosis.</strong><br>2000. Dupouy-Camet J<br>[ID: 11099837]"
      ],
      "text/plain": [
       "<IPython.core.display.HTML object>"
      ]
     },
     "metadata": {},
     "output_type": "display_data"
    },
    {
     "data": {
      "text/html": [
       "<strong><a href=http://dx.doi.org/10.1371/journal.pone.0092306>Development of rapid immunochromatographic test for hemagglutinin antigen of H7 subtype in patients infected with novel avian influenza A (H7N9) virus.</a></strong><br>2014. Kang K, Chen L, Zhao X, Qin C, Zhan Z, Wang J, Li W, Dzakah EE, Huang W, Shu Y, Jiang T, Cao W, Xie M, Luo X, Tang S<br>[ID: 24647358]"
      ],
      "text/plain": [
       "<IPython.core.display.HTML object>"
      ]
     },
     "metadata": {},
     "output_type": "display_data"
    },
    {
     "data": {
      "text/html": [
       "<strong><a href=http://dx.doi.org/10.1016/j.vaccine.2017.10.096>Influenza vaccination in preventing outbreaks in schools: A long-term ecological overview.</a></strong><br>2017. Pan Y, Wang Q, Yang P, Zhang L, Wu S, Zhang Y, Sun Y, Duan W, Ma C, Zhang M, Zhang X, MacIntyre CR<br>[ID: 29128383]"
      ],
      "text/plain": [
       "<IPython.core.display.HTML object>"
      ]
     },
     "metadata": {},
     "output_type": "display_data"
    },
    {
     "data": {
      "text/html": [
       "<strong><a href=http://dx.doi.org/10.1038/nature12392>Characterization of H7N9 influenza A viruses isolated from humans.</a></strong><br>2013. Watanabe T, Kiso M, Fukuyama S, Nakajima N, Imai M, Yamada S, Murakami S, Yamayoshi S, Iwatsuki-Horimoto K, Sakoda Y, Takashita E, McBride R, Noda T, Hatta M, Imai H, Zhao D, Kishida N, Shirakura M, de Vries RP, Shichinohe S, ...<br>[ID: 23842494]"
      ],
      "text/plain": [
       "<IPython.core.display.HTML object>"
      ]
     },
     "metadata": {},
     "output_type": "display_data"
    },
    {
     "data": {
      "text/html": [
       "<strong><a href=http://dx.doi.org/10.3109/00365548.2013.793818>Seroepidemiological study of influenza A (H1N1) pdm09 virus following the 2009-2010 wave in Shandong Province, China.</a></strong><br>2013. Liu T, Li Z, Song S, Zhang S, Wang Y, Wang L, Xu A, Wang X, Bi Z<br>[ID: 23672510]"
      ],
      "text/plain": [
       "<IPython.core.display.HTML object>"
      ]
     },
     "metadata": {},
     "output_type": "display_data"
    },
    {
     "data": {
      "text/html": [
       "<strong>H7N9 Incident, immune status, the elderly and a warning of an influenza pandemic.</strong><br>2013. Guan Y, Farooqui A, Zhu H, Dong W, Wang J, Kelvin DJ<br>[ID: 23592638]"
      ],
      "text/plain": [
       "<IPython.core.display.HTML object>"
      ]
     },
     "metadata": {},
     "output_type": "display_data"
    },
    {
     "data": {
      "text/html": [
       "<strong><a href=http://dx.doi.org/10.1038/ncomms4595>Angiotensin II plasma levels are linked to disease severity and predict fatal outcomes in H7N9-infected patients.</a></strong><br>2014. Huang F, Guo J, Zou Z, Liu J, Cao B, Zhang S, Li H, Wang W, Sheng M, Liu S, Pan J, Bao C, Zeng M, Xiao H, Qian G, Hu X, Chen Y, Chen Y, Zhao Y, Liu Q, ...<br>[ID: 24800963]"
      ],
      "text/plain": [
       "<IPython.core.display.HTML object>"
      ]
     },
     "metadata": {},
     "output_type": "display_data"
    },
    {
     "data": {
      "text/html": [
       "<strong><a href=http://dx.doi.org/10.1128/JVI.03395-14>Origins and Evolutionary Dynamics of H3N2 Canine Influenza Virus.</a></strong><br>2015. Zhu H, Hughes J, Murcia PR<br>[ID: 25740996]"
      ],
      "text/plain": [
       "<IPython.core.display.HTML object>"
      ]
     },
     "metadata": {},
     "output_type": "display_data"
    },
    {
     "data": {
      "text/html": [
       "<strong><a href=http://dx.doi.org/10.1371/journal.pone.0107235>Entry properties and entry inhibitors of a human H7N9 influenza virus.</a></strong><br>2014. Si Y, Li J, Niu Y, Liu X, Ren L, Guo L, Cheng M, Zhou H, Wang J, Jin Q, Yang W<br>[ID: 25222852]"
      ],
      "text/plain": [
       "<IPython.core.display.HTML object>"
      ]
     },
     "metadata": {},
     "output_type": "display_data"
    },
    {
     "data": {
      "text/html": [
       "<strong><a href=http://dx.doi.org/10.1007/s11262-013-0882-6>Short communication: isolation and phylogenetic analysis of an avian-origin H3N2 canine influenza virus in dog shelter, China.</a></strong><br>2013. Su S, Yuan Z, Chen J, Xie J, Li H, Huang Z, Zhang M, Du G, Chen Z, Tu L, Zou Y, Miao J, Wang H, Jia K, Li S<br>[ID: 23355070]"
      ],
      "text/plain": [
       "<IPython.core.display.HTML object>"
      ]
     },
     "metadata": {},
     "output_type": "display_data"
    },
    {
     "data": {
      "text/html": [
       "<strong><a href=http://dx.doi.org/10.3201/eid1105.041225>Avian influenza risk perception, Hong Kong.</a></strong><br>2005. Fielding R, Lam WW, Ho EY, Lam TH, Hedley AJ, Leung GM<br>[ID: 15890118]"
      ],
      "text/plain": [
       "<IPython.core.display.HTML object>"
      ]
     },
     "metadata": {},
     "output_type": "display_data"
    },
    {
     "data": {
      "text/html": [
       "<strong><a href=http://dx.doi.org/10.1111/tbed.12924>Phylogenetic and molecular analysis of highly pathogenic avian influenza H5N8 and H5N5 viruses detected in Poland in 2016-2017.</a></strong><br>2018. Świętoń E, Śmietanka K<br>[ID: 29920971]"
      ],
      "text/plain": [
       "<IPython.core.display.HTML object>"
      ]
     },
     "metadata": {},
     "output_type": "display_data"
    },
    {
     "data": {
      "text/html": [
       "<strong>[Susceptibility of Influenza B Viruses to Neuraminidase Inhibitors Isolated during 2013-2014 Influenza Season in Mainland China].</strong><br>2015. Huang W, Li X, Tan M, Wei H, Cheng Y, Guo J, Wang Z, Xiao N, Wang D, Shu Y<br>[ID: 26164940]"
      ],
      "text/plain": [
       "<IPython.core.display.HTML object>"
      ]
     },
     "metadata": {},
     "output_type": "display_data"
    },
    {
     "data": {
      "text/html": [
       "<strong><a href=http://dx.doi.org/10.1016/j.micinf.2017.09.013>Combating flu in China.</a></strong><br>2017. Jiang S, Ojcius DM<br>[ID: 28993229]"
      ],
      "text/plain": [
       "<IPython.core.display.HTML object>"
      ]
     },
     "metadata": {},
     "output_type": "display_data"
    },
    {
     "data": {
      "text/html": [
       "<strong><a href=http://dx.doi.org/10.1128/genomeA.00894-14>Full-Genome Sequence Analysis of a Natural Reassortant H4N2 Avian Influenza Virus Isolated from a Domestic Duck in Southern China.</a></strong><br>2014. Wu A, Xie Z, Xie L, Xie Z, Luo S, Deng X, Huang L, Huang J, Zeng T<br>[ID: 25212619]"
      ],
      "text/plain": [
       "<IPython.core.display.HTML object>"
      ]
     },
     "metadata": {},
     "output_type": "display_data"
    },
    {
     "data": {
      "text/html": [
       "<strong><a href=http://dx.doi.org/10.1139/cjm-2014-0186>H7N9: A killer in the making or a false alarm?</a></strong><br>2014. Nailwal H, Kamra K, Lal SK<br>[ID: 24893133]"
      ],
      "text/plain": [
       "<IPython.core.display.HTML object>"
      ]
     },
     "metadata": {},
     "output_type": "display_data"
    },
    {
     "data": {
      "text/html": [
       "<strong><a href=http://dx.doi.org/10.1016/j.jinf.2011.02.007>Infection of immunocompromised patients by avian H9N2 influenza A virus.</a></strong><br>2011. Cheng VC, Chan JF, Wen X, Wu WL, Que TL, Chen H, Chan KH, Yuen KY<br>[ID: 21356238]"
      ],
      "text/plain": [
       "<IPython.core.display.HTML object>"
      ]
     },
     "metadata": {},
     "output_type": "display_data"
    },
    {
     "data": {
      "text/html": [
       "<strong><a href=http://dx.doi.org/10.1586/erv.09.119>Lancet Conferences: Influenza in the Asia-Pacific.</a></strong><br>2009. Kamigaki T, Oshitani H<br>[ID: 19863243]"
      ],
      "text/plain": [
       "<IPython.core.display.HTML object>"
      ]
     },
     "metadata": {},
     "output_type": "display_data"
    },
    {
     "data": {
      "text/html": [
       "<strong><a href=http://dx.doi.org/10.1186/s12889-015-2278-0>Human infection and environmental contamination with Avian Influenza A (H7N9) Virus in Zhejiang Province, China: risk trend across the three waves of infection.</a></strong><br>2015. He F, Chen EF, Li FD, Wang XY, Wang XX, Lin JF<br>[ID: 26392274]"
      ],
      "text/plain": [
       "<IPython.core.display.HTML object>"
      ]
     },
     "metadata": {},
     "output_type": "display_data"
    },
    {
     "data": {
      "text/html": [
       "<strong><a href=http://dx.doi.org/10.1016/j.scitotenv.2017.11.226>Independent and interactive effects of ambient temperature and absolute humidity on the risks of avian influenza A(H7N9) infection in China.</a></strong><br>2018. Liu T, Kang M, Zhang B, Xiao J, Lin H, Zhao Y, Huang Z, Wang X, Zhang Y, He J, Ma W<br>[ID: 29734613]"
      ],
      "text/plain": [
       "<IPython.core.display.HTML object>"
      ]
     },
     "metadata": {},
     "output_type": "display_data"
    },
    {
     "data": {
      "text/html": [
       "<strong><a href=http://dx.doi.org/10.1111/tbed.12376>Phylogenetic Analysis and Functional Characterization of the Influenza A H5N1 PB2 Gene.</a></strong><br>2017. Wei K, Liu X<br>[ID: 25990872]"
      ],
      "text/plain": [
       "<IPython.core.display.HTML object>"
      ]
     },
     "metadata": {},
     "output_type": "display_data"
    },
    {
     "data": {
      "text/html": [
       "<strong><a href=http://dx.doi.org/10.1016/j.phymed.2018.04.020>Botany, traditional use, phytochemistry, pharmacology, quality control, and authentication of Radix Gentianae Macrophyllae-A traditional medicine: A review.</a></strong><br>2018. Zhang X, Zhan G, Jin M, Zhang H, Dang J, Zhang Y, Guo Z, Ito Y<br>[ID: 30097114]"
      ],
      "text/plain": [
       "<IPython.core.display.HTML object>"
      ]
     },
     "metadata": {},
     "output_type": "display_data"
    },
    {
     "data": {
      "text/html": [
       "<strong><a href=http://dx.doi.org/10.1016/S0140-6736(13)60903-4>Human infections with the emerging avian influenza A H7N9 virus from wet market poultry: clinical analysis and characterisation of viral genome.</a></strong><br>2013. Chen Y, Liang W, Yang S, Wu N, Gao H, Sheng J, Yao H, Wo J, Fang Q, Cui D, Li Y, Yao X, Zhang Y, Wu H, Zheng S, Diao H, Xia S, Zhang Y, Chan KH, Tsoi HW, ...<br>[ID: 23623390]"
      ],
      "text/plain": [
       "<IPython.core.display.HTML object>"
      ]
     },
     "metadata": {},
     "output_type": "display_data"
    },
    {
     "data": {
      "text/html": [
       "<strong><a href=http://dx.doi.org/10.1016/j.vetmic.2008.12.009>An indirect sandwich ELISA for the detection of avian influenza H5 subtype viruses using anti-hemagglutinin protein monoclonal antibody.</a></strong><br>2009. Luo Q, Huang H, Zou W, Dan H, Guo X, Zhang A, Yu Z, Chen H, Jin M<br>[ID: 19136223]"
      ],
      "text/plain": [
       "<IPython.core.display.HTML object>"
      ]
     },
     "metadata": {},
     "output_type": "display_data"
    },
    {
     "data": {
      "text/html": [
       "<strong><a href=http://dx.doi.org/10.1111/resp.13114>A clinical approach to the threat of emerging influenza viruses in the Asia-Pacific region.</a></strong><br>2017. Hui DSC, Lee N, Chan PKS<br>[ID: 28677861]"
      ],
      "text/plain": [
       "<IPython.core.display.HTML object>"
      ]
     },
     "metadata": {},
     "output_type": "display_data"
    },
    {
     "data": {
      "text/html": [
       "<strong><a href=http://dx.doi.org/10.1371/journal.pone.0152131>Genetically Diverse Low Pathogenicity Avian Influenza A Virus Subtypes Co-Circulate among Poultry in Bangladesh.</a></strong><br>2016. Gerloff NA, Khan SU, Zanders N, Balish A, Haider N, Islam A, Chowdhury S, Rahman MZ, Haque A, Hosseini P, Gurley ES, Luby SP, Wentworth DE, Donis RO, Sturm-Ramirez K, Davis CT<br>[ID: 27010791]"
      ],
      "text/plain": [
       "<IPython.core.display.HTML object>"
      ]
     },
     "metadata": {},
     "output_type": "display_data"
    },
    {
     "data": {
      "text/html": [
       "<strong><a href=http://dx.doi.org/10.1002/jmv.25077>Corticosteroid therapy in pneumonia from swine-origin influenza A (H1N1) in China.</a></strong><br>2018. Jia Y, Liao Y, Shao L, Du L, Wang B, Su D<br>[ID: 29574888]"
      ],
      "text/plain": [
       "<IPython.core.display.HTML object>"
      ]
     },
     "metadata": {},
     "output_type": "display_data"
    },
    {
     "data": {
      "text/html": [
       "<strong><a href=http://dx.doi.org/10.1111/irv.12405>Pneumonia and influenza hospitalizations among children under 5 years of age in Suzhou, China, 2005-2011.</a></strong><br>2017. Zhang X, Zhang J, Chen L, Feng L, Yu H, Zhao G, Zhang T<br>[ID: 27383534]"
      ],
      "text/plain": [
       "<IPython.core.display.HTML object>"
      ]
     },
     "metadata": {},
     "output_type": "display_data"
    },
    {
     "data": {
      "text/html": [
       "<strong><a href=http://dx.doi.org/10.1128/JVI.01588-17>Comparison of the Efficacy of N9 Neuraminidase-Specific Monoclonal Antibodies against Influenza A(H7N9) Virus Infection.</a></strong><br>2018. Wan H, Qi L, Gao J, Couzens LK, Jiang L, Gao Y, Sheng ZM, Fong S, Hahn M, Khurana S, Taubenberger JK, Eichelberger MC<br>[ID: 29167344]"
      ],
      "text/plain": [
       "<IPython.core.display.HTML object>"
      ]
     },
     "metadata": {},
     "output_type": "display_data"
    },
    {
     "data": {
      "text/html": [
       "<strong><a href=http://dx.doi.org/10.3390/ijerph14121551>Seasonal Influenza Vaccine Acceptance among Pregnant Women in Zhejiang Province, China: Evidence Based on Health Belief Model.</a></strong><br>2017. Hu Y, Wang Y, Liang H, Chen Y<br>[ID: 29232882]"
      ],
      "text/plain": [
       "<IPython.core.display.HTML object>"
      ]
     },
     "metadata": {},
     "output_type": "display_data"
    },
    {
     "data": {
      "text/html": [
       "<strong><a href=http://dx.doi.org/10.1637/8239-013008-Reg.1>Protective efficacy of commercial Newcastle disease vaccines against challenge of goose origin virulent Newcastle disease virus in geese.</a></strong><br>2008. Dai Y, Liu M, Li W<br>[ID: 18939637]"
      ],
      "text/plain": [
       "<IPython.core.display.HTML object>"
      ]
     },
     "metadata": {},
     "output_type": "display_data"
    },
    {
     "data": {
      "text/html": [
       "<strong><a href=http://dx.doi.org/10.1099/0022-1317-65-11-1857>Genome analysis of influenza C viruses isolated in 1981/82 from pigs in China.</a></strong><br>1984. Yuanji G, Desselberger U<br>[ID: 6502138]"
      ],
      "text/plain": [
       "<IPython.core.display.HTML object>"
      ]
     },
     "metadata": {},
     "output_type": "display_data"
    },
    {
     "data": {
      "text/html": [
       "<strong><a href=http://dx.doi.org/10.1016/j.jtbi.2009.03.040>A geographical spread of vaccine-resistance in avian influenza epidemics.</a></strong><br>2009. Iwami S, Takeuchi Y, Liu X, Nakaoka S<br>[ID: 19361532]"
      ],
      "text/plain": [
       "<IPython.core.display.HTML object>"
      ]
     },
     "metadata": {},
     "output_type": "display_data"
    },
    {
     "data": {
      "text/html": [
       "<strong><a href=http://dx.doi.org/10.1186/s12879-017-2791-0>No MERS-CoV but positive influenza viruses in returning Hajj pilgrims, China, 2013-2015.</a></strong><br>2017. Ma X, Liu F, Liu L, Zhang L, Lu M, Abudukadeer A, Wang L, Tian F, Zhen W, Yang P, Hu K<br>[ID: 29126397]"
      ],
      "text/plain": [
       "<IPython.core.display.HTML object>"
      ]
     },
     "metadata": {},
     "output_type": "display_data"
    },
    {
     "data": {
      "text/html": [
       "<strong><a href=http://dx.doi.org/10.1099/vir.0.83111-0>Molecular analysis of avian H7 influenza viruses circulating in Eurasia in 1999-2005: detection of multiple reassortant virus genotypes.</a></strong><br>2008. Campitelli L, Di Martino A, Spagnolo D, Smith GJ, Di Trani L, Facchini M, De Marco MA, Foni E, Chiapponi C, Martin AM, Chen H, Guan Y, Delogu M, Donatelli I<br>[ID: 18089728]"
      ],
      "text/plain": [
       "<IPython.core.display.HTML object>"
      ]
     },
     "metadata": {},
     "output_type": "display_data"
    },
    {
     "data": {
      "text/html": [
       "<strong><a href=http://dx.doi.org/10.1002/jmv.24216>Detection prevalence of H5N1 avian influenza virus among stray cats in eastern China.</a></strong><br>2015. Zhao FR, Zhou DH, Zhang YG, Shao JJ, Lin T, Li YF, Wei P, Chang HY<br>[ID: 25952001]"
      ],
      "text/plain": [
       "<IPython.core.display.HTML object>"
      ]
     },
     "metadata": {},
     "output_type": "display_data"
    },
    {
     "data": {
      "text/html": [
       "<strong>Clinical severity of human infections with avian influenza A(H7N9) virus, China, 2013/14.</strong><br>2014. Feng L, Wu JT, Liu X, Yang P, Tsang TK, Jiang H, Wu P, Yang J, Fang VJ, Qin Y, Lau EH, Li M, Zheng J, Peng Z, Xie Y, Wang Q, Li Z, Leung GM, Gao GF, Yu H, ...<br>[ID: 25523971]"
      ],
      "text/plain": [
       "<IPython.core.display.HTML object>"
      ]
     },
     "metadata": {},
     "output_type": "display_data"
    },
    {
     "data": {
      "text/html": [
       "<strong><a href=http://dx.doi.org/10.1159/000320143>Clinical features of 2009 pandemic influenza A (H1N1) virus infection in chronic hemodialysis patients.</a></strong><br>2010. Li H, Wang SX<br>[ID: 20924171]"
      ],
      "text/plain": [
       "<IPython.core.display.HTML object>"
      ]
     },
     "metadata": {},
     "output_type": "display_data"
    },
    {
     "data": {
      "text/html": [
       "<strong><a href=http://dx.doi.org/10.1111/tbed.12173>Genetic diversity and phylogenetic analysis of highly pathogenic avian influenza (HPAI) H5N1 viruses circulating in Bangladesh from 2007-2011.</a></strong><br>2013. Mondal SP, Balasuriya UB, Yamage M<br>[ID: 24125197]"
      ],
      "text/plain": [
       "<IPython.core.display.HTML object>"
      ]
     },
     "metadata": {},
     "output_type": "display_data"
    },
    {
     "data": {
      "text/html": [
       "<strong><a href=http://dx.doi.org/10.1038/s41598-018-23712-9>Immunogenicity and Protection Against Influenza H7N3 in Mice by Modified Vaccinia Virus Ankara Vectors Expressing Influenza Virus Hemagglutinin or Neuraminidase.</a></strong><br>2018. Meseda CA, Atukorale V, Soto J, Eichelberger MC, Gao J, Wang W, Weiss CD, Weir JP<br>[ID: 29599502]"
      ],
      "text/plain": [
       "<IPython.core.display.HTML object>"
      ]
     },
     "metadata": {},
     "output_type": "display_data"
    },
    {
     "data": {
      "text/html": [
       "<strong><a href=http://dx.doi.org/10.1038/srep33877>Avian influenza A(H7N9) and (H5N1) infections among poultry and swine workers and the general population in Beijing, China, 2013-2015.</a></strong><br>2016. Yang P, Ma C, Cui S, Zhang D, Shi W, Pan Y, Sun Y, Lu G, Peng X, Zhao J, Liu Y, Wang Q<br>[ID: 27670286]"
      ],
      "text/plain": [
       "<IPython.core.display.HTML object>"
      ]
     },
     "metadata": {},
     "output_type": "display_data"
    },
    {
     "data": {
      "text/html": [
       "<strong><a href=http://dx.doi.org/10.1186/s12985-015-0300-x>Simultaneous detection of novel H7N9 and other influenza A viruses in poultry by multiplex real-time RT-PCR.</a></strong><br>2015. Xu X, Bao H, Ma Y, Sun J, Zhao Y, Wang Y, Shi J, Zeng X, Li Y, Wang X, Chen H<br>[ID: 25925390]"
      ],
      "text/plain": [
       "<IPython.core.display.HTML object>"
      ]
     },
     "metadata": {},
     "output_type": "display_data"
    },
    {
     "data": {
      "text/html": [
       "<strong>Chinese disasters and just-in-time education.</strong><br>2010. Yang Y, Chen Y, Chotani RA, Laporte RE, Ardalan A, Shubnikov E, Linkov F, Huang J<br>[ID: 21053199]"
      ],
      "text/plain": [
       "<IPython.core.display.HTML object>"
      ]
     },
     "metadata": {},
     "output_type": "display_data"
    },
    {
     "data": {
      "text/html": [
       "<strong><a href=http://dx.doi.org/10.1038/srep30015>Detection of influenza A virus from live-bird market poultry swab samples in China by a pan-IAV, one-step reverse-transcription FRET-PCR.</a></strong><br>2016. Luan L, Sun Z, Kaltenboeck B, Huang K, Li M, Peng D, Xu X, Ye J, Li J, Guo W, Wang C<br>[ID: 27445010]"
      ],
      "text/plain": [
       "<IPython.core.display.HTML object>"
      ]
     },
     "metadata": {},
     "output_type": "display_data"
    },
    {
     "data": {
      "text/html": [
       "<strong><a href=http://dx.doi.org/10.1371/journal.pone.0076363>Inhibition of influenza H7 hemagglutinin-mediated entry.</a></strong><br>2013. Antanasijevic A, Cheng H, Wardrop DJ, Rong L, Caffrey M<br>[ID: 24194835]"
      ],
      "text/plain": [
       "<IPython.core.display.HTML object>"
      ]
     },
     "metadata": {},
     "output_type": "display_data"
    },
    {
     "data": {
      "text/html": [
       "<strong><a href=http://dx.doi.org/10.1007/s00705-008-0193-8>Pathogenicity of Chinese H5N1 highly pathogenic avian influenza viruses in pigeons.</a></strong><br>2008. Jia B, Shi J, Li Y, Shinya K, Muramoto Y, Zeng X, Tian G, Kawaoka Y, Chen H<br>[ID: 18779923]"
      ],
      "text/plain": [
       "<IPython.core.display.HTML object>"
      ]
     },
     "metadata": {},
     "output_type": "display_data"
    },
    {
     "data": {
      "text/html": [
       "<strong><a href=http://dx.doi.org/10.1159/000149006>Geographical distribution of swine (Hsw1N1) and Hong Kong (H3N2) influenza virus variants in pigs in Southeast Asia.</a></strong><br>1979. Shortridge KF, Webster RG<br>[ID: 218894]"
      ],
      "text/plain": [
       "<IPython.core.display.HTML object>"
      ]
     },
     "metadata": {},
     "output_type": "display_data"
    },
    {
     "data": {
      "text/html": [
       "<strong>Genesis of the novel human-infecting influenza A(H10N8) virus and potential genetic diversity of the virus in poultry, China.</strong><br>2014. Qi W, Zhou X, Shi W, Huang L, Xia W, Liu D, Li H, Chen S, Lei F, Cao L, Wu J, He F, Song W, Li Q, Li H, Liao M, Liu M<br>[ID: 24993558]"
      ],
      "text/plain": [
       "<IPython.core.display.HTML object>"
      ]
     },
     "metadata": {},
     "output_type": "display_data"
    },
    {
     "data": {
      "text/html": [
       "<strong><a href=http://dx.doi.org/10.1186/1471-2334-14-98>One family cluster of avian influenza A(H7N9) virus infection in Shandong, China.</a></strong><br>2014. Liu T, Bi Z, Wang X, Li Z, Ding S, Bi Z, Wang L, Pei Y, Song S, Zhang S, Wang J, Sun D, Pang B, Sun L, Jiang X, Lei J, Yuan Q, Kou Z, Yang B, Shu Y, ...<br>[ID: 24559386]"
      ],
      "text/plain": [
       "<IPython.core.display.HTML object>"
      ]
     },
     "metadata": {},
     "output_type": "display_data"
    },
    {
     "data": {
      "text/html": [
       "<strong>Activity of andrographolide and its derivatives against influenza virus in vivo and in vitro.</strong><br>2009. Chen JX, Xue HJ, Ye WC, Fang BH, Liu YH, Yuan SH, Yu P, Wang YQ<br>[ID: 19652378]"
      ],
      "text/plain": [
       "<IPython.core.display.HTML object>"
      ]
     },
     "metadata": {},
     "output_type": "display_data"
    },
    {
     "data": {
      "text/html": [
       "<strong><a href=http://dx.doi.org/10.1186/1743-422X-11-49>Serological report of pandemic (H1N1) 2009 infection among cats in northeastern China in 2012-02 and 2013-03.</a></strong><br>2014. Zhao FR, Liu CG, Yin X, Zhou DH, Wei P, Chang HY<br>[ID: 24624924]"
      ],
      "text/plain": [
       "<IPython.core.display.HTML object>"
      ]
     },
     "metadata": {},
     "output_type": "display_data"
    },
    {
     "data": {
      "text/html": [
       "<strong><a href=http://dx.doi.org/10.1093/cid/civ089>Estimates of the demand for mechanical ventilation in the United States during an influenza pandemic.</a></strong><br>2015. Meltzer MI, Patel A, Ajao A, Nystrom SV, Koonin LM<br>[ID: 25878301]"
      ],
      "text/plain": [
       "<IPython.core.display.HTML object>"
      ]
     },
     "metadata": {},
     "output_type": "display_data"
    },
    {
     "data": {
      "text/html": [
       "<strong><a href=http://dx.doi.org/10.1371/journal.pone.0049712>Live poultry trade in Southern China provinces and HPAIV H5N1 infection in humans and poultry: the role of Chinese New Year festivities.</a></strong><br>2012. Soares Magalhães RJ, Zhou X, Jia B, Guo F, Pfeiffer DU, Martin V<br>[ID: 23166751]"
      ],
      "text/plain": [
       "<IPython.core.display.HTML object>"
      ]
     },
     "metadata": {},
     "output_type": "display_data"
    },
    {
     "data": {
      "text/html": [
       "<strong><a href=http://dx.doi.org/10.1128/JVI.00110-06>Properties and dissemination of H5N1 viruses isolated during an influenza outbreak in migratory waterfowl in western China.</a></strong><br>2006. Chen H, Li Y, Li Z, Shi J, Shinya K, Deng G, Qi Q, Tian G, Fan S, Zhao H, Sun Y, Kawaoka Y<br>[ID: 16731936]"
      ],
      "text/plain": [
       "<IPython.core.display.HTML object>"
      ]
     },
     "metadata": {},
     "output_type": "display_data"
    },
    {
     "data": {
      "text/html": [
       "<strong>Preparing for the threat of a pandemic: a Canadian student's perspective.</strong><br>2009. Ng DC<br>[ID: 19762979]"
      ],
      "text/plain": [
       "<IPython.core.display.HTML object>"
      ]
     },
     "metadata": {},
     "output_type": "display_data"
    },
    {
     "data": {
      "text/html": [
       "<strong><a href=http://dx.doi.org/10.1016/j.meegid.2015.05.033>Molecular phylogeny and evolutionary dynamics of matrix gene of avian influenza viruses in China.</a></strong><br>2015. Xiaorong P, Haibo W, Xiuming P, Nanping W<br>[ID: 26044199]"
      ],
      "text/plain": [
       "<IPython.core.display.HTML object>"
      ]
     },
     "metadata": {},
     "output_type": "display_data"
    },
    {
     "data": {
      "text/html": [
       "<strong><a href=http://dx.doi.org/10.3201/eid2201.151330>Avian Influenza A(H7N9) Virus Infection in 2 Travelers Returning from China to Canada, January 2015.</a></strong><br>2016. Skowronski DM, Chambers C, Gustafson R, Purych DB, Tang P, Bastien N, Krajden M, Li Y<br>[ID: 26689320]"
      ],
      "text/plain": [
       "<IPython.core.display.HTML object>"
      ]
     },
     "metadata": {},
     "output_type": "display_data"
    },
    {
     "data": {
      "text/html": [
       "<strong>Surveillance of avian influenza A(H7N9) virus infection in humans and detection of the first imported human case in Taiwan, 3 April to 10 May 2013.</strong><br>2013. Lo YC, Chen WC, Huang WT, Lin YC, Liu MC, Kuo HW, Chuang JH, Yang JR, Liu MT, Wu HS, Yang CH, Chou JH, Chang FY<br>[ID: 23725865]"
      ],
      "text/plain": [
       "<IPython.core.display.HTML object>"
      ]
     },
     "metadata": {},
     "output_type": "display_data"
    },
    {
     "data": {
      "text/html": [
       "<strong>Critical influenza (H1N1) pneumonia: imaging manifestations and histopathological findings.</strong><br>2012. Li HJ, Cheng JL, Li N, Li YF, Zhang HM<br>[ID: 22884138]"
      ],
      "text/plain": [
       "<IPython.core.display.HTML object>"
      ]
     },
     "metadata": {},
     "output_type": "display_data"
    },
    {
     "data": {
      "text/html": [
       "<strong>Outbreak with a novel avian influenza A(H7N9) virus in China--scenarios and triggers for assessing risks and planning responses in the European Union, May 2013.</strong><br>2013. Schenk C, Plachouras D, Danielsson N, Nicoll A, Robesyn E, Coulombier D<br>[ID: 23725867]"
      ],
      "text/plain": [
       "<IPython.core.display.HTML object>"
      ]
     },
     "metadata": {},
     "output_type": "display_data"
    },
    {
     "data": {
      "text/html": [
       "<strong><a href=http://dx.doi.org/10.1016/j.vaccine.2014.02.038>Protective immunity to H7N9 influenza viruses elicited by synthetic DNA vaccine.</a></strong><br>2014. Yan J, Villarreal DO, Racine T, Chu JS, Walters JN, Morrow MP, Khan AS, Sardesai NY, Kim JJ, Kobinger GP, Weiner DB<br>[ID: 24631084]"
      ],
      "text/plain": [
       "<IPython.core.display.HTML object>"
      ]
     },
     "metadata": {},
     "output_type": "display_data"
    },
    {
     "data": {
      "text/html": [
       "<strong><a href=http://dx.doi.org/10.1128/mBio.00909-18>Emergence and Evolution of Novel Reassortant Influenza A Viruses in Canines in Southern China.</a></strong><br>2018. Chen Y, Trovão NS, Wang G, Zhao W, He P, Zhou H, Mo Y, Wei Z, Ouyang K, Huang W, García-Sastre A, Nelson MI<br>[ID: 29871917]"
      ],
      "text/plain": [
       "<IPython.core.display.HTML object>"
      ]
     },
     "metadata": {},
     "output_type": "display_data"
    },
    {
     "data": {
      "text/html": [
       "<strong><a href=http://dx.doi.org/10.1017/S0950268816002508>The transmissibility estimation of influenza with early stage data of small-scale outbreaks in Changsha, China, 2005-2013.</a></strong><br>2017. Chen TM, Chen QP, Liu RC, Szot A, Chen SL, Zhao J, Zhou SS<br>[ID: 27834157]"
      ],
      "text/plain": [
       "<IPython.core.display.HTML object>"
      ]
     },
     "metadata": {},
     "output_type": "display_data"
    },
    {
     "data": {
      "text/html": [
       "<strong><a href=http://dx.doi.org/10.1111/j.1469-0691.2011.03538.x>Serological survey of antibodies to influenza A viruses in a group of people without a history of influenza vaccination.</a></strong><br>2011. Chen Y, Zheng Q, Yang K, Zeng F, Lau SY, Wu WL, Huang S, Zhang J, Chen H, Xia N<br>[ID: 21749549]"
      ],
      "text/plain": [
       "<IPython.core.display.HTML object>"
      ]
     },
     "metadata": {},
     "output_type": "display_data"
    },
    {
     "data": {
      "text/html": [
       "<strong><a href=http://dx.doi.org/10.1016/j.vetmic.2011.03.004>H5N1 subtype highly pathogenic avian influenza virus isolated from healthy mallard captured in South Korea.</a></strong><br>2011. Kim HR, Kim BS, Bae YC, Moon OK, Oem JK, Kang HM, Choi JG, Lee OS, Lee YJ<br>[ID: 21466927]"
      ],
      "text/plain": [
       "<IPython.core.display.HTML object>"
      ]
     },
     "metadata": {},
     "output_type": "display_data"
    },
    {
     "data": {
      "text/html": [
       "<strong>[Influenza activity in China from 2000 to 2001].</strong><br>2003. Zhang Y, Li Z, Guo JF, Wang M, Wen LY, Guo YJ<br>[ID: 12678953]"
      ],
      "text/plain": [
       "<IPython.core.display.HTML object>"
      ]
     },
     "metadata": {},
     "output_type": "display_data"
    },
    {
     "data": {
      "text/html": [
       "<strong>[Genetic evolution and substitution frequency of avian influenza virus HA gene in chicken H9N2 subtype in China in the last 20 years].</strong><br>2016. Meng F, Xu H, Zhang W, Huang D, Zhang Z, Liu X, Chang W, Qin Z<br>[ID: 27305778]"
      ],
      "text/plain": [
       "<IPython.core.display.HTML object>"
      ]
     },
     "metadata": {},
     "output_type": "display_data"
    },
    {
     "data": {
      "text/html": [
       "<strong><a href=http://dx.doi.org/10.1016/j.chom.2013.09.001>Sequential reassortments underlie diverse influenza H7N9 genotypes in China.</a></strong><br>2013. Wu A, Su C, Wang D, Peng Y, Liu M, Hua S, Li T, Gao GF, Tang H, Chen J, Liu X, Shu Y, Peng D, Jiang T<br>[ID: 24055604]"
      ],
      "text/plain": [
       "<IPython.core.display.HTML object>"
      ]
     },
     "metadata": {},
     "output_type": "display_data"
    },
    {
     "data": {
      "text/html": [
       "<strong>[Study on the differences on HA1 regions between epidemic strains and vaccine strains of influenza virus subtype A3 from 1988 to 2005].</strong><br>2006. Lu YY, Yan JY, Sun CY, Xu CP, Feng Y, Mo SH<br>[ID: 17415988]"
      ],
      "text/plain": [
       "<IPython.core.display.HTML object>"
      ]
     },
     "metadata": {},
     "output_type": "display_data"
    },
    {
     "data": {
      "text/html": [
       "<strong><a href=http://dx.doi.org/10.1007/s00705-010-0724-y>Genetic evolution of equine influenza viruses isolated in China.</a></strong><br>2010. Qi T, Guo W, Huang WQ, Li HM, Zhao LP, Dai LL, He N, Hao XF, Xiang WH<br>[ID: 20559670]"
      ],
      "text/plain": [
       "<IPython.core.display.HTML object>"
      ]
     },
     "metadata": {},
     "output_type": "display_data"
    },
    {
     "data": {
      "text/html": [
       "<strong><a href=http://dx.doi.org/10.1007/s11427-008-0050-8>Molecular evolution of influenza A (H3N2) viruses circulated in Fujian Province, China during the 1996-2004 period.</a></strong><br>2008. Xiu W, Wen Y, Shen X, Xie J, Yang S, Wu B, Wang M<br>[ID: 18368315]"
      ],
      "text/plain": [
       "<IPython.core.display.HTML object>"
      ]
     },
     "metadata": {},
     "output_type": "display_data"
    },
    {
     "data": {
      "text/html": [
       "<strong><a href=http://dx.doi.org/10.1007/s00705-014-1976-8>Full-genome analysis of avian influenza virus H9N2 from Bangladesh reveals internal gene reassortments with two distinct highly pathogenic avian influenza viruses.</a></strong><br>2014. Parvin R, Heenemann K, Halami MY, Chowdhury EH, Islam MR, Vahlenkamp TW<br>[ID: 24420161]"
      ],
      "text/plain": [
       "<IPython.core.display.HTML object>"
      ]
     },
     "metadata": {},
     "output_type": "display_data"
    },
    {
     "data": {
      "text/html": [
       "<strong><a href=http://dx.doi.org/10.1016/j.vetmic.2008.02.024>Isolation and genetic characterization of avian origin H9N2 influenza viruses from pigs in China.</a></strong><br>2008. Yu H, Hua RH, Wei TC, Zhou YJ, Tian ZJ, Li GX, Liu TQ, Tong GZ<br>[ID: 18403137]"
      ],
      "text/plain": [
       "<IPython.core.display.HTML object>"
      ]
     },
     "metadata": {},
     "output_type": "display_data"
    },
    {
     "data": {
      "text/html": [
       "<strong><a href=http://dx.doi.org/10.1016/j.jep.2006.03.004>The effect of medicinal plants used in Chinese folk medicine on RANTES secretion by virus-infected human epithelial cells.</a></strong><br>2006. Ko HC, Wei BL, Chiou WF<br>[ID: 16621378]"
      ],
      "text/plain": [
       "<IPython.core.display.HTML object>"
      ]
     },
     "metadata": {},
     "output_type": "display_data"
    },
    {
     "data": {
      "text/html": [
       "<strong><a href=http://dx.doi.org/10.1038/srep02722>Mapping spread and risk of avian influenza A (H7N9) in China.</a></strong><br>2013. Fang LQ, Li XL, Liu K, Li YJ, Yao HW, Liang S, Yang Y, Feng ZJ, Gray GC, Cao WC<br>[ID: 24072008]"
      ],
      "text/plain": [
       "<IPython.core.display.HTML object>"
      ]
     },
     "metadata": {},
     "output_type": "display_data"
    },
    {
     "data": {
      "text/html": [
       "<strong><a href=http://dx.doi.org/10.1073/pnas.0511120103>Establishment of multiple sublineages of H5N1 influenza virus in Asia: implications for pandemic control.</a></strong><br>2006. Chen H, Smith GJ, Li KS, Wang J, Fan XH, Rayner JM, Vijaykrishna D, Zhang JX, Zhang LJ, Guo CT, Cheung CL, Xu KM, Duan L, Huang K, Qin K, Leung YH, Wu WL, Lu HR, Chen Y, Xia NS, ...<br>[ID: 16473931]"
      ],
      "text/plain": [
       "<IPython.core.display.HTML object>"
      ]
     },
     "metadata": {},
     "output_type": "display_data"
    },
    {
     "data": {
      "text/html": [
       "<strong><a href=http://dx.doi.org/10.1007/s12064-015-0212-8>On avian influenza epidemic models with time delay.</a></strong><br>2015. Liu S, Ruan S, Zhang X<br>[ID: 26328909]"
      ],
      "text/plain": [
       "<IPython.core.display.HTML object>"
      ]
     },
     "metadata": {},
     "output_type": "display_data"
    },
    {
     "data": {
      "text/html": [
       "<strong><a href=http://dx.doi.org/10.1371/journal.pcbi.1001005>Network analysis of global influenza spread.</a></strong><br>2010. Chan J, Holmes A, Rabadan R<br>[ID: 21124942]"
      ],
      "text/plain": [
       "<IPython.core.display.HTML object>"
      ]
     },
     "metadata": {},
     "output_type": "display_data"
    },
    {
     "data": {
      "text/html": [
       "<strong><a href=http://dx.doi.org/10.1016/j.vetmic.2017.10.022>Pathogenicity and transmissibility of a highly pathogenic avian influenza virus H5N6 isolated from a domestic goose in Southern China.</a></strong><br>2017. Xiang B, Liang J, You R, Han L, Mei K, Chen L, Chen R, Zhang Y, Dai X, Gao P, Liao M, Xiao C, Ren T<br>[ID: 29173583]"
      ],
      "text/plain": [
       "<IPython.core.display.HTML object>"
      ]
     },
     "metadata": {},
     "output_type": "display_data"
    },
    {
     "data": {
      "text/html": [
       "<strong><a href=http://dx.doi.org/10.1016/j.vaccine.2013.07.043>Development of influenza H7N9 virus like particle (VLP) vaccine: homologous A/Anhui/1/2013 (H7N9) protection and heterologous A/chicken/Jalisco/CPA1/2012 (H7N3) cross-protection in vaccinated mice challenged with H7N9 virus.</a></strong><br>2013. Smith GE, Flyer DC, Raghunandan R, Liu Y, Wei Z, Wu Y, Kpamegan E, Courbron D, Fries LF 3rd, Glenn GM<br>[ID: 23891795]"
      ],
      "text/plain": [
       "<IPython.core.display.HTML object>"
      ]
     },
     "metadata": {},
     "output_type": "display_data"
    },
    {
     "data": {
      "text/html": [
       "<strong><a href=http://dx.doi.org/10.3390/v10040184>Arbidol (Umifenovir): A Broad-Spectrum Antiviral Drug That Inhibits Medically Important Arthropod-Borne Flaviviruses.</a></strong><br>2018. Haviernik J, Štefánik M, Fojtíková M, Kali S, Tordo N, Rudolf I, Hubálek Z, Eyer L, Ruzek D<br>[ID: 29642580]"
      ],
      "text/plain": [
       "<IPython.core.display.HTML object>"
      ]
     },
     "metadata": {},
     "output_type": "display_data"
    },
    {
     "data": {
      "text/html": [
       "<strong>Avian influenza A viruses of southern China and Hong Kong: ecological aspects and implications for man.</strong><br>1982. Shortridge KF<br>[ID: 6979416]"
      ],
      "text/plain": [
       "<IPython.core.display.HTML object>"
      ]
     },
     "metadata": {},
     "output_type": "display_data"
    },
    {
     "data": {
      "text/html": [
       "<strong><a href=http://dx.doi.org/10.1638/06-048.1>Serosurvey of infectious disease agents of carnivores in captive red pandas (Ailurus fulgens) in China.</a></strong><br>2007. Qin Q, Wei F, Li M, Dubovi EJ, Loeffler IK<br>[ID: 17469274]"
      ],
      "text/plain": [
       "<IPython.core.display.HTML object>"
      ]
     },
     "metadata": {},
     "output_type": "display_data"
    },
    {
     "data": {
      "text/html": [
       "<strong><a href=http://dx.doi.org/10.1007/978-1-4939-0758-8_7>Wild bird surveillance for avian influenza virus.</a></strong><br>2014. Brown JD, Poulson R, Stallknecht DE<br>[ID: 24899421]"
      ],
      "text/plain": [
       "<IPython.core.display.HTML object>"
      ]
     },
     "metadata": {},
     "output_type": "display_data"
    },
    {
     "data": {
      "text/html": [
       "<strong><a href=http://dx.doi.org/10.1007/s00705-004-0372-1>Co-infection of Staphylococcus aureus or Haemophilus paragallinarum exacerbates H9N2 influenza A virus infection in chickens.</a></strong><br>2004. Kishida N, Sakoda Y, Eto M, Sunaga Y, Kida H<br>[ID: 15503199]"
      ],
      "text/plain": [
       "<IPython.core.display.HTML object>"
      ]
     },
     "metadata": {},
     "output_type": "display_data"
    },
    {
     "data": {
      "text/html": [
       "<strong><a href=http://dx.doi.org/10.1371/journal.pone.0033938>Ecological determinants of highly pathogenic avian influenza (H5N1) outbreaks in Bangladesh.</a></strong><br>2012. Ahmed SS, Ersbøll AK, Biswas PK, Christensen JP, Hannan AS, Toft N<br>[ID: 22470496]"
      ],
      "text/plain": [
       "<IPython.core.display.HTML object>"
      ]
     },
     "metadata": {},
     "output_type": "display_data"
    },
    {
     "data": {
      "text/html": [
       "<strong><a href=http://dx.doi.org/10.1016/j.tvjl.2009.10.026>Seroprevalence and genetic characteristics of five subtypes of influenza A viruses in the Chinese pig population: a pooled data analysis.</a></strong><br>2011. Liu W, Wei MT, Tong Y, Tang F, Zhang L, Fang L, Yang H, Cao WC<br>[ID: 19945318]"
      ],
      "text/plain": [
       "<IPython.core.display.HTML object>"
      ]
     },
     "metadata": {},
     "output_type": "display_data"
    },
    {
     "data": {
      "text/html": [
       "<strong><a href=http://dx.doi.org/10.1002/jmv.23780>Laboratory findings in patients with avian-origin influenza A (H7N9) virus infections.</a></strong><br>2014. Zhang J, Zhao Y, Chen Y<br>[ID: 24127336]"
      ],
      "text/plain": [
       "<IPython.core.display.HTML object>"
      ]
     },
     "metadata": {},
     "output_type": "display_data"
    },
    {
     "data": {
      "text/html": [
       "<strong><a href=http://dx.doi.org/10.1016/j.micpath.2013.08.001>Serological surveillance of H5 and H9 avian influenza A viral infections among pigs in Southern China.</a></strong><br>2013. Yuan Z, Zhu W, Chen Y, Zhou P, Cao Z, Xie J, Zhang C, Ke C, Qi W, Su S, Zhang G<br>[ID: 23973737]"
      ],
      "text/plain": [
       "<IPython.core.display.HTML object>"
      ]
     },
     "metadata": {},
     "output_type": "display_data"
    },
    {
     "data": {
      "text/html": [
       "<strong>SARS outbreaks in Ontario, Hong Kong and Singapore: the role of diagnosis and isolation as a control mechanism.</strong><br>2003. Chowell G, Fenimore PW, Castillo-Garsow MA, Castillo-Chavez C<br>[ID: 12900200]"
      ],
      "text/plain": [
       "<IPython.core.display.HTML object>"
      ]
     },
     "metadata": {},
     "output_type": "display_data"
    },
    {
     "data": {
      "text/html": [
       "<strong><a href=http://dx.doi.org/10.1038/s41598-018-25291-1>Migratory Whooper Swans Cygnus cygnus Transmit H5N1 Virus between China and Mongolia: Combination Evidence from Satellite Tracking and Phylogenetics Analysis.</a></strong><br>2018. Li S, Meng W, Liu D, Yang Q, Chen L, Dai Q, Ma T, Gao R, Ru W, Li Y, Yu P, Lu J, Zhang G, Tian H, Chai H, Li Y<br>[ID: 29728621]"
      ],
      "text/plain": [
       "<IPython.core.display.HTML object>"
      ]
     },
     "metadata": {},
     "output_type": "display_data"
    },
    {
     "data": {
      "text/html": [
       "<strong><a href=http://dx.doi.org/10.1186/1743-422X-8-470>Molecular evolution of the H6 subtype influenza A viruses from poultry in eastern China from 2002 to 2010.</a></strong><br>2011. Zhao G, Lu X, Gu X, Zhao K, Song Q, Pan J, Xu Q, Duan Z, Peng D, Hu S, Wang X, Liu X<br>[ID: 21999472]"
      ],
      "text/plain": [
       "<IPython.core.display.HTML object>"
      ]
     },
     "metadata": {},
     "output_type": "display_data"
    },
    {
     "data": {
      "text/html": [
       "<strong><a href=http://dx.doi.org/10.1038/pr.2015.264>Risk factors of different congenital heart defects in Guangdong, China.</a></strong><br>2016. Ou Y, Mai J, Zhuang J, Liu X, Wu Y, Gao X, Nie Z, Qu Y, Chen J, Kielb C, Lauper U, Lin S<br>[ID: 26679154]"
      ],
      "text/plain": [
       "<IPython.core.display.HTML object>"
      ]
     },
     "metadata": {},
     "output_type": "display_data"
    },
    {
     "data": {
      "text/html": [
       "<strong><a href=http://dx.doi.org/10.1155/2015/267520>Phylogenetic Analysis of Hemagglutinin Genes of H9N2 Avian Influenza Viruses Isolated from Chickens in Shandong, China, between 1998 and 2013.</a></strong><br>2015. Zhao Y, Li S, Zhou Y, Song W, Tang Y, Pang Q, Miao Z<br>[ID: 26609523]"
      ],
      "text/plain": [
       "<IPython.core.display.HTML object>"
      ]
     },
     "metadata": {},
     "output_type": "display_data"
    },
    {
     "data": {
      "text/html": [
       "<strong><a href=http://dx.doi.org/10.1038/emi.2016.29>The replication of Bangladeshi H9N2 avian influenza viruses carrying genes from H7N3 in mammals.</a></strong><br>2016. Shanmuganatham KK, Jones JC, Marathe BM, Feeroz MM, Jones-Engel L, Walker D, Turner J, Rabiul Alam SM, Kamrul Hasan M, Akhtar S, Seiler P, McKenzie P, Krauss S, Webby RJ, Webster RG<br>[ID: 27094903]"
      ],
      "text/plain": [
       "<IPython.core.display.HTML object>"
      ]
     },
     "metadata": {},
     "output_type": "display_data"
    },
    {
     "data": {
      "text/html": [
       "<strong><a href=http://dx.doi.org/10.1016/j.prevetmed.2011.07.007>Risk-based surveillance for avian influenza control along poultry market chains in South China: The value of social network analysis.</a></strong><br>2011. Martin V, Zhou X, Marshall E, Jia B, Fusheng G, FrancoDixon MA, DeHaan N, Pfeiffer DU, Soares Magalhães RJ, Gilbert M<br>[ID: 21925753]"
      ],
      "text/plain": [
       "<IPython.core.display.HTML object>"
      ]
     },
     "metadata": {},
     "output_type": "display_data"
    },
    {
     "data": {
      "text/html": [
       "<strong>Infectious diseases and vaccine sciences: strategic directions.</strong><br>2008. Luby SP, Brooks WA, Zaman K, Hossain S, Ahmed T<br>[ID: 18831226]"
      ],
      "text/plain": [
       "<IPython.core.display.HTML object>"
      ]
     },
     "metadata": {},
     "output_type": "display_data"
    },
    {
     "data": {
      "text/html": [
       "<strong><a href=http://dx.doi.org/10.1128/JVI.79.7.4201-4212.2005>Isolation and characterization of avian influenza viruses, including highly pathogenic H5N1, from poultry in live bird markets in Hanoi, Vietnam, in 2001.</a></strong><br>2005. Nguyen DC, Uyeki TM, Jadhao S, Maines T, Shaw M, Matsuoka Y, Smith C, Rowe T, Lu X, Hall H, Xu X, Balish A, Klimov A, Tumpey TM, Swayne DE, Huynh LP, Nghiem HK, Nguyen HH, Hoang LT, Cox NJ, ...<br>[ID: 15767421]"
      ],
      "text/plain": [
       "<IPython.core.display.HTML object>"
      ]
     },
     "metadata": {},
     "output_type": "display_data"
    },
    {
     "data": {
      "text/html": [
       "<strong><a href=http://dx.doi.org/10.1128/JVI.03183-13>H3 stalk-based chimeric hemagglutinin influenza virus constructs protect mice from H7N9 challenge.</a></strong><br>2014. Krammer F, Margine I, Hai R, Flood A, Hirsh A, Tsvetnitsky V, Chen D, Palese P<br>[ID: 24307585]"
      ],
      "text/plain": [
       "<IPython.core.display.HTML object>"
      ]
     },
     "metadata": {},
     "output_type": "display_data"
    },
    {
     "data": {
      "text/html": [
       "<strong><a href=http://dx.doi.org/10.1038/aps.2013.121>Characteristics of human infection with avian influenza viruses and development of new antiviral agents.</a></strong><br>2013. Liu Q, Liu DY, Yang ZQ<br>[ID: 24096642]"
      ],
      "text/plain": [
       "<IPython.core.display.HTML object>"
      ]
     },
     "metadata": {},
     "output_type": "display_data"
    },
    {
     "data": {
      "text/html": [
       "<strong><a href=http://dx.doi.org/10.1007/s11262-005-0042-8>Characterization of an avian influenza virus of subtype H7N2 isolated from chickens in northern China.</a></strong><br>2006. Li Y, Li C, Liu L, Wang H, Wang C, Tian G, Webster RG, Yu K, Chen H<br>[ID: 16791426]"
      ],
      "text/plain": [
       "<IPython.core.display.HTML object>"
      ]
     },
     "metadata": {},
     "output_type": "display_data"
    },
    {
     "data": {
      "text/html": [
       "<strong><a href=http://dx.doi.org/10.1007/s10393-017-1257-6>Are Poultry or Wild Birds the Main Reservoirs for Avian Influenza in Bangladesh?</a></strong><br>2017. Hassan MM, Hoque MA, Debnath NC, Yamage M, Klaassen M<br>[ID: 28620679]"
      ],
      "text/plain": [
       "<IPython.core.display.HTML object>"
      ]
     },
     "metadata": {},
     "output_type": "display_data"
    },
    {
     "data": {
      "text/html": [
       "<strong><a href=http://dx.doi.org/10.1111/tbed.12071>Risk factors for highly pathogenic avian influenza in commercial layer chicken farms in bangladesh during 2011.</a></strong><br>2014. Osmani MG, Thornton RN, Dhand NK, Hoque MA, Milon SM, Kalam MA, Hossain M, Yamage M<br>[ID: 23480200]"
      ],
      "text/plain": [
       "<IPython.core.display.HTML object>"
      ]
     },
     "metadata": {},
     "output_type": "display_data"
    },
    {
     "data": {
      "text/html": [
       "<strong>[Generation high yield vaccine strain wholly derived from avian influenza viruses by reverse genetics].</strong><br>2006. Liu M, Zhang Y, Liu CG, Pan WQ, Liu CN, Yang T<br>[ID: 17037192]"
      ],
      "text/plain": [
       "<IPython.core.display.HTML object>"
      ]
     },
     "metadata": {},
     "output_type": "display_data"
    },
    {
     "data": {
      "text/html": [
       "<strong><a href=http://dx.doi.org/10.1126/science.1243761>Preferential recognition of avian-like receptors in human influenza A H7N9 viruses.</a></strong><br>2013. Xu R, de Vries RP, Zhu X, Nycholat CM, McBride R, Yu W, Paulson JC, Wilson IA<br>[ID: 24311689]"
      ],
      "text/plain": [
       "<IPython.core.display.HTML object>"
      ]
     },
     "metadata": {},
     "output_type": "display_data"
    },
    {
     "data": {
      "text/html": [
       "<strong><a href=http://dx.doi.org/10.1016/j.meegid.2010.09.014>Increased prevalence of a rare mutant of pandemic H1N1 influenza virus in a Eurasian region.</a></strong><br>2011. Yang TT, Wang ZG, Li SP, Liu XL, Yi Y, Yang Y, Yu P, Chen JM<br>[ID: 20934538]"
      ],
      "text/plain": [
       "<IPython.core.display.HTML object>"
      ]
     },
     "metadata": {},
     "output_type": "display_data"
    },
    {
     "data": {
      "text/html": [
       "<strong><a href=http://dx.doi.org/10.1186/1471-2334-7-132>A model to control the epidemic of H5N1 influenza at the source.</a></strong><br>2007. Guan Y, Chen H, Li K, Riley S, Leung G, Webster R, Peiris J, Yuen K<br>[ID: 17999754]"
      ],
      "text/plain": [
       "<IPython.core.display.HTML object>"
      ]
     },
     "metadata": {},
     "output_type": "display_data"
    },
    {
     "data": {
      "text/html": [
       "<strong><a href=http://dx.doi.org/10.3967/bes2017.009>Characterization of Highly Pathogenic Avian Influenza H5N1 Viruses Isolated from Domestic Poultry in China.</a></strong><br>2017. Lai CC, Wang KY, Chen R, Zhang AJ, Gu HJ, Yin YB, Wang DD, Liu LL, Xing L, Tong YG, Ma ZJ, Yang PH, Wang XL<br>[ID: 28245902]"
      ],
      "text/plain": [
       "<IPython.core.display.HTML object>"
      ]
     },
     "metadata": {},
     "output_type": "display_data"
    },
    {
     "data": {
      "text/html": [
       "<strong><a href=http://dx.doi.org/10.1371/journal.pone.0111834>Quantification of bird-to-bird and bird-to-human infections during 2013 novel H7N9 avian influenza outbreak in China.</a></strong><br>2014. Hsieh YH, Wu J, Fang J, Yang Y, Lou J<br>[ID: 25479054]"
      ],
      "text/plain": [
       "<IPython.core.display.HTML object>"
      ]
     },
     "metadata": {},
     "output_type": "display_data"
    },
    {
     "data": {
      "text/html": [
       "<strong><a href=http://dx.doi.org/10.1631/jzus.B1700374>Avian influenza viruses (AIVs) H9N2 are in the course of reassorting into novel AIVs.</a></strong><br>2018. Chang HP, Peng L, Chen L, Jiang LF, Zhang ZJ, Xiong CL, Zhao GM, Chen Y, Jiang QW<br>[ID: 29732752]"
      ],
      "text/plain": [
       "<IPython.core.display.HTML object>"
      ]
     },
     "metadata": {},
     "output_type": "display_data"
    },
    {
     "data": {
      "text/html": [
       "<strong>[Origin of SARS from accelerated evolution of a virus by combined pollution].</strong><br>2003. Zhou Q, Wei S, Zhang Q, Zhong M<br>[ID: 14655379]"
      ],
      "text/plain": [
       "<IPython.core.display.HTML object>"
      ]
     },
     "metadata": {},
     "output_type": "display_data"
    },
    {
     "data": {
      "text/html": [
       "<strong><a href=http://dx.doi.org/10.1196/annals.1373.021>Principles for vaccine protection in chickens and domestic waterfowl against avian influenza: emphasis on Asian H5N1 high pathogenicity avian influenza.</a></strong><br>2006. Swayne DE<br>[ID: 17135509]"
      ],
      "text/plain": [
       "<IPython.core.display.HTML object>"
      ]
     },
     "metadata": {},
     "output_type": "display_data"
    },
    {
     "data": {
      "text/html": [
       "<strong><a href=http://dx.doi.org/10.1196/annals.1373.022>Vaccines developed for H5 highly pathogenic avian influenza in China.</a></strong><br>2006. Qiao C, Tian G, Jiang Y, Li Y, Shi J, Yu K, Chen H<br>[ID: 17135510]"
      ],
      "text/plain": [
       "<IPython.core.display.HTML object>"
      ]
     },
     "metadata": {},
     "output_type": "display_data"
    },
    {
     "data": {
      "text/html": [
       "<strong><a href=http://dx.doi.org/10.1111/tbed.12692>Estimating the between-farm transmission rates for highly pathogenic avian influenza subtype H5N1 epidemics in Bangladesh between 2007 and 2013.</a></strong><br>2018. Ssematimba A, Okike I, Ahmed GM, Yamage M, Boender GJ, Hagenaars TJ, Bett B<br>[ID: 28805017]"
      ],
      "text/plain": [
       "<IPython.core.display.HTML object>"
      ]
     },
     "metadata": {},
     "output_type": "display_data"
    },
    {
     "data": {
      "text/html": [
       "<strong><a href=http://dx.doi.org/10.3201/eid1910.130534>Reassortant avian influenza A(H5N1) viruses with H9N2-PB1 gene in poultry, Bangladesh.</a></strong><br>2013. Monne I, Yamage M, Dauphin G, Claes F, Ahmed G, Giasuddin M, Salviato A, Ormelli S, Bonfante F, Schivo A, Cattoli G<br>[ID: 24047513]"
      ],
      "text/plain": [
       "<IPython.core.display.HTML object>"
      ]
     },
     "metadata": {},
     "output_type": "display_data"
    },
    {
     "data": {
      "text/html": [
       "<strong><a href=http://dx.doi.org/10.1016/j.virol.2016.03.007>Comparison of pathogenicities of H7 avian influenza viruses via intranasal and conjunctival inoculation in cynomolgus macaques.</a></strong><br>2016. Shichinohe S, Itoh Y, Nakayama M, Ozaki H, Soda K, Ishigaki H, Okamatsu M, Sakoda Y, Kida H, Ogasawara K<br>[ID: 26994587]"
      ],
      "text/plain": [
       "<IPython.core.display.HTML object>"
      ]
     },
     "metadata": {},
     "output_type": "display_data"
    },
    {
     "data": {
      "text/html": [
       "<strong><a href=http://dx.doi.org/10.1186/s12879-016-1614-z>Influenza-associated outpatient visits among children less than 5 years of age in eastern China, 2011-2014.</a></strong><br>2016. Zhang T, Zhang J, Hua J, Wang D, Chen L, Ding Y, Zeng S, Wu J, Jiang Y, Geng Q, Zhou S, Song Y, Iuliano AD, Greene CM, McFarland J, Zhao G<br>[ID: 27287453]"
      ],
      "text/plain": [
       "<IPython.core.display.HTML object>"
      ]
     },
     "metadata": {},
     "output_type": "display_data"
    },
    {
     "data": {
      "text/html": [
       "<strong><a href=http://dx.doi.org/10.1128/JVI.03167-14>Emergence and evolution of H10 subtype influenza viruses in poultry in China.</a></strong><br>2015. Ma C, Lam TT, Chai Y, Wang J, Fan X, Hong W, Zhang Y, Li L, Liu Y, Smith DK, Webby RJ, Peiris JS, Zhu H, Guan Y<br>[ID: 25589662]"
      ],
      "text/plain": [
       "<IPython.core.display.HTML object>"
      ]
     },
     "metadata": {},
     "output_type": "display_data"
    },
    {
     "data": {
      "text/html": [
       "<strong><a href=http://dx.doi.org/10.1016/j.prevetmed.2017.04.009>Assessment of hygienic conditions of live bird markets on avian influenza in Chittagong metro, Bangladesh.</a></strong><br>2017. Sayeed MA, Smallwood C, Imam T, Mahmud R, Hasan RB, Hasan M, Anwer MS, Rashid MH, Hoque MA<br>[ID: 28606367]"
      ],
      "text/plain": [
       "<IPython.core.display.HTML object>"
      ]
     },
     "metadata": {},
     "output_type": "display_data"
    },
    {
     "data": {
      "text/html": [
       "<strong><a href=http://dx.doi.org/10.1016/j.virusres.2009.08.010>Characterization of highly pathogenic H5N1 avian influenza viruses isolated from poultry markets in central China.</a></strong><br>2009. Chen J, Fang F, Yang Z, Liu X, Zhang H, Zhang Z, Zhang X, Chen Z<br>[ID: 19720095]"
      ],
      "text/plain": [
       "<IPython.core.display.HTML object>"
      ]
     },
     "metadata": {},
     "output_type": "display_data"
    },
    {
     "data": {
      "text/html": [
       "<strong><a href=http://dx.doi.org/10.1186/s12917-018-1487-z>Investigating porcine parvoviruses genogroup 2 infection using in situ polymerase chain reaction.</a></strong><br>2018. Novosel D, Cadar D, Tuboly T, Jungic A, Stadejek T, Ait-Ali T, Cságola A<br>[ID: 29783968]"
      ],
      "text/plain": [
       "<IPython.core.display.HTML object>"
      ]
     },
     "metadata": {},
     "output_type": "display_data"
    },
    {
     "data": {
      "text/html": [
       "<strong><a href=http://dx.doi.org/10.1016/j.jep.2014.07.051>The roots of Ilex asprella extract lessens acute respiratory distress syndrome in mice induced by influenza virus.</a></strong><br>2014. Dai WP, Li G, Li X, Hu QP, Liu JX, Zhang FX, Su ZR, Lai XP<br>[ID: 25102242]"
      ],
      "text/plain": [
       "<IPython.core.display.HTML object>"
      ]
     },
     "metadata": {},
     "output_type": "display_data"
    },
    {
     "data": {
      "text/html": [
       "<strong><a href=http://dx.doi.org/10.1371/journal.pone.0084961>Effect of the one-child policy on influenza transmission in China: a stochastic transmission model.</a></strong><br>2014. Liu F, Enanoria WT, Ray KJ, Coffee MP, Gordon A, Aragón TJ, Yu G, Cowling BJ, Porco TC<br>[ID: 24516519]"
      ],
      "text/plain": [
       "<IPython.core.display.HTML object>"
      ]
     },
     "metadata": {},
     "output_type": "display_data"
    },
    {
     "data": {
      "text/html": [
       "<strong><a href=http://dx.doi.org/10.1016/j.vaccine.2016.02.067>Quality vaccines for all people: Report on the 16th annual general meeting of the Developing Countries Vaccine Manufacturers' Network, 05-07th October 2015, Bangkok, Thailand.</a></strong><br>2016. Pagliusi S, Ting CC, Khomvilai S, DCVMN Executive, Organising Committee Group.<br>[ID: 26947496]"
      ],
      "text/plain": [
       "<IPython.core.display.HTML object>"
      ]
     },
     "metadata": {},
     "output_type": "display_data"
    },
    {
     "data": {
      "text/html": [
       "<strong><a href=http://dx.doi.org/10.1007/s11262-014-1092-6>Identification and genetic characterization of avian-origin H3N2 canine influenza viruses isolated from the Liaoning province of China in 2012.</a></strong><br>2014. Yang X, Liu C, Liu F, Liu D, Chen Y, Zhang H, Qu L, Li Y, Xia D, Liu M<br>[ID: 24928168]"
      ],
      "text/plain": [
       "<IPython.core.display.HTML object>"
      ]
     },
     "metadata": {},
     "output_type": "display_data"
    },
    {
     "data": {
      "text/html": [
       "<strong><a href=http://dx.doi.org/10.1371/journal.ppat.1003932>Unifying viral genetics and human transportation data to predict the global transmission dynamics of human influenza H3N2.</a></strong><br>2014. Lemey P, Rambaut A, Bedford T, Faria N, Bielejec F, Baele G, Russell CA, Smith DJ, Pybus OG, Brockmann D, Suchard MA<br>[ID: 24586153]"
      ],
      "text/plain": [
       "<IPython.core.display.HTML object>"
      ]
     },
     "metadata": {},
     "output_type": "display_data"
    },
    {
     "data": {
      "text/html": [
       "<strong><a href=http://dx.doi.org/10.15585/mmwr.mm6549a2>Assessing Change in Avian Influenza A(H7N9) Virus Infections During the Fourth Epidemic - China, September 2015-August 2016.</a></strong><br>2016. Xiang N, Li X, Ren R, Wang D, Zhou S, Greene CM, Song Y, Zhou L, Yang L, Davis CT, Zhang Y, Wang Y, Zhao J, Li X, Iuliano AD, Havers F, Olsen SJ, Uyeki TM, Azziz-Baumgartner E, Trock S, ...<br>[ID: 27977644]"
      ],
      "text/plain": [
       "<IPython.core.display.HTML object>"
      ]
     },
     "metadata": {},
     "output_type": "display_data"
    },
    {
     "data": {
      "text/html": [
       "<strong><a href=http://dx.doi.org/10.1016/j.celrep.2018.03.081>A Gene Constellation in Avian Influenza A (H7N9) Viruses May Have Facilitated the Fifth Wave Outbreak in China.</a></strong><br>2018. Zhu W, Dong J, Zhang Y, Yang L, Li X, Chen T, Zhao X, Wei H, Bo H, Zeng X, Huang W, Li Z, Tang J, Zhou J, Gao R, Xin L, Yang J, Zou S, Chen W, Liu J, ...<br>[ID: 29669294]"
      ],
      "text/plain": [
       "<IPython.core.display.HTML object>"
      ]
     },
     "metadata": {},
     "output_type": "display_data"
    },
    {
     "data": {
      "text/html": [
       "<strong><a href=http://dx.doi.org/10.1146/annurev-med-010714-112311>H7N9: preparing for the unexpected in influenza.</a></strong><br>2015. Jernigan DB, Cox NJ<br>[ID: 25386931]"
      ],
      "text/plain": [
       "<IPython.core.display.HTML object>"
      ]
     },
     "metadata": {},
     "output_type": "display_data"
    },
    {
     "data": {
      "text/html": [
       "<strong><a href=http://dx.doi.org/10.1152/ajplung.00105.2013>Adapting global influenza management strategies to address emerging viruses.</a></strong><br>2013. Noah DL, Noah JW<br>[ID: 23709619]"
      ],
      "text/plain": [
       "<IPython.core.display.HTML object>"
      ]
     },
     "metadata": {},
     "output_type": "display_data"
    },
    {
     "data": {
      "text/html": [
       "<strong><a href=http://dx.doi.org/10.1186/s12985-015-0265-9>Avian influenza H9N2 seroprevalence among pig population and pig farm staff in Shandong, China.</a></strong><br>2015. Li S, Zhou Y, Zhao Y, Li W, Song W, Miao Z<br>[ID: 25886647]"
      ],
      "text/plain": [
       "<IPython.core.display.HTML object>"
      ]
     },
     "metadata": {},
     "output_type": "display_data"
    },
    {
     "data": {
      "text/html": [
       "<strong><a href=http://dx.doi.org/10.3390/ijerph13060600>Ecological Niche Modeling of Risk Factors for H7N9 Human Infection in China.</a></strong><br>2016. Xu M, Cao C, Li Q, Jia P, Zhao J<br>[ID: 27322296]"
      ],
      "text/plain": [
       "<IPython.core.display.HTML object>"
      ]
     },
     "metadata": {},
     "output_type": "display_data"
    },
    {
     "data": {
      "text/html": [
       "<strong><a href=http://dx.doi.org/10.1038/nature12515>The genesis and source of the H7N9 influenza viruses causing human infections in China.</a></strong><br>2013. Lam TT, Wang J, Shen Y, Zhou B, Duan L, Cheung CL, Ma C, Lycett SJ, Leung CY, Chen X, Li L, Hong W, Chai Y, Zhou L, Liang H, Ou Z, Liu Y, Farooqui A, Kelvin DJ, Poon LL, ...<br>[ID: 23965623]"
      ],
      "text/plain": [
       "<IPython.core.display.HTML object>"
      ]
     },
     "metadata": {},
     "output_type": "display_data"
    },
    {
     "data": {
      "text/html": [
       "<strong><a href=http://dx.doi.org/10.1073/pnas.1522643113>Prevalence, genetics, and transmissibility in ferrets of Eurasian avian-like H1N1 swine influenza viruses.</a></strong><br>2016. Yang H, Chen Y, Qiao C, He X, Zhou H, Sun Y, Yin H, Meng S, Liu L, Zhang Q, Kong H, Gu C, Li C, Bu Z, Kawaoka Y, Chen H<br>[ID: 26711995]"
      ],
      "text/plain": [
       "<IPython.core.display.HTML object>"
      ]
     },
     "metadata": {},
     "output_type": "display_data"
    },
    {
     "data": {
      "text/html": [
       "<strong><a href=http://dx.doi.org/10.2196/jmir.2911>Importance of Internet surveillance in public health emergency control and prevention: evidence from a digital epidemiologic study during avian influenza A H7N9 outbreaks.</a></strong><br>2014. Gu H, Chen B, Zhu H, Jiang T, Wang X, Chen L, Jiang Z, Zheng D, Jiang J<br>[ID: 24440770]"
      ],
      "text/plain": [
       "<IPython.core.display.HTML object>"
      ]
     },
     "metadata": {},
     "output_type": "display_data"
    },
    {
     "data": {
      "text/html": [
       "<strong><a href=http://dx.doi.org/10.1371/journal.pone.0101384>Genetic dynamic analysis of the influenza A H5N1 NS1 gene in China.</a></strong><br>2014. Wei K, Chen Y, Lin Y, Pan Y<br>[ID: 25003973]"
      ],
      "text/plain": [
       "<IPython.core.display.HTML object>"
      ]
     },
     "metadata": {},
     "output_type": "display_data"
    },
    {
     "data": {
      "text/html": [
       "<strong><a href=http://dx.doi.org/10.3389/fvets.2017.00225>Could Changes in the Agricultural Landscape of Northeastern China Have Influenced the Long-Distance Transmission of Highly Pathogenic Avian Influenza H5Nx Viruses?</a></strong><br>2017. Gilbert M, Prosser DJ, Zhang G, Artois J, Dhingra MS, Tildesley M, Newman SH, Guo F, Black P, Claes F, Kalpradvidh W, Shin Y, Jeong W, Takekawa JY, Lee H, Xiao X<br>[ID: 29312966]"
      ],
      "text/plain": [
       "<IPython.core.display.HTML object>"
      ]
     },
     "metadata": {},
     "output_type": "display_data"
    },
    {
     "data": {
      "text/html": [
       "<strong><a href=http://dx.doi.org/10.1016/j.jviromet.2009.09.013>Characterization of the hemagglutinin gene of subtype H9 avian influenza viruses isolated in 2007-2009 in China.</a></strong><br>2010. Ji K, Jiang WM, Liu S, Chen JM, Chen J, Hou GY, Li JP, Huang BX<br>[ID: 19781574]"
      ],
      "text/plain": [
       "<IPython.core.display.HTML object>"
      ]
     },
     "metadata": {},
     "output_type": "display_data"
    },
    {
     "data": {
      "text/html": [
       "<strong><a href=http://dx.doi.org/10.1017/S0950268810000178>The space-time clustering of highly pathogenic avian influenza (HPAI) H5N1 outbreaks in Bangladesh.</a></strong><br>2010. Ahmed SS, Ersbøll AK, Biswas PK, Christensen JP<br>[ID: 20109257]"
      ],
      "text/plain": [
       "<IPython.core.display.HTML object>"
      ]
     },
     "metadata": {},
     "output_type": "display_data"
    },
    {
     "data": {
      "text/html": [
       "<strong>Antigenic and genetic analyses of H5 influenza viruses isolated from ducks in Asia.</strong><br>1999. Imai M, Takada A, Okazaki K, Kida H<br>[ID: 10414025]"
      ],
      "text/plain": [
       "<IPython.core.display.HTML object>"
      ]
     },
     "metadata": {},
     "output_type": "display_data"
    },
    {
     "data": {
      "text/html": [
       "<strong><a href=http://dx.doi.org/10.1093/aje/kwr411>Distribution and risk factors of 2009 pandemic influenza A (H1N1) in mainland China.</a></strong><br>2012. Fang LQ, Wang LP, de Vlas SJ, Liang S, Tong SL, Li YL, Li YP, Qian Q, Yang H, Zhou MG, Wang XF, Richardus JH, Ma JQ, Cao WC<br>[ID: 22491083]"
      ],
      "text/plain": [
       "<IPython.core.display.HTML object>"
      ]
     },
     "metadata": {},
     "output_type": "display_data"
    },
    {
     "data": {
      "text/html": [
       "<strong>[Influenza: current status and epidemiologic situation].</strong><br>1994. Kiselev OI, Sominina AA, Grinbaum EB<br>[ID: 7532491]"
      ],
      "text/plain": [
       "<IPython.core.display.HTML object>"
      ]
     },
     "metadata": {},
     "output_type": "display_data"
    },
    {
     "data": {
      "text/html": [
       "<strong>Radiological Features of Human Infection with Avian Influenza A H7N9 Virus: A Report of Three Cases.</strong><br>2014. Wu D, Xu F, Liu J<br>[ID: 26060749]"
      ],
      "text/plain": [
       "<IPython.core.display.HTML object>"
      ]
     },
     "metadata": {},
     "output_type": "display_data"
    },
    {
     "data": {
      "text/html": [
       "<strong>[Selection pressure analysis of H3N2 influenza virus from China between 1992 and 2012].</strong><br>2013. Lan Y, Zhao X, Li XY, Zhang Y, Guo JF, Li M, Huang WJ, Wei HJ, Cheng YH, Tan MJ, Wang Z, Yang L, Xiao N, Wang DY, Shu YL<br>[ID: 24319949]"
      ],
      "text/plain": [
       "<IPython.core.display.HTML object>"
      ]
     },
     "metadata": {},
     "output_type": "display_data"
    },
    {
     "data": {
      "text/html": [
       "<strong><a href=http://dx.doi.org/10.1016/j.vetmic.2013.11.007>Comparative analysis of receptor-binding specificity and pathogenicity in natural reassortant and non-reassortant H3N2 swine influenza virus.</a></strong><br>2014. Cong Y, Sun Y, Wang W, Meng Q, Ran W, Zhu L, Yang G, Yang W, Yang L, Wang C, Ding Z<br>[ID: 24305615]"
      ],
      "text/plain": [
       "<IPython.core.display.HTML object>"
      ]
     },
     "metadata": {},
     "output_type": "display_data"
    },
    {
     "data": {
      "text/html": [
       "<strong><a href=http://dx.doi.org/10.1186/s13690-017-0182-z>An overview of the epidemiology and emergence of influenza A infection in humans over time.</a></strong><br>2017. Bui CM, Chughtai AA, Adam DC, MacIntyre CR<br>[ID: 28352464]"
      ],
      "text/plain": [
       "<IPython.core.display.HTML object>"
      ]
     },
     "metadata": {},
     "output_type": "display_data"
    },
    {
     "data": {
      "text/html": [
       "<strong><a href=http://dx.doi.org/10.1155/2011/951910>Hemophagocytic Lymphohistiocytosis Induced by Severe Pandemic Influenza A (H1N1) 2009 Virus Infection: A Case Report.</a></strong><br>2011. Zhang XY, Ye XW, Feng DX, Han J, Li D, Zhang C<br>[ID: 21559246]"
      ],
      "text/plain": [
       "<IPython.core.display.HTML object>"
      ]
     },
     "metadata": {},
     "output_type": "display_data"
    },
    {
     "data": {
      "text/html": [
       "<strong><a href=http://dx.doi.org/10.1080/21645515.2017.1285475>Immunogenicity and safety of a trivalent inactivated influenza vaccine produced in Shenzhen, China.</a></strong><br>2017. Mo Z, Nong Y, Liu S, Shao M, Liao X, Go K, Lavis N<br>[ID: 28301266]"
      ],
      "text/plain": [
       "<IPython.core.display.HTML object>"
      ]
     },
     "metadata": {},
     "output_type": "display_data"
    },
    {
     "data": {
      "text/html": [
       "<strong>[Sequence analysis of NS1 gene of some H9N2 subtype influenza viruses isolated from chickens in China].</strong><br>2003. Liu J, Shi W, Wu Q, Guo Y<br>[ID: 16281550]"
      ],
      "text/plain": [
       "<IPython.core.display.HTML object>"
      ]
     },
     "metadata": {},
     "output_type": "display_data"
    },
    {
     "data": {
      "text/html": [
       "<strong><a href=http://dx.doi.org/10.1093/cid/cit695>How will physicians respond to the next influenza pandemic?</a></strong><br>2014. Fedson DS<br>[ID: 24145877]"
      ],
      "text/plain": [
       "<IPython.core.display.HTML object>"
      ]
     },
     "metadata": {},
     "output_type": "display_data"
    },
    {
     "data": {
      "text/html": [
       "<strong><a href=http://dx.doi.org/10.1371/journal.pone.0155104>MicroRNA Regulation of Human Genes Essential for Influenza A (H7N9) Replication.</a></strong><br>2016. Wolf S, Wu W, Jones C, Perwitasari O, Mahalingam S, Tripp RA<br>[ID: 27166678]"
      ],
      "text/plain": [
       "<IPython.core.display.HTML object>"
      ]
     },
     "metadata": {},
     "output_type": "display_data"
    },
    {
     "data": {
      "text/html": [
       "<strong><a href=http://dx.doi.org/10.15585/mmwr.mm6635a2>Update: Increase in Human Infections with Novel Asian Lineage Avian Influenza A(H7N9) Viruses During the Fifth Epidemic - China, October 1, 2016-August 7, 2017.</a></strong><br>2017. Kile JC, Ren R, Liu L, Greene CM, Roguski K, Iuliano AD, Jang Y, Jones J, Thor S, Song Y, Zhou S, Trock SC, Dugan V, Wentworth DE, Levine MZ, Uyeki TM, Katz JM, Jernigan DB, Olsen SJ, Fry AM, ...<br>[ID: 28880856]"
      ],
      "text/plain": [
       "<IPython.core.display.HTML object>"
      ]
     },
     "metadata": {},
     "output_type": "display_data"
    },
    {
     "data": {
      "text/html": [
       "<strong>[Sequence and phylogenetic analysis of the haemagglutinin genes of H9N2 avian influenza viruses isolated in central China during 1998-2008].</strong><br>2011. Zhao J, Chai LN, Wang ZL<br>[ID: 21528536]"
      ],
      "text/plain": [
       "<IPython.core.display.HTML object>"
      ]
     },
     "metadata": {},
     "output_type": "display_data"
    },
    {
     "data": {
      "text/html": [
       "<strong><a href=http://dx.doi.org/10.1016/j.vetmic.2013.09.004>Emerging multiple reassortant H5N5 avian influenza viruses in ducks, China, 2008.</a></strong><br>2013. Liu CG, Liu M, Liu F, Lv R, Liu DF, Qu LD, Zhang Y<br>[ID: 24080350]"
      ],
      "text/plain": [
       "<IPython.core.display.HTML object>"
      ]
     },
     "metadata": {},
     "output_type": "display_data"
    },
    {
     "data": {
      "text/html": [
       "<strong>Interspecies transmission of influenza C virus between humans and pigs.</strong><br>1997. Kimura H, Abiko C, Peng G, Muraki Y, Sugawara K, Hongo S, Kitame F, Mizuta K, Numazaki Y, Suzuki H, Nakamura K<br>[ID: 9140195]"
      ],
      "text/plain": [
       "<IPython.core.display.HTML object>"
      ]
     },
     "metadata": {},
     "output_type": "display_data"
    },
    {
     "data": {
      "text/html": [
       "<strong>Human infection with avian influenza A(H7N9) virus re-emerges in China in winter 2013.</strong><br>2013. Chen E, Chen Y, Fu L, Chen Z, Gong Z, Mao H, Wang D, Ni MY, Wu P, Yu Z, He T, Li Z, Gao J, Liu S, Shu Y, Cowling BJ, Xia S, Yu H<br>[ID: 24176616]"
      ],
      "text/plain": [
       "<IPython.core.display.HTML object>"
      ]
     },
     "metadata": {},
     "output_type": "display_data"
    },
    {
     "data": {
      "text/html": [
       "<strong><a href=http://dx.doi.org/10.1073/pnas.0710581105>Mapping H5N1 highly pathogenic avian influenza risk in Southeast Asia.</a></strong><br>2008. Gilbert M, Xiao X, Pfeiffer DU, Epprecht M, Boles S, Czarnecki C, Chaitaweesub P, Kalpravidh W, Minh PQ, Otte MJ, Martin V, Slingenbergh J<br>[ID: 18362346]"
      ],
      "text/plain": [
       "<IPython.core.display.HTML object>"
      ]
     },
     "metadata": {},
     "output_type": "display_data"
    },
    {
     "data": {
      "text/html": [
       "<strong><a href=http://dx.doi.org/10.1128/JVI.03456-14>Structure and receptor binding preferences of recombinant hemagglutinins from avian and human H6 and H10 influenza A virus subtypes.</a></strong><br>2015. Yang H, Carney PJ, Chang JC, Villanueva JM, Stevens J<br>[ID: 25673707]"
      ],
      "text/plain": [
       "<IPython.core.display.HTML object>"
      ]
     },
     "metadata": {},
     "output_type": "display_data"
    },
    {
     "data": {
      "text/html": [
       "<strong><a href=http://dx.doi.org/10.1007/s00705-004-0473-x>Pathogenicity of H5 influenza viruses for ducks.</a></strong><br>2005. Kishida N, Sakoda Y, Isoda N, Matsuda K, Eto M, Sunaga Y, Umemura T, Kida H<br>[ID: 15747052]"
      ],
      "text/plain": [
       "<IPython.core.display.HTML object>"
      ]
     },
     "metadata": {},
     "output_type": "display_data"
    },
    {
     "data": {
      "text/html": [
       "<strong>Avian-like A (H1N1) swine influenza virus antibodies among swine farm residents and pigs in southern China.</strong><br>2014. Zhou H, Cao Z, Tan L, Fu X, Lu G, Qi W, Ke C, Wang H, Sun L, Zhang G<br>[ID: 24858607]"
      ],
      "text/plain": [
       "<IPython.core.display.HTML object>"
      ]
     },
     "metadata": {},
     "output_type": "display_data"
    },
    {
     "data": {
      "text/html": [
       "<strong><a href=http://dx.doi.org/10.1371/journal.pone.0002985>Clinical characteristics of 26 human cases of highly pathogenic avian influenza A (H5N1) virus infection in China.</a></strong><br>2008. Yu H, Gao Z, Feng Z, Shu Y, Xiang N, Zhou L, Huai Y, Feng L, Peng Z, Li Z, Xu C, Li J, Hu C, Li Q, Xu X, Liu X, Liu Z, Xu L, Chen Y, Luo H, ...<br>[ID: 18716658]"
      ],
      "text/plain": [
       "<IPython.core.display.HTML object>"
      ]
     },
     "metadata": {},
     "output_type": "display_data"
    },
    {
     "data": {
      "text/html": [
       "<strong><a href=http://dx.doi.org/10.1016/j.bbrc.2017.09.013>Long-term exposure to PM2.5 lowers influenza virus resistance via down-regulating pulmonary macrophage Kdm6a and mediates histones modification in IL-6 and IFN-β promoter regions.</a></strong><br>2017. Ma JH, Song SH, Guo M, Zhou J, Liu F, Peng L, Fu ZR<br>[ID: 28887033]"
      ],
      "text/plain": [
       "<IPython.core.display.HTML object>"
      ]
     },
     "metadata": {},
     "output_type": "display_data"
    },
    {
     "data": {
      "text/html": [
       "<strong><a href=http://dx.doi.org/10.1371/journal.pone.0085012>International trade of CITES listed bird species in China.</a></strong><br>2014. Li L, Jiang Z<br>[ID: 24586234]"
      ],
      "text/plain": [
       "<IPython.core.display.HTML object>"
      ]
     },
     "metadata": {},
     "output_type": "display_data"
    },
    {
     "data": {
      "text/html": [
       "<strong><a href=http://dx.doi.org/10.1186/1743-422X-8-469>Genetic characterization of H1N2 influenza a virus isolated from sick pigs in Southern China in 2010.</a></strong><br>2011. Kong WL, Huang LZ, Qi HT, Cao N, Zhang LQ, Wang H, Guan SS, Qi WB, Jiao PR, Liao M, Zhang GH<br>[ID: 21995516]"
      ],
      "text/plain": [
       "<IPython.core.display.HTML object>"
      ]
     },
     "metadata": {},
     "output_type": "display_data"
    }
   ],
   "source": [
    "def or_query(query):\n",
    "    processed = preprocess(tokenize(query))\n",
    "    posting_lists = set()\n",
    "    for i in processed:\n",
    "        for j in inverted_index[i]:\n",
    "            posting_lists.add(j)\n",
    "    return posting_lists\n",
    "\n",
    "for x in or_query(\"Bangladesh China\"):\n",
    "    display_summary(x)\n",
    "            \n",
    "            \n",
    "        "
   ]
  },
  {
   "cell_type": "markdown",
   "metadata": {},
   "source": [
    "### Task 3\n",
    "\n",
    "Show how many hits the query \"to be or not to be\" returns for your two query functions (`and_query` and `or_query`)."
   ]
  },
  {
   "cell_type": "code",
   "execution_count": 12,
   "metadata": {},
   "outputs": [
    {
     "name": "stdout",
     "output_type": "stream",
     "text": [
      "4267\n",
      "62070\n"
     ]
    }
   ],
   "source": [
    "print(len(and_query(\"to be or not to be\")))\n",
    "print(len(or_query(\"to be or not to be\")))"
   ]
  },
  {
   "cell_type": "markdown",
   "metadata": {},
   "source": [
    "### Task 4\n",
    "\n",
    "Given the nature of our dataset, how many of the documents from task 3 do you think are actually about the [Shakespeare quote](https://en.wikipedia.org/wiki/To_be%2C_or_not_to_be)? What could you do to better handle such queries? (You don't have to implement this yet!)"
   ]
  },
  {
   "cell_type": "markdown",
   "metadata": {},
   "source": [
    "**Answer:** Considering the nature of the dataset, which is made up of scientific papers, I don't think any of the documents from task 3 are actually about the Shakespeare quote. In order to better handle such queries, we can implement positional indexes for each term in the query, and use some type of algorithm to look for a match first at the document level and then within these documents."
   ]
  },
  {
   "cell_type": "markdown",
   "metadata": {},
   "source": [
    "### Task 5\n",
    "\n",
    "Why does `and_query('therapeutic protections antibodies')` not return our example paper 28953867, even though it mentions antibodies and therapeutic protections in the abstract? (You do not have to implement anything to fix this yet!)"
   ]
  },
  {
   "cell_type": "markdown",
   "metadata": {},
   "source": [
    "**Answer:** Because the normalization process we use in this case is still very naive. In particular, we only convert all the words to lowercase. So when we look up that query using and_query, the function distinguishes \"protections\" from \"protection\", and thus it does not return the example paper 28953867, even though it mentions antibodies and therapeutic protections in the abstract."
   ]
  },
  {
   "cell_type": "markdown",
   "metadata": {},
   "source": [
    "# Submission"
   ]
  },
  {
   "cell_type": "markdown",
   "metadata": {},
   "source": [
    "Submit the answers to the assignment via Canvas as a modified version of this Notebook file (file with `.ipynb` extension) that includes your code and your answers.\n",
    "\n",
    "Before submitting, restart the kernel and re-run the complete code (**Kernel > Restart & Run All**), and then check whether your assignment code still works as expected.\n",
    "\n",
    "Don't forget to add your name, and remember that the assignments have to be done individually and group submissions are **not allowed**."
   ]
  }
 ],
 "metadata": {
  "kernelspec": {
   "display_name": "Python 3",
   "language": "python",
   "name": "python3"
  },
  "language_info": {
   "codemirror_mode": {
    "name": "ipython",
    "version": 3
   },
   "file_extension": ".py",
   "mimetype": "text/x-python",
   "name": "python",
   "nbconvert_exporter": "python",
   "pygments_lexer": "ipython3",
   "version": "3.6.4"
  }
 },
 "nbformat": 4,
 "nbformat_minor": 1
}
